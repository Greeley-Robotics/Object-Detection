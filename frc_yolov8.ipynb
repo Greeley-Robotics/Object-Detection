{
  "nbformat": 4,
  "nbformat_minor": 0,
  "metadata": {
    "colab": {
      "provenance": [],
      "gpuType": "T4"
    },
    "kernelspec": {
      "name": "python3",
      "display_name": "Python 3"
    },
    "language_info": {
      "name": "python"
    },
    "accelerator": "GPU"
  },
  "cells": [
    {
      "cell_type": "code",
      "source": [
        "!pip install ultralytics"
      ],
      "metadata": {
        "colab": {
          "base_uri": "https://localhost:8080/"
        },
        "id": "BRlycDzuzv5x",
        "outputId": "0af26740-21f2-4099-cf1a-18234d712574"
      },
      "execution_count": null,
      "outputs": [
        {
          "output_type": "stream",
          "name": "stdout",
          "text": [
            "Collecting ultralytics\n",
            "  Downloading ultralytics-8.2.79-py3-none-any.whl.metadata (41 kB)\n",
            "\u001b[?25l     \u001b[90m━━━━━━━━━━━━━━━━━━━━━━━━━━━━━━━━━━━━━━━━\u001b[0m \u001b[32m0.0/41.3 kB\u001b[0m \u001b[31m?\u001b[0m eta \u001b[36m-:--:--\u001b[0m\r\u001b[2K     \u001b[90m━━━━━━━━━━━━━━━━━━━━━━━━━━━━━━━━━━━━━━━━\u001b[0m \u001b[32m41.3/41.3 kB\u001b[0m \u001b[31m2.5 MB/s\u001b[0m eta \u001b[36m0:00:00\u001b[0m\n",
            "\u001b[?25hRequirement already satisfied: numpy<2.0.0,>=1.23.0 in /usr/local/lib/python3.10/dist-packages (from ultralytics) (1.26.4)\n",
            "Requirement already satisfied: matplotlib>=3.3.0 in /usr/local/lib/python3.10/dist-packages (from ultralytics) (3.7.1)\n",
            "Requirement already satisfied: opencv-python>=4.6.0 in /usr/local/lib/python3.10/dist-packages (from ultralytics) (4.10.0.84)\n",
            "Requirement already satisfied: pillow>=7.1.2 in /usr/local/lib/python3.10/dist-packages (from ultralytics) (9.4.0)\n",
            "Requirement already satisfied: pyyaml>=5.3.1 in /usr/local/lib/python3.10/dist-packages (from ultralytics) (6.0.2)\n",
            "Requirement already satisfied: requests>=2.23.0 in /usr/local/lib/python3.10/dist-packages (from ultralytics) (2.32.3)\n",
            "Requirement already satisfied: scipy>=1.4.1 in /usr/local/lib/python3.10/dist-packages (from ultralytics) (1.13.1)\n",
            "Requirement already satisfied: torch>=1.8.0 in /usr/local/lib/python3.10/dist-packages (from ultralytics) (2.3.1+cu121)\n",
            "Requirement already satisfied: torchvision>=0.9.0 in /usr/local/lib/python3.10/dist-packages (from ultralytics) (0.18.1+cu121)\n",
            "Requirement already satisfied: tqdm>=4.64.0 in /usr/local/lib/python3.10/dist-packages (from ultralytics) (4.66.5)\n",
            "Requirement already satisfied: psutil in /usr/local/lib/python3.10/dist-packages (from ultralytics) (5.9.5)\n",
            "Requirement already satisfied: py-cpuinfo in /usr/local/lib/python3.10/dist-packages (from ultralytics) (9.0.0)\n",
            "Requirement already satisfied: pandas>=1.1.4 in /usr/local/lib/python3.10/dist-packages (from ultralytics) (2.1.4)\n",
            "Requirement already satisfied: seaborn>=0.11.0 in /usr/local/lib/python3.10/dist-packages (from ultralytics) (0.13.1)\n",
            "Collecting ultralytics-thop>=2.0.0 (from ultralytics)\n",
            "  Downloading ultralytics_thop-2.0.5-py3-none-any.whl.metadata (8.9 kB)\n",
            "Requirement already satisfied: contourpy>=1.0.1 in /usr/local/lib/python3.10/dist-packages (from matplotlib>=3.3.0->ultralytics) (1.2.1)\n",
            "Requirement already satisfied: cycler>=0.10 in /usr/local/lib/python3.10/dist-packages (from matplotlib>=3.3.0->ultralytics) (0.12.1)\n",
            "Requirement already satisfied: fonttools>=4.22.0 in /usr/local/lib/python3.10/dist-packages (from matplotlib>=3.3.0->ultralytics) (4.53.1)\n",
            "Requirement already satisfied: kiwisolver>=1.0.1 in /usr/local/lib/python3.10/dist-packages (from matplotlib>=3.3.0->ultralytics) (1.4.5)\n",
            "Requirement already satisfied: packaging>=20.0 in /usr/local/lib/python3.10/dist-packages (from matplotlib>=3.3.0->ultralytics) (24.1)\n",
            "Requirement already satisfied: pyparsing>=2.3.1 in /usr/local/lib/python3.10/dist-packages (from matplotlib>=3.3.0->ultralytics) (3.1.2)\n",
            "Requirement already satisfied: python-dateutil>=2.7 in /usr/local/lib/python3.10/dist-packages (from matplotlib>=3.3.0->ultralytics) (2.8.2)\n",
            "Requirement already satisfied: pytz>=2020.1 in /usr/local/lib/python3.10/dist-packages (from pandas>=1.1.4->ultralytics) (2024.1)\n",
            "Requirement already satisfied: tzdata>=2022.1 in /usr/local/lib/python3.10/dist-packages (from pandas>=1.1.4->ultralytics) (2024.1)\n",
            "Requirement already satisfied: charset-normalizer<4,>=2 in /usr/local/lib/python3.10/dist-packages (from requests>=2.23.0->ultralytics) (3.3.2)\n",
            "Requirement already satisfied: idna<4,>=2.5 in /usr/local/lib/python3.10/dist-packages (from requests>=2.23.0->ultralytics) (3.7)\n",
            "Requirement already satisfied: urllib3<3,>=1.21.1 in /usr/local/lib/python3.10/dist-packages (from requests>=2.23.0->ultralytics) (2.0.7)\n",
            "Requirement already satisfied: certifi>=2017.4.17 in /usr/local/lib/python3.10/dist-packages (from requests>=2.23.0->ultralytics) (2024.7.4)\n",
            "Requirement already satisfied: filelock in /usr/local/lib/python3.10/dist-packages (from torch>=1.8.0->ultralytics) (3.15.4)\n",
            "Requirement already satisfied: typing-extensions>=4.8.0 in /usr/local/lib/python3.10/dist-packages (from torch>=1.8.0->ultralytics) (4.12.2)\n",
            "Requirement already satisfied: sympy in /usr/local/lib/python3.10/dist-packages (from torch>=1.8.0->ultralytics) (1.13.2)\n",
            "Requirement already satisfied: networkx in /usr/local/lib/python3.10/dist-packages (from torch>=1.8.0->ultralytics) (3.3)\n",
            "Requirement already satisfied: jinja2 in /usr/local/lib/python3.10/dist-packages (from torch>=1.8.0->ultralytics) (3.1.4)\n",
            "Requirement already satisfied: fsspec in /usr/local/lib/python3.10/dist-packages (from torch>=1.8.0->ultralytics) (2024.6.1)\n",
            "Collecting nvidia-cuda-nvrtc-cu12==12.1.105 (from torch>=1.8.0->ultralytics)\n",
            "  Using cached nvidia_cuda_nvrtc_cu12-12.1.105-py3-none-manylinux1_x86_64.whl.metadata (1.5 kB)\n",
            "Collecting nvidia-cuda-runtime-cu12==12.1.105 (from torch>=1.8.0->ultralytics)\n",
            "  Using cached nvidia_cuda_runtime_cu12-12.1.105-py3-none-manylinux1_x86_64.whl.metadata (1.5 kB)\n",
            "Collecting nvidia-cuda-cupti-cu12==12.1.105 (from torch>=1.8.0->ultralytics)\n",
            "  Using cached nvidia_cuda_cupti_cu12-12.1.105-py3-none-manylinux1_x86_64.whl.metadata (1.6 kB)\n",
            "Collecting nvidia-cudnn-cu12==8.9.2.26 (from torch>=1.8.0->ultralytics)\n",
            "  Using cached nvidia_cudnn_cu12-8.9.2.26-py3-none-manylinux1_x86_64.whl.metadata (1.6 kB)\n",
            "Collecting nvidia-cublas-cu12==12.1.3.1 (from torch>=1.8.0->ultralytics)\n",
            "  Using cached nvidia_cublas_cu12-12.1.3.1-py3-none-manylinux1_x86_64.whl.metadata (1.5 kB)\n",
            "Collecting nvidia-cufft-cu12==11.0.2.54 (from torch>=1.8.0->ultralytics)\n",
            "  Using cached nvidia_cufft_cu12-11.0.2.54-py3-none-manylinux1_x86_64.whl.metadata (1.5 kB)\n",
            "Collecting nvidia-curand-cu12==10.3.2.106 (from torch>=1.8.0->ultralytics)\n",
            "  Using cached nvidia_curand_cu12-10.3.2.106-py3-none-manylinux1_x86_64.whl.metadata (1.5 kB)\n",
            "Collecting nvidia-cusolver-cu12==11.4.5.107 (from torch>=1.8.0->ultralytics)\n",
            "  Using cached nvidia_cusolver_cu12-11.4.5.107-py3-none-manylinux1_x86_64.whl.metadata (1.6 kB)\n",
            "Collecting nvidia-cusparse-cu12==12.1.0.106 (from torch>=1.8.0->ultralytics)\n",
            "  Using cached nvidia_cusparse_cu12-12.1.0.106-py3-none-manylinux1_x86_64.whl.metadata (1.6 kB)\n",
            "Collecting nvidia-nccl-cu12==2.20.5 (from torch>=1.8.0->ultralytics)\n",
            "  Using cached nvidia_nccl_cu12-2.20.5-py3-none-manylinux2014_x86_64.whl.metadata (1.8 kB)\n",
            "Collecting nvidia-nvtx-cu12==12.1.105 (from torch>=1.8.0->ultralytics)\n",
            "  Using cached nvidia_nvtx_cu12-12.1.105-py3-none-manylinux1_x86_64.whl.metadata (1.7 kB)\n",
            "Requirement already satisfied: triton==2.3.1 in /usr/local/lib/python3.10/dist-packages (from torch>=1.8.0->ultralytics) (2.3.1)\n",
            "Collecting nvidia-nvjitlink-cu12 (from nvidia-cusolver-cu12==11.4.5.107->torch>=1.8.0->ultralytics)\n",
            "  Using cached nvidia_nvjitlink_cu12-12.6.20-py3-none-manylinux2014_x86_64.whl.metadata (1.5 kB)\n",
            "Requirement already satisfied: six>=1.5 in /usr/local/lib/python3.10/dist-packages (from python-dateutil>=2.7->matplotlib>=3.3.0->ultralytics) (1.16.0)\n",
            "Requirement already satisfied: MarkupSafe>=2.0 in /usr/local/lib/python3.10/dist-packages (from jinja2->torch>=1.8.0->ultralytics) (2.1.5)\n",
            "Requirement already satisfied: mpmath<1.4,>=1.1.0 in /usr/local/lib/python3.10/dist-packages (from sympy->torch>=1.8.0->ultralytics) (1.3.0)\n",
            "Downloading ultralytics-8.2.79-py3-none-any.whl (869 kB)\n",
            "\u001b[2K   \u001b[90m━━━━━━━━━━━━━━━━━━━━━━━━━━━━━━━━━━━━━━━━\u001b[0m \u001b[32m869.1/869.1 kB\u001b[0m \u001b[31m23.0 MB/s\u001b[0m eta \u001b[36m0:00:00\u001b[0m\n",
            "\u001b[?25hUsing cached nvidia_cublas_cu12-12.1.3.1-py3-none-manylinux1_x86_64.whl (410.6 MB)\n",
            "Using cached nvidia_cuda_cupti_cu12-12.1.105-py3-none-manylinux1_x86_64.whl (14.1 MB)\n",
            "Using cached nvidia_cuda_nvrtc_cu12-12.1.105-py3-none-manylinux1_x86_64.whl (23.7 MB)\n",
            "Using cached nvidia_cuda_runtime_cu12-12.1.105-py3-none-manylinux1_x86_64.whl (823 kB)\n",
            "Using cached nvidia_cudnn_cu12-8.9.2.26-py3-none-manylinux1_x86_64.whl (731.7 MB)\n",
            "Using cached nvidia_cufft_cu12-11.0.2.54-py3-none-manylinux1_x86_64.whl (121.6 MB)\n",
            "Using cached nvidia_curand_cu12-10.3.2.106-py3-none-manylinux1_x86_64.whl (56.5 MB)\n",
            "Using cached nvidia_cusolver_cu12-11.4.5.107-py3-none-manylinux1_x86_64.whl (124.2 MB)\n",
            "Using cached nvidia_cusparse_cu12-12.1.0.106-py3-none-manylinux1_x86_64.whl (196.0 MB)\n",
            "Using cached nvidia_nccl_cu12-2.20.5-py3-none-manylinux2014_x86_64.whl (176.2 MB)\n",
            "Using cached nvidia_nvtx_cu12-12.1.105-py3-none-manylinux1_x86_64.whl (99 kB)\n",
            "Downloading ultralytics_thop-2.0.5-py3-none-any.whl (25 kB)\n",
            "Using cached nvidia_nvjitlink_cu12-12.6.20-py3-none-manylinux2014_x86_64.whl (19.7 MB)\n",
            "Installing collected packages: nvidia-nvtx-cu12, nvidia-nvjitlink-cu12, nvidia-nccl-cu12, nvidia-curand-cu12, nvidia-cufft-cu12, nvidia-cuda-runtime-cu12, nvidia-cuda-nvrtc-cu12, nvidia-cuda-cupti-cu12, nvidia-cublas-cu12, nvidia-cusparse-cu12, nvidia-cudnn-cu12, nvidia-cusolver-cu12, ultralytics-thop, ultralytics\n",
            "Successfully installed nvidia-cublas-cu12-12.1.3.1 nvidia-cuda-cupti-cu12-12.1.105 nvidia-cuda-nvrtc-cu12-12.1.105 nvidia-cuda-runtime-cu12-12.1.105 nvidia-cudnn-cu12-8.9.2.26 nvidia-cufft-cu12-11.0.2.54 nvidia-curand-cu12-10.3.2.106 nvidia-cusolver-cu12-11.4.5.107 nvidia-cusparse-cu12-12.1.0.106 nvidia-nccl-cu12-2.20.5 nvidia-nvjitlink-cu12-12.6.20 nvidia-nvtx-cu12-12.1.105 ultralytics-8.2.79 ultralytics-thop-2.0.5\n"
          ]
        }
      ]
    },
    {
      "cell_type": "code",
      "execution_count": null,
      "metadata": {
        "colab": {
          "base_uri": "https://localhost:8080/"
        },
        "id": "MSOL1JEBy-A1",
        "outputId": "8589517d-e2ad-43f1-926f-93594a313e7d"
      },
      "outputs": [
        {
          "output_type": "stream",
          "name": "stdout",
          "text": [
            "Ultralytics YOLOv8.2.79 🚀 Python-3.10.12 torch-2.3.1+cu121 CUDA:0 (Tesla T4, 15102MiB)\n",
            "Setup complete ✅ (2 CPUs, 12.7 GB RAM, 33.6/78.2 GB disk)\n"
          ]
        }
      ],
      "source": [
        "import ultralytics\n",
        "ultralytics.checks()"
      ]
    },
    {
      "cell_type": "code",
      "source": [
        "!yolo"
      ],
      "metadata": {
        "colab": {
          "base_uri": "https://localhost:8080/"
        },
        "id": "jLXuQHjvz1AA",
        "outputId": "205161dc-5350-408a-93c3-559f134c8426"
      },
      "execution_count": null,
      "outputs": [
        {
          "output_type": "stream",
          "name": "stdout",
          "text": [
            "\n",
            "    Arguments received: ['yolo']. Ultralytics 'yolo' commands use the following syntax:\n",
            "\n",
            "        yolo TASK MODE ARGS\n",
            "\n",
            "        Where   TASK (optional) is one of {'pose', 'detect', 'obb', 'segment', 'classify'}\n",
            "                MODE (required) is one of {'val', 'train', 'track', 'predict', 'export', 'benchmark'}\n",
            "                ARGS (optional) are any number of custom 'arg=value' pairs like 'imgsz=320' that override defaults.\n",
            "                    See all ARGS at https://docs.ultralytics.com/usage/cfg or with 'yolo cfg'\n",
            "\n",
            "    1. Train a detection model for 10 epochs with an initial learning_rate of 0.01\n",
            "        yolo train data=coco8.yaml model=yolov8n.pt epochs=10 lr0=0.01\n",
            "\n",
            "    2. Predict a YouTube video using a pretrained segmentation model at image size 320:\n",
            "        yolo predict model=yolov8n-seg.pt source='https://youtu.be/LNwODJXcvt4' imgsz=320\n",
            "\n",
            "    3. Val a pretrained detection model at batch-size 1 and image size 640:\n",
            "        yolo val model=yolov8n.pt data=coco8.yaml batch=1 imgsz=640\n",
            "\n",
            "    4. Export a YOLOv8n classification model to ONNX format at image size 224 by 128 (no TASK required)\n",
            "        yolo export model=yolov8n-cls.pt format=onnx imgsz=224,128\n",
            "\n",
            "    5. Explore your datasets using semantic search and SQL with a simple GUI powered by Ultralytics Explorer API\n",
            "        yolo explorer data=data.yaml model=yolov8n.pt\n",
            "    \n",
            "    6. Streamlit real-time webcam inference GUI\n",
            "        yolo streamlit-predict\n",
            "        \n",
            "    7. Run special commands:\n",
            "        yolo help\n",
            "        yolo checks\n",
            "        yolo version\n",
            "        yolo settings\n",
            "        yolo copy-cfg\n",
            "        yolo cfg\n",
            "\n",
            "    Docs: https://docs.ultralytics.com\n",
            "    Community: https://community.ultralytics.com\n",
            "    GitHub: https://github.com/ultralytics/ultralytics\n",
            "    \n"
          ]
        }
      ]
    },
    {
      "cell_type": "code",
      "source": [
        "from ultralytics import YOLO\n",
        "\n",
        "model = YOLO('yolov8n.pt')"
      ],
      "metadata": {
        "colab": {
          "base_uri": "https://localhost:8080/"
        },
        "id": "QeVbSUgF0O3b",
        "outputId": "a65c5ad1-268e-4052-f3d6-d10df10909d7"
      },
      "execution_count": null,
      "outputs": [
        {
          "output_type": "stream",
          "name": "stdout",
          "text": [
            "Downloading https://github.com/ultralytics/assets/releases/download/v8.2.0/yolov8n.pt to 'yolov8n.pt'...\n"
          ]
        },
        {
          "output_type": "stream",
          "name": "stderr",
          "text": [
            "100%|██████████| 6.25M/6.25M [00:00<00:00, 86.1MB/s]\n"
          ]
        }
      ]
    },
    {
      "cell_type": "code",
      "source": [
        "metrics = model.val(data=\"/content/drive/MyDrive/Robotics/Object_Detection/balls_purple_red/data.yaml\")"
      ],
      "metadata": {
        "colab": {
          "base_uri": "https://localhost:8080/"
        },
        "id": "Cnx9-uRA69-n",
        "outputId": "eb693901-d2fe-4fb9-84db-63d9ba522472"
      },
      "execution_count": null,
      "outputs": [
        {
          "output_type": "stream",
          "name": "stdout",
          "text": [
            "Ultralytics YOLOv8.2.79 🚀 Python-3.10.12 torch-2.3.1+cu121 CUDA:0 (Tesla T4, 15102MiB)\n",
            "YOLOv8n summary (fused): 168 layers, 3,151,904 parameters, 0 gradients, 8.7 GFLOPs\n",
            "Downloading https://ultralytics.com/assets/Arial.ttf to '/root/.config/Ultralytics/Arial.ttf'...\n"
          ]
        },
        {
          "output_type": "stream",
          "name": "stderr",
          "text": [
            "100%|██████████| 755k/755k [00:00<00:00, 23.5MB/s]\n",
            "\u001b[34m\u001b[1mval: \u001b[0mScanning /content/drive/MyDrive/Robotics/Object_Detection/balls_purple_red/valid/labels.cache... 50 images, 0 backgrounds, 0 corrupt: 100%|██████████| 50/50 [00:00<?, ?it/s]\n",
            "                 Class     Images  Instances      Box(P          R      mAP50  mAP50-95): 100%|██████████| 4/4 [00:12<00:00,  3.21s/it]\n"
          ]
        },
        {
          "output_type": "stream",
          "name": "stdout",
          "text": [
            "                   all         50        508     0.0718     0.0496       0.04     0.0231\n",
            "                person         46        272      0.144     0.0993     0.0799     0.0462\n",
            "               bicycle         49        236          0          0          0          0\n",
            "Speed: 5.2ms preprocess, 30.2ms inference, 0.0ms loss, 24.8ms postprocess per image\n",
            "Results saved to \u001b[1mruns/detect/val\u001b[0m\n"
          ]
        }
      ]
    },
    {
      "cell_type": "code",
      "source": [
        "model.train(data=\"/content/drive/MyDrive/Robotics/Object_Detection/balls_purple_red/data.yaml\", epochs=100, imgsz=640)"
      ],
      "metadata": {
        "colab": {
          "base_uri": "https://localhost:8080/"
        },
        "id": "uO2CpZ-a0Vzd",
        "outputId": "31beba69-f4aa-437a-ce78-5b549933440c"
      },
      "execution_count": null,
      "outputs": [
        {
          "output_type": "stream",
          "name": "stdout",
          "text": [
            "Ultralytics YOLOv8.2.79 🚀 Python-3.10.12 torch-2.3.1+cu121 CUDA:0 (Tesla T4, 15102MiB)\n",
            "\u001b[34m\u001b[1mengine/trainer: \u001b[0mtask=detect, mode=train, model=yolov8n.pt, data=/content/drive/MyDrive/Robotics/Object_Detection/balls_purple_red/data.yaml, epochs=100, time=None, patience=100, batch=16, imgsz=640, save=True, save_period=-1, cache=False, device=None, workers=8, project=None, name=train, exist_ok=False, pretrained=True, optimizer=auto, verbose=True, seed=0, deterministic=True, single_cls=False, rect=False, cos_lr=False, close_mosaic=10, resume=False, amp=True, fraction=1.0, profile=False, freeze=None, multi_scale=False, overlap_mask=True, mask_ratio=4, dropout=0.0, val=True, split=val, save_json=False, save_hybrid=False, conf=None, iou=0.7, max_det=300, half=False, dnn=False, plots=True, source=None, vid_stride=1, stream_buffer=False, visualize=False, augment=False, agnostic_nms=False, classes=None, retina_masks=False, embed=None, show=False, save_frames=False, save_txt=False, save_conf=False, save_crop=False, show_labels=True, show_conf=True, show_boxes=True, line_width=None, format=torchscript, keras=False, optimize=False, int8=False, dynamic=False, simplify=False, opset=None, workspace=4, nms=False, lr0=0.01, lrf=0.01, momentum=0.937, weight_decay=0.0005, warmup_epochs=3.0, warmup_momentum=0.8, warmup_bias_lr=0.1, box=7.5, cls=0.5, dfl=1.5, pose=12.0, kobj=1.0, label_smoothing=0.0, nbs=64, hsv_h=0.015, hsv_s=0.7, hsv_v=0.4, degrees=0.0, translate=0.1, scale=0.5, shear=0.0, perspective=0.0, flipud=0.0, fliplr=0.5, bgr=0.0, mosaic=1.0, mixup=0.0, copy_paste=0.0, auto_augment=randaugment, erasing=0.4, crop_fraction=1.0, cfg=None, tracker=botsort.yaml, save_dir=runs/detect/train\n",
            "Overriding model.yaml nc=80 with nc=2\n",
            "\n",
            "                   from  n    params  module                                       arguments                     \n",
            "  0                  -1  1       464  ultralytics.nn.modules.conv.Conv             [3, 16, 3, 2]                 \n",
            "  1                  -1  1      4672  ultralytics.nn.modules.conv.Conv             [16, 32, 3, 2]                \n",
            "  2                  -1  1      7360  ultralytics.nn.modules.block.C2f             [32, 32, 1, True]             \n",
            "  3                  -1  1     18560  ultralytics.nn.modules.conv.Conv             [32, 64, 3, 2]                \n",
            "  4                  -1  2     49664  ultralytics.nn.modules.block.C2f             [64, 64, 2, True]             \n",
            "  5                  -1  1     73984  ultralytics.nn.modules.conv.Conv             [64, 128, 3, 2]               \n",
            "  6                  -1  2    197632  ultralytics.nn.modules.block.C2f             [128, 128, 2, True]           \n",
            "  7                  -1  1    295424  ultralytics.nn.modules.conv.Conv             [128, 256, 3, 2]              \n",
            "  8                  -1  1    460288  ultralytics.nn.modules.block.C2f             [256, 256, 1, True]           \n",
            "  9                  -1  1    164608  ultralytics.nn.modules.block.SPPF            [256, 256, 5]                 \n",
            " 10                  -1  1         0  torch.nn.modules.upsampling.Upsample         [None, 2, 'nearest']          \n",
            " 11             [-1, 6]  1         0  ultralytics.nn.modules.conv.Concat           [1]                           \n",
            " 12                  -1  1    148224  ultralytics.nn.modules.block.C2f             [384, 128, 1]                 \n",
            " 13                  -1  1         0  torch.nn.modules.upsampling.Upsample         [None, 2, 'nearest']          \n",
            " 14             [-1, 4]  1         0  ultralytics.nn.modules.conv.Concat           [1]                           \n",
            " 15                  -1  1     37248  ultralytics.nn.modules.block.C2f             [192, 64, 1]                  \n",
            " 16                  -1  1     36992  ultralytics.nn.modules.conv.Conv             [64, 64, 3, 2]                \n",
            " 17            [-1, 12]  1         0  ultralytics.nn.modules.conv.Concat           [1]                           \n",
            " 18                  -1  1    123648  ultralytics.nn.modules.block.C2f             [192, 128, 1]                 \n",
            " 19                  -1  1    147712  ultralytics.nn.modules.conv.Conv             [128, 128, 3, 2]              \n",
            " 20             [-1, 9]  1         0  ultralytics.nn.modules.conv.Concat           [1]                           \n",
            " 21                  -1  1    493056  ultralytics.nn.modules.block.C2f             [384, 256, 1]                 \n",
            " 22        [15, 18, 21]  1    751702  ultralytics.nn.modules.head.Detect           [2, [64, 128, 256]]           \n",
            "Model summary: 225 layers, 3,011,238 parameters, 3,011,222 gradients, 8.2 GFLOPs\n",
            "\n",
            "Transferred 58/355 items from pretrained weights\n",
            "\u001b[34m\u001b[1mTensorBoard: \u001b[0mStart with 'tensorboard --logdir runs/detect/train', view at http://localhost:6006/\n",
            "Freezing layer 'model.22.dfl.conv.weight'\n",
            "\u001b[34m\u001b[1mAMP: \u001b[0mrunning Automatic Mixed Precision (AMP) checks with YOLOv8n...\n",
            "\u001b[34m\u001b[1mAMP: \u001b[0mchecks passed ✅\n"
          ]
        },
        {
          "output_type": "stream",
          "name": "stderr",
          "text": [
            "\u001b[34m\u001b[1mtrain: \u001b[0mScanning /content/drive/MyDrive/Robotics/Object_Detection/balls_purple_red/train/labels.cache... 175 images, 0 backgrounds, 0 corrupt: 100%|██████████| 175/175 [00:00<?, ?it/s]\n"
          ]
        },
        {
          "output_type": "stream",
          "name": "stdout",
          "text": [
            "\u001b[34m\u001b[1malbumentations: \u001b[0mBlur(p=0.01, blur_limit=(3, 7)), MedianBlur(p=0.01, blur_limit=(3, 7)), ToGray(p=0.01), CLAHE(p=0.01, clip_limit=(1, 4.0), tile_grid_size=(8, 8))\n"
          ]
        },
        {
          "output_type": "stream",
          "name": "stderr",
          "text": [
            "/usr/lib/python3.10/multiprocessing/popen_fork.py:66: RuntimeWarning: os.fork() was called. os.fork() is incompatible with multithreaded code, and JAX is multithreaded, so this will likely lead to a deadlock.\n",
            "  self.pid = os.fork()\n",
            "\u001b[34m\u001b[1mval: \u001b[0mScanning /content/drive/MyDrive/Robotics/Object_Detection/balls_purple_red/valid/labels.cache... 50 images, 0 backgrounds, 0 corrupt: 100%|██████████| 50/50 [00:00<?, ?it/s]\n"
          ]
        },
        {
          "output_type": "stream",
          "name": "stdout",
          "text": [
            "Plotting labels to runs/detect/train/labels.jpg... \n",
            "\u001b[34m\u001b[1moptimizer:\u001b[0m 'optimizer=auto' found, ignoring 'lr0=0.01' and 'momentum=0.937' and determining best 'optimizer', 'lr0' and 'momentum' automatically... \n",
            "\u001b[34m\u001b[1moptimizer:\u001b[0m AdamW(lr=0.001667, momentum=0.9) with parameter groups 57 weight(decay=0.0), 64 weight(decay=0.0005), 63 bias(decay=0.0)\n",
            "\u001b[34m\u001b[1mTensorBoard: \u001b[0mmodel graph visualization added ✅\n",
            "Image sizes 640 train, 640 val\n",
            "Using 2 dataloader workers\n",
            "Logging results to \u001b[1mruns/detect/train\u001b[0m\n",
            "Starting training for 100 epochs...\n",
            "\n",
            "      Epoch    GPU_mem   box_loss   cls_loss   dfl_loss  Instances       Size\n"
          ]
        },
        {
          "output_type": "stream",
          "name": "stderr",
          "text": [
            "      1/100       2.5G      2.388      3.516      2.329        284        640: 100%|██████████| 11/11 [00:12<00:00,  1.10s/it]\n",
            "                 Class     Images  Instances      Box(P          R      mAP50  mAP50-95): 100%|██████████| 2/2 [00:01<00:00,  1.52it/s]"
          ]
        },
        {
          "output_type": "stream",
          "name": "stdout",
          "text": [
            "                   all         50        508      0.013      0.383     0.0347     0.0117\n"
          ]
        },
        {
          "output_type": "stream",
          "name": "stderr",
          "text": [
            "\n"
          ]
        },
        {
          "output_type": "stream",
          "name": "stdout",
          "text": [
            "\n",
            "      Epoch    GPU_mem   box_loss   cls_loss   dfl_loss  Instances       Size\n"
          ]
        },
        {
          "output_type": "stream",
          "name": "stderr",
          "text": [
            "      2/100      2.33G      1.705      2.341      1.717        299        640: 100%|██████████| 11/11 [00:05<00:00,  2.20it/s]\n",
            "                 Class     Images  Instances      Box(P          R      mAP50  mAP50-95): 100%|██████████| 2/2 [00:01<00:00,  1.32it/s]"
          ]
        },
        {
          "output_type": "stream",
          "name": "stdout",
          "text": [
            "                   all         50        508     0.0161      0.476     0.0737      0.027\n"
          ]
        },
        {
          "output_type": "stream",
          "name": "stderr",
          "text": [
            "\n"
          ]
        },
        {
          "output_type": "stream",
          "name": "stdout",
          "text": [
            "\n",
            "      Epoch    GPU_mem   box_loss   cls_loss   dfl_loss  Instances       Size\n"
          ]
        },
        {
          "output_type": "stream",
          "name": "stderr",
          "text": [
            "      3/100      2.32G      1.514      1.491      1.501        206        640: 100%|██████████| 11/11 [00:04<00:00,  2.24it/s]\n",
            "                 Class     Images  Instances      Box(P          R      mAP50  mAP50-95): 100%|██████████| 2/2 [00:01<00:00,  1.16it/s]"
          ]
        },
        {
          "output_type": "stream",
          "name": "stdout",
          "text": [
            "                   all         50        508       0.25      0.203      0.131     0.0557\n"
          ]
        },
        {
          "output_type": "stream",
          "name": "stderr",
          "text": [
            "\n"
          ]
        },
        {
          "output_type": "stream",
          "name": "stdout",
          "text": [
            "\n",
            "      Epoch    GPU_mem   box_loss   cls_loss   dfl_loss  Instances       Size\n"
          ]
        },
        {
          "output_type": "stream",
          "name": "stderr",
          "text": [
            "      4/100      2.31G      1.385      1.167      1.401        267        640: 100%|██████████| 11/11 [00:03<00:00,  3.05it/s]\n",
            "                 Class     Images  Instances      Box(P          R      mAP50  mAP50-95): 100%|██████████| 2/2 [00:00<00:00,  2.44it/s]"
          ]
        },
        {
          "output_type": "stream",
          "name": "stdout",
          "text": [
            "                   all         50        508      0.414      0.313      0.338      0.181\n"
          ]
        },
        {
          "output_type": "stream",
          "name": "stderr",
          "text": [
            "\n"
          ]
        },
        {
          "output_type": "stream",
          "name": "stdout",
          "text": [
            "\n",
            "      Epoch    GPU_mem   box_loss   cls_loss   dfl_loss  Instances       Size\n"
          ]
        },
        {
          "output_type": "stream",
          "name": "stderr",
          "text": [
            "      5/100       2.4G      1.311     0.9995      1.331        346        640: 100%|██████████| 11/11 [00:02<00:00,  3.95it/s]\n",
            "                 Class     Images  Instances      Box(P          R      mAP50  mAP50-95): 100%|██████████| 2/2 [00:01<00:00,  1.32it/s]"
          ]
        },
        {
          "output_type": "stream",
          "name": "stdout",
          "text": [
            "                   all         50        508       0.59       0.63      0.587      0.334\n"
          ]
        },
        {
          "output_type": "stream",
          "name": "stderr",
          "text": [
            "\n"
          ]
        },
        {
          "output_type": "stream",
          "name": "stdout",
          "text": [
            "\n",
            "      Epoch    GPU_mem   box_loss   cls_loss   dfl_loss  Instances       Size\n"
          ]
        },
        {
          "output_type": "stream",
          "name": "stderr",
          "text": [
            "      6/100      2.34G      1.297     0.9603      1.316        246        640: 100%|██████████| 11/11 [00:04<00:00,  2.43it/s]\n",
            "                 Class     Images  Instances      Box(P          R      mAP50  mAP50-95): 100%|██████████| 2/2 [00:01<00:00,  1.16it/s]"
          ]
        },
        {
          "output_type": "stream",
          "name": "stdout",
          "text": [
            "                   all         50        508      0.655      0.843       0.73       0.47\n"
          ]
        },
        {
          "output_type": "stream",
          "name": "stderr",
          "text": [
            "\n"
          ]
        },
        {
          "output_type": "stream",
          "name": "stdout",
          "text": [
            "\n",
            "      Epoch    GPU_mem   box_loss   cls_loss   dfl_loss  Instances       Size\n"
          ]
        },
        {
          "output_type": "stream",
          "name": "stderr",
          "text": [
            "      7/100       2.4G      1.289     0.9236       1.29        251        640: 100%|██████████| 11/11 [00:02<00:00,  4.04it/s]\n",
            "                 Class     Images  Instances      Box(P          R      mAP50  mAP50-95): 100%|██████████| 2/2 [00:00<00:00,  2.26it/s]"
          ]
        },
        {
          "output_type": "stream",
          "name": "stdout",
          "text": [
            "                   all         50        508      0.652      0.867      0.819      0.535\n"
          ]
        },
        {
          "output_type": "stream",
          "name": "stderr",
          "text": [
            "\n"
          ]
        },
        {
          "output_type": "stream",
          "name": "stdout",
          "text": [
            "\n",
            "      Epoch    GPU_mem   box_loss   cls_loss   dfl_loss  Instances       Size\n"
          ]
        },
        {
          "output_type": "stream",
          "name": "stderr",
          "text": [
            "      8/100      2.32G      1.272     0.9101      1.282        261        640: 100%|██████████| 11/11 [00:02<00:00,  3.93it/s]\n",
            "                 Class     Images  Instances      Box(P          R      mAP50  mAP50-95): 100%|██████████| 2/2 [00:00<00:00,  2.01it/s]"
          ]
        },
        {
          "output_type": "stream",
          "name": "stdout",
          "text": [
            "                   all         50        508      0.811      0.918      0.856      0.553\n"
          ]
        },
        {
          "output_type": "stream",
          "name": "stderr",
          "text": [
            "\n"
          ]
        },
        {
          "output_type": "stream",
          "name": "stdout",
          "text": [
            "\n",
            "      Epoch    GPU_mem   box_loss   cls_loss   dfl_loss  Instances       Size\n"
          ]
        },
        {
          "output_type": "stream",
          "name": "stderr",
          "text": [
            "      9/100      2.36G      1.257     0.8835      1.262        200        640: 100%|██████████| 11/11 [00:03<00:00,  3.06it/s]\n",
            "                 Class     Images  Instances      Box(P          R      mAP50  mAP50-95): 100%|██████████| 2/2 [00:01<00:00,  1.27it/s]"
          ]
        },
        {
          "output_type": "stream",
          "name": "stdout",
          "text": [
            "                   all         50        508      0.784      0.942      0.858      0.543\n"
          ]
        },
        {
          "output_type": "stream",
          "name": "stderr",
          "text": [
            "\n"
          ]
        },
        {
          "output_type": "stream",
          "name": "stdout",
          "text": [
            "\n",
            "      Epoch    GPU_mem   box_loss   cls_loss   dfl_loss  Instances       Size\n"
          ]
        },
        {
          "output_type": "stream",
          "name": "stderr",
          "text": [
            "     10/100      2.27G      1.238       0.84       1.25        274        640: 100%|██████████| 11/11 [00:04<00:00,  2.47it/s]\n",
            "                 Class     Images  Instances      Box(P          R      mAP50  mAP50-95): 100%|██████████| 2/2 [00:01<00:00,  1.79it/s]"
          ]
        },
        {
          "output_type": "stream",
          "name": "stdout",
          "text": [
            "                   all         50        508      0.883      0.978      0.892      0.596\n"
          ]
        },
        {
          "output_type": "stream",
          "name": "stderr",
          "text": [
            "\n"
          ]
        },
        {
          "output_type": "stream",
          "name": "stdout",
          "text": [
            "\n",
            "      Epoch    GPU_mem   box_loss   cls_loss   dfl_loss  Instances       Size\n"
          ]
        },
        {
          "output_type": "stream",
          "name": "stderr",
          "text": [
            "     11/100      2.34G      1.228     0.8465      1.242        301        640: 100%|██████████| 11/11 [00:02<00:00,  4.35it/s]\n",
            "                 Class     Images  Instances      Box(P          R      mAP50  mAP50-95): 100%|██████████| 2/2 [00:01<00:00,  1.98it/s]"
          ]
        },
        {
          "output_type": "stream",
          "name": "stdout",
          "text": [
            "                   all         50        508      0.867       0.99      0.898      0.596\n"
          ]
        },
        {
          "output_type": "stream",
          "name": "stderr",
          "text": [
            "\n"
          ]
        },
        {
          "output_type": "stream",
          "name": "stdout",
          "text": [
            "\n",
            "      Epoch    GPU_mem   box_loss   cls_loss   dfl_loss  Instances       Size\n"
          ]
        },
        {
          "output_type": "stream",
          "name": "stderr",
          "text": [
            "     12/100      2.31G      1.208     0.8081       1.23        289        640: 100%|██████████| 11/11 [00:02<00:00,  3.78it/s]\n",
            "                 Class     Images  Instances      Box(P          R      mAP50  mAP50-95): 100%|██████████| 2/2 [00:00<00:00,  3.00it/s]"
          ]
        },
        {
          "output_type": "stream",
          "name": "stdout",
          "text": [
            "                   all         50        508      0.873      0.985      0.919      0.605\n"
          ]
        },
        {
          "output_type": "stream",
          "name": "stderr",
          "text": [
            "\n"
          ]
        },
        {
          "output_type": "stream",
          "name": "stdout",
          "text": [
            "\n",
            "      Epoch    GPU_mem   box_loss   cls_loss   dfl_loss  Instances       Size\n"
          ]
        },
        {
          "output_type": "stream",
          "name": "stderr",
          "text": [
            "     13/100      2.34G      1.189     0.7915      1.217        252        640: 100%|██████████| 11/11 [00:04<00:00,  2.59it/s]\n",
            "                 Class     Images  Instances      Box(P          R      mAP50  mAP50-95): 100%|██████████| 2/2 [00:01<00:00,  1.31it/s]"
          ]
        },
        {
          "output_type": "stream",
          "name": "stdout",
          "text": [
            "                   all         50        508      0.877      0.977      0.914      0.605\n"
          ]
        },
        {
          "output_type": "stream",
          "name": "stderr",
          "text": [
            "\n"
          ]
        },
        {
          "output_type": "stream",
          "name": "stdout",
          "text": [
            "\n",
            "      Epoch    GPU_mem   box_loss   cls_loss   dfl_loss  Instances       Size\n"
          ]
        },
        {
          "output_type": "stream",
          "name": "stderr",
          "text": [
            "     14/100      2.37G      1.193     0.7761      1.209        303        640: 100%|██████████| 11/11 [00:03<00:00,  3.41it/s]\n",
            "                 Class     Images  Instances      Box(P          R      mAP50  mAP50-95): 100%|██████████| 2/2 [00:01<00:00,  1.79it/s]"
          ]
        },
        {
          "output_type": "stream",
          "name": "stdout",
          "text": [
            "                   all         50        508      0.869      0.991       0.92      0.613\n"
          ]
        },
        {
          "output_type": "stream",
          "name": "stderr",
          "text": [
            "\n"
          ]
        },
        {
          "output_type": "stream",
          "name": "stdout",
          "text": [
            "\n",
            "      Epoch    GPU_mem   box_loss   cls_loss   dfl_loss  Instances       Size\n"
          ]
        },
        {
          "output_type": "stream",
          "name": "stderr",
          "text": [
            "     15/100      2.29G      1.207     0.7699       1.22        220        640: 100%|██████████| 11/11 [00:02<00:00,  4.30it/s]\n",
            "                 Class     Images  Instances      Box(P          R      mAP50  mAP50-95): 100%|██████████| 2/2 [00:00<00:00,  2.76it/s]"
          ]
        },
        {
          "output_type": "stream",
          "name": "stdout",
          "text": [
            "                   all         50        508      0.871      0.986      0.936      0.641\n"
          ]
        },
        {
          "output_type": "stream",
          "name": "stderr",
          "text": [
            "\n"
          ]
        },
        {
          "output_type": "stream",
          "name": "stdout",
          "text": [
            "\n",
            "      Epoch    GPU_mem   box_loss   cls_loss   dfl_loss  Instances       Size\n"
          ]
        },
        {
          "output_type": "stream",
          "name": "stderr",
          "text": [
            "     16/100      2.21G      1.186     0.7584      1.209        200        640: 100%|██████████| 11/11 [00:02<00:00,  4.02it/s]\n",
            "                 Class     Images  Instances      Box(P          R      mAP50  mAP50-95): 100%|██████████| 2/2 [00:01<00:00,  1.43it/s]"
          ]
        },
        {
          "output_type": "stream",
          "name": "stdout",
          "text": [
            "                   all         50        508      0.869      0.987      0.899      0.608\n"
          ]
        },
        {
          "output_type": "stream",
          "name": "stderr",
          "text": [
            "\n"
          ]
        },
        {
          "output_type": "stream",
          "name": "stdout",
          "text": [
            "\n",
            "      Epoch    GPU_mem   box_loss   cls_loss   dfl_loss  Instances       Size\n"
          ]
        },
        {
          "output_type": "stream",
          "name": "stderr",
          "text": [
            "     17/100      2.33G      1.188     0.7615      1.193        271        640: 100%|██████████| 11/11 [00:04<00:00,  2.49it/s]\n",
            "                 Class     Images  Instances      Box(P          R      mAP50  mAP50-95): 100%|██████████| 2/2 [00:01<00:00,  1.13it/s]"
          ]
        },
        {
          "output_type": "stream",
          "name": "stdout",
          "text": [
            "                   all         50        508      0.871       0.99      0.922      0.613\n"
          ]
        },
        {
          "output_type": "stream",
          "name": "stderr",
          "text": [
            "\n"
          ]
        },
        {
          "output_type": "stream",
          "name": "stdout",
          "text": [
            "\n",
            "      Epoch    GPU_mem   box_loss   cls_loss   dfl_loss  Instances       Size\n"
          ]
        },
        {
          "output_type": "stream",
          "name": "stderr",
          "text": [
            "     18/100      2.31G      1.181     0.7449      1.197        270        640: 100%|██████████| 11/11 [00:02<00:00,  3.79it/s]\n",
            "                 Class     Images  Instances      Box(P          R      mAP50  mAP50-95): 100%|██████████| 2/2 [00:00<00:00,  2.47it/s]"
          ]
        },
        {
          "output_type": "stream",
          "name": "stdout",
          "text": [
            "                   all         50        508      0.876      0.989      0.924      0.631\n"
          ]
        },
        {
          "output_type": "stream",
          "name": "stderr",
          "text": [
            "\n"
          ]
        },
        {
          "output_type": "stream",
          "name": "stdout",
          "text": [
            "\n",
            "      Epoch    GPU_mem   box_loss   cls_loss   dfl_loss  Instances       Size\n"
          ]
        },
        {
          "output_type": "stream",
          "name": "stderr",
          "text": [
            "     19/100      2.35G      1.171     0.7487        1.2        201        640: 100%|██████████| 11/11 [00:02<00:00,  4.17it/s]\n",
            "                 Class     Images  Instances      Box(P          R      mAP50  mAP50-95): 100%|██████████| 2/2 [00:00<00:00,  2.07it/s]"
          ]
        },
        {
          "output_type": "stream",
          "name": "stdout",
          "text": [
            "                   all         50        508      0.868      0.993      0.897      0.607\n"
          ]
        },
        {
          "output_type": "stream",
          "name": "stderr",
          "text": [
            "\n"
          ]
        },
        {
          "output_type": "stream",
          "name": "stdout",
          "text": [
            "\n",
            "      Epoch    GPU_mem   box_loss   cls_loss   dfl_loss  Instances       Size\n"
          ]
        },
        {
          "output_type": "stream",
          "name": "stderr",
          "text": [
            "     20/100      2.31G      1.177     0.7572      1.198        367        640: 100%|██████████| 11/11 [00:03<00:00,  3.31it/s]\n",
            "                 Class     Images  Instances      Box(P          R      mAP50  mAP50-95): 100%|██████████| 2/2 [00:01<00:00,  1.42it/s]"
          ]
        },
        {
          "output_type": "stream",
          "name": "stdout",
          "text": [
            "                   all         50        508      0.873      0.986      0.924      0.623\n"
          ]
        },
        {
          "output_type": "stream",
          "name": "stderr",
          "text": [
            "\n"
          ]
        },
        {
          "output_type": "stream",
          "name": "stdout",
          "text": [
            "\n",
            "      Epoch    GPU_mem   box_loss   cls_loss   dfl_loss  Instances       Size\n"
          ]
        },
        {
          "output_type": "stream",
          "name": "stderr",
          "text": [
            "     21/100      2.22G       1.15     0.7286      1.189        298        640: 100%|██████████| 11/11 [00:04<00:00,  2.41it/s]\n",
            "                 Class     Images  Instances      Box(P          R      mAP50  mAP50-95): 100%|██████████| 2/2 [00:01<00:00,  1.63it/s]"
          ]
        },
        {
          "output_type": "stream",
          "name": "stdout",
          "text": [
            "                   all         50        508      0.884      0.985      0.923      0.623\n"
          ]
        },
        {
          "output_type": "stream",
          "name": "stderr",
          "text": [
            "\n"
          ]
        },
        {
          "output_type": "stream",
          "name": "stdout",
          "text": [
            "\n",
            "      Epoch    GPU_mem   box_loss   cls_loss   dfl_loss  Instances       Size\n"
          ]
        },
        {
          "output_type": "stream",
          "name": "stderr",
          "text": [
            "     22/100      2.25G      1.136     0.6977      1.165        256        640: 100%|██████████| 11/11 [00:02<00:00,  4.20it/s]\n",
            "                 Class     Images  Instances      Box(P          R      mAP50  mAP50-95): 100%|██████████| 2/2 [00:00<00:00,  2.16it/s]"
          ]
        },
        {
          "output_type": "stream",
          "name": "stdout",
          "text": [
            "                   all         50        508      0.891      0.974      0.938      0.627\n"
          ]
        },
        {
          "output_type": "stream",
          "name": "stderr",
          "text": [
            "\n"
          ]
        },
        {
          "output_type": "stream",
          "name": "stdout",
          "text": [
            "\n",
            "      Epoch    GPU_mem   box_loss   cls_loss   dfl_loss  Instances       Size\n"
          ]
        },
        {
          "output_type": "stream",
          "name": "stderr",
          "text": [
            "     23/100      2.29G      1.144     0.7125      1.169        265        640: 100%|██████████| 11/11 [00:02<00:00,  4.10it/s]\n",
            "                 Class     Images  Instances      Box(P          R      mAP50  mAP50-95): 100%|██████████| 2/2 [00:00<00:00,  2.30it/s]"
          ]
        },
        {
          "output_type": "stream",
          "name": "stdout",
          "text": [
            "                   all         50        508      0.878      0.991      0.917      0.634\n"
          ]
        },
        {
          "output_type": "stream",
          "name": "stderr",
          "text": [
            "\n"
          ]
        },
        {
          "output_type": "stream",
          "name": "stdout",
          "text": [
            "\n",
            "      Epoch    GPU_mem   box_loss   cls_loss   dfl_loss  Instances       Size\n"
          ]
        },
        {
          "output_type": "stream",
          "name": "stderr",
          "text": [
            "     24/100      2.31G      1.136     0.7066      1.177        240        640: 100%|██████████| 11/11 [00:03<00:00,  2.94it/s]\n",
            "                 Class     Images  Instances      Box(P          R      mAP50  mAP50-95): 100%|██████████| 2/2 [00:01<00:00,  1.44it/s]"
          ]
        },
        {
          "output_type": "stream",
          "name": "stdout",
          "text": [
            "                   all         50        508      0.876      0.994      0.926      0.636\n"
          ]
        },
        {
          "output_type": "stream",
          "name": "stderr",
          "text": [
            "\n"
          ]
        },
        {
          "output_type": "stream",
          "name": "stdout",
          "text": [
            "\n",
            "      Epoch    GPU_mem   box_loss   cls_loss   dfl_loss  Instances       Size\n"
          ]
        },
        {
          "output_type": "stream",
          "name": "stderr",
          "text": [
            "     25/100      2.37G      1.142     0.6806       1.17        289        640: 100%|██████████| 11/11 [00:03<00:00,  2.84it/s]\n",
            "                 Class     Images  Instances      Box(P          R      mAP50  mAP50-95): 100%|██████████| 2/2 [00:00<00:00,  2.15it/s]"
          ]
        },
        {
          "output_type": "stream",
          "name": "stdout",
          "text": [
            "                   all         50        508      0.874      0.991      0.917      0.632\n"
          ]
        },
        {
          "output_type": "stream",
          "name": "stderr",
          "text": [
            "\n"
          ]
        },
        {
          "output_type": "stream",
          "name": "stdout",
          "text": [
            "\n",
            "      Epoch    GPU_mem   box_loss   cls_loss   dfl_loss  Instances       Size\n"
          ]
        },
        {
          "output_type": "stream",
          "name": "stderr",
          "text": [
            "     26/100       2.3G      1.135     0.6713      1.176        304        640: 100%|██████████| 11/11 [00:02<00:00,  4.16it/s]\n",
            "                 Class     Images  Instances      Box(P          R      mAP50  mAP50-95): 100%|██████████| 2/2 [00:00<00:00,  2.12it/s]"
          ]
        },
        {
          "output_type": "stream",
          "name": "stdout",
          "text": [
            "                   all         50        508      0.887      0.979       0.91      0.619\n"
          ]
        },
        {
          "output_type": "stream",
          "name": "stderr",
          "text": [
            "\n"
          ]
        },
        {
          "output_type": "stream",
          "name": "stdout",
          "text": [
            "\n",
            "      Epoch    GPU_mem   box_loss   cls_loss   dfl_loss  Instances       Size\n"
          ]
        },
        {
          "output_type": "stream",
          "name": "stderr",
          "text": [
            "     27/100       2.3G      1.138     0.6594      1.158        275        640: 100%|██████████| 11/11 [00:02<00:00,  4.14it/s]\n",
            "                 Class     Images  Instances      Box(P          R      mAP50  mAP50-95): 100%|██████████| 2/2 [00:00<00:00,  2.39it/s]"
          ]
        },
        {
          "output_type": "stream",
          "name": "stdout",
          "text": [
            "                   all         50        508      0.875      0.985      0.912      0.594\n"
          ]
        },
        {
          "output_type": "stream",
          "name": "stderr",
          "text": [
            "\n"
          ]
        },
        {
          "output_type": "stream",
          "name": "stdout",
          "text": [
            "\n",
            "      Epoch    GPU_mem   box_loss   cls_loss   dfl_loss  Instances       Size\n"
          ]
        },
        {
          "output_type": "stream",
          "name": "stderr",
          "text": [
            "     28/100      2.33G      1.147     0.6836      1.177        258        640: 100%|██████████| 11/11 [00:04<00:00,  2.52it/s]\n",
            "                 Class     Images  Instances      Box(P          R      mAP50  mAP50-95): 100%|██████████| 2/2 [00:01<00:00,  1.15it/s]"
          ]
        },
        {
          "output_type": "stream",
          "name": "stdout",
          "text": [
            "                   all         50        508      0.878      0.991      0.911      0.631\n"
          ]
        },
        {
          "output_type": "stream",
          "name": "stderr",
          "text": [
            "\n"
          ]
        },
        {
          "output_type": "stream",
          "name": "stdout",
          "text": [
            "\n",
            "      Epoch    GPU_mem   box_loss   cls_loss   dfl_loss  Instances       Size\n"
          ]
        },
        {
          "output_type": "stream",
          "name": "stderr",
          "text": [
            "     29/100      2.34G      1.145     0.6843       1.16        221        640: 100%|██████████| 11/11 [00:02<00:00,  3.92it/s]\n",
            "                 Class     Images  Instances      Box(P          R      mAP50  mAP50-95): 100%|██████████| 2/2 [00:00<00:00,  2.26it/s]"
          ]
        },
        {
          "output_type": "stream",
          "name": "stdout",
          "text": [
            "                   all         50        508      0.874      0.992      0.925      0.625\n"
          ]
        },
        {
          "output_type": "stream",
          "name": "stderr",
          "text": [
            "\n"
          ]
        },
        {
          "output_type": "stream",
          "name": "stdout",
          "text": [
            "\n",
            "      Epoch    GPU_mem   box_loss   cls_loss   dfl_loss  Instances       Size\n"
          ]
        },
        {
          "output_type": "stream",
          "name": "stderr",
          "text": [
            "     30/100      2.32G      1.134      0.679      1.169        187        640: 100%|██████████| 11/11 [00:02<00:00,  4.39it/s]\n",
            "                 Class     Images  Instances      Box(P          R      mAP50  mAP50-95): 100%|██████████| 2/2 [00:00<00:00,  2.68it/s]"
          ]
        },
        {
          "output_type": "stream",
          "name": "stdout",
          "text": [
            "                   all         50        508      0.882      0.987      0.926      0.625\n"
          ]
        },
        {
          "output_type": "stream",
          "name": "stderr",
          "text": [
            "\n"
          ]
        },
        {
          "output_type": "stream",
          "name": "stdout",
          "text": [
            "\n",
            "      Epoch    GPU_mem   box_loss   cls_loss   dfl_loss  Instances       Size\n"
          ]
        },
        {
          "output_type": "stream",
          "name": "stderr",
          "text": [
            "     31/100      2.32G      1.143     0.6531      1.169        287        640: 100%|██████████| 11/11 [00:02<00:00,  4.02it/s]\n",
            "                 Class     Images  Instances      Box(P          R      mAP50  mAP50-95): 100%|██████████| 2/2 [00:01<00:00,  1.61it/s]"
          ]
        },
        {
          "output_type": "stream",
          "name": "stdout",
          "text": [
            "                   all         50        508      0.888      0.987      0.936       0.64\n"
          ]
        },
        {
          "output_type": "stream",
          "name": "stderr",
          "text": [
            "\n"
          ]
        },
        {
          "output_type": "stream",
          "name": "stdout",
          "text": [
            "\n",
            "      Epoch    GPU_mem   box_loss   cls_loss   dfl_loss  Instances       Size\n"
          ]
        },
        {
          "output_type": "stream",
          "name": "stderr",
          "text": [
            "     32/100      2.32G      1.106     0.6573      1.158        345        640: 100%|██████████| 11/11 [00:04<00:00,  2.29it/s]\n",
            "                 Class     Images  Instances      Box(P          R      mAP50  mAP50-95): 100%|██████████| 2/2 [00:01<00:00,  1.19it/s]"
          ]
        },
        {
          "output_type": "stream",
          "name": "stdout",
          "text": [
            "                   all         50        508       0.88      0.991       0.93      0.633\n"
          ]
        },
        {
          "output_type": "stream",
          "name": "stderr",
          "text": [
            "\n"
          ]
        },
        {
          "output_type": "stream",
          "name": "stdout",
          "text": [
            "\n",
            "      Epoch    GPU_mem   box_loss   cls_loss   dfl_loss  Instances       Size\n"
          ]
        },
        {
          "output_type": "stream",
          "name": "stderr",
          "text": [
            "     33/100      2.41G      1.113     0.6462      1.165        253        640: 100%|██████████| 11/11 [00:02<00:00,  4.34it/s]\n",
            "                 Class     Images  Instances      Box(P          R      mAP50  mAP50-95): 100%|██████████| 2/2 [00:00<00:00,  2.31it/s]"
          ]
        },
        {
          "output_type": "stream",
          "name": "stdout",
          "text": [
            "                   all         50        508      0.886      0.985      0.922      0.637\n"
          ]
        },
        {
          "output_type": "stream",
          "name": "stderr",
          "text": [
            "\n"
          ]
        },
        {
          "output_type": "stream",
          "name": "stdout",
          "text": [
            "\n",
            "      Epoch    GPU_mem   box_loss   cls_loss   dfl_loss  Instances       Size\n"
          ]
        },
        {
          "output_type": "stream",
          "name": "stderr",
          "text": [
            "     34/100       2.3G      1.126     0.6578      1.154        233        640: 100%|██████████| 11/11 [00:02<00:00,  4.27it/s]\n",
            "                 Class     Images  Instances      Box(P          R      mAP50  mAP50-95): 100%|██████████| 2/2 [00:01<00:00,  1.97it/s]"
          ]
        },
        {
          "output_type": "stream",
          "name": "stdout",
          "text": [
            "                   all         50        508      0.877       0.99      0.923      0.636\n"
          ]
        },
        {
          "output_type": "stream",
          "name": "stderr",
          "text": [
            "\n"
          ]
        },
        {
          "output_type": "stream",
          "name": "stdout",
          "text": [
            "\n",
            "      Epoch    GPU_mem   box_loss   cls_loss   dfl_loss  Instances       Size\n"
          ]
        },
        {
          "output_type": "stream",
          "name": "stderr",
          "text": [
            "     35/100      2.38G      1.108     0.6618      1.157        192        640: 100%|██████████| 11/11 [00:03<00:00,  3.50it/s]\n",
            "                 Class     Images  Instances      Box(P          R      mAP50  mAP50-95): 100%|██████████| 2/2 [00:01<00:00,  1.54it/s]"
          ]
        },
        {
          "output_type": "stream",
          "name": "stdout",
          "text": [
            "                   all         50        508       0.88       0.99      0.937      0.631\n"
          ]
        },
        {
          "output_type": "stream",
          "name": "stderr",
          "text": [
            "\n"
          ]
        },
        {
          "output_type": "stream",
          "name": "stdout",
          "text": [
            "\n",
            "      Epoch    GPU_mem   box_loss   cls_loss   dfl_loss  Instances       Size\n"
          ]
        },
        {
          "output_type": "stream",
          "name": "stderr",
          "text": [
            "     36/100      2.25G      1.119      0.647      1.159        290        640: 100%|██████████| 11/11 [00:04<00:00,  2.37it/s]\n",
            "                 Class     Images  Instances      Box(P          R      mAP50  mAP50-95): 100%|██████████| 2/2 [00:01<00:00,  1.41it/s]"
          ]
        },
        {
          "output_type": "stream",
          "name": "stdout",
          "text": [
            "                   all         50        508      0.882      0.987      0.913      0.641\n"
          ]
        },
        {
          "output_type": "stream",
          "name": "stderr",
          "text": [
            "\n"
          ]
        },
        {
          "output_type": "stream",
          "name": "stdout",
          "text": [
            "\n",
            "      Epoch    GPU_mem   box_loss   cls_loss   dfl_loss  Instances       Size\n"
          ]
        },
        {
          "output_type": "stream",
          "name": "stderr",
          "text": [
            "     37/100      2.25G      1.112     0.6315      1.157        288        640: 100%|██████████| 11/11 [00:02<00:00,  4.19it/s]\n",
            "                 Class     Images  Instances      Box(P          R      mAP50  mAP50-95): 100%|██████████| 2/2 [00:00<00:00,  2.16it/s]"
          ]
        },
        {
          "output_type": "stream",
          "name": "stdout",
          "text": [
            "                   all         50        508      0.888       0.99      0.928      0.646\n"
          ]
        },
        {
          "output_type": "stream",
          "name": "stderr",
          "text": [
            "\n"
          ]
        },
        {
          "output_type": "stream",
          "name": "stdout",
          "text": [
            "\n",
            "      Epoch    GPU_mem   box_loss   cls_loss   dfl_loss  Instances       Size\n"
          ]
        },
        {
          "output_type": "stream",
          "name": "stderr",
          "text": [
            "     38/100      2.34G      1.094     0.6259      1.142        257        640: 100%|██████████| 11/11 [00:02<00:00,  4.23it/s]\n",
            "                 Class     Images  Instances      Box(P          R      mAP50  mAP50-95): 100%|██████████| 2/2 [00:00<00:00,  2.32it/s]"
          ]
        },
        {
          "output_type": "stream",
          "name": "stdout",
          "text": [
            "                   all         50        508      0.884      0.992      0.941      0.651\n"
          ]
        },
        {
          "output_type": "stream",
          "name": "stderr",
          "text": [
            "\n"
          ]
        },
        {
          "output_type": "stream",
          "name": "stdout",
          "text": [
            "\n",
            "      Epoch    GPU_mem   box_loss   cls_loss   dfl_loss  Instances       Size\n"
          ]
        },
        {
          "output_type": "stream",
          "name": "stderr",
          "text": [
            "     39/100      2.33G       1.11     0.6114      1.162        199        640: 100%|██████████| 11/11 [00:03<00:00,  2.89it/s]\n",
            "                 Class     Images  Instances      Box(P          R      mAP50  mAP50-95): 100%|██████████| 2/2 [00:01<00:00,  1.44it/s]"
          ]
        },
        {
          "output_type": "stream",
          "name": "stdout",
          "text": [
            "                   all         50        508      0.878      0.986      0.938      0.643\n"
          ]
        },
        {
          "output_type": "stream",
          "name": "stderr",
          "text": [
            "\n"
          ]
        },
        {
          "output_type": "stream",
          "name": "stdout",
          "text": [
            "\n",
            "      Epoch    GPU_mem   box_loss   cls_loss   dfl_loss  Instances       Size\n"
          ]
        },
        {
          "output_type": "stream",
          "name": "stderr",
          "text": [
            "     40/100      2.32G      1.125     0.6262       1.17        191        640: 100%|██████████| 11/11 [00:04<00:00,  2.62it/s]\n",
            "                 Class     Images  Instances      Box(P          R      mAP50  mAP50-95): 100%|██████████| 2/2 [00:00<00:00,  3.19it/s]\n"
          ]
        },
        {
          "output_type": "stream",
          "name": "stdout",
          "text": [
            "                   all         50        508      0.887       0.99      0.935      0.649\n",
            "\n",
            "      Epoch    GPU_mem   box_loss   cls_loss   dfl_loss  Instances       Size\n"
          ]
        },
        {
          "output_type": "stream",
          "name": "stderr",
          "text": [
            "     41/100      2.41G      1.107     0.6448      1.147        214        640: 100%|██████████| 11/11 [00:02<00:00,  4.25it/s]\n",
            "                 Class     Images  Instances      Box(P          R      mAP50  mAP50-95): 100%|██████████| 2/2 [00:00<00:00,  2.48it/s]"
          ]
        },
        {
          "output_type": "stream",
          "name": "stdout",
          "text": [
            "                   all         50        508      0.894       0.98      0.937      0.644\n"
          ]
        },
        {
          "output_type": "stream",
          "name": "stderr",
          "text": [
            "\n"
          ]
        },
        {
          "output_type": "stream",
          "name": "stdout",
          "text": [
            "\n",
            "      Epoch    GPU_mem   box_loss   cls_loss   dfl_loss  Instances       Size\n"
          ]
        },
        {
          "output_type": "stream",
          "name": "stderr",
          "text": [
            "     42/100      2.21G      1.097     0.6296      1.159        212        640: 100%|██████████| 11/11 [00:02<00:00,  4.10it/s]\n",
            "                 Class     Images  Instances      Box(P          R      mAP50  mAP50-95): 100%|██████████| 2/2 [00:01<00:00,  1.47it/s]"
          ]
        },
        {
          "output_type": "stream",
          "name": "stdout",
          "text": [
            "                   all         50        508      0.897      0.974      0.931      0.634\n"
          ]
        },
        {
          "output_type": "stream",
          "name": "stderr",
          "text": [
            "\n"
          ]
        },
        {
          "output_type": "stream",
          "name": "stdout",
          "text": [
            "\n",
            "      Epoch    GPU_mem   box_loss   cls_loss   dfl_loss  Instances       Size\n"
          ]
        },
        {
          "output_type": "stream",
          "name": "stderr",
          "text": [
            "     43/100      2.36G       1.09     0.6082      1.133        275        640: 100%|██████████| 11/11 [00:04<00:00,  2.42it/s]\n",
            "                 Class     Images  Instances      Box(P          R      mAP50  mAP50-95): 100%|██████████| 2/2 [00:01<00:00,  1.06it/s]"
          ]
        },
        {
          "output_type": "stream",
          "name": "stdout",
          "text": [
            "                   all         50        508      0.888      0.983      0.934      0.642\n"
          ]
        },
        {
          "output_type": "stream",
          "name": "stderr",
          "text": [
            "\n"
          ]
        },
        {
          "output_type": "stream",
          "name": "stdout",
          "text": [
            "\n",
            "      Epoch    GPU_mem   box_loss   cls_loss   dfl_loss  Instances       Size\n"
          ]
        },
        {
          "output_type": "stream",
          "name": "stderr",
          "text": [
            "     44/100      2.43G      1.112     0.6109      1.169        221        640: 100%|██████████| 11/11 [00:02<00:00,  3.72it/s]\n",
            "                 Class     Images  Instances      Box(P          R      mAP50  mAP50-95): 100%|██████████| 2/2 [00:00<00:00,  2.39it/s]"
          ]
        },
        {
          "output_type": "stream",
          "name": "stdout",
          "text": [
            "                   all         50        508      0.889      0.984      0.927      0.634\n"
          ]
        },
        {
          "output_type": "stream",
          "name": "stderr",
          "text": [
            "\n"
          ]
        },
        {
          "output_type": "stream",
          "name": "stdout",
          "text": [
            "\n",
            "      Epoch    GPU_mem   box_loss   cls_loss   dfl_loss  Instances       Size\n"
          ]
        },
        {
          "output_type": "stream",
          "name": "stderr",
          "text": [
            "     45/100      2.33G      1.113     0.6044      1.152        201        640: 100%|██████████| 11/11 [00:02<00:00,  3.99it/s]\n",
            "                 Class     Images  Instances      Box(P          R      mAP50  mAP50-95): 100%|██████████| 2/2 [00:01<00:00,  1.50it/s]"
          ]
        },
        {
          "output_type": "stream",
          "name": "stdout",
          "text": [
            "                   all         50        508      0.888      0.982      0.932      0.644\n"
          ]
        },
        {
          "output_type": "stream",
          "name": "stderr",
          "text": [
            "\n"
          ]
        },
        {
          "output_type": "stream",
          "name": "stdout",
          "text": [
            "\n",
            "      Epoch    GPU_mem   box_loss   cls_loss   dfl_loss  Instances       Size\n"
          ]
        },
        {
          "output_type": "stream",
          "name": "stderr",
          "text": [
            "     46/100      2.32G      1.068     0.6036      1.135        298        640: 100%|██████████| 11/11 [00:04<00:00,  2.32it/s]\n",
            "                 Class     Images  Instances      Box(P          R      mAP50  mAP50-95): 100%|██████████| 2/2 [00:01<00:00,  1.42it/s]"
          ]
        },
        {
          "output_type": "stream",
          "name": "stdout",
          "text": [
            "                   all         50        508      0.887      0.991      0.931       0.64\n"
          ]
        },
        {
          "output_type": "stream",
          "name": "stderr",
          "text": [
            "\n"
          ]
        },
        {
          "output_type": "stream",
          "name": "stdout",
          "text": [
            "\n",
            "      Epoch    GPU_mem   box_loss   cls_loss   dfl_loss  Instances       Size\n"
          ]
        },
        {
          "output_type": "stream",
          "name": "stderr",
          "text": [
            "     47/100      2.32G       1.09     0.6016      1.142        296        640: 100%|██████████| 11/11 [00:04<00:00,  2.27it/s]\n",
            "                 Class     Images  Instances      Box(P          R      mAP50  mAP50-95): 100%|██████████| 2/2 [00:01<00:00,  1.24it/s]"
          ]
        },
        {
          "output_type": "stream",
          "name": "stdout",
          "text": [
            "                   all         50        508      0.882      0.989      0.936      0.644\n"
          ]
        },
        {
          "output_type": "stream",
          "name": "stderr",
          "text": [
            "\n"
          ]
        },
        {
          "output_type": "stream",
          "name": "stdout",
          "text": [
            "\n",
            "      Epoch    GPU_mem   box_loss   cls_loss   dfl_loss  Instances       Size\n"
          ]
        },
        {
          "output_type": "stream",
          "name": "stderr",
          "text": [
            "     48/100      2.33G      1.092     0.6003      1.144        256        640: 100%|██████████| 11/11 [00:02<00:00,  3.96it/s]\n",
            "                 Class     Images  Instances      Box(P          R      mAP50  mAP50-95): 100%|██████████| 2/2 [00:00<00:00,  2.08it/s]"
          ]
        },
        {
          "output_type": "stream",
          "name": "stdout",
          "text": [
            "                   all         50        508      0.894      0.976      0.935      0.644\n"
          ]
        },
        {
          "output_type": "stream",
          "name": "stderr",
          "text": [
            "\n"
          ]
        },
        {
          "output_type": "stream",
          "name": "stdout",
          "text": [
            "\n",
            "      Epoch    GPU_mem   box_loss   cls_loss   dfl_loss  Instances       Size\n"
          ]
        },
        {
          "output_type": "stream",
          "name": "stderr",
          "text": [
            "     49/100      2.31G      1.091     0.5968      1.141        337        640: 100%|██████████| 11/11 [00:02<00:00,  4.25it/s]\n",
            "                 Class     Images  Instances      Box(P          R      mAP50  mAP50-95): 100%|██████████| 2/2 [00:00<00:00,  2.18it/s]"
          ]
        },
        {
          "output_type": "stream",
          "name": "stdout",
          "text": [
            "                   all         50        508      0.891      0.984      0.936      0.657\n"
          ]
        },
        {
          "output_type": "stream",
          "name": "stderr",
          "text": [
            "\n"
          ]
        },
        {
          "output_type": "stream",
          "name": "stdout",
          "text": [
            "\n",
            "      Epoch    GPU_mem   box_loss   cls_loss   dfl_loss  Instances       Size\n"
          ]
        },
        {
          "output_type": "stream",
          "name": "stderr",
          "text": [
            "     50/100      2.38G      1.079     0.5905      1.129        237        640: 100%|██████████| 11/11 [00:03<00:00,  3.00it/s]\n",
            "                 Class     Images  Instances      Box(P          R      mAP50  mAP50-95): 100%|██████████| 2/2 [00:01<00:00,  1.63it/s]"
          ]
        },
        {
          "output_type": "stream",
          "name": "stdout",
          "text": [
            "                   all         50        508      0.888      0.988      0.939      0.644\n"
          ]
        },
        {
          "output_type": "stream",
          "name": "stderr",
          "text": [
            "\n"
          ]
        },
        {
          "output_type": "stream",
          "name": "stdout",
          "text": [
            "\n",
            "      Epoch    GPU_mem   box_loss   cls_loss   dfl_loss  Instances       Size\n"
          ]
        },
        {
          "output_type": "stream",
          "name": "stderr",
          "text": [
            "     51/100      2.32G      1.088     0.5865      1.137        321        640: 100%|██████████| 11/11 [00:04<00:00,  2.39it/s]\n",
            "                 Class     Images  Instances      Box(P          R      mAP50  mAP50-95): 100%|██████████| 2/2 [00:00<00:00,  2.17it/s]"
          ]
        },
        {
          "output_type": "stream",
          "name": "stdout",
          "text": [
            "                   all         50        508      0.895      0.979      0.933      0.647\n"
          ]
        },
        {
          "output_type": "stream",
          "name": "stderr",
          "text": [
            "\n"
          ]
        },
        {
          "output_type": "stream",
          "name": "stdout",
          "text": [
            "\n",
            "      Epoch    GPU_mem   box_loss   cls_loss   dfl_loss  Instances       Size\n"
          ]
        },
        {
          "output_type": "stream",
          "name": "stderr",
          "text": [
            "     52/100      2.43G      1.069     0.5816      1.123        302        640: 100%|██████████| 11/11 [00:02<00:00,  3.97it/s]\n",
            "                 Class     Images  Instances      Box(P          R      mAP50  mAP50-95): 100%|██████████| 2/2 [00:01<00:00,  1.98it/s]"
          ]
        },
        {
          "output_type": "stream",
          "name": "stdout",
          "text": [
            "                   all         50        508      0.889      0.989      0.937      0.648\n"
          ]
        },
        {
          "output_type": "stream",
          "name": "stderr",
          "text": [
            "\n"
          ]
        },
        {
          "output_type": "stream",
          "name": "stdout",
          "text": [
            "\n",
            "      Epoch    GPU_mem   box_loss   cls_loss   dfl_loss  Instances       Size\n"
          ]
        },
        {
          "output_type": "stream",
          "name": "stderr",
          "text": [
            "     53/100      2.32G      1.066     0.5794      1.117        250        640: 100%|██████████| 11/11 [00:02<00:00,  4.14it/s]\n",
            "                 Class     Images  Instances      Box(P          R      mAP50  mAP50-95): 100%|██████████| 2/2 [00:01<00:00,  1.90it/s]"
          ]
        },
        {
          "output_type": "stream",
          "name": "stdout",
          "text": [
            "                   all         50        508      0.884      0.991      0.934      0.646\n"
          ]
        },
        {
          "output_type": "stream",
          "name": "stderr",
          "text": [
            "\n"
          ]
        },
        {
          "output_type": "stream",
          "name": "stdout",
          "text": [
            "\n",
            "      Epoch    GPU_mem   box_loss   cls_loss   dfl_loss  Instances       Size\n"
          ]
        },
        {
          "output_type": "stream",
          "name": "stderr",
          "text": [
            "     54/100      2.33G      1.083     0.5889      1.136        319        640: 100%|██████████| 11/11 [00:04<00:00,  2.48it/s]\n",
            "                 Class     Images  Instances      Box(P          R      mAP50  mAP50-95): 100%|██████████| 2/2 [00:01<00:00,  1.53it/s]"
          ]
        },
        {
          "output_type": "stream",
          "name": "stdout",
          "text": [
            "                   all         50        508      0.884      0.991      0.923      0.643\n"
          ]
        },
        {
          "output_type": "stream",
          "name": "stderr",
          "text": [
            "\n"
          ]
        },
        {
          "output_type": "stream",
          "name": "stdout",
          "text": [
            "\n",
            "      Epoch    GPU_mem   box_loss   cls_loss   dfl_loss  Instances       Size\n"
          ]
        },
        {
          "output_type": "stream",
          "name": "stderr",
          "text": [
            "     55/100       2.3G      1.076     0.5712      1.124        264        640: 100%|██████████| 11/11 [00:02<00:00,  3.77it/s]\n",
            "                 Class     Images  Instances      Box(P          R      mAP50  mAP50-95): 100%|██████████| 2/2 [00:01<00:00,  1.90it/s]"
          ]
        },
        {
          "output_type": "stream",
          "name": "stdout",
          "text": [
            "                   all         50        508      0.892      0.987      0.935      0.648\n"
          ]
        },
        {
          "output_type": "stream",
          "name": "stderr",
          "text": [
            "\n"
          ]
        },
        {
          "output_type": "stream",
          "name": "stdout",
          "text": [
            "\n",
            "      Epoch    GPU_mem   box_loss   cls_loss   dfl_loss  Instances       Size\n"
          ]
        },
        {
          "output_type": "stream",
          "name": "stderr",
          "text": [
            "     56/100      2.33G      1.097     0.5989      1.148        219        640: 100%|██████████| 11/11 [00:02<00:00,  4.29it/s]\n",
            "                 Class     Images  Instances      Box(P          R      mAP50  mAP50-95): 100%|██████████| 2/2 [00:00<00:00,  2.11it/s]"
          ]
        },
        {
          "output_type": "stream",
          "name": "stdout",
          "text": [
            "                   all         50        508      0.906      0.967      0.947       0.65\n"
          ]
        },
        {
          "output_type": "stream",
          "name": "stderr",
          "text": [
            "\n"
          ]
        },
        {
          "output_type": "stream",
          "name": "stdout",
          "text": [
            "\n",
            "      Epoch    GPU_mem   box_loss   cls_loss   dfl_loss  Instances       Size\n"
          ]
        },
        {
          "output_type": "stream",
          "name": "stderr",
          "text": [
            "     57/100      2.32G      1.061     0.5875      1.119        280        640: 100%|██████████| 11/11 [00:02<00:00,  3.90it/s]\n",
            "                 Class     Images  Instances      Box(P          R      mAP50  mAP50-95): 100%|██████████| 2/2 [00:01<00:00,  1.34it/s]"
          ]
        },
        {
          "output_type": "stream",
          "name": "stdout",
          "text": [
            "                   all         50        508      0.887      0.988      0.948      0.655\n"
          ]
        },
        {
          "output_type": "stream",
          "name": "stderr",
          "text": [
            "\n"
          ]
        },
        {
          "output_type": "stream",
          "name": "stdout",
          "text": [
            "\n",
            "      Epoch    GPU_mem   box_loss   cls_loss   dfl_loss  Instances       Size\n"
          ]
        },
        {
          "output_type": "stream",
          "name": "stderr",
          "text": [
            "     58/100      2.34G       1.07      0.569       1.12        291        640: 100%|██████████| 11/11 [00:04<00:00,  2.35it/s]\n",
            "                 Class     Images  Instances      Box(P          R      mAP50  mAP50-95): 100%|██████████| 2/2 [00:01<00:00,  1.15it/s]"
          ]
        },
        {
          "output_type": "stream",
          "name": "stdout",
          "text": [
            "                   all         50        508      0.892      0.979      0.944      0.655\n"
          ]
        },
        {
          "output_type": "stream",
          "name": "stderr",
          "text": [
            "\n"
          ]
        },
        {
          "output_type": "stream",
          "name": "stdout",
          "text": [
            "\n",
            "      Epoch    GPU_mem   box_loss   cls_loss   dfl_loss  Instances       Size\n"
          ]
        },
        {
          "output_type": "stream",
          "name": "stderr",
          "text": [
            "     59/100       2.4G      1.055     0.5631      1.126        251        640: 100%|██████████| 11/11 [00:02<00:00,  4.07it/s]\n",
            "                 Class     Images  Instances      Box(P          R      mAP50  mAP50-95): 100%|██████████| 2/2 [00:00<00:00,  2.43it/s]"
          ]
        },
        {
          "output_type": "stream",
          "name": "stdout",
          "text": [
            "                   all         50        508      0.902      0.977      0.942      0.655\n"
          ]
        },
        {
          "output_type": "stream",
          "name": "stderr",
          "text": [
            "\n"
          ]
        },
        {
          "output_type": "stream",
          "name": "stdout",
          "text": [
            "\n",
            "      Epoch    GPU_mem   box_loss   cls_loss   dfl_loss  Instances       Size\n"
          ]
        },
        {
          "output_type": "stream",
          "name": "stderr",
          "text": [
            "     60/100      2.41G      1.065     0.5769      1.126        286        640: 100%|██████████| 11/11 [00:02<00:00,  4.00it/s]\n",
            "                 Class     Images  Instances      Box(P          R      mAP50  mAP50-95): 100%|██████████| 2/2 [00:00<00:00,  2.78it/s]"
          ]
        },
        {
          "output_type": "stream",
          "name": "stdout",
          "text": [
            "                   all         50        508       0.89      0.983      0.932      0.649\n"
          ]
        },
        {
          "output_type": "stream",
          "name": "stderr",
          "text": [
            "\n"
          ]
        },
        {
          "output_type": "stream",
          "name": "stdout",
          "text": [
            "\n",
            "      Epoch    GPU_mem   box_loss   cls_loss   dfl_loss  Instances       Size\n"
          ]
        },
        {
          "output_type": "stream",
          "name": "stderr",
          "text": [
            "     61/100      2.32G      1.063     0.5873      1.135        221        640: 100%|██████████| 11/11 [00:03<00:00,  2.92it/s]\n",
            "                 Class     Images  Instances      Box(P          R      mAP50  mAP50-95): 100%|██████████| 2/2 [00:01<00:00,  1.72it/s]"
          ]
        },
        {
          "output_type": "stream",
          "name": "stdout",
          "text": [
            "                   all         50        508      0.891      0.984      0.936      0.642\n"
          ]
        },
        {
          "output_type": "stream",
          "name": "stderr",
          "text": [
            "\n"
          ]
        },
        {
          "output_type": "stream",
          "name": "stdout",
          "text": [
            "\n",
            "      Epoch    GPU_mem   box_loss   cls_loss   dfl_loss  Instances       Size\n"
          ]
        },
        {
          "output_type": "stream",
          "name": "stderr",
          "text": [
            "     62/100      2.22G      1.076     0.5548      1.129        267        640: 100%|██████████| 11/11 [00:04<00:00,  2.23it/s]\n",
            "                 Class     Images  Instances      Box(P          R      mAP50  mAP50-95): 100%|██████████| 2/2 [00:00<00:00,  2.01it/s]"
          ]
        },
        {
          "output_type": "stream",
          "name": "stdout",
          "text": [
            "                   all         50        508      0.899      0.976      0.938      0.658\n"
          ]
        },
        {
          "output_type": "stream",
          "name": "stderr",
          "text": [
            "\n"
          ]
        },
        {
          "output_type": "stream",
          "name": "stdout",
          "text": [
            "\n",
            "      Epoch    GPU_mem   box_loss   cls_loss   dfl_loss  Instances       Size\n"
          ]
        },
        {
          "output_type": "stream",
          "name": "stderr",
          "text": [
            "     63/100      2.32G       1.06     0.5784      1.128        260        640: 100%|██████████| 11/11 [00:02<00:00,  4.15it/s]\n",
            "                 Class     Images  Instances      Box(P          R      mAP50  mAP50-95): 100%|██████████| 2/2 [00:00<00:00,  2.22it/s]"
          ]
        },
        {
          "output_type": "stream",
          "name": "stdout",
          "text": [
            "                   all         50        508      0.898      0.981      0.937      0.656\n"
          ]
        },
        {
          "output_type": "stream",
          "name": "stderr",
          "text": [
            "\n"
          ]
        },
        {
          "output_type": "stream",
          "name": "stdout",
          "text": [
            "\n",
            "      Epoch    GPU_mem   box_loss   cls_loss   dfl_loss  Instances       Size\n"
          ]
        },
        {
          "output_type": "stream",
          "name": "stderr",
          "text": [
            "     64/100      2.32G      1.057     0.5694      1.117        302        640: 100%|██████████| 11/11 [00:02<00:00,  4.06it/s]\n",
            "                 Class     Images  Instances      Box(P          R      mAP50  mAP50-95): 100%|██████████| 2/2 [00:01<00:00,  1.94it/s]"
          ]
        },
        {
          "output_type": "stream",
          "name": "stdout",
          "text": [
            "                   all         50        508      0.898      0.979      0.934      0.642\n"
          ]
        },
        {
          "output_type": "stream",
          "name": "stderr",
          "text": [
            "\n"
          ]
        },
        {
          "output_type": "stream",
          "name": "stdout",
          "text": [
            "\n",
            "      Epoch    GPU_mem   box_loss   cls_loss   dfl_loss  Instances       Size\n"
          ]
        },
        {
          "output_type": "stream",
          "name": "stderr",
          "text": [
            "     65/100      2.32G      1.061     0.5815      1.131        254        640: 100%|██████████| 11/11 [00:04<00:00,  2.61it/s]\n",
            "                 Class     Images  Instances      Box(P          R      mAP50  mAP50-95): 100%|██████████| 2/2 [00:01<00:00,  1.15it/s]"
          ]
        },
        {
          "output_type": "stream",
          "name": "stdout",
          "text": [
            "                   all         50        508      0.894      0.989      0.941      0.651\n"
          ]
        },
        {
          "output_type": "stream",
          "name": "stderr",
          "text": [
            "\n"
          ]
        },
        {
          "output_type": "stream",
          "name": "stdout",
          "text": [
            "\n",
            "      Epoch    GPU_mem   box_loss   cls_loss   dfl_loss  Instances       Size\n"
          ]
        },
        {
          "output_type": "stream",
          "name": "stderr",
          "text": [
            "     66/100      2.32G       1.04      0.566      1.112        226        640: 100%|██████████| 11/11 [00:03<00:00,  3.07it/s]\n",
            "                 Class     Images  Instances      Box(P          R      mAP50  mAP50-95): 100%|██████████| 2/2 [00:00<00:00,  2.51it/s]"
          ]
        },
        {
          "output_type": "stream",
          "name": "stdout",
          "text": [
            "                   all         50        508      0.896      0.985      0.942      0.663\n"
          ]
        },
        {
          "output_type": "stream",
          "name": "stderr",
          "text": [
            "\n"
          ]
        },
        {
          "output_type": "stream",
          "name": "stdout",
          "text": [
            "\n",
            "      Epoch    GPU_mem   box_loss   cls_loss   dfl_loss  Instances       Size\n"
          ]
        },
        {
          "output_type": "stream",
          "name": "stderr",
          "text": [
            "     67/100      2.33G      1.053      0.556      1.116        237        640: 100%|██████████| 11/11 [00:02<00:00,  4.01it/s]\n",
            "                 Class     Images  Instances      Box(P          R      mAP50  mAP50-95): 100%|██████████| 2/2 [00:00<00:00,  2.34it/s]"
          ]
        },
        {
          "output_type": "stream",
          "name": "stdout",
          "text": [
            "                   all         50        508      0.893      0.986      0.945      0.652\n"
          ]
        },
        {
          "output_type": "stream",
          "name": "stderr",
          "text": [
            "\n"
          ]
        },
        {
          "output_type": "stream",
          "name": "stdout",
          "text": [
            "\n",
            "      Epoch    GPU_mem   box_loss   cls_loss   dfl_loss  Instances       Size\n"
          ]
        },
        {
          "output_type": "stream",
          "name": "stderr",
          "text": [
            "     68/100      2.32G       1.05     0.5659      1.109        258        640: 100%|██████████| 11/11 [00:02<00:00,  4.12it/s]\n",
            "                 Class     Images  Instances      Box(P          R      mAP50  mAP50-95): 100%|██████████| 2/2 [00:01<00:00,  1.48it/s]"
          ]
        },
        {
          "output_type": "stream",
          "name": "stdout",
          "text": [
            "                   all         50        508      0.885       0.99      0.942      0.652\n"
          ]
        },
        {
          "output_type": "stream",
          "name": "stderr",
          "text": [
            "\n"
          ]
        },
        {
          "output_type": "stream",
          "name": "stdout",
          "text": [
            "\n",
            "      Epoch    GPU_mem   box_loss   cls_loss   dfl_loss  Instances       Size\n"
          ]
        },
        {
          "output_type": "stream",
          "name": "stderr",
          "text": [
            "     69/100      2.36G      1.057       0.57      1.126        178        640: 100%|██████████| 11/11 [00:04<00:00,  2.57it/s]\n",
            "                 Class     Images  Instances      Box(P          R      mAP50  mAP50-95): 100%|██████████| 2/2 [00:01<00:00,  1.74it/s]"
          ]
        },
        {
          "output_type": "stream",
          "name": "stdout",
          "text": [
            "                   all         50        508      0.889      0.984      0.939      0.651\n"
          ]
        },
        {
          "output_type": "stream",
          "name": "stderr",
          "text": [
            "\n"
          ]
        },
        {
          "output_type": "stream",
          "name": "stdout",
          "text": [
            "\n",
            "      Epoch    GPU_mem   box_loss   cls_loss   dfl_loss  Instances       Size\n"
          ]
        },
        {
          "output_type": "stream",
          "name": "stderr",
          "text": [
            "     70/100      2.43G      1.032     0.5518      1.116        266        640: 100%|██████████| 11/11 [00:02<00:00,  3.98it/s]\n",
            "                 Class     Images  Instances      Box(P          R      mAP50  mAP50-95): 100%|██████████| 2/2 [00:00<00:00,  2.20it/s]"
          ]
        },
        {
          "output_type": "stream",
          "name": "stdout",
          "text": [
            "                   all         50        508      0.901      0.977      0.944      0.647\n"
          ]
        },
        {
          "output_type": "stream",
          "name": "stderr",
          "text": [
            "\n"
          ]
        },
        {
          "output_type": "stream",
          "name": "stdout",
          "text": [
            "\n",
            "      Epoch    GPU_mem   box_loss   cls_loss   dfl_loss  Instances       Size\n"
          ]
        },
        {
          "output_type": "stream",
          "name": "stderr",
          "text": [
            "     71/100      2.34G      1.053      0.562       1.11        356        640: 100%|██████████| 11/11 [00:02<00:00,  4.11it/s]\n",
            "                 Class     Images  Instances      Box(P          R      mAP50  mAP50-95): 100%|██████████| 2/2 [00:00<00:00,  2.19it/s]"
          ]
        },
        {
          "output_type": "stream",
          "name": "stdout",
          "text": [
            "                   all         50        508      0.897      0.992      0.946      0.653\n"
          ]
        },
        {
          "output_type": "stream",
          "name": "stderr",
          "text": [
            "\n"
          ]
        },
        {
          "output_type": "stream",
          "name": "stdout",
          "text": [
            "\n",
            "      Epoch    GPU_mem   box_loss   cls_loss   dfl_loss  Instances       Size\n"
          ]
        },
        {
          "output_type": "stream",
          "name": "stderr",
          "text": [
            "     72/100      2.29G      1.064     0.5621      1.128        264        640: 100%|██████████| 11/11 [00:03<00:00,  2.94it/s]\n",
            "                 Class     Images  Instances      Box(P          R      mAP50  mAP50-95): 100%|██████████| 2/2 [00:01<00:00,  1.49it/s]"
          ]
        },
        {
          "output_type": "stream",
          "name": "stdout",
          "text": [
            "                   all         50        508      0.894      0.992       0.94      0.655\n"
          ]
        },
        {
          "output_type": "stream",
          "name": "stderr",
          "text": [
            "\n"
          ]
        },
        {
          "output_type": "stream",
          "name": "stdout",
          "text": [
            "\n",
            "      Epoch    GPU_mem   box_loss   cls_loss   dfl_loss  Instances       Size\n"
          ]
        },
        {
          "output_type": "stream",
          "name": "stderr",
          "text": [
            "     73/100      2.32G      1.038     0.5622      1.107        328        640: 100%|██████████| 11/11 [00:04<00:00,  2.40it/s]\n",
            "                 Class     Images  Instances      Box(P          R      mAP50  mAP50-95): 100%|██████████| 2/2 [00:00<00:00,  2.06it/s]"
          ]
        },
        {
          "output_type": "stream",
          "name": "stdout",
          "text": [
            "                   all         50        508      0.897      0.981      0.932      0.654\n"
          ]
        },
        {
          "output_type": "stream",
          "name": "stderr",
          "text": [
            "\n"
          ]
        },
        {
          "output_type": "stream",
          "name": "stdout",
          "text": [
            "\n",
            "      Epoch    GPU_mem   box_loss   cls_loss   dfl_loss  Instances       Size\n"
          ]
        },
        {
          "output_type": "stream",
          "name": "stderr",
          "text": [
            "     74/100      2.24G      1.038     0.5574      1.111        291        640: 100%|██████████| 11/11 [00:02<00:00,  3.98it/s]\n",
            "                 Class     Images  Instances      Box(P          R      mAP50  mAP50-95): 100%|██████████| 2/2 [00:00<00:00,  2.89it/s]"
          ]
        },
        {
          "output_type": "stream",
          "name": "stdout",
          "text": [
            "                   all         50        508      0.884      0.991      0.933       0.65\n"
          ]
        },
        {
          "output_type": "stream",
          "name": "stderr",
          "text": [
            "\n"
          ]
        },
        {
          "output_type": "stream",
          "name": "stdout",
          "text": [
            "\n",
            "      Epoch    GPU_mem   box_loss   cls_loss   dfl_loss  Instances       Size\n"
          ]
        },
        {
          "output_type": "stream",
          "name": "stderr",
          "text": [
            "     75/100      2.31G      1.022     0.5506      1.101        246        640: 100%|██████████| 11/11 [00:02<00:00,  4.12it/s]\n",
            "                 Class     Images  Instances      Box(P          R      mAP50  mAP50-95): 100%|██████████| 2/2 [00:01<00:00,  1.84it/s]"
          ]
        },
        {
          "output_type": "stream",
          "name": "stdout",
          "text": [
            "                   all         50        508      0.889      0.991      0.945      0.659\n"
          ]
        },
        {
          "output_type": "stream",
          "name": "stderr",
          "text": [
            "\n"
          ]
        },
        {
          "output_type": "stream",
          "name": "stdout",
          "text": [
            "\n",
            "      Epoch    GPU_mem   box_loss   cls_loss   dfl_loss  Instances       Size\n"
          ]
        },
        {
          "output_type": "stream",
          "name": "stderr",
          "text": [
            "     76/100      2.25G      1.028     0.5492      1.106        293        640: 100%|██████████| 11/11 [00:04<00:00,  2.61it/s]\n",
            "                 Class     Images  Instances      Box(P          R      mAP50  mAP50-95): 100%|██████████| 2/2 [00:01<00:00,  1.22it/s]"
          ]
        },
        {
          "output_type": "stream",
          "name": "stdout",
          "text": [
            "                   all         50        508      0.892      0.986      0.942      0.663\n"
          ]
        },
        {
          "output_type": "stream",
          "name": "stderr",
          "text": [
            "\n"
          ]
        },
        {
          "output_type": "stream",
          "name": "stdout",
          "text": [
            "\n",
            "      Epoch    GPU_mem   box_loss   cls_loss   dfl_loss  Instances       Size\n"
          ]
        },
        {
          "output_type": "stream",
          "name": "stderr",
          "text": [
            "     77/100      2.41G      1.031     0.5583      1.118        257        640: 100%|██████████| 11/11 [00:03<00:00,  2.84it/s]\n",
            "                 Class     Images  Instances      Box(P          R      mAP50  mAP50-95): 100%|██████████| 2/2 [00:00<00:00,  2.06it/s]"
          ]
        },
        {
          "output_type": "stream",
          "name": "stdout",
          "text": [
            "                   all         50        508      0.898      0.985      0.944      0.667\n"
          ]
        },
        {
          "output_type": "stream",
          "name": "stderr",
          "text": [
            "\n"
          ]
        },
        {
          "output_type": "stream",
          "name": "stdout",
          "text": [
            "\n",
            "      Epoch    GPU_mem   box_loss   cls_loss   dfl_loss  Instances       Size\n"
          ]
        },
        {
          "output_type": "stream",
          "name": "stderr",
          "text": [
            "     78/100      2.33G      1.028     0.5471      1.108        286        640: 100%|██████████| 11/11 [00:02<00:00,  4.27it/s]\n",
            "                 Class     Images  Instances      Box(P          R      mAP50  mAP50-95): 100%|██████████| 2/2 [00:00<00:00,  2.02it/s]"
          ]
        },
        {
          "output_type": "stream",
          "name": "stdout",
          "text": [
            "                   all         50        508      0.892       0.99      0.942      0.664\n"
          ]
        },
        {
          "output_type": "stream",
          "name": "stderr",
          "text": [
            "\n"
          ]
        },
        {
          "output_type": "stream",
          "name": "stdout",
          "text": [
            "\n",
            "      Epoch    GPU_mem   box_loss   cls_loss   dfl_loss  Instances       Size\n"
          ]
        },
        {
          "output_type": "stream",
          "name": "stderr",
          "text": [
            "     79/100      2.24G      1.044      0.557      1.113        258        640: 100%|██████████| 11/11 [00:02<00:00,  4.02it/s]\n",
            "                 Class     Images  Instances      Box(P          R      mAP50  mAP50-95): 100%|██████████| 2/2 [00:01<00:00,  1.57it/s]"
          ]
        },
        {
          "output_type": "stream",
          "name": "stdout",
          "text": [
            "                   all         50        508      0.893      0.992       0.95      0.662\n"
          ]
        },
        {
          "output_type": "stream",
          "name": "stderr",
          "text": [
            "\n"
          ]
        },
        {
          "output_type": "stream",
          "name": "stdout",
          "text": [
            "\n",
            "      Epoch    GPU_mem   box_loss   cls_loss   dfl_loss  Instances       Size\n"
          ]
        },
        {
          "output_type": "stream",
          "name": "stderr",
          "text": [
            "     80/100      2.32G      1.039     0.5431      1.118        209        640: 100%|██████████| 11/11 [00:04<00:00,  2.53it/s]\n",
            "                 Class     Images  Instances      Box(P          R      mAP50  mAP50-95): 100%|██████████| 2/2 [00:01<00:00,  1.14it/s]"
          ]
        },
        {
          "output_type": "stream",
          "name": "stdout",
          "text": [
            "                   all         50        508      0.894      0.994      0.949      0.665\n"
          ]
        },
        {
          "output_type": "stream",
          "name": "stderr",
          "text": [
            "\n"
          ]
        },
        {
          "output_type": "stream",
          "name": "stdout",
          "text": [
            "\n",
            "      Epoch    GPU_mem   box_loss   cls_loss   dfl_loss  Instances       Size\n"
          ]
        },
        {
          "output_type": "stream",
          "name": "stderr",
          "text": [
            "     81/100      2.34G      1.035      0.539       1.12        309        640: 100%|██████████| 11/11 [00:03<00:00,  3.30it/s]\n",
            "                 Class     Images  Instances      Box(P          R      mAP50  mAP50-95): 100%|██████████| 2/2 [00:01<00:00,  1.96it/s]"
          ]
        },
        {
          "output_type": "stream",
          "name": "stdout",
          "text": [
            "                   all         50        508       0.89      0.994      0.947      0.667\n"
          ]
        },
        {
          "output_type": "stream",
          "name": "stderr",
          "text": [
            "\n"
          ]
        },
        {
          "output_type": "stream",
          "name": "stdout",
          "text": [
            "\n",
            "      Epoch    GPU_mem   box_loss   cls_loss   dfl_loss  Instances       Size\n"
          ]
        },
        {
          "output_type": "stream",
          "name": "stderr",
          "text": [
            "     82/100      2.31G      1.042     0.5736      1.124        262        640: 100%|██████████| 11/11 [00:02<00:00,  4.34it/s]\n",
            "                 Class     Images  Instances      Box(P          R      mAP50  mAP50-95): 100%|██████████| 2/2 [00:01<00:00,  1.98it/s]"
          ]
        },
        {
          "output_type": "stream",
          "name": "stdout",
          "text": [
            "                   all         50        508      0.892      0.989      0.945      0.667\n"
          ]
        },
        {
          "output_type": "stream",
          "name": "stderr",
          "text": [
            "\n"
          ]
        },
        {
          "output_type": "stream",
          "name": "stdout",
          "text": [
            "\n",
            "      Epoch    GPU_mem   box_loss   cls_loss   dfl_loss  Instances       Size\n"
          ]
        },
        {
          "output_type": "stream",
          "name": "stderr",
          "text": [
            "     83/100      2.33G      1.017     0.5641      1.114        273        640: 100%|██████████| 11/11 [00:02<00:00,  3.88it/s]\n",
            "                 Class     Images  Instances      Box(P          R      mAP50  mAP50-95): 100%|██████████| 2/2 [00:01<00:00,  1.20it/s]"
          ]
        },
        {
          "output_type": "stream",
          "name": "stdout",
          "text": [
            "                   all         50        508       0.89      0.987      0.946      0.662\n"
          ]
        },
        {
          "output_type": "stream",
          "name": "stderr",
          "text": [
            "\n"
          ]
        },
        {
          "output_type": "stream",
          "name": "stdout",
          "text": [
            "\n",
            "      Epoch    GPU_mem   box_loss   cls_loss   dfl_loss  Instances       Size\n"
          ]
        },
        {
          "output_type": "stream",
          "name": "stderr",
          "text": [
            "     84/100      2.32G      1.016     0.5486      1.107        240        640: 100%|██████████| 11/11 [00:04<00:00,  2.55it/s]\n",
            "                 Class     Images  Instances      Box(P          R      mAP50  mAP50-95): 100%|██████████| 2/2 [00:01<00:00,  1.19it/s]"
          ]
        },
        {
          "output_type": "stream",
          "name": "stdout",
          "text": [
            "                   all         50        508      0.885       0.99      0.942       0.66\n"
          ]
        },
        {
          "output_type": "stream",
          "name": "stderr",
          "text": [
            "\n"
          ]
        },
        {
          "output_type": "stream",
          "name": "stdout",
          "text": [
            "\n",
            "      Epoch    GPU_mem   box_loss   cls_loss   dfl_loss  Instances       Size\n"
          ]
        },
        {
          "output_type": "stream",
          "name": "stderr",
          "text": [
            "     85/100      2.31G      1.035     0.5301      1.105        275        640: 100%|██████████| 11/11 [00:02<00:00,  4.07it/s]\n",
            "                 Class     Images  Instances      Box(P          R      mAP50  mAP50-95): 100%|██████████| 2/2 [00:00<00:00,  2.47it/s]"
          ]
        },
        {
          "output_type": "stream",
          "name": "stdout",
          "text": [
            "                   all         50        508      0.897      0.982      0.942      0.657\n"
          ]
        },
        {
          "output_type": "stream",
          "name": "stderr",
          "text": [
            "\n"
          ]
        },
        {
          "output_type": "stream",
          "name": "stdout",
          "text": [
            "\n",
            "      Epoch    GPU_mem   box_loss   cls_loss   dfl_loss  Instances       Size\n"
          ]
        },
        {
          "output_type": "stream",
          "name": "stderr",
          "text": [
            "     86/100      2.31G      1.034     0.5326      1.112        331        640: 100%|██████████| 11/11 [00:02<00:00,  3.89it/s]\n",
            "                 Class     Images  Instances      Box(P          R      mAP50  mAP50-95): 100%|██████████| 2/2 [00:00<00:00,  2.11it/s]"
          ]
        },
        {
          "output_type": "stream",
          "name": "stdout",
          "text": [
            "                   all         50        508      0.897      0.985      0.946      0.659\n"
          ]
        },
        {
          "output_type": "stream",
          "name": "stderr",
          "text": [
            "\n"
          ]
        },
        {
          "output_type": "stream",
          "name": "stdout",
          "text": [
            "\n",
            "      Epoch    GPU_mem   box_loss   cls_loss   dfl_loss  Instances       Size\n"
          ]
        },
        {
          "output_type": "stream",
          "name": "stderr",
          "text": [
            "     87/100      2.32G      1.019     0.5288      1.104        246        640: 100%|██████████| 11/11 [00:03<00:00,  3.22it/s]\n",
            "                 Class     Images  Instances      Box(P          R      mAP50  mAP50-95): 100%|██████████| 2/2 [00:01<00:00,  1.45it/s]"
          ]
        },
        {
          "output_type": "stream",
          "name": "stdout",
          "text": [
            "                   all         50        508      0.897      0.988      0.947      0.666\n"
          ]
        },
        {
          "output_type": "stream",
          "name": "stderr",
          "text": [
            "\n"
          ]
        },
        {
          "output_type": "stream",
          "name": "stdout",
          "text": [
            "\n",
            "      Epoch    GPU_mem   box_loss   cls_loss   dfl_loss  Instances       Size\n"
          ]
        },
        {
          "output_type": "stream",
          "name": "stderr",
          "text": [
            "     88/100      2.32G      1.019     0.5331       1.11        190        640: 100%|██████████| 11/11 [00:04<00:00,  2.29it/s]\n",
            "                 Class     Images  Instances      Box(P          R      mAP50  mAP50-95): 100%|██████████| 2/2 [00:01<00:00,  1.38it/s]"
          ]
        },
        {
          "output_type": "stream",
          "name": "stdout",
          "text": [
            "                   all         50        508      0.892      0.992      0.944      0.664\n"
          ]
        },
        {
          "output_type": "stream",
          "name": "stderr",
          "text": [
            "\n"
          ]
        },
        {
          "output_type": "stream",
          "name": "stdout",
          "text": [
            "\n",
            "      Epoch    GPU_mem   box_loss   cls_loss   dfl_loss  Instances       Size\n"
          ]
        },
        {
          "output_type": "stream",
          "name": "stderr",
          "text": [
            "     89/100       2.2G     0.9965     0.5368      1.108        277        640: 100%|██████████| 11/11 [00:04<00:00,  2.44it/s]\n",
            "                 Class     Images  Instances      Box(P          R      mAP50  mAP50-95): 100%|██████████| 2/2 [00:00<00:00,  2.32it/s]"
          ]
        },
        {
          "output_type": "stream",
          "name": "stdout",
          "text": [
            "                   all         50        508      0.896      0.985      0.945      0.665\n"
          ]
        },
        {
          "output_type": "stream",
          "name": "stderr",
          "text": [
            "\n"
          ]
        },
        {
          "output_type": "stream",
          "name": "stdout",
          "text": [
            "\n",
            "      Epoch    GPU_mem   box_loss   cls_loss   dfl_loss  Instances       Size\n"
          ]
        },
        {
          "output_type": "stream",
          "name": "stderr",
          "text": [
            "     90/100      2.39G      1.023     0.5376      1.107        274        640: 100%|██████████| 11/11 [00:02<00:00,  4.27it/s]\n",
            "                 Class     Images  Instances      Box(P          R      mAP50  mAP50-95): 100%|██████████| 2/2 [00:00<00:00,  2.05it/s]"
          ]
        },
        {
          "output_type": "stream",
          "name": "stdout",
          "text": [
            "                   all         50        508      0.895      0.981      0.943      0.665\n"
          ]
        },
        {
          "output_type": "stream",
          "name": "stderr",
          "text": [
            "\n"
          ]
        },
        {
          "output_type": "stream",
          "name": "stdout",
          "text": [
            "Closing dataloader mosaic\n",
            "\u001b[34m\u001b[1malbumentations: \u001b[0mBlur(p=0.01, blur_limit=(3, 7)), MedianBlur(p=0.01, blur_limit=(3, 7)), ToGray(p=0.01), CLAHE(p=0.01, clip_limit=(1, 4.0), tile_grid_size=(8, 8))\n"
          ]
        },
        {
          "output_type": "stream",
          "name": "stderr",
          "text": [
            "/usr/lib/python3.10/multiprocessing/popen_fork.py:66: RuntimeWarning: os.fork() was called. os.fork() is incompatible with multithreaded code, and JAX is multithreaded, so this will likely lead to a deadlock.\n",
            "  self.pid = os.fork()\n",
            "/usr/lib/python3.10/multiprocessing/popen_fork.py:66: RuntimeWarning: os.fork() was called. os.fork() is incompatible with multithreaded code, and JAX is multithreaded, so this will likely lead to a deadlock.\n",
            "  self.pid = os.fork()\n"
          ]
        },
        {
          "output_type": "stream",
          "name": "stdout",
          "text": [
            "\n",
            "      Epoch    GPU_mem   box_loss   cls_loss   dfl_loss  Instances       Size\n"
          ]
        },
        {
          "output_type": "stream",
          "name": "stderr",
          "text": [
            "     91/100      2.55G      1.007     0.5307      1.097        146        640: 100%|██████████| 11/11 [00:11<00:00,  1.04s/it]\n",
            "                 Class     Images  Instances      Box(P          R      mAP50  mAP50-95): 100%|██████████| 2/2 [00:00<00:00,  3.72it/s]"
          ]
        },
        {
          "output_type": "stream",
          "name": "stdout",
          "text": [
            "                   all         50        508      0.898      0.976       0.94      0.663\n"
          ]
        },
        {
          "output_type": "stream",
          "name": "stderr",
          "text": [
            "\n"
          ]
        },
        {
          "output_type": "stream",
          "name": "stdout",
          "text": [
            "\n",
            "      Epoch    GPU_mem   box_loss   cls_loss   dfl_loss  Instances       Size\n"
          ]
        },
        {
          "output_type": "stream",
          "name": "stderr",
          "text": [
            "     92/100      2.31G      1.005     0.5194      1.107        135        640: 100%|██████████| 11/11 [00:02<00:00,  4.22it/s]\n",
            "                 Class     Images  Instances      Box(P          R      mAP50  mAP50-95): 100%|██████████| 2/2 [00:00<00:00,  2.42it/s]"
          ]
        },
        {
          "output_type": "stream",
          "name": "stdout",
          "text": [
            "                   all         50        508      0.893      0.979      0.937      0.659\n"
          ]
        },
        {
          "output_type": "stream",
          "name": "stderr",
          "text": [
            "\n"
          ]
        },
        {
          "output_type": "stream",
          "name": "stdout",
          "text": [
            "\n",
            "      Epoch    GPU_mem   box_loss   cls_loss   dfl_loss  Instances       Size\n"
          ]
        },
        {
          "output_type": "stream",
          "name": "stderr",
          "text": [
            "     93/100      2.28G      1.005     0.5065      1.094        169        640: 100%|██████████| 11/11 [00:02<00:00,  4.32it/s]\n",
            "                 Class     Images  Instances      Box(P          R      mAP50  mAP50-95): 100%|██████████| 2/2 [00:01<00:00,  1.75it/s]"
          ]
        },
        {
          "output_type": "stream",
          "name": "stdout",
          "text": [
            "                   all         50        508      0.887      0.987      0.942      0.659\n"
          ]
        },
        {
          "output_type": "stream",
          "name": "stderr",
          "text": [
            "\n"
          ]
        },
        {
          "output_type": "stream",
          "name": "stdout",
          "text": [
            "\n",
            "      Epoch    GPU_mem   box_loss   cls_loss   dfl_loss  Instances       Size\n"
          ]
        },
        {
          "output_type": "stream",
          "name": "stderr",
          "text": [
            "     94/100      2.31G     0.9999     0.4962      1.092        137        640: 100%|██████████| 11/11 [00:04<00:00,  2.66it/s]\n",
            "                 Class     Images  Instances      Box(P          R      mAP50  mAP50-95): 100%|██████████| 2/2 [00:01<00:00,  1.24it/s]"
          ]
        },
        {
          "output_type": "stream",
          "name": "stdout",
          "text": [
            "                   all         50        508        0.9      0.973      0.948      0.662\n"
          ]
        },
        {
          "output_type": "stream",
          "name": "stderr",
          "text": [
            "\n"
          ]
        },
        {
          "output_type": "stream",
          "name": "stdout",
          "text": [
            "\n",
            "      Epoch    GPU_mem   box_loss   cls_loss   dfl_loss  Instances       Size\n"
          ]
        },
        {
          "output_type": "stream",
          "name": "stderr",
          "text": [
            "     95/100      2.28G      1.013     0.5079      1.104        132        640: 100%|██████████| 11/11 [00:03<00:00,  3.65it/s]\n",
            "                 Class     Images  Instances      Box(P          R      mAP50  mAP50-95): 100%|██████████| 2/2 [00:00<00:00,  2.60it/s]"
          ]
        },
        {
          "output_type": "stream",
          "name": "stdout",
          "text": [
            "                   all         50        508        0.9      0.979      0.948      0.664\n"
          ]
        },
        {
          "output_type": "stream",
          "name": "stderr",
          "text": [
            "\n"
          ]
        },
        {
          "output_type": "stream",
          "name": "stdout",
          "text": [
            "\n",
            "      Epoch    GPU_mem   box_loss   cls_loss   dfl_loss  Instances       Size\n"
          ]
        },
        {
          "output_type": "stream",
          "name": "stderr",
          "text": [
            "     96/100      2.31G      1.012     0.5056      1.096        149        640: 100%|██████████| 11/11 [00:02<00:00,  4.40it/s]\n",
            "                 Class     Images  Instances      Box(P          R      mAP50  mAP50-95): 100%|██████████| 2/2 [00:00<00:00,  2.07it/s]"
          ]
        },
        {
          "output_type": "stream",
          "name": "stdout",
          "text": [
            "                   all         50        508      0.897      0.983      0.947      0.668\n"
          ]
        },
        {
          "output_type": "stream",
          "name": "stderr",
          "text": [
            "\n"
          ]
        },
        {
          "output_type": "stream",
          "name": "stdout",
          "text": [
            "\n",
            "      Epoch    GPU_mem   box_loss   cls_loss   dfl_loss  Instances       Size\n"
          ]
        },
        {
          "output_type": "stream",
          "name": "stderr",
          "text": [
            "     97/100      2.31G     0.9914     0.4929      1.095        159        640: 100%|██████████| 11/11 [00:02<00:00,  4.43it/s]\n",
            "                 Class     Images  Instances      Box(P          R      mAP50  mAP50-95): 100%|██████████| 2/2 [00:00<00:00,  2.01it/s]"
          ]
        },
        {
          "output_type": "stream",
          "name": "stdout",
          "text": [
            "                   all         50        508      0.894      0.985      0.947      0.668\n"
          ]
        },
        {
          "output_type": "stream",
          "name": "stderr",
          "text": [
            "\n"
          ]
        },
        {
          "output_type": "stream",
          "name": "stdout",
          "text": [
            "\n",
            "      Epoch    GPU_mem   box_loss   cls_loss   dfl_loss  Instances       Size\n"
          ]
        },
        {
          "output_type": "stream",
          "name": "stderr",
          "text": [
            "     98/100      2.28G     0.9875     0.4906      1.082        146        640: 100%|██████████| 11/11 [00:03<00:00,  2.78it/s]\n",
            "                 Class     Images  Instances      Box(P          R      mAP50  mAP50-95): 100%|██████████| 2/2 [00:01<00:00,  1.23it/s]"
          ]
        },
        {
          "output_type": "stream",
          "name": "stdout",
          "text": [
            "                   all         50        508      0.891      0.989      0.947      0.667\n"
          ]
        },
        {
          "output_type": "stream",
          "name": "stderr",
          "text": [
            "\n"
          ]
        },
        {
          "output_type": "stream",
          "name": "stdout",
          "text": [
            "\n",
            "      Epoch    GPU_mem   box_loss   cls_loss   dfl_loss  Instances       Size\n"
          ]
        },
        {
          "output_type": "stream",
          "name": "stderr",
          "text": [
            "     99/100       2.3G     0.9812     0.4857      1.086        147        640: 100%|██████████| 11/11 [00:03<00:00,  3.52it/s]\n",
            "                 Class     Images  Instances      Box(P          R      mAP50  mAP50-95): 100%|██████████| 2/2 [00:00<00:00,  2.40it/s]"
          ]
        },
        {
          "output_type": "stream",
          "name": "stdout",
          "text": [
            "                   all         50        508      0.891      0.988      0.948      0.667\n"
          ]
        },
        {
          "output_type": "stream",
          "name": "stderr",
          "text": [
            "\n"
          ]
        },
        {
          "output_type": "stream",
          "name": "stdout",
          "text": [
            "\n",
            "      Epoch    GPU_mem   box_loss   cls_loss   dfl_loss  Instances       Size\n"
          ]
        },
        {
          "output_type": "stream",
          "name": "stderr",
          "text": [
            "    100/100      2.31G     0.9867     0.4971      1.088        138        640: 100%|██████████| 11/11 [00:02<00:00,  4.40it/s]\n",
            "                 Class     Images  Instances      Box(P          R      mAP50  mAP50-95): 100%|██████████| 2/2 [00:00<00:00,  2.41it/s]"
          ]
        },
        {
          "output_type": "stream",
          "name": "stdout",
          "text": [
            "                   all         50        508      0.892      0.988      0.947      0.665\n"
          ]
        },
        {
          "output_type": "stream",
          "name": "stderr",
          "text": [
            "\n"
          ]
        },
        {
          "output_type": "stream",
          "name": "stdout",
          "text": [
            "\n",
            "100 epochs completed in 0.158 hours.\n",
            "Optimizer stripped from runs/detect/train/weights/last.pt, 6.2MB\n",
            "Optimizer stripped from runs/detect/train/weights/best.pt, 6.2MB\n",
            "\n",
            "Validating runs/detect/train/weights/best.pt...\n",
            "Ultralytics YOLOv8.2.79 🚀 Python-3.10.12 torch-2.3.1+cu121 CUDA:0 (Tesla T4, 15102MiB)\n",
            "Model summary (fused): 168 layers, 3,006,038 parameters, 0 gradients, 8.1 GFLOPs\n"
          ]
        },
        {
          "output_type": "stream",
          "name": "stderr",
          "text": [
            "                 Class     Images  Instances      Box(P          R      mAP50  mAP50-95): 100%|██████████| 2/2 [00:00<00:00,  2.21it/s]\n"
          ]
        },
        {
          "output_type": "stream",
          "name": "stdout",
          "text": [
            "                   all         50        508      0.895      0.984      0.947      0.668\n",
            "           ball_purple         46        272      0.842      0.982      0.924      0.633\n",
            "              ball_red         49        236      0.949      0.987       0.97      0.703\n",
            "Speed: 0.2ms preprocess, 1.9ms inference, 0.0ms loss, 4.9ms postprocess per image\n",
            "Results saved to \u001b[1mruns/detect/train\u001b[0m\n"
          ]
        },
        {
          "output_type": "execute_result",
          "data": {
            "text/plain": [
              "ultralytics.utils.metrics.DetMetrics object with attributes:\n",
              "\n",
              "ap_class_index: array([0, 1])\n",
              "box: ultralytics.utils.metrics.Metric object\n",
              "confusion_matrix: <ultralytics.utils.metrics.ConfusionMatrix object at 0x7e901f031ab0>\n",
              "curves: ['Precision-Recall(B)', 'F1-Confidence(B)', 'Precision-Confidence(B)', 'Recall-Confidence(B)']\n",
              "curves_results: [[array([          0,    0.001001,    0.002002,    0.003003,    0.004004,    0.005005,    0.006006,    0.007007,    0.008008,    0.009009,     0.01001,    0.011011,    0.012012,    0.013013,    0.014014,    0.015015,    0.016016,    0.017017,    0.018018,    0.019019,     0.02002,    0.021021,    0.022022,    0.023023,\n",
              "          0.024024,    0.025025,    0.026026,    0.027027,    0.028028,    0.029029,     0.03003,    0.031031,    0.032032,    0.033033,    0.034034,    0.035035,    0.036036,    0.037037,    0.038038,    0.039039,     0.04004,    0.041041,    0.042042,    0.043043,    0.044044,    0.045045,    0.046046,    0.047047,\n",
              "          0.048048,    0.049049,     0.05005,    0.051051,    0.052052,    0.053053,    0.054054,    0.055055,    0.056056,    0.057057,    0.058058,    0.059059,     0.06006,    0.061061,    0.062062,    0.063063,    0.064064,    0.065065,    0.066066,    0.067067,    0.068068,    0.069069,     0.07007,    0.071071,\n",
              "          0.072072,    0.073073,    0.074074,    0.075075,    0.076076,    0.077077,    0.078078,    0.079079,     0.08008,    0.081081,    0.082082,    0.083083,    0.084084,    0.085085,    0.086086,    0.087087,    0.088088,    0.089089,     0.09009,    0.091091,    0.092092,    0.093093,    0.094094,    0.095095,\n",
              "          0.096096,    0.097097,    0.098098,    0.099099,      0.1001,      0.1011,      0.1021,      0.1031,      0.1041,     0.10511,     0.10611,     0.10711,     0.10811,     0.10911,     0.11011,     0.11111,     0.11211,     0.11311,     0.11411,     0.11512,     0.11612,     0.11712,     0.11812,     0.11912,\n",
              "           0.12012,     0.12112,     0.12212,     0.12312,     0.12412,     0.12513,     0.12613,     0.12713,     0.12813,     0.12913,     0.13013,     0.13113,     0.13213,     0.13313,     0.13413,     0.13514,     0.13614,     0.13714,     0.13814,     0.13914,     0.14014,     0.14114,     0.14214,     0.14314,\n",
              "           0.14414,     0.14515,     0.14615,     0.14715,     0.14815,     0.14915,     0.15015,     0.15115,     0.15215,     0.15315,     0.15415,     0.15516,     0.15616,     0.15716,     0.15816,     0.15916,     0.16016,     0.16116,     0.16216,     0.16316,     0.16416,     0.16517,     0.16617,     0.16717,\n",
              "           0.16817,     0.16917,     0.17017,     0.17117,     0.17217,     0.17317,     0.17417,     0.17518,     0.17618,     0.17718,     0.17818,     0.17918,     0.18018,     0.18118,     0.18218,     0.18318,     0.18418,     0.18519,     0.18619,     0.18719,     0.18819,     0.18919,     0.19019,     0.19119,\n",
              "           0.19219,     0.19319,     0.19419,      0.1952,      0.1962,      0.1972,      0.1982,      0.1992,      0.2002,      0.2012,      0.2022,      0.2032,      0.2042,     0.20521,     0.20621,     0.20721,     0.20821,     0.20921,     0.21021,     0.21121,     0.21221,     0.21321,     0.21421,     0.21522,\n",
              "           0.21622,     0.21722,     0.21822,     0.21922,     0.22022,     0.22122,     0.22222,     0.22322,     0.22422,     0.22523,     0.22623,     0.22723,     0.22823,     0.22923,     0.23023,     0.23123,     0.23223,     0.23323,     0.23423,     0.23524,     0.23624,     0.23724,     0.23824,     0.23924,\n",
              "           0.24024,     0.24124,     0.24224,     0.24324,     0.24424,     0.24525,     0.24625,     0.24725,     0.24825,     0.24925,     0.25025,     0.25125,     0.25225,     0.25325,     0.25425,     0.25526,     0.25626,     0.25726,     0.25826,     0.25926,     0.26026,     0.26126,     0.26226,     0.26326,\n",
              "           0.26426,     0.26527,     0.26627,     0.26727,     0.26827,     0.26927,     0.27027,     0.27127,     0.27227,     0.27327,     0.27427,     0.27528,     0.27628,     0.27728,     0.27828,     0.27928,     0.28028,     0.28128,     0.28228,     0.28328,     0.28428,     0.28529,     0.28629,     0.28729,\n",
              "           0.28829,     0.28929,     0.29029,     0.29129,     0.29229,     0.29329,     0.29429,      0.2953,      0.2963,      0.2973,      0.2983,      0.2993,      0.3003,      0.3013,      0.3023,      0.3033,      0.3043,     0.30531,     0.30631,     0.30731,     0.30831,     0.30931,     0.31031,     0.31131,\n",
              "           0.31231,     0.31331,     0.31431,     0.31532,     0.31632,     0.31732,     0.31832,     0.31932,     0.32032,     0.32132,     0.32232,     0.32332,     0.32432,     0.32533,     0.32633,     0.32733,     0.32833,     0.32933,     0.33033,     0.33133,     0.33233,     0.33333,     0.33433,     0.33534,\n",
              "           0.33634,     0.33734,     0.33834,     0.33934,     0.34034,     0.34134,     0.34234,     0.34334,     0.34434,     0.34535,     0.34635,     0.34735,     0.34835,     0.34935,     0.35035,     0.35135,     0.35235,     0.35335,     0.35435,     0.35536,     0.35636,     0.35736,     0.35836,     0.35936,\n",
              "           0.36036,     0.36136,     0.36236,     0.36336,     0.36436,     0.36537,     0.36637,     0.36737,     0.36837,     0.36937,     0.37037,     0.37137,     0.37237,     0.37337,     0.37437,     0.37538,     0.37638,     0.37738,     0.37838,     0.37938,     0.38038,     0.38138,     0.38238,     0.38338,\n",
              "           0.38438,     0.38539,     0.38639,     0.38739,     0.38839,     0.38939,     0.39039,     0.39139,     0.39239,     0.39339,     0.39439,      0.3954,      0.3964,      0.3974,      0.3984,      0.3994,      0.4004,      0.4014,      0.4024,      0.4034,      0.4044,     0.40541,     0.40641,     0.40741,\n",
              "           0.40841,     0.40941,     0.41041,     0.41141,     0.41241,     0.41341,     0.41441,     0.41542,     0.41642,     0.41742,     0.41842,     0.41942,     0.42042,     0.42142,     0.42242,     0.42342,     0.42442,     0.42543,     0.42643,     0.42743,     0.42843,     0.42943,     0.43043,     0.43143,\n",
              "           0.43243,     0.43343,     0.43443,     0.43544,     0.43644,     0.43744,     0.43844,     0.43944,     0.44044,     0.44144,     0.44244,     0.44344,     0.44444,     0.44545,     0.44645,     0.44745,     0.44845,     0.44945,     0.45045,     0.45145,     0.45245,     0.45345,     0.45445,     0.45546,\n",
              "           0.45646,     0.45746,     0.45846,     0.45946,     0.46046,     0.46146,     0.46246,     0.46346,     0.46446,     0.46547,     0.46647,     0.46747,     0.46847,     0.46947,     0.47047,     0.47147,     0.47247,     0.47347,     0.47447,     0.47548,     0.47648,     0.47748,     0.47848,     0.47948,\n",
              "           0.48048,     0.48148,     0.48248,     0.48348,     0.48448,     0.48549,     0.48649,     0.48749,     0.48849,     0.48949,     0.49049,     0.49149,     0.49249,     0.49349,     0.49449,      0.4955,      0.4965,      0.4975,      0.4985,      0.4995,      0.5005,      0.5015,      0.5025,      0.5035,\n",
              "            0.5045,     0.50551,     0.50651,     0.50751,     0.50851,     0.50951,     0.51051,     0.51151,     0.51251,     0.51351,     0.51451,     0.51552,     0.51652,     0.51752,     0.51852,     0.51952,     0.52052,     0.52152,     0.52252,     0.52352,     0.52452,     0.52553,     0.52653,     0.52753,\n",
              "           0.52853,     0.52953,     0.53053,     0.53153,     0.53253,     0.53353,     0.53453,     0.53554,     0.53654,     0.53754,     0.53854,     0.53954,     0.54054,     0.54154,     0.54254,     0.54354,     0.54454,     0.54555,     0.54655,     0.54755,     0.54855,     0.54955,     0.55055,     0.55155,\n",
              "           0.55255,     0.55355,     0.55455,     0.55556,     0.55656,     0.55756,     0.55856,     0.55956,     0.56056,     0.56156,     0.56256,     0.56356,     0.56456,     0.56557,     0.56657,     0.56757,     0.56857,     0.56957,     0.57057,     0.57157,     0.57257,     0.57357,     0.57457,     0.57558,\n",
              "           0.57658,     0.57758,     0.57858,     0.57958,     0.58058,     0.58158,     0.58258,     0.58358,     0.58458,     0.58559,     0.58659,     0.58759,     0.58859,     0.58959,     0.59059,     0.59159,     0.59259,     0.59359,     0.59459,      0.5956,      0.5966,      0.5976,      0.5986,      0.5996,\n",
              "            0.6006,      0.6016,      0.6026,      0.6036,      0.6046,     0.60561,     0.60661,     0.60761,     0.60861,     0.60961,     0.61061,     0.61161,     0.61261,     0.61361,     0.61461,     0.61562,     0.61662,     0.61762,     0.61862,     0.61962,     0.62062,     0.62162,     0.62262,     0.62362,\n",
              "           0.62462,     0.62563,     0.62663,     0.62763,     0.62863,     0.62963,     0.63063,     0.63163,     0.63263,     0.63363,     0.63463,     0.63564,     0.63664,     0.63764,     0.63864,     0.63964,     0.64064,     0.64164,     0.64264,     0.64364,     0.64464,     0.64565,     0.64665,     0.64765,\n",
              "           0.64865,     0.64965,     0.65065,     0.65165,     0.65265,     0.65365,     0.65465,     0.65566,     0.65666,     0.65766,     0.65866,     0.65966,     0.66066,     0.66166,     0.66266,     0.66366,     0.66466,     0.66567,     0.66667,     0.66767,     0.66867,     0.66967,     0.67067,     0.67167,\n",
              "           0.67267,     0.67367,     0.67467,     0.67568,     0.67668,     0.67768,     0.67868,     0.67968,     0.68068,     0.68168,     0.68268,     0.68368,     0.68468,     0.68569,     0.68669,     0.68769,     0.68869,     0.68969,     0.69069,     0.69169,     0.69269,     0.69369,     0.69469,      0.6957,\n",
              "            0.6967,      0.6977,      0.6987,      0.6997,      0.7007,      0.7017,      0.7027,      0.7037,      0.7047,     0.70571,     0.70671,     0.70771,     0.70871,     0.70971,     0.71071,     0.71171,     0.71271,     0.71371,     0.71471,     0.71572,     0.71672,     0.71772,     0.71872,     0.71972,\n",
              "           0.72072,     0.72172,     0.72272,     0.72372,     0.72472,     0.72573,     0.72673,     0.72773,     0.72873,     0.72973,     0.73073,     0.73173,     0.73273,     0.73373,     0.73473,     0.73574,     0.73674,     0.73774,     0.73874,     0.73974,     0.74074,     0.74174,     0.74274,     0.74374,\n",
              "           0.74474,     0.74575,     0.74675,     0.74775,     0.74875,     0.74975,     0.75075,     0.75175,     0.75275,     0.75375,     0.75475,     0.75576,     0.75676,     0.75776,     0.75876,     0.75976,     0.76076,     0.76176,     0.76276,     0.76376,     0.76476,     0.76577,     0.76677,     0.76777,\n",
              "           0.76877,     0.76977,     0.77077,     0.77177,     0.77277,     0.77377,     0.77477,     0.77578,     0.77678,     0.77778,     0.77878,     0.77978,     0.78078,     0.78178,     0.78278,     0.78378,     0.78478,     0.78579,     0.78679,     0.78779,     0.78879,     0.78979,     0.79079,     0.79179,\n",
              "           0.79279,     0.79379,     0.79479,      0.7958,      0.7968,      0.7978,      0.7988,      0.7998,      0.8008,      0.8018,      0.8028,      0.8038,      0.8048,     0.80581,     0.80681,     0.80781,     0.80881,     0.80981,     0.81081,     0.81181,     0.81281,     0.81381,     0.81481,     0.81582,\n",
              "           0.81682,     0.81782,     0.81882,     0.81982,     0.82082,     0.82182,     0.82282,     0.82382,     0.82482,     0.82583,     0.82683,     0.82783,     0.82883,     0.82983,     0.83083,     0.83183,     0.83283,     0.83383,     0.83483,     0.83584,     0.83684,     0.83784,     0.83884,     0.83984,\n",
              "           0.84084,     0.84184,     0.84284,     0.84384,     0.84484,     0.84585,     0.84685,     0.84785,     0.84885,     0.84985,     0.85085,     0.85185,     0.85285,     0.85385,     0.85485,     0.85586,     0.85686,     0.85786,     0.85886,     0.85986,     0.86086,     0.86186,     0.86286,     0.86386,\n",
              "           0.86486,     0.86587,     0.86687,     0.86787,     0.86887,     0.86987,     0.87087,     0.87187,     0.87287,     0.87387,     0.87487,     0.87588,     0.87688,     0.87788,     0.87888,     0.87988,     0.88088,     0.88188,     0.88288,     0.88388,     0.88488,     0.88589,     0.88689,     0.88789,\n",
              "           0.88889,     0.88989,     0.89089,     0.89189,     0.89289,     0.89389,     0.89489,      0.8959,      0.8969,      0.8979,      0.8989,      0.8999,      0.9009,      0.9019,      0.9029,      0.9039,      0.9049,     0.90591,     0.90691,     0.90791,     0.90891,     0.90991,     0.91091,     0.91191,\n",
              "           0.91291,     0.91391,     0.91491,     0.91592,     0.91692,     0.91792,     0.91892,     0.91992,     0.92092,     0.92192,     0.92292,     0.92392,     0.92492,     0.92593,     0.92693,     0.92793,     0.92893,     0.92993,     0.93093,     0.93193,     0.93293,     0.93393,     0.93493,     0.93594,\n",
              "           0.93694,     0.93794,     0.93894,     0.93994,     0.94094,     0.94194,     0.94294,     0.94394,     0.94494,     0.94595,     0.94695,     0.94795,     0.94895,     0.94995,     0.95095,     0.95195,     0.95295,     0.95395,     0.95495,     0.95596,     0.95696,     0.95796,     0.95896,     0.95996,\n",
              "           0.96096,     0.96196,     0.96296,     0.96396,     0.96496,     0.96597,     0.96697,     0.96797,     0.96897,     0.96997,     0.97097,     0.97197,     0.97297,     0.97397,     0.97497,     0.97598,     0.97698,     0.97798,     0.97898,     0.97998,     0.98098,     0.98198,     0.98298,     0.98398,\n",
              "           0.98498,     0.98599,     0.98699,     0.98799,     0.98899,     0.98999,     0.99099,     0.99199,     0.99299,     0.99399,     0.99499,       0.996,       0.997,       0.998,       0.999,           1]), array([[          1,           1,           1, ...,     0.78841,     0.78841,           0],\n",
              "       [          1,           1,           1, ...,     0.90421,     0.90421,           0]]), 'Recall', 'Precision'], [array([          0,    0.001001,    0.002002,    0.003003,    0.004004,    0.005005,    0.006006,    0.007007,    0.008008,    0.009009,     0.01001,    0.011011,    0.012012,    0.013013,    0.014014,    0.015015,    0.016016,    0.017017,    0.018018,    0.019019,     0.02002,    0.021021,    0.022022,    0.023023,\n",
              "          0.024024,    0.025025,    0.026026,    0.027027,    0.028028,    0.029029,     0.03003,    0.031031,    0.032032,    0.033033,    0.034034,    0.035035,    0.036036,    0.037037,    0.038038,    0.039039,     0.04004,    0.041041,    0.042042,    0.043043,    0.044044,    0.045045,    0.046046,    0.047047,\n",
              "          0.048048,    0.049049,     0.05005,    0.051051,    0.052052,    0.053053,    0.054054,    0.055055,    0.056056,    0.057057,    0.058058,    0.059059,     0.06006,    0.061061,    0.062062,    0.063063,    0.064064,    0.065065,    0.066066,    0.067067,    0.068068,    0.069069,     0.07007,    0.071071,\n",
              "          0.072072,    0.073073,    0.074074,    0.075075,    0.076076,    0.077077,    0.078078,    0.079079,     0.08008,    0.081081,    0.082082,    0.083083,    0.084084,    0.085085,    0.086086,    0.087087,    0.088088,    0.089089,     0.09009,    0.091091,    0.092092,    0.093093,    0.094094,    0.095095,\n",
              "          0.096096,    0.097097,    0.098098,    0.099099,      0.1001,      0.1011,      0.1021,      0.1031,      0.1041,     0.10511,     0.10611,     0.10711,     0.10811,     0.10911,     0.11011,     0.11111,     0.11211,     0.11311,     0.11411,     0.11512,     0.11612,     0.11712,     0.11812,     0.11912,\n",
              "           0.12012,     0.12112,     0.12212,     0.12312,     0.12412,     0.12513,     0.12613,     0.12713,     0.12813,     0.12913,     0.13013,     0.13113,     0.13213,     0.13313,     0.13413,     0.13514,     0.13614,     0.13714,     0.13814,     0.13914,     0.14014,     0.14114,     0.14214,     0.14314,\n",
              "           0.14414,     0.14515,     0.14615,     0.14715,     0.14815,     0.14915,     0.15015,     0.15115,     0.15215,     0.15315,     0.15415,     0.15516,     0.15616,     0.15716,     0.15816,     0.15916,     0.16016,     0.16116,     0.16216,     0.16316,     0.16416,     0.16517,     0.16617,     0.16717,\n",
              "           0.16817,     0.16917,     0.17017,     0.17117,     0.17217,     0.17317,     0.17417,     0.17518,     0.17618,     0.17718,     0.17818,     0.17918,     0.18018,     0.18118,     0.18218,     0.18318,     0.18418,     0.18519,     0.18619,     0.18719,     0.18819,     0.18919,     0.19019,     0.19119,\n",
              "           0.19219,     0.19319,     0.19419,      0.1952,      0.1962,      0.1972,      0.1982,      0.1992,      0.2002,      0.2012,      0.2022,      0.2032,      0.2042,     0.20521,     0.20621,     0.20721,     0.20821,     0.20921,     0.21021,     0.21121,     0.21221,     0.21321,     0.21421,     0.21522,\n",
              "           0.21622,     0.21722,     0.21822,     0.21922,     0.22022,     0.22122,     0.22222,     0.22322,     0.22422,     0.22523,     0.22623,     0.22723,     0.22823,     0.22923,     0.23023,     0.23123,     0.23223,     0.23323,     0.23423,     0.23524,     0.23624,     0.23724,     0.23824,     0.23924,\n",
              "           0.24024,     0.24124,     0.24224,     0.24324,     0.24424,     0.24525,     0.24625,     0.24725,     0.24825,     0.24925,     0.25025,     0.25125,     0.25225,     0.25325,     0.25425,     0.25526,     0.25626,     0.25726,     0.25826,     0.25926,     0.26026,     0.26126,     0.26226,     0.26326,\n",
              "           0.26426,     0.26527,     0.26627,     0.26727,     0.26827,     0.26927,     0.27027,     0.27127,     0.27227,     0.27327,     0.27427,     0.27528,     0.27628,     0.27728,     0.27828,     0.27928,     0.28028,     0.28128,     0.28228,     0.28328,     0.28428,     0.28529,     0.28629,     0.28729,\n",
              "           0.28829,     0.28929,     0.29029,     0.29129,     0.29229,     0.29329,     0.29429,      0.2953,      0.2963,      0.2973,      0.2983,      0.2993,      0.3003,      0.3013,      0.3023,      0.3033,      0.3043,     0.30531,     0.30631,     0.30731,     0.30831,     0.30931,     0.31031,     0.31131,\n",
              "           0.31231,     0.31331,     0.31431,     0.31532,     0.31632,     0.31732,     0.31832,     0.31932,     0.32032,     0.32132,     0.32232,     0.32332,     0.32432,     0.32533,     0.32633,     0.32733,     0.32833,     0.32933,     0.33033,     0.33133,     0.33233,     0.33333,     0.33433,     0.33534,\n",
              "           0.33634,     0.33734,     0.33834,     0.33934,     0.34034,     0.34134,     0.34234,     0.34334,     0.34434,     0.34535,     0.34635,     0.34735,     0.34835,     0.34935,     0.35035,     0.35135,     0.35235,     0.35335,     0.35435,     0.35536,     0.35636,     0.35736,     0.35836,     0.35936,\n",
              "           0.36036,     0.36136,     0.36236,     0.36336,     0.36436,     0.36537,     0.36637,     0.36737,     0.36837,     0.36937,     0.37037,     0.37137,     0.37237,     0.37337,     0.37437,     0.37538,     0.37638,     0.37738,     0.37838,     0.37938,     0.38038,     0.38138,     0.38238,     0.38338,\n",
              "           0.38438,     0.38539,     0.38639,     0.38739,     0.38839,     0.38939,     0.39039,     0.39139,     0.39239,     0.39339,     0.39439,      0.3954,      0.3964,      0.3974,      0.3984,      0.3994,      0.4004,      0.4014,      0.4024,      0.4034,      0.4044,     0.40541,     0.40641,     0.40741,\n",
              "           0.40841,     0.40941,     0.41041,     0.41141,     0.41241,     0.41341,     0.41441,     0.41542,     0.41642,     0.41742,     0.41842,     0.41942,     0.42042,     0.42142,     0.42242,     0.42342,     0.42442,     0.42543,     0.42643,     0.42743,     0.42843,     0.42943,     0.43043,     0.43143,\n",
              "           0.43243,     0.43343,     0.43443,     0.43544,     0.43644,     0.43744,     0.43844,     0.43944,     0.44044,     0.44144,     0.44244,     0.44344,     0.44444,     0.44545,     0.44645,     0.44745,     0.44845,     0.44945,     0.45045,     0.45145,     0.45245,     0.45345,     0.45445,     0.45546,\n",
              "           0.45646,     0.45746,     0.45846,     0.45946,     0.46046,     0.46146,     0.46246,     0.46346,     0.46446,     0.46547,     0.46647,     0.46747,     0.46847,     0.46947,     0.47047,     0.47147,     0.47247,     0.47347,     0.47447,     0.47548,     0.47648,     0.47748,     0.47848,     0.47948,\n",
              "           0.48048,     0.48148,     0.48248,     0.48348,     0.48448,     0.48549,     0.48649,     0.48749,     0.48849,     0.48949,     0.49049,     0.49149,     0.49249,     0.49349,     0.49449,      0.4955,      0.4965,      0.4975,      0.4985,      0.4995,      0.5005,      0.5015,      0.5025,      0.5035,\n",
              "            0.5045,     0.50551,     0.50651,     0.50751,     0.50851,     0.50951,     0.51051,     0.51151,     0.51251,     0.51351,     0.51451,     0.51552,     0.51652,     0.51752,     0.51852,     0.51952,     0.52052,     0.52152,     0.52252,     0.52352,     0.52452,     0.52553,     0.52653,     0.52753,\n",
              "           0.52853,     0.52953,     0.53053,     0.53153,     0.53253,     0.53353,     0.53453,     0.53554,     0.53654,     0.53754,     0.53854,     0.53954,     0.54054,     0.54154,     0.54254,     0.54354,     0.54454,     0.54555,     0.54655,     0.54755,     0.54855,     0.54955,     0.55055,     0.55155,\n",
              "           0.55255,     0.55355,     0.55455,     0.55556,     0.55656,     0.55756,     0.55856,     0.55956,     0.56056,     0.56156,     0.56256,     0.56356,     0.56456,     0.56557,     0.56657,     0.56757,     0.56857,     0.56957,     0.57057,     0.57157,     0.57257,     0.57357,     0.57457,     0.57558,\n",
              "           0.57658,     0.57758,     0.57858,     0.57958,     0.58058,     0.58158,     0.58258,     0.58358,     0.58458,     0.58559,     0.58659,     0.58759,     0.58859,     0.58959,     0.59059,     0.59159,     0.59259,     0.59359,     0.59459,      0.5956,      0.5966,      0.5976,      0.5986,      0.5996,\n",
              "            0.6006,      0.6016,      0.6026,      0.6036,      0.6046,     0.60561,     0.60661,     0.60761,     0.60861,     0.60961,     0.61061,     0.61161,     0.61261,     0.61361,     0.61461,     0.61562,     0.61662,     0.61762,     0.61862,     0.61962,     0.62062,     0.62162,     0.62262,     0.62362,\n",
              "           0.62462,     0.62563,     0.62663,     0.62763,     0.62863,     0.62963,     0.63063,     0.63163,     0.63263,     0.63363,     0.63463,     0.63564,     0.63664,     0.63764,     0.63864,     0.63964,     0.64064,     0.64164,     0.64264,     0.64364,     0.64464,     0.64565,     0.64665,     0.64765,\n",
              "           0.64865,     0.64965,     0.65065,     0.65165,     0.65265,     0.65365,     0.65465,     0.65566,     0.65666,     0.65766,     0.65866,     0.65966,     0.66066,     0.66166,     0.66266,     0.66366,     0.66466,     0.66567,     0.66667,     0.66767,     0.66867,     0.66967,     0.67067,     0.67167,\n",
              "           0.67267,     0.67367,     0.67467,     0.67568,     0.67668,     0.67768,     0.67868,     0.67968,     0.68068,     0.68168,     0.68268,     0.68368,     0.68468,     0.68569,     0.68669,     0.68769,     0.68869,     0.68969,     0.69069,     0.69169,     0.69269,     0.69369,     0.69469,      0.6957,\n",
              "            0.6967,      0.6977,      0.6987,      0.6997,      0.7007,      0.7017,      0.7027,      0.7037,      0.7047,     0.70571,     0.70671,     0.70771,     0.70871,     0.70971,     0.71071,     0.71171,     0.71271,     0.71371,     0.71471,     0.71572,     0.71672,     0.71772,     0.71872,     0.71972,\n",
              "           0.72072,     0.72172,     0.72272,     0.72372,     0.72472,     0.72573,     0.72673,     0.72773,     0.72873,     0.72973,     0.73073,     0.73173,     0.73273,     0.73373,     0.73473,     0.73574,     0.73674,     0.73774,     0.73874,     0.73974,     0.74074,     0.74174,     0.74274,     0.74374,\n",
              "           0.74474,     0.74575,     0.74675,     0.74775,     0.74875,     0.74975,     0.75075,     0.75175,     0.75275,     0.75375,     0.75475,     0.75576,     0.75676,     0.75776,     0.75876,     0.75976,     0.76076,     0.76176,     0.76276,     0.76376,     0.76476,     0.76577,     0.76677,     0.76777,\n",
              "           0.76877,     0.76977,     0.77077,     0.77177,     0.77277,     0.77377,     0.77477,     0.77578,     0.77678,     0.77778,     0.77878,     0.77978,     0.78078,     0.78178,     0.78278,     0.78378,     0.78478,     0.78579,     0.78679,     0.78779,     0.78879,     0.78979,     0.79079,     0.79179,\n",
              "           0.79279,     0.79379,     0.79479,      0.7958,      0.7968,      0.7978,      0.7988,      0.7998,      0.8008,      0.8018,      0.8028,      0.8038,      0.8048,     0.80581,     0.80681,     0.80781,     0.80881,     0.80981,     0.81081,     0.81181,     0.81281,     0.81381,     0.81481,     0.81582,\n",
              "           0.81682,     0.81782,     0.81882,     0.81982,     0.82082,     0.82182,     0.82282,     0.82382,     0.82482,     0.82583,     0.82683,     0.82783,     0.82883,     0.82983,     0.83083,     0.83183,     0.83283,     0.83383,     0.83483,     0.83584,     0.83684,     0.83784,     0.83884,     0.83984,\n",
              "           0.84084,     0.84184,     0.84284,     0.84384,     0.84484,     0.84585,     0.84685,     0.84785,     0.84885,     0.84985,     0.85085,     0.85185,     0.85285,     0.85385,     0.85485,     0.85586,     0.85686,     0.85786,     0.85886,     0.85986,     0.86086,     0.86186,     0.86286,     0.86386,\n",
              "           0.86486,     0.86587,     0.86687,     0.86787,     0.86887,     0.86987,     0.87087,     0.87187,     0.87287,     0.87387,     0.87487,     0.87588,     0.87688,     0.87788,     0.87888,     0.87988,     0.88088,     0.88188,     0.88288,     0.88388,     0.88488,     0.88589,     0.88689,     0.88789,\n",
              "           0.88889,     0.88989,     0.89089,     0.89189,     0.89289,     0.89389,     0.89489,      0.8959,      0.8969,      0.8979,      0.8989,      0.8999,      0.9009,      0.9019,      0.9029,      0.9039,      0.9049,     0.90591,     0.90691,     0.90791,     0.90891,     0.90991,     0.91091,     0.91191,\n",
              "           0.91291,     0.91391,     0.91491,     0.91592,     0.91692,     0.91792,     0.91892,     0.91992,     0.92092,     0.92192,     0.92292,     0.92392,     0.92492,     0.92593,     0.92693,     0.92793,     0.92893,     0.92993,     0.93093,     0.93193,     0.93293,     0.93393,     0.93493,     0.93594,\n",
              "           0.93694,     0.93794,     0.93894,     0.93994,     0.94094,     0.94194,     0.94294,     0.94394,     0.94494,     0.94595,     0.94695,     0.94795,     0.94895,     0.94995,     0.95095,     0.95195,     0.95295,     0.95395,     0.95495,     0.95596,     0.95696,     0.95796,     0.95896,     0.95996,\n",
              "           0.96096,     0.96196,     0.96296,     0.96396,     0.96496,     0.96597,     0.96697,     0.96797,     0.96897,     0.96997,     0.97097,     0.97197,     0.97297,     0.97397,     0.97497,     0.97598,     0.97698,     0.97798,     0.97898,     0.97998,     0.98098,     0.98198,     0.98298,     0.98398,\n",
              "           0.98498,     0.98599,     0.98699,     0.98799,     0.98899,     0.98999,     0.99099,     0.99199,     0.99299,     0.99399,     0.99499,       0.996,       0.997,       0.998,       0.999,           1]), array([[    0.16445,     0.16445,     0.45826, ...,           0,           0,           0],\n",
              "       [    0.15892,     0.15892,     0.44357, ...,           0,           0,           0]]), 'Confidence', 'F1'], [array([          0,    0.001001,    0.002002,    0.003003,    0.004004,    0.005005,    0.006006,    0.007007,    0.008008,    0.009009,     0.01001,    0.011011,    0.012012,    0.013013,    0.014014,    0.015015,    0.016016,    0.017017,    0.018018,    0.019019,     0.02002,    0.021021,    0.022022,    0.023023,\n",
              "          0.024024,    0.025025,    0.026026,    0.027027,    0.028028,    0.029029,     0.03003,    0.031031,    0.032032,    0.033033,    0.034034,    0.035035,    0.036036,    0.037037,    0.038038,    0.039039,     0.04004,    0.041041,    0.042042,    0.043043,    0.044044,    0.045045,    0.046046,    0.047047,\n",
              "          0.048048,    0.049049,     0.05005,    0.051051,    0.052052,    0.053053,    0.054054,    0.055055,    0.056056,    0.057057,    0.058058,    0.059059,     0.06006,    0.061061,    0.062062,    0.063063,    0.064064,    0.065065,    0.066066,    0.067067,    0.068068,    0.069069,     0.07007,    0.071071,\n",
              "          0.072072,    0.073073,    0.074074,    0.075075,    0.076076,    0.077077,    0.078078,    0.079079,     0.08008,    0.081081,    0.082082,    0.083083,    0.084084,    0.085085,    0.086086,    0.087087,    0.088088,    0.089089,     0.09009,    0.091091,    0.092092,    0.093093,    0.094094,    0.095095,\n",
              "          0.096096,    0.097097,    0.098098,    0.099099,      0.1001,      0.1011,      0.1021,      0.1031,      0.1041,     0.10511,     0.10611,     0.10711,     0.10811,     0.10911,     0.11011,     0.11111,     0.11211,     0.11311,     0.11411,     0.11512,     0.11612,     0.11712,     0.11812,     0.11912,\n",
              "           0.12012,     0.12112,     0.12212,     0.12312,     0.12412,     0.12513,     0.12613,     0.12713,     0.12813,     0.12913,     0.13013,     0.13113,     0.13213,     0.13313,     0.13413,     0.13514,     0.13614,     0.13714,     0.13814,     0.13914,     0.14014,     0.14114,     0.14214,     0.14314,\n",
              "           0.14414,     0.14515,     0.14615,     0.14715,     0.14815,     0.14915,     0.15015,     0.15115,     0.15215,     0.15315,     0.15415,     0.15516,     0.15616,     0.15716,     0.15816,     0.15916,     0.16016,     0.16116,     0.16216,     0.16316,     0.16416,     0.16517,     0.16617,     0.16717,\n",
              "           0.16817,     0.16917,     0.17017,     0.17117,     0.17217,     0.17317,     0.17417,     0.17518,     0.17618,     0.17718,     0.17818,     0.17918,     0.18018,     0.18118,     0.18218,     0.18318,     0.18418,     0.18519,     0.18619,     0.18719,     0.18819,     0.18919,     0.19019,     0.19119,\n",
              "           0.19219,     0.19319,     0.19419,      0.1952,      0.1962,      0.1972,      0.1982,      0.1992,      0.2002,      0.2012,      0.2022,      0.2032,      0.2042,     0.20521,     0.20621,     0.20721,     0.20821,     0.20921,     0.21021,     0.21121,     0.21221,     0.21321,     0.21421,     0.21522,\n",
              "           0.21622,     0.21722,     0.21822,     0.21922,     0.22022,     0.22122,     0.22222,     0.22322,     0.22422,     0.22523,     0.22623,     0.22723,     0.22823,     0.22923,     0.23023,     0.23123,     0.23223,     0.23323,     0.23423,     0.23524,     0.23624,     0.23724,     0.23824,     0.23924,\n",
              "           0.24024,     0.24124,     0.24224,     0.24324,     0.24424,     0.24525,     0.24625,     0.24725,     0.24825,     0.24925,     0.25025,     0.25125,     0.25225,     0.25325,     0.25425,     0.25526,     0.25626,     0.25726,     0.25826,     0.25926,     0.26026,     0.26126,     0.26226,     0.26326,\n",
              "           0.26426,     0.26527,     0.26627,     0.26727,     0.26827,     0.26927,     0.27027,     0.27127,     0.27227,     0.27327,     0.27427,     0.27528,     0.27628,     0.27728,     0.27828,     0.27928,     0.28028,     0.28128,     0.28228,     0.28328,     0.28428,     0.28529,     0.28629,     0.28729,\n",
              "           0.28829,     0.28929,     0.29029,     0.29129,     0.29229,     0.29329,     0.29429,      0.2953,      0.2963,      0.2973,      0.2983,      0.2993,      0.3003,      0.3013,      0.3023,      0.3033,      0.3043,     0.30531,     0.30631,     0.30731,     0.30831,     0.30931,     0.31031,     0.31131,\n",
              "           0.31231,     0.31331,     0.31431,     0.31532,     0.31632,     0.31732,     0.31832,     0.31932,     0.32032,     0.32132,     0.32232,     0.32332,     0.32432,     0.32533,     0.32633,     0.32733,     0.32833,     0.32933,     0.33033,     0.33133,     0.33233,     0.33333,     0.33433,     0.33534,\n",
              "           0.33634,     0.33734,     0.33834,     0.33934,     0.34034,     0.34134,     0.34234,     0.34334,     0.34434,     0.34535,     0.34635,     0.34735,     0.34835,     0.34935,     0.35035,     0.35135,     0.35235,     0.35335,     0.35435,     0.35536,     0.35636,     0.35736,     0.35836,     0.35936,\n",
              "           0.36036,     0.36136,     0.36236,     0.36336,     0.36436,     0.36537,     0.36637,     0.36737,     0.36837,     0.36937,     0.37037,     0.37137,     0.37237,     0.37337,     0.37437,     0.37538,     0.37638,     0.37738,     0.37838,     0.37938,     0.38038,     0.38138,     0.38238,     0.38338,\n",
              "           0.38438,     0.38539,     0.38639,     0.38739,     0.38839,     0.38939,     0.39039,     0.39139,     0.39239,     0.39339,     0.39439,      0.3954,      0.3964,      0.3974,      0.3984,      0.3994,      0.4004,      0.4014,      0.4024,      0.4034,      0.4044,     0.40541,     0.40641,     0.40741,\n",
              "           0.40841,     0.40941,     0.41041,     0.41141,     0.41241,     0.41341,     0.41441,     0.41542,     0.41642,     0.41742,     0.41842,     0.41942,     0.42042,     0.42142,     0.42242,     0.42342,     0.42442,     0.42543,     0.42643,     0.42743,     0.42843,     0.42943,     0.43043,     0.43143,\n",
              "           0.43243,     0.43343,     0.43443,     0.43544,     0.43644,     0.43744,     0.43844,     0.43944,     0.44044,     0.44144,     0.44244,     0.44344,     0.44444,     0.44545,     0.44645,     0.44745,     0.44845,     0.44945,     0.45045,     0.45145,     0.45245,     0.45345,     0.45445,     0.45546,\n",
              "           0.45646,     0.45746,     0.45846,     0.45946,     0.46046,     0.46146,     0.46246,     0.46346,     0.46446,     0.46547,     0.46647,     0.46747,     0.46847,     0.46947,     0.47047,     0.47147,     0.47247,     0.47347,     0.47447,     0.47548,     0.47648,     0.47748,     0.47848,     0.47948,\n",
              "           0.48048,     0.48148,     0.48248,     0.48348,     0.48448,     0.48549,     0.48649,     0.48749,     0.48849,     0.48949,     0.49049,     0.49149,     0.49249,     0.49349,     0.49449,      0.4955,      0.4965,      0.4975,      0.4985,      0.4995,      0.5005,      0.5015,      0.5025,      0.5035,\n",
              "            0.5045,     0.50551,     0.50651,     0.50751,     0.50851,     0.50951,     0.51051,     0.51151,     0.51251,     0.51351,     0.51451,     0.51552,     0.51652,     0.51752,     0.51852,     0.51952,     0.52052,     0.52152,     0.52252,     0.52352,     0.52452,     0.52553,     0.52653,     0.52753,\n",
              "           0.52853,     0.52953,     0.53053,     0.53153,     0.53253,     0.53353,     0.53453,     0.53554,     0.53654,     0.53754,     0.53854,     0.53954,     0.54054,     0.54154,     0.54254,     0.54354,     0.54454,     0.54555,     0.54655,     0.54755,     0.54855,     0.54955,     0.55055,     0.55155,\n",
              "           0.55255,     0.55355,     0.55455,     0.55556,     0.55656,     0.55756,     0.55856,     0.55956,     0.56056,     0.56156,     0.56256,     0.56356,     0.56456,     0.56557,     0.56657,     0.56757,     0.56857,     0.56957,     0.57057,     0.57157,     0.57257,     0.57357,     0.57457,     0.57558,\n",
              "           0.57658,     0.57758,     0.57858,     0.57958,     0.58058,     0.58158,     0.58258,     0.58358,     0.58458,     0.58559,     0.58659,     0.58759,     0.58859,     0.58959,     0.59059,     0.59159,     0.59259,     0.59359,     0.59459,      0.5956,      0.5966,      0.5976,      0.5986,      0.5996,\n",
              "            0.6006,      0.6016,      0.6026,      0.6036,      0.6046,     0.60561,     0.60661,     0.60761,     0.60861,     0.60961,     0.61061,     0.61161,     0.61261,     0.61361,     0.61461,     0.61562,     0.61662,     0.61762,     0.61862,     0.61962,     0.62062,     0.62162,     0.62262,     0.62362,\n",
              "           0.62462,     0.62563,     0.62663,     0.62763,     0.62863,     0.62963,     0.63063,     0.63163,     0.63263,     0.63363,     0.63463,     0.63564,     0.63664,     0.63764,     0.63864,     0.63964,     0.64064,     0.64164,     0.64264,     0.64364,     0.64464,     0.64565,     0.64665,     0.64765,\n",
              "           0.64865,     0.64965,     0.65065,     0.65165,     0.65265,     0.65365,     0.65465,     0.65566,     0.65666,     0.65766,     0.65866,     0.65966,     0.66066,     0.66166,     0.66266,     0.66366,     0.66466,     0.66567,     0.66667,     0.66767,     0.66867,     0.66967,     0.67067,     0.67167,\n",
              "           0.67267,     0.67367,     0.67467,     0.67568,     0.67668,     0.67768,     0.67868,     0.67968,     0.68068,     0.68168,     0.68268,     0.68368,     0.68468,     0.68569,     0.68669,     0.68769,     0.68869,     0.68969,     0.69069,     0.69169,     0.69269,     0.69369,     0.69469,      0.6957,\n",
              "            0.6967,      0.6977,      0.6987,      0.6997,      0.7007,      0.7017,      0.7027,      0.7037,      0.7047,     0.70571,     0.70671,     0.70771,     0.70871,     0.70971,     0.71071,     0.71171,     0.71271,     0.71371,     0.71471,     0.71572,     0.71672,     0.71772,     0.71872,     0.71972,\n",
              "           0.72072,     0.72172,     0.72272,     0.72372,     0.72472,     0.72573,     0.72673,     0.72773,     0.72873,     0.72973,     0.73073,     0.73173,     0.73273,     0.73373,     0.73473,     0.73574,     0.73674,     0.73774,     0.73874,     0.73974,     0.74074,     0.74174,     0.74274,     0.74374,\n",
              "           0.74474,     0.74575,     0.74675,     0.74775,     0.74875,     0.74975,     0.75075,     0.75175,     0.75275,     0.75375,     0.75475,     0.75576,     0.75676,     0.75776,     0.75876,     0.75976,     0.76076,     0.76176,     0.76276,     0.76376,     0.76476,     0.76577,     0.76677,     0.76777,\n",
              "           0.76877,     0.76977,     0.77077,     0.77177,     0.77277,     0.77377,     0.77477,     0.77578,     0.77678,     0.77778,     0.77878,     0.77978,     0.78078,     0.78178,     0.78278,     0.78378,     0.78478,     0.78579,     0.78679,     0.78779,     0.78879,     0.78979,     0.79079,     0.79179,\n",
              "           0.79279,     0.79379,     0.79479,      0.7958,      0.7968,      0.7978,      0.7988,      0.7998,      0.8008,      0.8018,      0.8028,      0.8038,      0.8048,     0.80581,     0.80681,     0.80781,     0.80881,     0.80981,     0.81081,     0.81181,     0.81281,     0.81381,     0.81481,     0.81582,\n",
              "           0.81682,     0.81782,     0.81882,     0.81982,     0.82082,     0.82182,     0.82282,     0.82382,     0.82482,     0.82583,     0.82683,     0.82783,     0.82883,     0.82983,     0.83083,     0.83183,     0.83283,     0.83383,     0.83483,     0.83584,     0.83684,     0.83784,     0.83884,     0.83984,\n",
              "           0.84084,     0.84184,     0.84284,     0.84384,     0.84484,     0.84585,     0.84685,     0.84785,     0.84885,     0.84985,     0.85085,     0.85185,     0.85285,     0.85385,     0.85485,     0.85586,     0.85686,     0.85786,     0.85886,     0.85986,     0.86086,     0.86186,     0.86286,     0.86386,\n",
              "           0.86486,     0.86587,     0.86687,     0.86787,     0.86887,     0.86987,     0.87087,     0.87187,     0.87287,     0.87387,     0.87487,     0.87588,     0.87688,     0.87788,     0.87888,     0.87988,     0.88088,     0.88188,     0.88288,     0.88388,     0.88488,     0.88589,     0.88689,     0.88789,\n",
              "           0.88889,     0.88989,     0.89089,     0.89189,     0.89289,     0.89389,     0.89489,      0.8959,      0.8969,      0.8979,      0.8989,      0.8999,      0.9009,      0.9019,      0.9029,      0.9039,      0.9049,     0.90591,     0.90691,     0.90791,     0.90891,     0.90991,     0.91091,     0.91191,\n",
              "           0.91291,     0.91391,     0.91491,     0.91592,     0.91692,     0.91792,     0.91892,     0.91992,     0.92092,     0.92192,     0.92292,     0.92392,     0.92492,     0.92593,     0.92693,     0.92793,     0.92893,     0.92993,     0.93093,     0.93193,     0.93293,     0.93393,     0.93493,     0.93594,\n",
              "           0.93694,     0.93794,     0.93894,     0.93994,     0.94094,     0.94194,     0.94294,     0.94394,     0.94494,     0.94595,     0.94695,     0.94795,     0.94895,     0.94995,     0.95095,     0.95195,     0.95295,     0.95395,     0.95495,     0.95596,     0.95696,     0.95796,     0.95896,     0.95996,\n",
              "           0.96096,     0.96196,     0.96296,     0.96396,     0.96496,     0.96597,     0.96697,     0.96797,     0.96897,     0.96997,     0.97097,     0.97197,     0.97297,     0.97397,     0.97497,     0.97598,     0.97698,     0.97798,     0.97898,     0.97998,     0.98098,     0.98198,     0.98298,     0.98398,\n",
              "           0.98498,     0.98599,     0.98699,     0.98799,     0.98899,     0.98999,     0.99099,     0.99199,     0.99299,     0.99399,     0.99499,       0.996,       0.997,       0.998,       0.999,           1]), array([[   0.089592,    0.089592,     0.29724, ...,           1,           1,           1],\n",
              "       [    0.08632,     0.08632,     0.28499, ...,           1,           1,           1]]), 'Confidence', 'Precision'], [array([          0,    0.001001,    0.002002,    0.003003,    0.004004,    0.005005,    0.006006,    0.007007,    0.008008,    0.009009,     0.01001,    0.011011,    0.012012,    0.013013,    0.014014,    0.015015,    0.016016,    0.017017,    0.018018,    0.019019,     0.02002,    0.021021,    0.022022,    0.023023,\n",
              "          0.024024,    0.025025,    0.026026,    0.027027,    0.028028,    0.029029,     0.03003,    0.031031,    0.032032,    0.033033,    0.034034,    0.035035,    0.036036,    0.037037,    0.038038,    0.039039,     0.04004,    0.041041,    0.042042,    0.043043,    0.044044,    0.045045,    0.046046,    0.047047,\n",
              "          0.048048,    0.049049,     0.05005,    0.051051,    0.052052,    0.053053,    0.054054,    0.055055,    0.056056,    0.057057,    0.058058,    0.059059,     0.06006,    0.061061,    0.062062,    0.063063,    0.064064,    0.065065,    0.066066,    0.067067,    0.068068,    0.069069,     0.07007,    0.071071,\n",
              "          0.072072,    0.073073,    0.074074,    0.075075,    0.076076,    0.077077,    0.078078,    0.079079,     0.08008,    0.081081,    0.082082,    0.083083,    0.084084,    0.085085,    0.086086,    0.087087,    0.088088,    0.089089,     0.09009,    0.091091,    0.092092,    0.093093,    0.094094,    0.095095,\n",
              "          0.096096,    0.097097,    0.098098,    0.099099,      0.1001,      0.1011,      0.1021,      0.1031,      0.1041,     0.10511,     0.10611,     0.10711,     0.10811,     0.10911,     0.11011,     0.11111,     0.11211,     0.11311,     0.11411,     0.11512,     0.11612,     0.11712,     0.11812,     0.11912,\n",
              "           0.12012,     0.12112,     0.12212,     0.12312,     0.12412,     0.12513,     0.12613,     0.12713,     0.12813,     0.12913,     0.13013,     0.13113,     0.13213,     0.13313,     0.13413,     0.13514,     0.13614,     0.13714,     0.13814,     0.13914,     0.14014,     0.14114,     0.14214,     0.14314,\n",
              "           0.14414,     0.14515,     0.14615,     0.14715,     0.14815,     0.14915,     0.15015,     0.15115,     0.15215,     0.15315,     0.15415,     0.15516,     0.15616,     0.15716,     0.15816,     0.15916,     0.16016,     0.16116,     0.16216,     0.16316,     0.16416,     0.16517,     0.16617,     0.16717,\n",
              "           0.16817,     0.16917,     0.17017,     0.17117,     0.17217,     0.17317,     0.17417,     0.17518,     0.17618,     0.17718,     0.17818,     0.17918,     0.18018,     0.18118,     0.18218,     0.18318,     0.18418,     0.18519,     0.18619,     0.18719,     0.18819,     0.18919,     0.19019,     0.19119,\n",
              "           0.19219,     0.19319,     0.19419,      0.1952,      0.1962,      0.1972,      0.1982,      0.1992,      0.2002,      0.2012,      0.2022,      0.2032,      0.2042,     0.20521,     0.20621,     0.20721,     0.20821,     0.20921,     0.21021,     0.21121,     0.21221,     0.21321,     0.21421,     0.21522,\n",
              "           0.21622,     0.21722,     0.21822,     0.21922,     0.22022,     0.22122,     0.22222,     0.22322,     0.22422,     0.22523,     0.22623,     0.22723,     0.22823,     0.22923,     0.23023,     0.23123,     0.23223,     0.23323,     0.23423,     0.23524,     0.23624,     0.23724,     0.23824,     0.23924,\n",
              "           0.24024,     0.24124,     0.24224,     0.24324,     0.24424,     0.24525,     0.24625,     0.24725,     0.24825,     0.24925,     0.25025,     0.25125,     0.25225,     0.25325,     0.25425,     0.25526,     0.25626,     0.25726,     0.25826,     0.25926,     0.26026,     0.26126,     0.26226,     0.26326,\n",
              "           0.26426,     0.26527,     0.26627,     0.26727,     0.26827,     0.26927,     0.27027,     0.27127,     0.27227,     0.27327,     0.27427,     0.27528,     0.27628,     0.27728,     0.27828,     0.27928,     0.28028,     0.28128,     0.28228,     0.28328,     0.28428,     0.28529,     0.28629,     0.28729,\n",
              "           0.28829,     0.28929,     0.29029,     0.29129,     0.29229,     0.29329,     0.29429,      0.2953,      0.2963,      0.2973,      0.2983,      0.2993,      0.3003,      0.3013,      0.3023,      0.3033,      0.3043,     0.30531,     0.30631,     0.30731,     0.30831,     0.30931,     0.31031,     0.31131,\n",
              "           0.31231,     0.31331,     0.31431,     0.31532,     0.31632,     0.31732,     0.31832,     0.31932,     0.32032,     0.32132,     0.32232,     0.32332,     0.32432,     0.32533,     0.32633,     0.32733,     0.32833,     0.32933,     0.33033,     0.33133,     0.33233,     0.33333,     0.33433,     0.33534,\n",
              "           0.33634,     0.33734,     0.33834,     0.33934,     0.34034,     0.34134,     0.34234,     0.34334,     0.34434,     0.34535,     0.34635,     0.34735,     0.34835,     0.34935,     0.35035,     0.35135,     0.35235,     0.35335,     0.35435,     0.35536,     0.35636,     0.35736,     0.35836,     0.35936,\n",
              "           0.36036,     0.36136,     0.36236,     0.36336,     0.36436,     0.36537,     0.36637,     0.36737,     0.36837,     0.36937,     0.37037,     0.37137,     0.37237,     0.37337,     0.37437,     0.37538,     0.37638,     0.37738,     0.37838,     0.37938,     0.38038,     0.38138,     0.38238,     0.38338,\n",
              "           0.38438,     0.38539,     0.38639,     0.38739,     0.38839,     0.38939,     0.39039,     0.39139,     0.39239,     0.39339,     0.39439,      0.3954,      0.3964,      0.3974,      0.3984,      0.3994,      0.4004,      0.4014,      0.4024,      0.4034,      0.4044,     0.40541,     0.40641,     0.40741,\n",
              "           0.40841,     0.40941,     0.41041,     0.41141,     0.41241,     0.41341,     0.41441,     0.41542,     0.41642,     0.41742,     0.41842,     0.41942,     0.42042,     0.42142,     0.42242,     0.42342,     0.42442,     0.42543,     0.42643,     0.42743,     0.42843,     0.42943,     0.43043,     0.43143,\n",
              "           0.43243,     0.43343,     0.43443,     0.43544,     0.43644,     0.43744,     0.43844,     0.43944,     0.44044,     0.44144,     0.44244,     0.44344,     0.44444,     0.44545,     0.44645,     0.44745,     0.44845,     0.44945,     0.45045,     0.45145,     0.45245,     0.45345,     0.45445,     0.45546,\n",
              "           0.45646,     0.45746,     0.45846,     0.45946,     0.46046,     0.46146,     0.46246,     0.46346,     0.46446,     0.46547,     0.46647,     0.46747,     0.46847,     0.46947,     0.47047,     0.47147,     0.47247,     0.47347,     0.47447,     0.47548,     0.47648,     0.47748,     0.47848,     0.47948,\n",
              "           0.48048,     0.48148,     0.48248,     0.48348,     0.48448,     0.48549,     0.48649,     0.48749,     0.48849,     0.48949,     0.49049,     0.49149,     0.49249,     0.49349,     0.49449,      0.4955,      0.4965,      0.4975,      0.4985,      0.4995,      0.5005,      0.5015,      0.5025,      0.5035,\n",
              "            0.5045,     0.50551,     0.50651,     0.50751,     0.50851,     0.50951,     0.51051,     0.51151,     0.51251,     0.51351,     0.51451,     0.51552,     0.51652,     0.51752,     0.51852,     0.51952,     0.52052,     0.52152,     0.52252,     0.52352,     0.52452,     0.52553,     0.52653,     0.52753,\n",
              "           0.52853,     0.52953,     0.53053,     0.53153,     0.53253,     0.53353,     0.53453,     0.53554,     0.53654,     0.53754,     0.53854,     0.53954,     0.54054,     0.54154,     0.54254,     0.54354,     0.54454,     0.54555,     0.54655,     0.54755,     0.54855,     0.54955,     0.55055,     0.55155,\n",
              "           0.55255,     0.55355,     0.55455,     0.55556,     0.55656,     0.55756,     0.55856,     0.55956,     0.56056,     0.56156,     0.56256,     0.56356,     0.56456,     0.56557,     0.56657,     0.56757,     0.56857,     0.56957,     0.57057,     0.57157,     0.57257,     0.57357,     0.57457,     0.57558,\n",
              "           0.57658,     0.57758,     0.57858,     0.57958,     0.58058,     0.58158,     0.58258,     0.58358,     0.58458,     0.58559,     0.58659,     0.58759,     0.58859,     0.58959,     0.59059,     0.59159,     0.59259,     0.59359,     0.59459,      0.5956,      0.5966,      0.5976,      0.5986,      0.5996,\n",
              "            0.6006,      0.6016,      0.6026,      0.6036,      0.6046,     0.60561,     0.60661,     0.60761,     0.60861,     0.60961,     0.61061,     0.61161,     0.61261,     0.61361,     0.61461,     0.61562,     0.61662,     0.61762,     0.61862,     0.61962,     0.62062,     0.62162,     0.62262,     0.62362,\n",
              "           0.62462,     0.62563,     0.62663,     0.62763,     0.62863,     0.62963,     0.63063,     0.63163,     0.63263,     0.63363,     0.63463,     0.63564,     0.63664,     0.63764,     0.63864,     0.63964,     0.64064,     0.64164,     0.64264,     0.64364,     0.64464,     0.64565,     0.64665,     0.64765,\n",
              "           0.64865,     0.64965,     0.65065,     0.65165,     0.65265,     0.65365,     0.65465,     0.65566,     0.65666,     0.65766,     0.65866,     0.65966,     0.66066,     0.66166,     0.66266,     0.66366,     0.66466,     0.66567,     0.66667,     0.66767,     0.66867,     0.66967,     0.67067,     0.67167,\n",
              "           0.67267,     0.67367,     0.67467,     0.67568,     0.67668,     0.67768,     0.67868,     0.67968,     0.68068,     0.68168,     0.68268,     0.68368,     0.68468,     0.68569,     0.68669,     0.68769,     0.68869,     0.68969,     0.69069,     0.69169,     0.69269,     0.69369,     0.69469,      0.6957,\n",
              "            0.6967,      0.6977,      0.6987,      0.6997,      0.7007,      0.7017,      0.7027,      0.7037,      0.7047,     0.70571,     0.70671,     0.70771,     0.70871,     0.70971,     0.71071,     0.71171,     0.71271,     0.71371,     0.71471,     0.71572,     0.71672,     0.71772,     0.71872,     0.71972,\n",
              "           0.72072,     0.72172,     0.72272,     0.72372,     0.72472,     0.72573,     0.72673,     0.72773,     0.72873,     0.72973,     0.73073,     0.73173,     0.73273,     0.73373,     0.73473,     0.73574,     0.73674,     0.73774,     0.73874,     0.73974,     0.74074,     0.74174,     0.74274,     0.74374,\n",
              "           0.74474,     0.74575,     0.74675,     0.74775,     0.74875,     0.74975,     0.75075,     0.75175,     0.75275,     0.75375,     0.75475,     0.75576,     0.75676,     0.75776,     0.75876,     0.75976,     0.76076,     0.76176,     0.76276,     0.76376,     0.76476,     0.76577,     0.76677,     0.76777,\n",
              "           0.76877,     0.76977,     0.77077,     0.77177,     0.77277,     0.77377,     0.77477,     0.77578,     0.77678,     0.77778,     0.77878,     0.77978,     0.78078,     0.78178,     0.78278,     0.78378,     0.78478,     0.78579,     0.78679,     0.78779,     0.78879,     0.78979,     0.79079,     0.79179,\n",
              "           0.79279,     0.79379,     0.79479,      0.7958,      0.7968,      0.7978,      0.7988,      0.7998,      0.8008,      0.8018,      0.8028,      0.8038,      0.8048,     0.80581,     0.80681,     0.80781,     0.80881,     0.80981,     0.81081,     0.81181,     0.81281,     0.81381,     0.81481,     0.81582,\n",
              "           0.81682,     0.81782,     0.81882,     0.81982,     0.82082,     0.82182,     0.82282,     0.82382,     0.82482,     0.82583,     0.82683,     0.82783,     0.82883,     0.82983,     0.83083,     0.83183,     0.83283,     0.83383,     0.83483,     0.83584,     0.83684,     0.83784,     0.83884,     0.83984,\n",
              "           0.84084,     0.84184,     0.84284,     0.84384,     0.84484,     0.84585,     0.84685,     0.84785,     0.84885,     0.84985,     0.85085,     0.85185,     0.85285,     0.85385,     0.85485,     0.85586,     0.85686,     0.85786,     0.85886,     0.85986,     0.86086,     0.86186,     0.86286,     0.86386,\n",
              "           0.86486,     0.86587,     0.86687,     0.86787,     0.86887,     0.86987,     0.87087,     0.87187,     0.87287,     0.87387,     0.87487,     0.87588,     0.87688,     0.87788,     0.87888,     0.87988,     0.88088,     0.88188,     0.88288,     0.88388,     0.88488,     0.88589,     0.88689,     0.88789,\n",
              "           0.88889,     0.88989,     0.89089,     0.89189,     0.89289,     0.89389,     0.89489,      0.8959,      0.8969,      0.8979,      0.8989,      0.8999,      0.9009,      0.9019,      0.9029,      0.9039,      0.9049,     0.90591,     0.90691,     0.90791,     0.90891,     0.90991,     0.91091,     0.91191,\n",
              "           0.91291,     0.91391,     0.91491,     0.91592,     0.91692,     0.91792,     0.91892,     0.91992,     0.92092,     0.92192,     0.92292,     0.92392,     0.92492,     0.92593,     0.92693,     0.92793,     0.92893,     0.92993,     0.93093,     0.93193,     0.93293,     0.93393,     0.93493,     0.93594,\n",
              "           0.93694,     0.93794,     0.93894,     0.93994,     0.94094,     0.94194,     0.94294,     0.94394,     0.94494,     0.94595,     0.94695,     0.94795,     0.94895,     0.94995,     0.95095,     0.95195,     0.95295,     0.95395,     0.95495,     0.95596,     0.95696,     0.95796,     0.95896,     0.95996,\n",
              "           0.96096,     0.96196,     0.96296,     0.96396,     0.96496,     0.96597,     0.96697,     0.96797,     0.96897,     0.96997,     0.97097,     0.97197,     0.97297,     0.97397,     0.97497,     0.97598,     0.97698,     0.97798,     0.97898,     0.97998,     0.98098,     0.98198,     0.98298,     0.98398,\n",
              "           0.98498,     0.98599,     0.98699,     0.98799,     0.98899,     0.98999,     0.99099,     0.99199,     0.99299,     0.99399,     0.99499,       0.996,       0.997,       0.998,       0.999,           1]), array([[          1,           1,           1, ...,           0,           0,           0],\n",
              "       [          1,           1,           1, ...,           0,           0,           0]]), 'Confidence', 'Recall']]\n",
              "fitness: 0.6961306993609833\n",
              "keys: ['metrics/precision(B)', 'metrics/recall(B)', 'metrics/mAP50(B)', 'metrics/mAP50-95(B)']\n",
              "maps: array([    0.63308,      0.7034])\n",
              "names: {0: 'ball_purple', 1: 'ball_red'}\n",
              "plot: True\n",
              "results_dict: {'metrics/precision(B)': 0.895431124504285, 'metrics/recall(B)': 0.984452891326022, 'metrics/mAP50(B)': 0.9471072882377757, 'metrics/mAP50-95(B)': 0.6682444117080063, 'fitness': 0.6961306993609833}\n",
              "save_dir: PosixPath('runs/detect/train')\n",
              "speed: {'preprocess': 0.16932010650634766, 'inference': 1.9313669204711914, 'loss': 0.000629425048828125, 'postprocess': 4.930686950683594}\n",
              "task: 'detect'"
            ]
          },
          "metadata": {},
          "execution_count": 6
        }
      ]
    },
    {
      "cell_type": "code",
      "source": [
        "metrics = model.val(data=\"/content/drive/MyDrive/Robotics/Object_Detection/balls_purple_red/data.yaml\")"
      ],
      "metadata": {
        "colab": {
          "base_uri": "https://localhost:8080/"
        },
        "id": "MDGhqJR_8_2U",
        "outputId": "b7bba14a-9b10-4c86-ae69-d6751de773dd"
      },
      "execution_count": null,
      "outputs": [
        {
          "output_type": "stream",
          "name": "stdout",
          "text": [
            "Ultralytics YOLOv8.2.79 🚀 Python-3.10.12 torch-2.3.1+cu121 CUDA:0 (Tesla T4, 15102MiB)\n",
            "Model summary (fused): 168 layers, 3,006,038 parameters, 0 gradients, 8.1 GFLOPs\n"
          ]
        },
        {
          "output_type": "stream",
          "name": "stderr",
          "text": [
            "\u001b[34m\u001b[1mval: \u001b[0mScanning /content/drive/MyDrive/Robotics/Object_Detection/balls_purple_red/valid/labels.cache... 50 images, 0 backgrounds, 0 corrupt: 100%|██████████| 50/50 [00:00<?, ?it/s]\n",
            "/usr/lib/python3.10/multiprocessing/popen_fork.py:66: RuntimeWarning: os.fork() was called. os.fork() is incompatible with multithreaded code, and JAX is multithreaded, so this will likely lead to a deadlock.\n",
            "  self.pid = os.fork()\n",
            "                 Class     Images  Instances      Box(P          R      mAP50  mAP50-95): 100%|██████████| 4/4 [00:06<00:00,  1.60s/it]\n"
          ]
        },
        {
          "output_type": "stream",
          "name": "stdout",
          "text": [
            "                   all         50        508      0.896      0.984      0.947      0.668\n",
            "           ball_purple         46        272      0.842      0.982      0.924      0.633\n",
            "              ball_red         49        236      0.949      0.987       0.97      0.704\n",
            "Speed: 0.7ms preprocess, 30.5ms inference, 0.0ms loss, 5.3ms postprocess per image\n",
            "Results saved to \u001b[1mruns/detect/train2\u001b[0m\n"
          ]
        }
      ]
    },
    {
      "cell_type": "code",
      "source": [
        "import shutil\n",
        "\n",
        "source_path = 'runs/detect/train/weights/best.pt'\n",
        "destination_path = '/content/drive/MyDrive/Robotics/Object_Detection/best_model.pt'\n",
        "\n",
        "shutil.move(source_path, destination_path)"
      ],
      "metadata": {
        "colab": {
          "base_uri": "https://localhost:8080/",
          "height": 35
        },
        "id": "m2AdLYl99rAS",
        "outputId": "200d46d8-7a94-4a2e-f6b1-89ea22917993"
      },
      "execution_count": null,
      "outputs": [
        {
          "output_type": "execute_result",
          "data": {
            "text/plain": [
              "'/content/drive/MyDrive/Robotics/Object_Detection/best_model.pt'"
            ],
            "application/vnd.google.colaboratory.intrinsic+json": {
              "type": "string"
            }
          },
          "metadata": {},
          "execution_count": 10
        }
      ]
    },
    {
      "cell_type": "code",
      "source": [
        "import os\n",
        "\n",
        "os.listdir('/content/drive/MyDrive/Robotics/Object_Detection')"
      ],
      "metadata": {
        "colab": {
          "base_uri": "https://localhost:8080/"
        },
        "id": "IG1LWrZiE2_Y",
        "outputId": "912f7544-4d51-4c76-8ec4-b48485e4a7f5"
      },
      "execution_count": null,
      "outputs": [
        {
          "output_type": "execute_result",
          "data": {
            "text/plain": [
              "['balls_purple_red', '.ipynb_checkpoints', 'best_model.pt']"
            ]
          },
          "metadata": {},
          "execution_count": 11
        }
      ]
    },
    {
      "cell_type": "markdown",
      "source": [
        "## Use Model"
      ],
      "metadata": {
        "id": "LyPBFSA6vKR0"
      }
    },
    {
      "cell_type": "code",
      "source": [
        "!pip install ultralytics"
      ],
      "metadata": {
        "colab": {
          "base_uri": "https://localhost:8080/"
        },
        "id": "WHyPhJhYvR0_",
        "outputId": "195bffa5-108d-443c-8dd9-79caf5e78590"
      },
      "execution_count": null,
      "outputs": [
        {
          "output_type": "stream",
          "name": "stdout",
          "text": [
            "Collecting ultralytics\n",
            "  Downloading ultralytics-8.2.79-py3-none-any.whl.metadata (41 kB)\n",
            "\u001b[?25l     \u001b[90m━━━━━━━━━━━━━━━━━━━━━━━━━━━━━━━━━━━━━━━━\u001b[0m \u001b[32m0.0/41.3 kB\u001b[0m \u001b[31m?\u001b[0m eta \u001b[36m-:--:--\u001b[0m\r\u001b[2K     \u001b[90m━━━━━━━━━━━━━━━━━━━━━━━━━━━━━━━━━━━━━━━━\u001b[0m \u001b[32m41.3/41.3 kB\u001b[0m \u001b[31m2.8 MB/s\u001b[0m eta \u001b[36m0:00:00\u001b[0m\n",
            "\u001b[?25hRequirement already satisfied: numpy<2.0.0,>=1.23.0 in /usr/local/lib/python3.10/dist-packages (from ultralytics) (1.26.4)\n",
            "Requirement already satisfied: matplotlib>=3.3.0 in /usr/local/lib/python3.10/dist-packages (from ultralytics) (3.7.1)\n",
            "Requirement already satisfied: opencv-python>=4.6.0 in /usr/local/lib/python3.10/dist-packages (from ultralytics) (4.10.0.84)\n",
            "Requirement already satisfied: pillow>=7.1.2 in /usr/local/lib/python3.10/dist-packages (from ultralytics) (9.4.0)\n",
            "Requirement already satisfied: pyyaml>=5.3.1 in /usr/local/lib/python3.10/dist-packages (from ultralytics) (6.0.2)\n",
            "Requirement already satisfied: requests>=2.23.0 in /usr/local/lib/python3.10/dist-packages (from ultralytics) (2.32.3)\n",
            "Requirement already satisfied: scipy>=1.4.1 in /usr/local/lib/python3.10/dist-packages (from ultralytics) (1.13.1)\n",
            "Requirement already satisfied: torch>=1.8.0 in /usr/local/lib/python3.10/dist-packages (from ultralytics) (2.3.1+cu121)\n",
            "Requirement already satisfied: torchvision>=0.9.0 in /usr/local/lib/python3.10/dist-packages (from ultralytics) (0.18.1+cu121)\n",
            "Requirement already satisfied: tqdm>=4.64.0 in /usr/local/lib/python3.10/dist-packages (from ultralytics) (4.66.5)\n",
            "Requirement already satisfied: psutil in /usr/local/lib/python3.10/dist-packages (from ultralytics) (5.9.5)\n",
            "Requirement already satisfied: py-cpuinfo in /usr/local/lib/python3.10/dist-packages (from ultralytics) (9.0.0)\n",
            "Requirement already satisfied: pandas>=1.1.4 in /usr/local/lib/python3.10/dist-packages (from ultralytics) (2.1.4)\n",
            "Requirement already satisfied: seaborn>=0.11.0 in /usr/local/lib/python3.10/dist-packages (from ultralytics) (0.13.1)\n",
            "Collecting ultralytics-thop>=2.0.0 (from ultralytics)\n",
            "  Downloading ultralytics_thop-2.0.5-py3-none-any.whl.metadata (8.9 kB)\n",
            "Requirement already satisfied: contourpy>=1.0.1 in /usr/local/lib/python3.10/dist-packages (from matplotlib>=3.3.0->ultralytics) (1.2.1)\n",
            "Requirement already satisfied: cycler>=0.10 in /usr/local/lib/python3.10/dist-packages (from matplotlib>=3.3.0->ultralytics) (0.12.1)\n",
            "Requirement already satisfied: fonttools>=4.22.0 in /usr/local/lib/python3.10/dist-packages (from matplotlib>=3.3.0->ultralytics) (4.53.1)\n",
            "Requirement already satisfied: kiwisolver>=1.0.1 in /usr/local/lib/python3.10/dist-packages (from matplotlib>=3.3.0->ultralytics) (1.4.5)\n",
            "Requirement already satisfied: packaging>=20.0 in /usr/local/lib/python3.10/dist-packages (from matplotlib>=3.3.0->ultralytics) (24.1)\n",
            "Requirement already satisfied: pyparsing>=2.3.1 in /usr/local/lib/python3.10/dist-packages (from matplotlib>=3.3.0->ultralytics) (3.1.2)\n",
            "Requirement already satisfied: python-dateutil>=2.7 in /usr/local/lib/python3.10/dist-packages (from matplotlib>=3.3.0->ultralytics) (2.8.2)\n",
            "Requirement already satisfied: pytz>=2020.1 in /usr/local/lib/python3.10/dist-packages (from pandas>=1.1.4->ultralytics) (2024.1)\n",
            "Requirement already satisfied: tzdata>=2022.1 in /usr/local/lib/python3.10/dist-packages (from pandas>=1.1.4->ultralytics) (2024.1)\n",
            "Requirement already satisfied: charset-normalizer<4,>=2 in /usr/local/lib/python3.10/dist-packages (from requests>=2.23.0->ultralytics) (3.3.2)\n",
            "Requirement already satisfied: idna<4,>=2.5 in /usr/local/lib/python3.10/dist-packages (from requests>=2.23.0->ultralytics) (3.7)\n",
            "Requirement already satisfied: urllib3<3,>=1.21.1 in /usr/local/lib/python3.10/dist-packages (from requests>=2.23.0->ultralytics) (2.0.7)\n",
            "Requirement already satisfied: certifi>=2017.4.17 in /usr/local/lib/python3.10/dist-packages (from requests>=2.23.0->ultralytics) (2024.7.4)\n",
            "Requirement already satisfied: filelock in /usr/local/lib/python3.10/dist-packages (from torch>=1.8.0->ultralytics) (3.15.4)\n",
            "Requirement already satisfied: typing-extensions>=4.8.0 in /usr/local/lib/python3.10/dist-packages (from torch>=1.8.0->ultralytics) (4.12.2)\n",
            "Requirement already satisfied: sympy in /usr/local/lib/python3.10/dist-packages (from torch>=1.8.0->ultralytics) (1.13.2)\n",
            "Requirement already satisfied: networkx in /usr/local/lib/python3.10/dist-packages (from torch>=1.8.0->ultralytics) (3.3)\n",
            "Requirement already satisfied: jinja2 in /usr/local/lib/python3.10/dist-packages (from torch>=1.8.0->ultralytics) (3.1.4)\n",
            "Requirement already satisfied: fsspec in /usr/local/lib/python3.10/dist-packages (from torch>=1.8.0->ultralytics) (2024.6.1)\n",
            "Collecting nvidia-cuda-nvrtc-cu12==12.1.105 (from torch>=1.8.0->ultralytics)\n",
            "  Using cached nvidia_cuda_nvrtc_cu12-12.1.105-py3-none-manylinux1_x86_64.whl.metadata (1.5 kB)\n",
            "Collecting nvidia-cuda-runtime-cu12==12.1.105 (from torch>=1.8.0->ultralytics)\n",
            "  Using cached nvidia_cuda_runtime_cu12-12.1.105-py3-none-manylinux1_x86_64.whl.metadata (1.5 kB)\n",
            "Collecting nvidia-cuda-cupti-cu12==12.1.105 (from torch>=1.8.0->ultralytics)\n",
            "  Using cached nvidia_cuda_cupti_cu12-12.1.105-py3-none-manylinux1_x86_64.whl.metadata (1.6 kB)\n",
            "Collecting nvidia-cudnn-cu12==8.9.2.26 (from torch>=1.8.0->ultralytics)\n",
            "  Using cached nvidia_cudnn_cu12-8.9.2.26-py3-none-manylinux1_x86_64.whl.metadata (1.6 kB)\n",
            "Collecting nvidia-cublas-cu12==12.1.3.1 (from torch>=1.8.0->ultralytics)\n",
            "  Using cached nvidia_cublas_cu12-12.1.3.1-py3-none-manylinux1_x86_64.whl.metadata (1.5 kB)\n",
            "Collecting nvidia-cufft-cu12==11.0.2.54 (from torch>=1.8.0->ultralytics)\n",
            "  Using cached nvidia_cufft_cu12-11.0.2.54-py3-none-manylinux1_x86_64.whl.metadata (1.5 kB)\n",
            "Collecting nvidia-curand-cu12==10.3.2.106 (from torch>=1.8.0->ultralytics)\n",
            "  Using cached nvidia_curand_cu12-10.3.2.106-py3-none-manylinux1_x86_64.whl.metadata (1.5 kB)\n",
            "Collecting nvidia-cusolver-cu12==11.4.5.107 (from torch>=1.8.0->ultralytics)\n",
            "  Using cached nvidia_cusolver_cu12-11.4.5.107-py3-none-manylinux1_x86_64.whl.metadata (1.6 kB)\n",
            "Collecting nvidia-cusparse-cu12==12.1.0.106 (from torch>=1.8.0->ultralytics)\n",
            "  Using cached nvidia_cusparse_cu12-12.1.0.106-py3-none-manylinux1_x86_64.whl.metadata (1.6 kB)\n",
            "Collecting nvidia-nccl-cu12==2.20.5 (from torch>=1.8.0->ultralytics)\n",
            "  Using cached nvidia_nccl_cu12-2.20.5-py3-none-manylinux2014_x86_64.whl.metadata (1.8 kB)\n",
            "Collecting nvidia-nvtx-cu12==12.1.105 (from torch>=1.8.0->ultralytics)\n",
            "  Using cached nvidia_nvtx_cu12-12.1.105-py3-none-manylinux1_x86_64.whl.metadata (1.7 kB)\n",
            "Requirement already satisfied: triton==2.3.1 in /usr/local/lib/python3.10/dist-packages (from torch>=1.8.0->ultralytics) (2.3.1)\n",
            "Collecting nvidia-nvjitlink-cu12 (from nvidia-cusolver-cu12==11.4.5.107->torch>=1.8.0->ultralytics)\n",
            "  Using cached nvidia_nvjitlink_cu12-12.6.20-py3-none-manylinux2014_x86_64.whl.metadata (1.5 kB)\n",
            "Requirement already satisfied: six>=1.5 in /usr/local/lib/python3.10/dist-packages (from python-dateutil>=2.7->matplotlib>=3.3.0->ultralytics) (1.16.0)\n",
            "Requirement already satisfied: MarkupSafe>=2.0 in /usr/local/lib/python3.10/dist-packages (from jinja2->torch>=1.8.0->ultralytics) (2.1.5)\n",
            "Requirement already satisfied: mpmath<1.4,>=1.1.0 in /usr/local/lib/python3.10/dist-packages (from sympy->torch>=1.8.0->ultralytics) (1.3.0)\n",
            "Downloading ultralytics-8.2.79-py3-none-any.whl (869 kB)\n",
            "\u001b[2K   \u001b[90m━━━━━━━━━━━━━━━━━━━━━━━━━━━━━━━━━━━━━━━━\u001b[0m \u001b[32m869.1/869.1 kB\u001b[0m \u001b[31m28.6 MB/s\u001b[0m eta \u001b[36m0:00:00\u001b[0m\n",
            "\u001b[?25hUsing cached nvidia_cublas_cu12-12.1.3.1-py3-none-manylinux1_x86_64.whl (410.6 MB)\n",
            "Using cached nvidia_cuda_cupti_cu12-12.1.105-py3-none-manylinux1_x86_64.whl (14.1 MB)\n",
            "Using cached nvidia_cuda_nvrtc_cu12-12.1.105-py3-none-manylinux1_x86_64.whl (23.7 MB)\n",
            "Using cached nvidia_cuda_runtime_cu12-12.1.105-py3-none-manylinux1_x86_64.whl (823 kB)\n",
            "Using cached nvidia_cudnn_cu12-8.9.2.26-py3-none-manylinux1_x86_64.whl (731.7 MB)\n",
            "Using cached nvidia_cufft_cu12-11.0.2.54-py3-none-manylinux1_x86_64.whl (121.6 MB)\n",
            "Using cached nvidia_curand_cu12-10.3.2.106-py3-none-manylinux1_x86_64.whl (56.5 MB)\n",
            "Using cached nvidia_cusolver_cu12-11.4.5.107-py3-none-manylinux1_x86_64.whl (124.2 MB)\n",
            "Using cached nvidia_cusparse_cu12-12.1.0.106-py3-none-manylinux1_x86_64.whl (196.0 MB)\n",
            "Using cached nvidia_nccl_cu12-2.20.5-py3-none-manylinux2014_x86_64.whl (176.2 MB)\n",
            "Using cached nvidia_nvtx_cu12-12.1.105-py3-none-manylinux1_x86_64.whl (99 kB)\n",
            "Downloading ultralytics_thop-2.0.5-py3-none-any.whl (25 kB)\n",
            "Using cached nvidia_nvjitlink_cu12-12.6.20-py3-none-manylinux2014_x86_64.whl (19.7 MB)\n",
            "Installing collected packages: nvidia-nvtx-cu12, nvidia-nvjitlink-cu12, nvidia-nccl-cu12, nvidia-curand-cu12, nvidia-cufft-cu12, nvidia-cuda-runtime-cu12, nvidia-cuda-nvrtc-cu12, nvidia-cuda-cupti-cu12, nvidia-cublas-cu12, nvidia-cusparse-cu12, nvidia-cudnn-cu12, nvidia-cusolver-cu12, ultralytics-thop, ultralytics\n",
            "Successfully installed nvidia-cublas-cu12-12.1.3.1 nvidia-cuda-cupti-cu12-12.1.105 nvidia-cuda-nvrtc-cu12-12.1.105 nvidia-cuda-runtime-cu12-12.1.105 nvidia-cudnn-cu12-8.9.2.26 nvidia-cufft-cu12-11.0.2.54 nvidia-curand-cu12-10.3.2.106 nvidia-cusolver-cu12-11.4.5.107 nvidia-cusparse-cu12-12.1.0.106 nvidia-nccl-cu12-2.20.5 nvidia-nvjitlink-cu12-12.6.20 nvidia-nvtx-cu12-12.1.105 ultralytics-8.2.79 ultralytics-thop-2.0.5\n"
          ]
        }
      ]
    },
    {
      "cell_type": "code",
      "source": [
        "from ultralytics import YOLO\n",
        "\n",
        "model_path = '/content/drive/MyDrive/Robotics/Object_Detection/best_model.pt'\n",
        "model = YOLO(model_path)"
      ],
      "metadata": {
        "id": "i0FUnFprFGis"
      },
      "execution_count": null,
      "outputs": []
    },
    {
      "cell_type": "code",
      "source": [
        "results = model('/content/drive/MyDrive/Robotics/Object_Detection/balls_purple_red/test/images/1029_jpg.rf.9d02955c5a3f807e8bff4298cd4fee45.jpg')"
      ],
      "metadata": {
        "colab": {
          "base_uri": "https://localhost:8080/"
        },
        "id": "GGAzUCDqW3U5",
        "outputId": "8d1d485c-e8a4-4cf8-8f21-06d7a724934a"
      },
      "execution_count": null,
      "outputs": [
        {
          "output_type": "stream",
          "name": "stdout",
          "text": [
            "\n",
            "image 1/1 /content/drive/MyDrive/Robotics/Object_Detection/balls_purple_red/test/images/1029_jpg.rf.9d02955c5a3f807e8bff4298cd4fee45.jpg: 480x640 4 ball_purples, 5 ball_reds, 106.1ms\n",
            "Speed: 8.9ms preprocess, 106.1ms inference, 1297.5ms postprocess per image at shape (1, 3, 480, 640)\n"
          ]
        }
      ]
    },
    {
      "cell_type": "code",
      "source": [
        "import matplotlib.pyplot as plt\n",
        "\n",
        "plt.imshow(results[0].plot())\n",
        "plt.show()"
      ],
      "metadata": {
        "id": "vWaFKagSYIxY",
        "colab": {
          "base_uri": "https://localhost:8080/",
          "height": 435
        },
        "outputId": "57f7bf60-6d08-4937-b166-6090e9b484d1"
      },
      "execution_count": null,
      "outputs": [
        {
          "output_type": "display_data",
          "data": {
            "text/plain": [
              "<Figure size 640x480 with 1 Axes>"
            ],
            "image/png": "[encoded data removed]"
          },
          "metadata": {}
        }
      ]
    },
    {
      "cell_type": "code",
      "source": [
        "!yolo predict model=\"/content/drive/MyDrive/Robotics/Object_Detection/best_model.pt\" source=\"/content/drive/MyDrive/Robotics/Object_Detection/balls_purple_red/purple_red_balls_vid.mp4\""
      ],
      "metadata": {
        "colab": {
          "base_uri": "https://localhost:8080/"
        },
        "id": "45_PBLowvvMf",
        "outputId": "bf5879be-fe96-48a8-eaec-771a11451def"
      },
      "execution_count": null,
      "outputs": [
        {
          "output_type": "stream",
          "name": "stdout",
          "text": [
            "Ultralytics YOLOv8.2.79 🚀 Python-3.10.12 torch-2.3.1+cu121 CUDA:0 (Tesla T4, 15102MiB)\n",
            "Model summary (fused): 168 layers, 3,006,038 parameters, 0 gradients, 8.1 GFLOPs\n",
            "\n",
            "video 1/1 (frame 1/1500) /content/drive/MyDrive/Robotics/Object_Detection/balls_purple_red/purple_red_balls_vid.mp4: 384x640 2 ball_purples, 4 ball_reds, 65.1ms\n",
            "video 1/1 (frame 2/1500) /content/drive/MyDrive/Robotics/Object_Detection/balls_purple_red/purple_red_balls_vid.mp4: 384x640 2 ball_purples, 4 ball_reds, 6.7ms\n",
            "video 1/1 (frame 3/1500) /content/drive/MyDrive/Robotics/Object_Detection/balls_purple_red/purple_red_balls_vid.mp4: 384x640 2 ball_purples, 4 ball_reds, 6.5ms\n",
            "video 1/1 (frame 4/1500) /content/drive/MyDrive/Robotics/Object_Detection/balls_purple_red/purple_red_balls_vid.mp4: 384x640 2 ball_purples, 4 ball_reds, 8.1ms\n",
            "video 1/1 (frame 5/1500) /content/drive/MyDrive/Robotics/Object_Detection/balls_purple_red/purple_red_balls_vid.mp4: 384x640 2 ball_purples, 4 ball_reds, 7.0ms\n",
            "video 1/1 (frame 6/1500) /content/drive/MyDrive/Robotics/Object_Detection/balls_purple_red/purple_red_balls_vid.mp4: 384x640 2 ball_purples, 4 ball_reds, 6.7ms\n",
            "video 1/1 (frame 7/1500) /content/drive/MyDrive/Robotics/Object_Detection/balls_purple_red/purple_red_balls_vid.mp4: 384x640 2 ball_purples, 4 ball_reds, 6.9ms\n",
            "video 1/1 (frame 8/1500) /content/drive/MyDrive/Robotics/Object_Detection/balls_purple_red/purple_red_balls_vid.mp4: 384x640 2 ball_purples, 4 ball_reds, 8.1ms\n",
            "video 1/1 (frame 9/1500) /content/drive/MyDrive/Robotics/Object_Detection/balls_purple_red/purple_red_balls_vid.mp4: 384x640 2 ball_purples, 4 ball_reds, 6.8ms\n",
            "video 1/1 (frame 10/1500) /content/drive/MyDrive/Robotics/Object_Detection/balls_purple_red/purple_red_balls_vid.mp4: 384x640 2 ball_purples, 4 ball_reds, 6.7ms\n",
            "video 1/1 (frame 11/1500) /content/drive/MyDrive/Robotics/Object_Detection/balls_purple_red/purple_red_balls_vid.mp4: 384x640 2 ball_purples, 4 ball_reds, 6.5ms\n",
            "video 1/1 (frame 12/1500) /content/drive/MyDrive/Robotics/Object_Detection/balls_purple_red/purple_red_balls_vid.mp4: 384x640 2 ball_purples, 4 ball_reds, 6.7ms\n",
            "video 1/1 (frame 13/1500) /content/drive/MyDrive/Robotics/Object_Detection/balls_purple_red/purple_red_balls_vid.mp4: 384x640 2 ball_purples, 4 ball_reds, 6.8ms\n",
            "video 1/1 (frame 14/1500) /content/drive/MyDrive/Robotics/Object_Detection/balls_purple_red/purple_red_balls_vid.mp4: 384x640 2 ball_purples, 4 ball_reds, 6.6ms\n",
            "video 1/1 (frame 15/1500) /content/drive/MyDrive/Robotics/Object_Detection/balls_purple_red/purple_red_balls_vid.mp4: 384x640 2 ball_purples, 4 ball_reds, 6.9ms\n",
            "video 1/1 (frame 16/1500) /content/drive/MyDrive/Robotics/Object_Detection/balls_purple_red/purple_red_balls_vid.mp4: 384x640 2 ball_purples, 4 ball_reds, 6.9ms\n",
            "video 1/1 (frame 17/1500) /content/drive/MyDrive/Robotics/Object_Detection/balls_purple_red/purple_red_balls_vid.mp4: 384x640 2 ball_purples, 4 ball_reds, 7.4ms\n",
            "video 1/1 (frame 18/1500) /content/drive/MyDrive/Robotics/Object_Detection/balls_purple_red/purple_red_balls_vid.mp4: 384x640 2 ball_purples, 4 ball_reds, 7.4ms\n",
            "video 1/1 (frame 19/1500) /content/drive/MyDrive/Robotics/Object_Detection/balls_purple_red/purple_red_balls_vid.mp4: 384x640 2 ball_purples, 4 ball_reds, 9.6ms\n",
            "video 1/1 (frame 20/1500) /content/drive/MyDrive/Robotics/Object_Detection/balls_purple_red/purple_red_balls_vid.mp4: 384x640 2 ball_purples, 4 ball_reds, 7.2ms\n",
            "video 1/1 (frame 21/1500) /content/drive/MyDrive/Robotics/Object_Detection/balls_purple_red/purple_red_balls_vid.mp4: 384x640 2 ball_purples, 4 ball_reds, 7.7ms\n",
            "video 1/1 (frame 22/1500) /content/drive/MyDrive/Robotics/Object_Detection/balls_purple_red/purple_red_balls_vid.mp4: 384x640 2 ball_purples, 4 ball_reds, 6.8ms\n",
            "video 1/1 (frame 23/1500) /content/drive/MyDrive/Robotics/Object_Detection/balls_purple_red/purple_red_balls_vid.mp4: 384x640 2 ball_purples, 4 ball_reds, 6.6ms\n",
            "video 1/1 (frame 24/1500) /content/drive/MyDrive/Robotics/Object_Detection/balls_purple_red/purple_red_balls_vid.mp4: 384x640 2 ball_purples, 4 ball_reds, 13.2ms\n",
            "video 1/1 (frame 25/1500) /content/drive/MyDrive/Robotics/Object_Detection/balls_purple_red/purple_red_balls_vid.mp4: 384x640 2 ball_purples, 4 ball_reds, 6.7ms\n",
            "video 1/1 (frame 26/1500) /content/drive/MyDrive/Robotics/Object_Detection/balls_purple_red/purple_red_balls_vid.mp4: 384x640 2 ball_purples, 4 ball_reds, 10.2ms\n",
            "video 1/1 (frame 27/1500) /content/drive/MyDrive/Robotics/Object_Detection/balls_purple_red/purple_red_balls_vid.mp4: 384x640 2 ball_purples, 4 ball_reds, 6.5ms\n",
            "video 1/1 (frame 28/1500) /content/drive/MyDrive/Robotics/Object_Detection/balls_purple_red/purple_red_balls_vid.mp4: 384x640 2 ball_purples, 4 ball_reds, 6.8ms\n",
            "video 1/1 (frame 29/1500) /content/drive/MyDrive/Robotics/Object_Detection/balls_purple_red/purple_red_balls_vid.mp4: 384x640 2 ball_purples, 4 ball_reds, 7.1ms\n",
            "video 1/1 (frame 30/1500) /content/drive/MyDrive/Robotics/Object_Detection/balls_purple_red/purple_red_balls_vid.mp4: 384x640 2 ball_purples, 4 ball_reds, 6.7ms\n",
            "video 1/1 (frame 31/1500) /content/drive/MyDrive/Robotics/Object_Detection/balls_purple_red/purple_red_balls_vid.mp4: 384x640 2 ball_purples, 4 ball_reds, 11.4ms\n",
            "video 1/1 (frame 32/1500) /content/drive/MyDrive/Robotics/Object_Detection/balls_purple_red/purple_red_balls_vid.mp4: 384x640 2 ball_purples, 4 ball_reds, 6.7ms\n",
            "video 1/1 (frame 33/1500) /content/drive/MyDrive/Robotics/Object_Detection/balls_purple_red/purple_red_balls_vid.mp4: 384x640 2 ball_purples, 4 ball_reds, 6.6ms\n",
            "video 1/1 (frame 34/1500) /content/drive/MyDrive/Robotics/Object_Detection/balls_purple_red/purple_red_balls_vid.mp4: 384x640 2 ball_purples, 4 ball_reds, 6.9ms\n",
            "video 1/1 (frame 35/1500) /content/drive/MyDrive/Robotics/Object_Detection/balls_purple_red/purple_red_balls_vid.mp4: 384x640 2 ball_purples, 4 ball_reds, 6.8ms\n",
            "video 1/1 (frame 36/1500) /content/drive/MyDrive/Robotics/Object_Detection/balls_purple_red/purple_red_balls_vid.mp4: 384x640 2 ball_purples, 4 ball_reds, 7.2ms\n",
            "video 1/1 (frame 37/1500) /content/drive/MyDrive/Robotics/Object_Detection/balls_purple_red/purple_red_balls_vid.mp4: 384x640 2 ball_purples, 4 ball_reds, 6.7ms\n",
            "video 1/1 (frame 38/1500) /content/drive/MyDrive/Robotics/Object_Detection/balls_purple_red/purple_red_balls_vid.mp4: 384x640 2 ball_purples, 4 ball_reds, 6.7ms\n",
            "video 1/1 (frame 39/1500) /content/drive/MyDrive/Robotics/Object_Detection/balls_purple_red/purple_red_balls_vid.mp4: 384x640 2 ball_purples, 4 ball_reds, 6.9ms\n",
            "video 1/1 (frame 40/1500) /content/drive/MyDrive/Robotics/Object_Detection/balls_purple_red/purple_red_balls_vid.mp4: 384x640 2 ball_purples, 4 ball_reds, 6.6ms\n",
            "video 1/1 (frame 41/1500) /content/drive/MyDrive/Robotics/Object_Detection/balls_purple_red/purple_red_balls_vid.mp4: 384x640 2 ball_purples, 4 ball_reds, 6.5ms\n",
            "video 1/1 (frame 42/1500) /content/drive/MyDrive/Robotics/Object_Detection/balls_purple_red/purple_red_balls_vid.mp4: 384x640 2 ball_purples, 4 ball_reds, 6.7ms\n",
            "video 1/1 (frame 43/1500) /content/drive/MyDrive/Robotics/Object_Detection/balls_purple_red/purple_red_balls_vid.mp4: 384x640 2 ball_purples, 4 ball_reds, 11.2ms\n",
            "video 1/1 (frame 44/1500) /content/drive/MyDrive/Robotics/Object_Detection/balls_purple_red/purple_red_balls_vid.mp4: 384x640 2 ball_purples, 4 ball_reds, 6.7ms\n",
            "video 1/1 (frame 45/1500) /content/drive/MyDrive/Robotics/Object_Detection/balls_purple_red/purple_red_balls_vid.mp4: 384x640 2 ball_purples, 4 ball_reds, 6.6ms\n",
            "video 1/1 (frame 46/1500) /content/drive/MyDrive/Robotics/Object_Detection/balls_purple_red/purple_red_balls_vid.mp4: 384x640 2 ball_purples, 4 ball_reds, 7.9ms\n",
            "video 1/1 (frame 47/1500) /content/drive/MyDrive/Robotics/Object_Detection/balls_purple_red/purple_red_balls_vid.mp4: 384x640 2 ball_purples, 4 ball_reds, 10.4ms\n",
            "video 1/1 (frame 48/1500) /content/drive/MyDrive/Robotics/Object_Detection/balls_purple_red/purple_red_balls_vid.mp4: 384x640 2 ball_purples, 4 ball_reds, 10.1ms\n",
            "video 1/1 (frame 49/1500) /content/drive/MyDrive/Robotics/Object_Detection/balls_purple_red/purple_red_balls_vid.mp4: 384x640 2 ball_purples, 4 ball_reds, 6.6ms\n",
            "video 1/1 (frame 50/1500) /content/drive/MyDrive/Robotics/Object_Detection/balls_purple_red/purple_red_balls_vid.mp4: 384x640 2 ball_purples, 4 ball_reds, 7.1ms\n",
            "video 1/1 (frame 51/1500) /content/drive/MyDrive/Robotics/Object_Detection/balls_purple_red/purple_red_balls_vid.mp4: 384x640 2 ball_purples, 4 ball_reds, 6.5ms\n",
            "video 1/1 (frame 52/1500) /content/drive/MyDrive/Robotics/Object_Detection/balls_purple_red/purple_red_balls_vid.mp4: 384x640 2 ball_purples, 4 ball_reds, 8.1ms\n",
            "video 1/1 (frame 53/1500) /content/drive/MyDrive/Robotics/Object_Detection/balls_purple_red/purple_red_balls_vid.mp4: 384x640 2 ball_purples, 4 ball_reds, 6.7ms\n",
            "video 1/1 (frame 54/1500) /content/drive/MyDrive/Robotics/Object_Detection/balls_purple_red/purple_red_balls_vid.mp4: 384x640 2 ball_purples, 4 ball_reds, 7.0ms\n",
            "video 1/1 (frame 55/1500) /content/drive/MyDrive/Robotics/Object_Detection/balls_purple_red/purple_red_balls_vid.mp4: 384x640 2 ball_purples, 4 ball_reds, 7.7ms\n",
            "video 1/1 (frame 56/1500) /content/drive/MyDrive/Robotics/Object_Detection/balls_purple_red/purple_red_balls_vid.mp4: 384x640 2 ball_purples, 4 ball_reds, 6.7ms\n",
            "video 1/1 (frame 57/1500) /content/drive/MyDrive/Robotics/Object_Detection/balls_purple_red/purple_red_balls_vid.mp4: 384x640 2 ball_purples, 4 ball_reds, 6.7ms\n",
            "video 1/1 (frame 58/1500) /content/drive/MyDrive/Robotics/Object_Detection/balls_purple_red/purple_red_balls_vid.mp4: 384x640 2 ball_purples, 4 ball_reds, 6.7ms\n",
            "video 1/1 (frame 59/1500) /content/drive/MyDrive/Robotics/Object_Detection/balls_purple_red/purple_red_balls_vid.mp4: 384x640 2 ball_purples, 4 ball_reds, 6.5ms\n",
            "video 1/1 (frame 60/1500) /content/drive/MyDrive/Robotics/Object_Detection/balls_purple_red/purple_red_balls_vid.mp4: 384x640 2 ball_purples, 4 ball_reds, 6.5ms\n",
            "video 1/1 (frame 61/1500) /content/drive/MyDrive/Robotics/Object_Detection/balls_purple_red/purple_red_balls_vid.mp4: 384x640 2 ball_purples, 4 ball_reds, 6.4ms\n",
            "video 1/1 (frame 62/1500) /content/drive/MyDrive/Robotics/Object_Detection/balls_purple_red/purple_red_balls_vid.mp4: 384x640 2 ball_purples, 4 ball_reds, 6.3ms\n",
            "video 1/1 (frame 63/1500) /content/drive/MyDrive/Robotics/Object_Detection/balls_purple_red/purple_red_balls_vid.mp4: 384x640 2 ball_purples, 4 ball_reds, 6.7ms\n",
            "video 1/1 (frame 64/1500) /content/drive/MyDrive/Robotics/Object_Detection/balls_purple_red/purple_red_balls_vid.mp4: 384x640 2 ball_purples, 4 ball_reds, 6.6ms\n",
            "video 1/1 (frame 65/1500) /content/drive/MyDrive/Robotics/Object_Detection/balls_purple_red/purple_red_balls_vid.mp4: 384x640 2 ball_purples, 4 ball_reds, 8.6ms\n",
            "video 1/1 (frame 66/1500) /content/drive/MyDrive/Robotics/Object_Detection/balls_purple_red/purple_red_balls_vid.mp4: 384x640 2 ball_purples, 4 ball_reds, 6.5ms\n",
            "video 1/1 (frame 67/1500) /content/drive/MyDrive/Robotics/Object_Detection/balls_purple_red/purple_red_balls_vid.mp4: 384x640 2 ball_purples, 4 ball_reds, 6.6ms\n",
            "video 1/1 (frame 68/1500) /content/drive/MyDrive/Robotics/Object_Detection/balls_purple_red/purple_red_balls_vid.mp4: 384x640 2 ball_purples, 4 ball_reds, 6.8ms\n",
            "video 1/1 (frame 69/1500) /content/drive/MyDrive/Robotics/Object_Detection/balls_purple_red/purple_red_balls_vid.mp4: 384x640 2 ball_purples, 4 ball_reds, 6.4ms\n",
            "video 1/1 (frame 70/1500) /content/drive/MyDrive/Robotics/Object_Detection/balls_purple_red/purple_red_balls_vid.mp4: 384x640 2 ball_purples, 4 ball_reds, 7.9ms\n",
            "video 1/1 (frame 71/1500) /content/drive/MyDrive/Robotics/Object_Detection/balls_purple_red/purple_red_balls_vid.mp4: 384x640 2 ball_purples, 4 ball_reds, 8.4ms\n",
            "video 1/1 (frame 72/1500) /content/drive/MyDrive/Robotics/Object_Detection/balls_purple_red/purple_red_balls_vid.mp4: 384x640 2 ball_purples, 4 ball_reds, 10.1ms\n",
            "video 1/1 (frame 73/1500) /content/drive/MyDrive/Robotics/Object_Detection/balls_purple_red/purple_red_balls_vid.mp4: 384x640 2 ball_purples, 4 ball_reds, 6.4ms\n",
            "video 1/1 (frame 74/1500) /content/drive/MyDrive/Robotics/Object_Detection/balls_purple_red/purple_red_balls_vid.mp4: 384x640 2 ball_purples, 4 ball_reds, 7.0ms\n",
            "video 1/1 (frame 75/1500) /content/drive/MyDrive/Robotics/Object_Detection/balls_purple_red/purple_red_balls_vid.mp4: 384x640 2 ball_purples, 4 ball_reds, 6.5ms\n",
            "video 1/1 (frame 76/1500) /content/drive/MyDrive/Robotics/Object_Detection/balls_purple_red/purple_red_balls_vid.mp4: 384x640 2 ball_purples, 4 ball_reds, 7.9ms\n",
            "video 1/1 (frame 77/1500) /content/drive/MyDrive/Robotics/Object_Detection/balls_purple_red/purple_red_balls_vid.mp4: 384x640 2 ball_purples, 4 ball_reds, 7.2ms\n",
            "video 1/1 (frame 78/1500) /content/drive/MyDrive/Robotics/Object_Detection/balls_purple_red/purple_red_balls_vid.mp4: 384x640 2 ball_purples, 4 ball_reds, 6.6ms\n",
            "video 1/1 (frame 79/1500) /content/drive/MyDrive/Robotics/Object_Detection/balls_purple_red/purple_red_balls_vid.mp4: 384x640 2 ball_purples, 4 ball_reds, 7.2ms\n",
            "video 1/1 (frame 80/1500) /content/drive/MyDrive/Robotics/Object_Detection/balls_purple_red/purple_red_balls_vid.mp4: 384x640 2 ball_purples, 4 ball_reds, 9.3ms\n",
            "video 1/1 (frame 81/1500) /content/drive/MyDrive/Robotics/Object_Detection/balls_purple_red/purple_red_balls_vid.mp4: 384x640 2 ball_purples, 4 ball_reds, 6.5ms\n",
            "video 1/1 (frame 82/1500) /content/drive/MyDrive/Robotics/Object_Detection/balls_purple_red/purple_red_balls_vid.mp4: 384x640 2 ball_purples, 4 ball_reds, 6.9ms\n",
            "video 1/1 (frame 83/1500) /content/drive/MyDrive/Robotics/Object_Detection/balls_purple_red/purple_red_balls_vid.mp4: 384x640 2 ball_purples, 4 ball_reds, 7.0ms\n",
            "video 1/1 (frame 84/1500) /content/drive/MyDrive/Robotics/Object_Detection/balls_purple_red/purple_red_balls_vid.mp4: 384x640 2 ball_purples, 4 ball_reds, 7.2ms\n",
            "video 1/1 (frame 85/1500) /content/drive/MyDrive/Robotics/Object_Detection/balls_purple_red/purple_red_balls_vid.mp4: 384x640 2 ball_purples, 4 ball_reds, 6.8ms\n",
            "video 1/1 (frame 86/1500) /content/drive/MyDrive/Robotics/Object_Detection/balls_purple_red/purple_red_balls_vid.mp4: 384x640 2 ball_purples, 4 ball_reds, 6.6ms\n",
            "video 1/1 (frame 87/1500) /content/drive/MyDrive/Robotics/Object_Detection/balls_purple_red/purple_red_balls_vid.mp4: 384x640 2 ball_purples, 4 ball_reds, 7.8ms\n",
            "video 1/1 (frame 88/1500) /content/drive/MyDrive/Robotics/Object_Detection/balls_purple_red/purple_red_balls_vid.mp4: 384x640 2 ball_purples, 4 ball_reds, 7.5ms\n",
            "video 1/1 (frame 89/1500) /content/drive/MyDrive/Robotics/Object_Detection/balls_purple_red/purple_red_balls_vid.mp4: 384x640 2 ball_purples, 4 ball_reds, 6.7ms\n",
            "video 1/1 (frame 90/1500) /content/drive/MyDrive/Robotics/Object_Detection/balls_purple_red/purple_red_balls_vid.mp4: 384x640 2 ball_purples, 4 ball_reds, 6.9ms\n",
            "video 1/1 (frame 91/1500) /content/drive/MyDrive/Robotics/Object_Detection/balls_purple_red/purple_red_balls_vid.mp4: 384x640 2 ball_purples, 4 ball_reds, 6.9ms\n",
            "video 1/1 (frame 92/1500) /content/drive/MyDrive/Robotics/Object_Detection/balls_purple_red/purple_red_balls_vid.mp4: 384x640 2 ball_purples, 4 ball_reds, 11.2ms\n",
            "video 1/1 (frame 93/1500) /content/drive/MyDrive/Robotics/Object_Detection/balls_purple_red/purple_red_balls_vid.mp4: 384x640 2 ball_purples, 4 ball_reds, 6.5ms\n",
            "video 1/1 (frame 94/1500) /content/drive/MyDrive/Robotics/Object_Detection/balls_purple_red/purple_red_balls_vid.mp4: 384x640 2 ball_purples, 4 ball_reds, 7.8ms\n",
            "video 1/1 (frame 95/1500) /content/drive/MyDrive/Robotics/Object_Detection/balls_purple_red/purple_red_balls_vid.mp4: 384x640 2 ball_purples, 4 ball_reds, 10.0ms\n",
            "video 1/1 (frame 96/1500) /content/drive/MyDrive/Robotics/Object_Detection/balls_purple_red/purple_red_balls_vid.mp4: 384x640 2 ball_purples, 4 ball_reds, 7.2ms\n",
            "video 1/1 (frame 97/1500) /content/drive/MyDrive/Robotics/Object_Detection/balls_purple_red/purple_red_balls_vid.mp4: 384x640 2 ball_purples, 4 ball_reds, 6.7ms\n",
            "video 1/1 (frame 98/1500) /content/drive/MyDrive/Robotics/Object_Detection/balls_purple_red/purple_red_balls_vid.mp4: 384x640 2 ball_purples, 4 ball_reds, 6.8ms\n",
            "video 1/1 (frame 99/1500) /content/drive/MyDrive/Robotics/Object_Detection/balls_purple_red/purple_red_balls_vid.mp4: 384x640 2 ball_purples, 4 ball_reds, 7.0ms\n",
            "video 1/1 (frame 100/1500) /content/drive/MyDrive/Robotics/Object_Detection/balls_purple_red/purple_red_balls_vid.mp4: 384x640 2 ball_purples, 4 ball_reds, 6.8ms\n",
            "video 1/1 (frame 101/1500) /content/drive/MyDrive/Robotics/Object_Detection/balls_purple_red/purple_red_balls_vid.mp4: 384x640 2 ball_purples, 4 ball_reds, 6.6ms\n",
            "video 1/1 (frame 102/1500) /content/drive/MyDrive/Robotics/Object_Detection/balls_purple_red/purple_red_balls_vid.mp4: 384x640 2 ball_purples, 4 ball_reds, 7.3ms\n",
            "video 1/1 (frame 103/1500) /content/drive/MyDrive/Robotics/Object_Detection/balls_purple_red/purple_red_balls_vid.mp4: 384x640 2 ball_purples, 4 ball_reds, 6.9ms\n",
            "video 1/1 (frame 104/1500) /content/drive/MyDrive/Robotics/Object_Detection/balls_purple_red/purple_red_balls_vid.mp4: 384x640 2 ball_purples, 4 ball_reds, 6.6ms\n",
            "video 1/1 (frame 105/1500) /content/drive/MyDrive/Robotics/Object_Detection/balls_purple_red/purple_red_balls_vid.mp4: 384x640 2 ball_purples, 4 ball_reds, 6.8ms\n",
            "video 1/1 (frame 106/1500) /content/drive/MyDrive/Robotics/Object_Detection/balls_purple_red/purple_red_balls_vid.mp4: 384x640 2 ball_purples, 4 ball_reds, 6.5ms\n",
            "video 1/1 (frame 107/1500) /content/drive/MyDrive/Robotics/Object_Detection/balls_purple_red/purple_red_balls_vid.mp4: 384x640 2 ball_purples, 4 ball_reds, 6.7ms\n",
            "video 1/1 (frame 108/1500) /content/drive/MyDrive/Robotics/Object_Detection/balls_purple_red/purple_red_balls_vid.mp4: 384x640 2 ball_purples, 4 ball_reds, 7.3ms\n",
            "video 1/1 (frame 109/1500) /content/drive/MyDrive/Robotics/Object_Detection/balls_purple_red/purple_red_balls_vid.mp4: 384x640 2 ball_purples, 4 ball_reds, 6.4ms\n",
            "video 1/1 (frame 110/1500) /content/drive/MyDrive/Robotics/Object_Detection/balls_purple_red/purple_red_balls_vid.mp4: 384x640 2 ball_purples, 4 ball_reds, 6.4ms\n",
            "video 1/1 (frame 111/1500) /content/drive/MyDrive/Robotics/Object_Detection/balls_purple_red/purple_red_balls_vid.mp4: 384x640 2 ball_purples, 4 ball_reds, 6.8ms\n",
            "video 1/1 (frame 112/1500) /content/drive/MyDrive/Robotics/Object_Detection/balls_purple_red/purple_red_balls_vid.mp4: 384x640 2 ball_purples, 4 ball_reds, 6.7ms\n",
            "video 1/1 (frame 113/1500) /content/drive/MyDrive/Robotics/Object_Detection/balls_purple_red/purple_red_balls_vid.mp4: 384x640 2 ball_purples, 4 ball_reds, 8.1ms\n",
            "video 1/1 (frame 114/1500) /content/drive/MyDrive/Robotics/Object_Detection/balls_purple_red/purple_red_balls_vid.mp4: 384x640 2 ball_purples, 4 ball_reds, 6.6ms\n",
            "video 1/1 (frame 115/1500) /content/drive/MyDrive/Robotics/Object_Detection/balls_purple_red/purple_red_balls_vid.mp4: 384x640 2 ball_purples, 4 ball_reds, 6.3ms\n",
            "video 1/1 (frame 116/1500) /content/drive/MyDrive/Robotics/Object_Detection/balls_purple_red/purple_red_balls_vid.mp4: 384x640 2 ball_purples, 4 ball_reds, 6.9ms\n",
            "video 1/1 (frame 117/1500) /content/drive/MyDrive/Robotics/Object_Detection/balls_purple_red/purple_red_balls_vid.mp4: 384x640 2 ball_purples, 4 ball_reds, 11.7ms\n",
            "video 1/1 (frame 118/1500) /content/drive/MyDrive/Robotics/Object_Detection/balls_purple_red/purple_red_balls_vid.mp4: 384x640 2 ball_purples, 4 ball_reds, 10.0ms\n",
            "video 1/1 (frame 119/1500) /content/drive/MyDrive/Robotics/Object_Detection/balls_purple_red/purple_red_balls_vid.mp4: 384x640 2 ball_purples, 4 ball_reds, 10.9ms\n",
            "video 1/1 (frame 120/1500) /content/drive/MyDrive/Robotics/Object_Detection/balls_purple_red/purple_red_balls_vid.mp4: 384x640 2 ball_purples, 4 ball_reds, 11.1ms\n",
            "video 1/1 (frame 121/1500) /content/drive/MyDrive/Robotics/Object_Detection/balls_purple_red/purple_red_balls_vid.mp4: 384x640 2 ball_purples, 4 ball_reds, 12.7ms\n",
            "video 1/1 (frame 122/1500) /content/drive/MyDrive/Robotics/Object_Detection/balls_purple_red/purple_red_balls_vid.mp4: 384x640 2 ball_purples, 4 ball_reds, 13.6ms\n",
            "video 1/1 (frame 123/1500) /content/drive/MyDrive/Robotics/Object_Detection/balls_purple_red/purple_red_balls_vid.mp4: 384x640 2 ball_purples, 4 ball_reds, 10.5ms\n",
            "video 1/1 (frame 124/1500) /content/drive/MyDrive/Robotics/Object_Detection/balls_purple_red/purple_red_balls_vid.mp4: 384x640 2 ball_purples, 4 ball_reds, 9.2ms\n",
            "video 1/1 (frame 125/1500) /content/drive/MyDrive/Robotics/Object_Detection/balls_purple_red/purple_red_balls_vid.mp4: 384x640 2 ball_purples, 4 ball_reds, 8.5ms\n",
            "video 1/1 (frame 126/1500) /content/drive/MyDrive/Robotics/Object_Detection/balls_purple_red/purple_red_balls_vid.mp4: 384x640 2 ball_purples, 4 ball_reds, 8.7ms\n",
            "video 1/1 (frame 127/1500) /content/drive/MyDrive/Robotics/Object_Detection/balls_purple_red/purple_red_balls_vid.mp4: 384x640 2 ball_purples, 4 ball_reds, 8.8ms\n",
            "video 1/1 (frame 128/1500) /content/drive/MyDrive/Robotics/Object_Detection/balls_purple_red/purple_red_balls_vid.mp4: 384x640 2 ball_purples, 4 ball_reds, 8.7ms\n",
            "video 1/1 (frame 129/1500) /content/drive/MyDrive/Robotics/Object_Detection/balls_purple_red/purple_red_balls_vid.mp4: 384x640 2 ball_purples, 4 ball_reds, 8.5ms\n",
            "video 1/1 (frame 130/1500) /content/drive/MyDrive/Robotics/Object_Detection/balls_purple_red/purple_red_balls_vid.mp4: 384x640 2 ball_purples, 4 ball_reds, 8.8ms\n",
            "video 1/1 (frame 131/1500) /content/drive/MyDrive/Robotics/Object_Detection/balls_purple_red/purple_red_balls_vid.mp4: 384x640 2 ball_purples, 4 ball_reds, 8.1ms\n",
            "video 1/1 (frame 132/1500) /content/drive/MyDrive/Robotics/Object_Detection/balls_purple_red/purple_red_balls_vid.mp4: 384x640 2 ball_purples, 4 ball_reds, 8.1ms\n",
            "video 1/1 (frame 133/1500) /content/drive/MyDrive/Robotics/Object_Detection/balls_purple_red/purple_red_balls_vid.mp4: 384x640 2 ball_purples, 4 ball_reds, 8.4ms\n",
            "video 1/1 (frame 134/1500) /content/drive/MyDrive/Robotics/Object_Detection/balls_purple_red/purple_red_balls_vid.mp4: 384x640 2 ball_purples, 4 ball_reds, 12.1ms\n",
            "video 1/1 (frame 135/1500) /content/drive/MyDrive/Robotics/Object_Detection/balls_purple_red/purple_red_balls_vid.mp4: 384x640 2 ball_purples, 4 ball_reds, 9.5ms\n",
            "video 1/1 (frame 136/1500) /content/drive/MyDrive/Robotics/Object_Detection/balls_purple_red/purple_red_balls_vid.mp4: 384x640 2 ball_purples, 4 ball_reds, 12.1ms\n",
            "video 1/1 (frame 137/1500) /content/drive/MyDrive/Robotics/Object_Detection/balls_purple_red/purple_red_balls_vid.mp4: 384x640 2 ball_purples, 4 ball_reds, 10.0ms\n",
            "video 1/1 (frame 138/1500) /content/drive/MyDrive/Robotics/Object_Detection/balls_purple_red/purple_red_balls_vid.mp4: 384x640 2 ball_purples, 4 ball_reds, 11.5ms\n",
            "video 1/1 (frame 139/1500) /content/drive/MyDrive/Robotics/Object_Detection/balls_purple_red/purple_red_balls_vid.mp4: 384x640 2 ball_purples, 4 ball_reds, 9.1ms\n",
            "video 1/1 (frame 140/1500) /content/drive/MyDrive/Robotics/Object_Detection/balls_purple_red/purple_red_balls_vid.mp4: 384x640 2 ball_purples, 4 ball_reds, 14.8ms\n",
            "video 1/1 (frame 141/1500) /content/drive/MyDrive/Robotics/Object_Detection/balls_purple_red/purple_red_balls_vid.mp4: 384x640 2 ball_purples, 4 ball_reds, 8.5ms\n",
            "video 1/1 (frame 142/1500) /content/drive/MyDrive/Robotics/Object_Detection/balls_purple_red/purple_red_balls_vid.mp4: 384x640 2 ball_purples, 4 ball_reds, 9.2ms\n",
            "video 1/1 (frame 143/1500) /content/drive/MyDrive/Robotics/Object_Detection/balls_purple_red/purple_red_balls_vid.mp4: 384x640 2 ball_purples, 4 ball_reds, 8.8ms\n",
            "video 1/1 (frame 144/1500) /content/drive/MyDrive/Robotics/Object_Detection/balls_purple_red/purple_red_balls_vid.mp4: 384x640 2 ball_purples, 4 ball_reds, 8.8ms\n",
            "video 1/1 (frame 145/1500) /content/drive/MyDrive/Robotics/Object_Detection/balls_purple_red/purple_red_balls_vid.mp4: 384x640 2 ball_purples, 4 ball_reds, 9.0ms\n",
            "video 1/1 (frame 146/1500) /content/drive/MyDrive/Robotics/Object_Detection/balls_purple_red/purple_red_balls_vid.mp4: 384x640 2 ball_purples, 4 ball_reds, 8.7ms\n",
            "video 1/1 (frame 147/1500) /content/drive/MyDrive/Robotics/Object_Detection/balls_purple_red/purple_red_balls_vid.mp4: 384x640 2 ball_purples, 4 ball_reds, 11.0ms\n",
            "video 1/1 (frame 148/1500) /content/drive/MyDrive/Robotics/Object_Detection/balls_purple_red/purple_red_balls_vid.mp4: 384x640 2 ball_purples, 4 ball_reds, 8.6ms\n",
            "video 1/1 (frame 149/1500) /content/drive/MyDrive/Robotics/Object_Detection/balls_purple_red/purple_red_balls_vid.mp4: 384x640 2 ball_purples, 4 ball_reds, 12.0ms\n",
            "video 1/1 (frame 150/1500) /content/drive/MyDrive/Robotics/Object_Detection/balls_purple_red/purple_red_balls_vid.mp4: 384x640 2 ball_purples, 4 ball_reds, 11.8ms\n",
            "video 1/1 (frame 151/1500) /content/drive/MyDrive/Robotics/Object_Detection/balls_purple_red/purple_red_balls_vid.mp4: 384x640 4 ball_purples, 4 ball_reds, 8.3ms\n",
            "video 1/1 (frame 152/1500) /content/drive/MyDrive/Robotics/Object_Detection/balls_purple_red/purple_red_balls_vid.mp4: 384x640 4 ball_purples, 4 ball_reds, 8.5ms\n",
            "video 1/1 (frame 153/1500) /content/drive/MyDrive/Robotics/Object_Detection/balls_purple_red/purple_red_balls_vid.mp4: 384x640 4 ball_purples, 4 ball_reds, 8.2ms\n",
            "video 1/1 (frame 154/1500) /content/drive/MyDrive/Robotics/Object_Detection/balls_purple_red/purple_red_balls_vid.mp4: 384x640 4 ball_purples, 4 ball_reds, 10.2ms\n",
            "video 1/1 (frame 155/1500) /content/drive/MyDrive/Robotics/Object_Detection/balls_purple_red/purple_red_balls_vid.mp4: 384x640 4 ball_purples, 4 ball_reds, 13.6ms\n",
            "video 1/1 (frame 156/1500) /content/drive/MyDrive/Robotics/Object_Detection/balls_purple_red/purple_red_balls_vid.mp4: 384x640 4 ball_purples, 4 ball_reds, 12.1ms\n",
            "video 1/1 (frame 157/1500) /content/drive/MyDrive/Robotics/Object_Detection/balls_purple_red/purple_red_balls_vid.mp4: 384x640 4 ball_purples, 4 ball_reds, 12.6ms\n",
            "video 1/1 (frame 158/1500) /content/drive/MyDrive/Robotics/Object_Detection/balls_purple_red/purple_red_balls_vid.mp4: 384x640 4 ball_purples, 4 ball_reds, 8.7ms\n",
            "video 1/1 (frame 159/1500) /content/drive/MyDrive/Robotics/Object_Detection/balls_purple_red/purple_red_balls_vid.mp4: 384x640 4 ball_purples, 4 ball_reds, 8.2ms\n",
            "video 1/1 (frame 160/1500) /content/drive/MyDrive/Robotics/Object_Detection/balls_purple_red/purple_red_balls_vid.mp4: 384x640 4 ball_purples, 4 ball_reds, 13.4ms\n",
            "video 1/1 (frame 161/1500) /content/drive/MyDrive/Robotics/Object_Detection/balls_purple_red/purple_red_balls_vid.mp4: 384x640 4 ball_purples, 4 ball_reds, 12.0ms\n",
            "video 1/1 (frame 162/1500) /content/drive/MyDrive/Robotics/Object_Detection/balls_purple_red/purple_red_balls_vid.mp4: 384x640 4 ball_purples, 4 ball_reds, 11.1ms\n",
            "video 1/1 (frame 163/1500) /content/drive/MyDrive/Robotics/Object_Detection/balls_purple_red/purple_red_balls_vid.mp4: 384x640 4 ball_purples, 4 ball_reds, 11.0ms\n",
            "video 1/1 (frame 164/1500) /content/drive/MyDrive/Robotics/Object_Detection/balls_purple_red/purple_red_balls_vid.mp4: 384x640 4 ball_purples, 4 ball_reds, 13.8ms\n",
            "video 1/1 (frame 165/1500) /content/drive/MyDrive/Robotics/Object_Detection/balls_purple_red/purple_red_balls_vid.mp4: 384x640 4 ball_purples, 4 ball_reds, 12.7ms\n",
            "video 1/1 (frame 166/1500) /content/drive/MyDrive/Robotics/Object_Detection/balls_purple_red/purple_red_balls_vid.mp4: 384x640 4 ball_purples, 4 ball_reds, 10.1ms\n",
            "video 1/1 (frame 167/1500) /content/drive/MyDrive/Robotics/Object_Detection/balls_purple_red/purple_red_balls_vid.mp4: 384x640 4 ball_purples, 4 ball_reds, 9.9ms\n",
            "video 1/1 (frame 168/1500) /content/drive/MyDrive/Robotics/Object_Detection/balls_purple_red/purple_red_balls_vid.mp4: 384x640 4 ball_purples, 4 ball_reds, 11.8ms\n",
            "video 1/1 (frame 169/1500) /content/drive/MyDrive/Robotics/Object_Detection/balls_purple_red/purple_red_balls_vid.mp4: 384x640 4 ball_purples, 4 ball_reds, 9.8ms\n",
            "video 1/1 (frame 170/1500) /content/drive/MyDrive/Robotics/Object_Detection/balls_purple_red/purple_red_balls_vid.mp4: 384x640 4 ball_purples, 4 ball_reds, 10.9ms\n",
            "video 1/1 (frame 171/1500) /content/drive/MyDrive/Robotics/Object_Detection/balls_purple_red/purple_red_balls_vid.mp4: 384x640 4 ball_purples, 4 ball_reds, 10.1ms\n",
            "video 1/1 (frame 172/1500) /content/drive/MyDrive/Robotics/Object_Detection/balls_purple_red/purple_red_balls_vid.mp4: 384x640 4 ball_purples, 4 ball_reds, 9.6ms\n",
            "video 1/1 (frame 173/1500) /content/drive/MyDrive/Robotics/Object_Detection/balls_purple_red/purple_red_balls_vid.mp4: 384x640 4 ball_purples, 4 ball_reds, 9.5ms\n",
            "video 1/1 (frame 174/1500) /content/drive/MyDrive/Robotics/Object_Detection/balls_purple_red/purple_red_balls_vid.mp4: 384x640 4 ball_purples, 4 ball_reds, 10.5ms\n",
            "video 1/1 (frame 175/1500) /content/drive/MyDrive/Robotics/Object_Detection/balls_purple_red/purple_red_balls_vid.mp4: 384x640 4 ball_purples, 4 ball_reds, 10.6ms\n",
            "video 1/1 (frame 176/1500) /content/drive/MyDrive/Robotics/Object_Detection/balls_purple_red/purple_red_balls_vid.mp4: 384x640 4 ball_purples, 4 ball_reds, 11.2ms\n",
            "video 1/1 (frame 177/1500) /content/drive/MyDrive/Robotics/Object_Detection/balls_purple_red/purple_red_balls_vid.mp4: 384x640 4 ball_purples, 4 ball_reds, 12.4ms\n",
            "video 1/1 (frame 178/1500) /content/drive/MyDrive/Robotics/Object_Detection/balls_purple_red/purple_red_balls_vid.mp4: 384x640 4 ball_purples, 4 ball_reds, 12.2ms\n",
            "video 1/1 (frame 179/1500) /content/drive/MyDrive/Robotics/Object_Detection/balls_purple_red/purple_red_balls_vid.mp4: 384x640 4 ball_purples, 4 ball_reds, 12.5ms\n",
            "video 1/1 (frame 180/1500) /content/drive/MyDrive/Robotics/Object_Detection/balls_purple_red/purple_red_balls_vid.mp4: 384x640 4 ball_purples, 4 ball_reds, 12.2ms\n",
            "video 1/1 (frame 181/1500) /content/drive/MyDrive/Robotics/Object_Detection/balls_purple_red/purple_red_balls_vid.mp4: 384x640 4 ball_purples, 4 ball_reds, 7.0ms\n",
            "video 1/1 (frame 182/1500) /content/drive/MyDrive/Robotics/Object_Detection/balls_purple_red/purple_red_balls_vid.mp4: 384x640 4 ball_purples, 4 ball_reds, 9.1ms\n",
            "video 1/1 (frame 183/1500) /content/drive/MyDrive/Robotics/Object_Detection/balls_purple_red/purple_red_balls_vid.mp4: 384x640 4 ball_purples, 4 ball_reds, 6.5ms\n",
            "video 1/1 (frame 184/1500) /content/drive/MyDrive/Robotics/Object_Detection/balls_purple_red/purple_red_balls_vid.mp4: 384x640 4 ball_purples, 4 ball_reds, 6.5ms\n",
            "video 1/1 (frame 185/1500) /content/drive/MyDrive/Robotics/Object_Detection/balls_purple_red/purple_red_balls_vid.mp4: 384x640 4 ball_purples, 4 ball_reds, 8.5ms\n",
            "video 1/1 (frame 186/1500) /content/drive/MyDrive/Robotics/Object_Detection/balls_purple_red/purple_red_balls_vid.mp4: 384x640 4 ball_purples, 4 ball_reds, 6.9ms\n",
            "video 1/1 (frame 187/1500) /content/drive/MyDrive/Robotics/Object_Detection/balls_purple_red/purple_red_balls_vid.mp4: 384x640 4 ball_purples, 4 ball_reds, 6.6ms\n",
            "video 1/1 (frame 188/1500) /content/drive/MyDrive/Robotics/Object_Detection/balls_purple_red/purple_red_balls_vid.mp4: 384x640 4 ball_purples, 4 ball_reds, 7.2ms\n",
            "video 1/1 (frame 189/1500) /content/drive/MyDrive/Robotics/Object_Detection/balls_purple_red/purple_red_balls_vid.mp4: 384x640 4 ball_purples, 4 ball_reds, 6.7ms\n",
            "video 1/1 (frame 190/1500) /content/drive/MyDrive/Robotics/Object_Detection/balls_purple_red/purple_red_balls_vid.mp4: 384x640 4 ball_purples, 4 ball_reds, 6.5ms\n",
            "video 1/1 (frame 191/1500) /content/drive/MyDrive/Robotics/Object_Detection/balls_purple_red/purple_red_balls_vid.mp4: 384x640 4 ball_purples, 4 ball_reds, 6.6ms\n",
            "video 1/1 (frame 192/1500) /content/drive/MyDrive/Robotics/Object_Detection/balls_purple_red/purple_red_balls_vid.mp4: 384x640 4 ball_purples, 4 ball_reds, 6.5ms\n",
            "video 1/1 (frame 193/1500) /content/drive/MyDrive/Robotics/Object_Detection/balls_purple_red/purple_red_balls_vid.mp4: 384x640 4 ball_purples, 4 ball_reds, 6.8ms\n",
            "video 1/1 (frame 194/1500) /content/drive/MyDrive/Robotics/Object_Detection/balls_purple_red/purple_red_balls_vid.mp4: 384x640 4 ball_purples, 4 ball_reds, 6.7ms\n",
            "video 1/1 (frame 195/1500) /content/drive/MyDrive/Robotics/Object_Detection/balls_purple_red/purple_red_balls_vid.mp4: 384x640 4 ball_purples, 4 ball_reds, 7.7ms\n",
            "video 1/1 (frame 196/1500) /content/drive/MyDrive/Robotics/Object_Detection/balls_purple_red/purple_red_balls_vid.mp4: 384x640 4 ball_purples, 4 ball_reds, 10.3ms\n",
            "video 1/1 (frame 197/1500) /content/drive/MyDrive/Robotics/Object_Detection/balls_purple_red/purple_red_balls_vid.mp4: 384x640 4 ball_purples, 4 ball_reds, 6.6ms\n",
            "video 1/1 (frame 198/1500) /content/drive/MyDrive/Robotics/Object_Detection/balls_purple_red/purple_red_balls_vid.mp4: 384x640 4 ball_purples, 4 ball_reds, 6.7ms\n",
            "video 1/1 (frame 199/1500) /content/drive/MyDrive/Robotics/Object_Detection/balls_purple_red/purple_red_balls_vid.mp4: 384x640 4 ball_purples, 4 ball_reds, 6.8ms\n",
            "video 1/1 (frame 200/1500) /content/drive/MyDrive/Robotics/Object_Detection/balls_purple_red/purple_red_balls_vid.mp4: 384x640 4 ball_purples, 4 ball_reds, 6.8ms\n",
            "video 1/1 (frame 201/1500) /content/drive/MyDrive/Robotics/Object_Detection/balls_purple_red/purple_red_balls_vid.mp4: 384x640 4 ball_purples, 4 ball_reds, 6.6ms\n",
            "video 1/1 (frame 202/1500) /content/drive/MyDrive/Robotics/Object_Detection/balls_purple_red/purple_red_balls_vid.mp4: 384x640 4 ball_purples, 4 ball_reds, 11.0ms\n",
            "video 1/1 (frame 203/1500) /content/drive/MyDrive/Robotics/Object_Detection/balls_purple_red/purple_red_balls_vid.mp4: 384x640 4 ball_purples, 4 ball_reds, 7.0ms\n",
            "video 1/1 (frame 204/1500) /content/drive/MyDrive/Robotics/Object_Detection/balls_purple_red/purple_red_balls_vid.mp4: 384x640 4 ball_purples, 4 ball_reds, 6.6ms\n",
            "video 1/1 (frame 205/1500) /content/drive/MyDrive/Robotics/Object_Detection/balls_purple_red/purple_red_balls_vid.mp4: 384x640 4 ball_purples, 4 ball_reds, 7.0ms\n",
            "video 1/1 (frame 206/1500) /content/drive/MyDrive/Robotics/Object_Detection/balls_purple_red/purple_red_balls_vid.mp4: 384x640 4 ball_purples, 4 ball_reds, 6.6ms\n",
            "video 1/1 (frame 207/1500) /content/drive/MyDrive/Robotics/Object_Detection/balls_purple_red/purple_red_balls_vid.mp4: 384x640 4 ball_purples, 4 ball_reds, 6.5ms\n",
            "video 1/1 (frame 208/1500) /content/drive/MyDrive/Robotics/Object_Detection/balls_purple_red/purple_red_balls_vid.mp4: 384x640 4 ball_purples, 4 ball_reds, 6.8ms\n",
            "video 1/1 (frame 209/1500) /content/drive/MyDrive/Robotics/Object_Detection/balls_purple_red/purple_red_balls_vid.mp4: 384x640 4 ball_purples, 4 ball_reds, 10.1ms\n",
            "video 1/1 (frame 210/1500) /content/drive/MyDrive/Robotics/Object_Detection/balls_purple_red/purple_red_balls_vid.mp4: 384x640 4 ball_purples, 4 ball_reds, 6.7ms\n",
            "video 1/1 (frame 211/1500) /content/drive/MyDrive/Robotics/Object_Detection/balls_purple_red/purple_red_balls_vid.mp4: 384x640 4 ball_purples, 4 ball_reds, 6.5ms\n",
            "video 1/1 (frame 212/1500) /content/drive/MyDrive/Robotics/Object_Detection/balls_purple_red/purple_red_balls_vid.mp4: 384x640 4 ball_purples, 4 ball_reds, 6.5ms\n",
            "video 1/1 (frame 213/1500) /content/drive/MyDrive/Robotics/Object_Detection/balls_purple_red/purple_red_balls_vid.mp4: 384x640 4 ball_purples, 4 ball_reds, 6.6ms\n",
            "video 1/1 (frame 214/1500) /content/drive/MyDrive/Robotics/Object_Detection/balls_purple_red/purple_red_balls_vid.mp4: 384x640 4 ball_purples, 4 ball_reds, 6.8ms\n",
            "video 1/1 (frame 215/1500) /content/drive/MyDrive/Robotics/Object_Detection/balls_purple_red/purple_red_balls_vid.mp4: 384x640 4 ball_purples, 4 ball_reds, 6.6ms\n",
            "video 1/1 (frame 216/1500) /content/drive/MyDrive/Robotics/Object_Detection/balls_purple_red/purple_red_balls_vid.mp4: 384x640 4 ball_purples, 4 ball_reds, 9.1ms\n",
            "video 1/1 (frame 217/1500) /content/drive/MyDrive/Robotics/Object_Detection/balls_purple_red/purple_red_balls_vid.mp4: 384x640 4 ball_purples, 4 ball_reds, 6.6ms\n",
            "video 1/1 (frame 218/1500) /content/drive/MyDrive/Robotics/Object_Detection/balls_purple_red/purple_red_balls_vid.mp4: 384x640 4 ball_purples, 4 ball_reds, 6.7ms\n",
            "video 1/1 (frame 219/1500) /content/drive/MyDrive/Robotics/Object_Detection/balls_purple_red/purple_red_balls_vid.mp4: 384x640 4 ball_purples, 4 ball_reds, 6.5ms\n",
            "video 1/1 (frame 220/1500) /content/drive/MyDrive/Robotics/Object_Detection/balls_purple_red/purple_red_balls_vid.mp4: 384x640 4 ball_purples, 4 ball_reds, 6.6ms\n",
            "video 1/1 (frame 221/1500) /content/drive/MyDrive/Robotics/Object_Detection/balls_purple_red/purple_red_balls_vid.mp4: 384x640 4 ball_purples, 4 ball_reds, 6.8ms\n",
            "video 1/1 (frame 222/1500) /content/drive/MyDrive/Robotics/Object_Detection/balls_purple_red/purple_red_balls_vid.mp4: 384x640 4 ball_purples, 4 ball_reds, 6.4ms\n",
            "video 1/1 (frame 223/1500) /content/drive/MyDrive/Robotics/Object_Detection/balls_purple_red/purple_red_balls_vid.mp4: 384x640 4 ball_purples, 4 ball_reds, 6.4ms\n",
            "video 1/1 (frame 224/1500) /content/drive/MyDrive/Robotics/Object_Detection/balls_purple_red/purple_red_balls_vid.mp4: 384x640 4 ball_purples, 4 ball_reds, 6.7ms\n",
            "video 1/1 (frame 225/1500) /content/drive/MyDrive/Robotics/Object_Detection/balls_purple_red/purple_red_balls_vid.mp4: 384x640 4 ball_purples, 4 ball_reds, 6.5ms\n",
            "video 1/1 (frame 226/1500) /content/drive/MyDrive/Robotics/Object_Detection/balls_purple_red/purple_red_balls_vid.mp4: 384x640 4 ball_purples, 4 ball_reds, 9.7ms\n",
            "video 1/1 (frame 227/1500) /content/drive/MyDrive/Robotics/Object_Detection/balls_purple_red/purple_red_balls_vid.mp4: 384x640 4 ball_purples, 4 ball_reds, 6.3ms\n",
            "video 1/1 (frame 228/1500) /content/drive/MyDrive/Robotics/Object_Detection/balls_purple_red/purple_red_balls_vid.mp4: 384x640 4 ball_purples, 4 ball_reds, 6.7ms\n",
            "video 1/1 (frame 229/1500) /content/drive/MyDrive/Robotics/Object_Detection/balls_purple_red/purple_red_balls_vid.mp4: 384x640 4 ball_purples, 4 ball_reds, 6.7ms\n",
            "video 1/1 (frame 230/1500) /content/drive/MyDrive/Robotics/Object_Detection/balls_purple_red/purple_red_balls_vid.mp4: 384x640 4 ball_purples, 4 ball_reds, 11.8ms\n",
            "video 1/1 (frame 231/1500) /content/drive/MyDrive/Robotics/Object_Detection/balls_purple_red/purple_red_balls_vid.mp4: 384x640 4 ball_purples, 4 ball_reds, 6.8ms\n",
            "video 1/1 (frame 232/1500) /content/drive/MyDrive/Robotics/Object_Detection/balls_purple_red/purple_red_balls_vid.mp4: 384x640 4 ball_purples, 4 ball_reds, 7.7ms\n",
            "video 1/1 (frame 233/1500) /content/drive/MyDrive/Robotics/Object_Detection/balls_purple_red/purple_red_balls_vid.mp4: 384x640 4 ball_purples, 4 ball_reds, 6.7ms\n",
            "video 1/1 (frame 234/1500) /content/drive/MyDrive/Robotics/Object_Detection/balls_purple_red/purple_red_balls_vid.mp4: 384x640 4 ball_purples, 4 ball_reds, 7.8ms\n",
            "video 1/1 (frame 235/1500) /content/drive/MyDrive/Robotics/Object_Detection/balls_purple_red/purple_red_balls_vid.mp4: 384x640 4 ball_purples, 4 ball_reds, 6.7ms\n",
            "video 1/1 (frame 236/1500) /content/drive/MyDrive/Robotics/Object_Detection/balls_purple_red/purple_red_balls_vid.mp4: 384x640 4 ball_purples, 4 ball_reds, 6.8ms\n",
            "video 1/1 (frame 237/1500) /content/drive/MyDrive/Robotics/Object_Detection/balls_purple_red/purple_red_balls_vid.mp4: 384x640 4 ball_purples, 4 ball_reds, 10.1ms\n",
            "video 1/1 (frame 238/1500) /content/drive/MyDrive/Robotics/Object_Detection/balls_purple_red/purple_red_balls_vid.mp4: 384x640 4 ball_purples, 4 ball_reds, 6.7ms\n",
            "video 1/1 (frame 239/1500) /content/drive/MyDrive/Robotics/Object_Detection/balls_purple_red/purple_red_balls_vid.mp4: 384x640 4 ball_purples, 4 ball_reds, 7.3ms\n",
            "video 1/1 (frame 240/1500) /content/drive/MyDrive/Robotics/Object_Detection/balls_purple_red/purple_red_balls_vid.mp4: 384x640 4 ball_purples, 4 ball_reds, 6.7ms\n",
            "video 1/1 (frame 241/1500) /content/drive/MyDrive/Robotics/Object_Detection/balls_purple_red/purple_red_balls_vid.mp4: 384x640 4 ball_purples, 4 ball_reds, 7.3ms\n",
            "video 1/1 (frame 242/1500) /content/drive/MyDrive/Robotics/Object_Detection/balls_purple_red/purple_red_balls_vid.mp4: 384x640 4 ball_purples, 4 ball_reds, 6.8ms\n",
            "video 1/1 (frame 243/1500) /content/drive/MyDrive/Robotics/Object_Detection/balls_purple_red/purple_red_balls_vid.mp4: 384x640 4 ball_purples, 4 ball_reds, 6.6ms\n",
            "video 1/1 (frame 244/1500) /content/drive/MyDrive/Robotics/Object_Detection/balls_purple_red/purple_red_balls_vid.mp4: 384x640 4 ball_purples, 4 ball_reds, 10.4ms\n",
            "video 1/1 (frame 245/1500) /content/drive/MyDrive/Robotics/Object_Detection/balls_purple_red/purple_red_balls_vid.mp4: 384x640 4 ball_purples, 4 ball_reds, 7.5ms\n",
            "video 1/1 (frame 246/1500) /content/drive/MyDrive/Robotics/Object_Detection/balls_purple_red/purple_red_balls_vid.mp4: 384x640 4 ball_purples, 4 ball_reds, 6.7ms\n",
            "video 1/1 (frame 247/1500) /content/drive/MyDrive/Robotics/Object_Detection/balls_purple_red/purple_red_balls_vid.mp4: 384x640 4 ball_purples, 4 ball_reds, 7.0ms\n",
            "video 1/1 (frame 248/1500) /content/drive/MyDrive/Robotics/Object_Detection/balls_purple_red/purple_red_balls_vid.mp4: 384x640 4 ball_purples, 4 ball_reds, 6.5ms\n",
            "video 1/1 (frame 249/1500) /content/drive/MyDrive/Robotics/Object_Detection/balls_purple_red/purple_red_balls_vid.mp4: 384x640 4 ball_purples, 4 ball_reds, 9.6ms\n",
            "video 1/1 (frame 250/1500) /content/drive/MyDrive/Robotics/Object_Detection/balls_purple_red/purple_red_balls_vid.mp4: 384x640 4 ball_purples, 4 ball_reds, 6.7ms\n",
            "video 1/1 (frame 251/1500) /content/drive/MyDrive/Robotics/Object_Detection/balls_purple_red/purple_red_balls_vid.mp4: 384x640 4 ball_purples, 4 ball_reds, 9.5ms\n",
            "video 1/1 (frame 252/1500) /content/drive/MyDrive/Robotics/Object_Detection/balls_purple_red/purple_red_balls_vid.mp4: 384x640 4 ball_purples, 4 ball_reds, 6.4ms\n",
            "video 1/1 (frame 253/1500) /content/drive/MyDrive/Robotics/Object_Detection/balls_purple_red/purple_red_balls_vid.mp4: 384x640 4 ball_purples, 4 ball_reds, 6.3ms\n",
            "video 1/1 (frame 254/1500) /content/drive/MyDrive/Robotics/Object_Detection/balls_purple_red/purple_red_balls_vid.mp4: 384x640 4 ball_purples, 4 ball_reds, 6.9ms\n",
            "video 1/1 (frame 255/1500) /content/drive/MyDrive/Robotics/Object_Detection/balls_purple_red/purple_red_balls_vid.mp4: 384x640 4 ball_purples, 4 ball_reds, 6.7ms\n",
            "video 1/1 (frame 256/1500) /content/drive/MyDrive/Robotics/Object_Detection/balls_purple_red/purple_red_balls_vid.mp4: 384x640 4 ball_purples, 4 ball_reds, 6.7ms\n",
            "video 1/1 (frame 257/1500) /content/drive/MyDrive/Robotics/Object_Detection/balls_purple_red/purple_red_balls_vid.mp4: 384x640 4 ball_purples, 4 ball_reds, 6.7ms\n",
            "video 1/1 (frame 258/1500) /content/drive/MyDrive/Robotics/Object_Detection/balls_purple_red/purple_red_balls_vid.mp4: 384x640 4 ball_purples, 4 ball_reds, 7.1ms\n",
            "video 1/1 (frame 259/1500) /content/drive/MyDrive/Robotics/Object_Detection/balls_purple_red/purple_red_balls_vid.mp4: 384x640 4 ball_purples, 4 ball_reds, 6.5ms\n",
            "video 1/1 (frame 260/1500) /content/drive/MyDrive/Robotics/Object_Detection/balls_purple_red/purple_red_balls_vid.mp4: 384x640 4 ball_purples, 4 ball_reds, 8.2ms\n",
            "video 1/1 (frame 261/1500) /content/drive/MyDrive/Robotics/Object_Detection/balls_purple_red/purple_red_balls_vid.mp4: 384x640 4 ball_purples, 4 ball_reds, 6.8ms\n",
            "video 1/1 (frame 262/1500) /content/drive/MyDrive/Robotics/Object_Detection/balls_purple_red/purple_red_balls_vid.mp4: 384x640 4 ball_purples, 4 ball_reds, 6.4ms\n",
            "video 1/1 (frame 263/1500) /content/drive/MyDrive/Robotics/Object_Detection/balls_purple_red/purple_red_balls_vid.mp4: 384x640 4 ball_purples, 4 ball_reds, 6.4ms\n",
            "video 1/1 (frame 264/1500) /content/drive/MyDrive/Robotics/Object_Detection/balls_purple_red/purple_red_balls_vid.mp4: 384x640 4 ball_purples, 4 ball_reds, 6.5ms\n",
            "video 1/1 (frame 265/1500) /content/drive/MyDrive/Robotics/Object_Detection/balls_purple_red/purple_red_balls_vid.mp4: 384x640 4 ball_purples, 4 ball_reds, 7.0ms\n",
            "video 1/1 (frame 266/1500) /content/drive/MyDrive/Robotics/Object_Detection/balls_purple_red/purple_red_balls_vid.mp4: 384x640 4 ball_purples, 4 ball_reds, 6.4ms\n",
            "video 1/1 (frame 267/1500) /content/drive/MyDrive/Robotics/Object_Detection/balls_purple_red/purple_red_balls_vid.mp4: 384x640 4 ball_purples, 4 ball_reds, 6.5ms\n",
            "video 1/1 (frame 268/1500) /content/drive/MyDrive/Robotics/Object_Detection/balls_purple_red/purple_red_balls_vid.mp4: 384x640 4 ball_purples, 4 ball_reds, 6.7ms\n",
            "video 1/1 (frame 269/1500) /content/drive/MyDrive/Robotics/Object_Detection/balls_purple_red/purple_red_balls_vid.mp4: 384x640 4 ball_purples, 4 ball_reds, 6.5ms\n",
            "video 1/1 (frame 270/1500) /content/drive/MyDrive/Robotics/Object_Detection/balls_purple_red/purple_red_balls_vid.mp4: 384x640 4 ball_purples, 4 ball_reds, 6.8ms\n",
            "video 1/1 (frame 271/1500) /content/drive/MyDrive/Robotics/Object_Detection/balls_purple_red/purple_red_balls_vid.mp4: 384x640 4 ball_purples, 4 ball_reds, 6.7ms\n",
            "video 1/1 (frame 272/1500) /content/drive/MyDrive/Robotics/Object_Detection/balls_purple_red/purple_red_balls_vid.mp4: 384x640 4 ball_purples, 4 ball_reds, 7.9ms\n",
            "video 1/1 (frame 273/1500) /content/drive/MyDrive/Robotics/Object_Detection/balls_purple_red/purple_red_balls_vid.mp4: 384x640 4 ball_purples, 4 ball_reds, 6.7ms\n",
            "video 1/1 (frame 274/1500) /content/drive/MyDrive/Robotics/Object_Detection/balls_purple_red/purple_red_balls_vid.mp4: 384x640 4 ball_purples, 4 ball_reds, 6.6ms\n",
            "video 1/1 (frame 275/1500) /content/drive/MyDrive/Robotics/Object_Detection/balls_purple_red/purple_red_balls_vid.mp4: 384x640 4 ball_purples, 4 ball_reds, 7.0ms\n",
            "video 1/1 (frame 276/1500) /content/drive/MyDrive/Robotics/Object_Detection/balls_purple_red/purple_red_balls_vid.mp4: 384x640 4 ball_purples, 4 ball_reds, 6.6ms\n",
            "video 1/1 (frame 277/1500) /content/drive/MyDrive/Robotics/Object_Detection/balls_purple_red/purple_red_balls_vid.mp4: 384x640 4 ball_purples, 4 ball_reds, 6.9ms\n",
            "video 1/1 (frame 278/1500) /content/drive/MyDrive/Robotics/Object_Detection/balls_purple_red/purple_red_balls_vid.mp4: 384x640 4 ball_purples, 4 ball_reds, 11.0ms\n",
            "video 1/1 (frame 279/1500) /content/drive/MyDrive/Robotics/Object_Detection/balls_purple_red/purple_red_balls_vid.mp4: 384x640 4 ball_purples, 4 ball_reds, 10.8ms\n",
            "video 1/1 (frame 280/1500) /content/drive/MyDrive/Robotics/Object_Detection/balls_purple_red/purple_red_balls_vid.mp4: 384x640 4 ball_purples, 4 ball_reds, 6.6ms\n",
            "video 1/1 (frame 281/1500) /content/drive/MyDrive/Robotics/Object_Detection/balls_purple_red/purple_red_balls_vid.mp4: 384x640 4 ball_purples, 4 ball_reds, 6.7ms\n",
            "video 1/1 (frame 282/1500) /content/drive/MyDrive/Robotics/Object_Detection/balls_purple_red/purple_red_balls_vid.mp4: 384x640 4 ball_purples, 4 ball_reds, 6.6ms\n",
            "video 1/1 (frame 283/1500) /content/drive/MyDrive/Robotics/Object_Detection/balls_purple_red/purple_red_balls_vid.mp4: 384x640 4 ball_purples, 4 ball_reds, 6.6ms\n",
            "video 1/1 (frame 284/1500) /content/drive/MyDrive/Robotics/Object_Detection/balls_purple_red/purple_red_balls_vid.mp4: 384x640 4 ball_purples, 4 ball_reds, 6.6ms\n",
            "video 1/1 (frame 285/1500) /content/drive/MyDrive/Robotics/Object_Detection/balls_purple_red/purple_red_balls_vid.mp4: 384x640 4 ball_purples, 4 ball_reds, 6.5ms\n",
            "video 1/1 (frame 286/1500) /content/drive/MyDrive/Robotics/Object_Detection/balls_purple_red/purple_red_balls_vid.mp4: 384x640 4 ball_purples, 4 ball_reds, 6.6ms\n",
            "video 1/1 (frame 287/1500) /content/drive/MyDrive/Robotics/Object_Detection/balls_purple_red/purple_red_balls_vid.mp4: 384x640 4 ball_purples, 4 ball_reds, 7.3ms\n",
            "video 1/1 (frame 288/1500) /content/drive/MyDrive/Robotics/Object_Detection/balls_purple_red/purple_red_balls_vid.mp4: 384x640 4 ball_purples, 4 ball_reds, 9.5ms\n",
            "video 1/1 (frame 289/1500) /content/drive/MyDrive/Robotics/Object_Detection/balls_purple_red/purple_red_balls_vid.mp4: 384x640 4 ball_purples, 4 ball_reds, 6.5ms\n",
            "video 1/1 (frame 290/1500) /content/drive/MyDrive/Robotics/Object_Detection/balls_purple_red/purple_red_balls_vid.mp4: 384x640 4 ball_purples, 4 ball_reds, 7.1ms\n",
            "video 1/1 (frame 291/1500) /content/drive/MyDrive/Robotics/Object_Detection/balls_purple_red/purple_red_balls_vid.mp4: 384x640 4 ball_purples, 4 ball_reds, 6.5ms\n",
            "video 1/1 (frame 292/1500) /content/drive/MyDrive/Robotics/Object_Detection/balls_purple_red/purple_red_balls_vid.mp4: 384x640 4 ball_purples, 4 ball_reds, 7.2ms\n",
            "video 1/1 (frame 293/1500) /content/drive/MyDrive/Robotics/Object_Detection/balls_purple_red/purple_red_balls_vid.mp4: 384x640 4 ball_purples, 4 ball_reds, 6.6ms\n",
            "video 1/1 (frame 294/1500) /content/drive/MyDrive/Robotics/Object_Detection/balls_purple_red/purple_red_balls_vid.mp4: 384x640 4 ball_purples, 4 ball_reds, 7.3ms\n",
            "video 1/1 (frame 295/1500) /content/drive/MyDrive/Robotics/Object_Detection/balls_purple_red/purple_red_balls_vid.mp4: 384x640 4 ball_purples, 4 ball_reds, 6.9ms\n",
            "video 1/1 (frame 296/1500) /content/drive/MyDrive/Robotics/Object_Detection/balls_purple_red/purple_red_balls_vid.mp4: 384x640 4 ball_purples, 4 ball_reds, 6.7ms\n",
            "video 1/1 (frame 297/1500) /content/drive/MyDrive/Robotics/Object_Detection/balls_purple_red/purple_red_balls_vid.mp4: 384x640 4 ball_purples, 4 ball_reds, 6.8ms\n",
            "video 1/1 (frame 298/1500) /content/drive/MyDrive/Robotics/Object_Detection/balls_purple_red/purple_red_balls_vid.mp4: 384x640 4 ball_purples, 4 ball_reds, 14.8ms\n",
            "video 1/1 (frame 299/1500) /content/drive/MyDrive/Robotics/Object_Detection/balls_purple_red/purple_red_balls_vid.mp4: 384x640 4 ball_purples, 4 ball_reds, 8.7ms\n",
            "video 1/1 (frame 300/1500) /content/drive/MyDrive/Robotics/Object_Detection/balls_purple_red/purple_red_balls_vid.mp4: 384x640 4 ball_purples, 4 ball_reds, 6.8ms\n",
            "video 1/1 (frame 301/1500) /content/drive/MyDrive/Robotics/Object_Detection/balls_purple_red/purple_red_balls_vid.mp4: 384x640 3 ball_purples, 2 ball_reds, 6.8ms\n",
            "video 1/1 (frame 302/1500) /content/drive/MyDrive/Robotics/Object_Detection/balls_purple_red/purple_red_balls_vid.mp4: 384x640 3 ball_purples, 2 ball_reds, 6.6ms\n",
            "video 1/1 (frame 303/1500) /content/drive/MyDrive/Robotics/Object_Detection/balls_purple_red/purple_red_balls_vid.mp4: 384x640 3 ball_purples, 2 ball_reds, 6.7ms\n",
            "video 1/1 (frame 304/1500) /content/drive/MyDrive/Robotics/Object_Detection/balls_purple_red/purple_red_balls_vid.mp4: 384x640 3 ball_purples, 2 ball_reds, 9.5ms\n",
            "video 1/1 (frame 305/1500) /content/drive/MyDrive/Robotics/Object_Detection/balls_purple_red/purple_red_balls_vid.mp4: 384x640 3 ball_purples, 2 ball_reds, 6.5ms\n",
            "video 1/1 (frame 306/1500) /content/drive/MyDrive/Robotics/Object_Detection/balls_purple_red/purple_red_balls_vid.mp4: 384x640 3 ball_purples, 2 ball_reds, 6.8ms\n",
            "video 1/1 (frame 307/1500) /content/drive/MyDrive/Robotics/Object_Detection/balls_purple_red/purple_red_balls_vid.mp4: 384x640 3 ball_purples, 2 ball_reds, 6.7ms\n",
            "video 1/1 (frame 308/1500) /content/drive/MyDrive/Robotics/Object_Detection/balls_purple_red/purple_red_balls_vid.mp4: 384x640 3 ball_purples, 2 ball_reds, 7.0ms\n",
            "video 1/1 (frame 309/1500) /content/drive/MyDrive/Robotics/Object_Detection/balls_purple_red/purple_red_balls_vid.mp4: 384x640 3 ball_purples, 2 ball_reds, 6.5ms\n",
            "video 1/1 (frame 310/1500) /content/drive/MyDrive/Robotics/Object_Detection/balls_purple_red/purple_red_balls_vid.mp4: 384x640 3 ball_purples, 2 ball_reds, 7.0ms\n",
            "video 1/1 (frame 311/1500) /content/drive/MyDrive/Robotics/Object_Detection/balls_purple_red/purple_red_balls_vid.mp4: 384x640 3 ball_purples, 2 ball_reds, 7.0ms\n",
            "video 1/1 (frame 312/1500) /content/drive/MyDrive/Robotics/Object_Detection/balls_purple_red/purple_red_balls_vid.mp4: 384x640 3 ball_purples, 2 ball_reds, 7.0ms\n",
            "video 1/1 (frame 313/1500) /content/drive/MyDrive/Robotics/Object_Detection/balls_purple_red/purple_red_balls_vid.mp4: 384x640 3 ball_purples, 2 ball_reds, 6.7ms\n",
            "video 1/1 (frame 314/1500) /content/drive/MyDrive/Robotics/Object_Detection/balls_purple_red/purple_red_balls_vid.mp4: 384x640 3 ball_purples, 2 ball_reds, 7.0ms\n",
            "video 1/1 (frame 315/1500) /content/drive/MyDrive/Robotics/Object_Detection/balls_purple_red/purple_red_balls_vid.mp4: 384x640 3 ball_purples, 2 ball_reds, 6.7ms\n",
            "video 1/1 (frame 316/1500) /content/drive/MyDrive/Robotics/Object_Detection/balls_purple_red/purple_red_balls_vid.mp4: 384x640 3 ball_purples, 2 ball_reds, 7.0ms\n",
            "video 1/1 (frame 317/1500) /content/drive/MyDrive/Robotics/Object_Detection/balls_purple_red/purple_red_balls_vid.mp4: 384x640 3 ball_purples, 2 ball_reds, 6.6ms\n",
            "video 1/1 (frame 318/1500) /content/drive/MyDrive/Robotics/Object_Detection/balls_purple_red/purple_red_balls_vid.mp4: 384x640 3 ball_purples, 2 ball_reds, 8.7ms\n",
            "video 1/1 (frame 319/1500) /content/drive/MyDrive/Robotics/Object_Detection/balls_purple_red/purple_red_balls_vid.mp4: 384x640 3 ball_purples, 2 ball_reds, 6.6ms\n",
            "video 1/1 (frame 320/1500) /content/drive/MyDrive/Robotics/Object_Detection/balls_purple_red/purple_red_balls_vid.mp4: 384x640 3 ball_purples, 2 ball_reds, 6.7ms\n",
            "video 1/1 (frame 321/1500) /content/drive/MyDrive/Robotics/Object_Detection/balls_purple_red/purple_red_balls_vid.mp4: 384x640 3 ball_purples, 2 ball_reds, 9.7ms\n",
            "video 1/1 (frame 322/1500) /content/drive/MyDrive/Robotics/Object_Detection/balls_purple_red/purple_red_balls_vid.mp4: 384x640 3 ball_purples, 2 ball_reds, 6.6ms\n",
            "video 1/1 (frame 323/1500) /content/drive/MyDrive/Robotics/Object_Detection/balls_purple_red/purple_red_balls_vid.mp4: 384x640 3 ball_purples, 2 ball_reds, 6.2ms\n",
            "video 1/1 (frame 324/1500) /content/drive/MyDrive/Robotics/Object_Detection/balls_purple_red/purple_red_balls_vid.mp4: 384x640 3 ball_purples, 2 ball_reds, 6.9ms\n",
            "video 1/1 (frame 325/1500) /content/drive/MyDrive/Robotics/Object_Detection/balls_purple_red/purple_red_balls_vid.mp4: 384x640 3 ball_purples, 2 ball_reds, 8.2ms\n",
            "video 1/1 (frame 326/1500) /content/drive/MyDrive/Robotics/Object_Detection/balls_purple_red/purple_red_balls_vid.mp4: 384x640 3 ball_purples, 2 ball_reds, 9.4ms\n",
            "video 1/1 (frame 327/1500) /content/drive/MyDrive/Robotics/Object_Detection/balls_purple_red/purple_red_balls_vid.mp4: 384x640 3 ball_purples, 2 ball_reds, 6.7ms\n",
            "video 1/1 (frame 328/1500) /content/drive/MyDrive/Robotics/Object_Detection/balls_purple_red/purple_red_balls_vid.mp4: 384x640 3 ball_purples, 2 ball_reds, 7.2ms\n",
            "video 1/1 (frame 329/1500) /content/drive/MyDrive/Robotics/Object_Detection/balls_purple_red/purple_red_balls_vid.mp4: 384x640 3 ball_purples, 2 ball_reds, 6.6ms\n",
            "video 1/1 (frame 330/1500) /content/drive/MyDrive/Robotics/Object_Detection/balls_purple_red/purple_red_balls_vid.mp4: 384x640 3 ball_purples, 2 ball_reds, 6.6ms\n",
            "video 1/1 (frame 331/1500) /content/drive/MyDrive/Robotics/Object_Detection/balls_purple_red/purple_red_balls_vid.mp4: 384x640 3 ball_purples, 2 ball_reds, 6.5ms\n",
            "video 1/1 (frame 332/1500) /content/drive/MyDrive/Robotics/Object_Detection/balls_purple_red/purple_red_balls_vid.mp4: 384x640 3 ball_purples, 2 ball_reds, 6.7ms\n",
            "video 1/1 (frame 333/1500) /content/drive/MyDrive/Robotics/Object_Detection/balls_purple_red/purple_red_balls_vid.mp4: 384x640 3 ball_purples, 2 ball_reds, 9.4ms\n",
            "video 1/1 (frame 334/1500) /content/drive/MyDrive/Robotics/Object_Detection/balls_purple_red/purple_red_balls_vid.mp4: 384x640 3 ball_purples, 2 ball_reds, 6.5ms\n",
            "video 1/1 (frame 335/1500) /content/drive/MyDrive/Robotics/Object_Detection/balls_purple_red/purple_red_balls_vid.mp4: 384x640 3 ball_purples, 2 ball_reds, 7.2ms\n",
            "video 1/1 (frame 336/1500) /content/drive/MyDrive/Robotics/Object_Detection/balls_purple_red/purple_red_balls_vid.mp4: 384x640 3 ball_purples, 2 ball_reds, 6.4ms\n",
            "video 1/1 (frame 337/1500) /content/drive/MyDrive/Robotics/Object_Detection/balls_purple_red/purple_red_balls_vid.mp4: 384x640 3 ball_purples, 2 ball_reds, 6.5ms\n",
            "video 1/1 (frame 338/1500) /content/drive/MyDrive/Robotics/Object_Detection/balls_purple_red/purple_red_balls_vid.mp4: 384x640 3 ball_purples, 2 ball_reds, 6.5ms\n",
            "video 1/1 (frame 339/1500) /content/drive/MyDrive/Robotics/Object_Detection/balls_purple_red/purple_red_balls_vid.mp4: 384x640 3 ball_purples, 2 ball_reds, 6.9ms\n",
            "video 1/1 (frame 340/1500) /content/drive/MyDrive/Robotics/Object_Detection/balls_purple_red/purple_red_balls_vid.mp4: 384x640 3 ball_purples, 2 ball_reds, 7.2ms\n",
            "video 1/1 (frame 341/1500) /content/drive/MyDrive/Robotics/Object_Detection/balls_purple_red/purple_red_balls_vid.mp4: 384x640 3 ball_purples, 2 ball_reds, 6.7ms\n",
            "video 1/1 (frame 342/1500) /content/drive/MyDrive/Robotics/Object_Detection/balls_purple_red/purple_red_balls_vid.mp4: 384x640 3 ball_purples, 2 ball_reds, 9.8ms\n",
            "video 1/1 (frame 343/1500) /content/drive/MyDrive/Robotics/Object_Detection/balls_purple_red/purple_red_balls_vid.mp4: 384x640 3 ball_purples, 2 ball_reds, 7.4ms\n",
            "video 1/1 (frame 344/1500) /content/drive/MyDrive/Robotics/Object_Detection/balls_purple_red/purple_red_balls_vid.mp4: 384x640 3 ball_purples, 2 ball_reds, 6.6ms\n",
            "video 1/1 (frame 345/1500) /content/drive/MyDrive/Robotics/Object_Detection/balls_purple_red/purple_red_balls_vid.mp4: 384x640 3 ball_purples, 2 ball_reds, 7.3ms\n",
            "video 1/1 (frame 346/1500) /content/drive/MyDrive/Robotics/Object_Detection/balls_purple_red/purple_red_balls_vid.mp4: 384x640 3 ball_purples, 2 ball_reds, 6.5ms\n",
            "video 1/1 (frame 347/1500) /content/drive/MyDrive/Robotics/Object_Detection/balls_purple_red/purple_red_balls_vid.mp4: 384x640 3 ball_purples, 2 ball_reds, 6.7ms\n",
            "video 1/1 (frame 348/1500) /content/drive/MyDrive/Robotics/Object_Detection/balls_purple_red/purple_red_balls_vid.mp4: 384x640 3 ball_purples, 2 ball_reds, 6.6ms\n",
            "video 1/1 (frame 349/1500) /content/drive/MyDrive/Robotics/Object_Detection/balls_purple_red/purple_red_balls_vid.mp4: 384x640 3 ball_purples, 2 ball_reds, 8.6ms\n",
            "video 1/1 (frame 350/1500) /content/drive/MyDrive/Robotics/Object_Detection/balls_purple_red/purple_red_balls_vid.mp4: 384x640 3 ball_purples, 2 ball_reds, 10.8ms\n",
            "video 1/1 (frame 351/1500) /content/drive/MyDrive/Robotics/Object_Detection/balls_purple_red/purple_red_balls_vid.mp4: 384x640 3 ball_purples, 2 ball_reds, 7.0ms\n",
            "video 1/1 (frame 352/1500) /content/drive/MyDrive/Robotics/Object_Detection/balls_purple_red/purple_red_balls_vid.mp4: 384x640 3 ball_purples, 2 ball_reds, 7.5ms\n",
            "video 1/1 (frame 353/1500) /content/drive/MyDrive/Robotics/Object_Detection/balls_purple_red/purple_red_balls_vid.mp4: 384x640 3 ball_purples, 2 ball_reds, 6.6ms\n",
            "video 1/1 (frame 354/1500) /content/drive/MyDrive/Robotics/Object_Detection/balls_purple_red/purple_red_balls_vid.mp4: 384x640 3 ball_purples, 2 ball_reds, 6.9ms\n",
            "video 1/1 (frame 355/1500) /content/drive/MyDrive/Robotics/Object_Detection/balls_purple_red/purple_red_balls_vid.mp4: 384x640 3 ball_purples, 2 ball_reds, 6.7ms\n",
            "video 1/1 (frame 356/1500) /content/drive/MyDrive/Robotics/Object_Detection/balls_purple_red/purple_red_balls_vid.mp4: 384x640 3 ball_purples, 2 ball_reds, 6.6ms\n",
            "video 1/1 (frame 357/1500) /content/drive/MyDrive/Robotics/Object_Detection/balls_purple_red/purple_red_balls_vid.mp4: 384x640 3 ball_purples, 2 ball_reds, 7.3ms\n",
            "video 1/1 (frame 358/1500) /content/drive/MyDrive/Robotics/Object_Detection/balls_purple_red/purple_red_balls_vid.mp4: 384x640 3 ball_purples, 2 ball_reds, 6.5ms\n",
            "video 1/1 (frame 359/1500) /content/drive/MyDrive/Robotics/Object_Detection/balls_purple_red/purple_red_balls_vid.mp4: 384x640 3 ball_purples, 2 ball_reds, 6.4ms\n",
            "video 1/1 (frame 360/1500) /content/drive/MyDrive/Robotics/Object_Detection/balls_purple_red/purple_red_balls_vid.mp4: 384x640 3 ball_purples, 2 ball_reds, 6.6ms\n",
            "video 1/1 (frame 361/1500) /content/drive/MyDrive/Robotics/Object_Detection/balls_purple_red/purple_red_balls_vid.mp4: 384x640 3 ball_purples, 2 ball_reds, 7.1ms\n",
            "video 1/1 (frame 362/1500) /content/drive/MyDrive/Robotics/Object_Detection/balls_purple_red/purple_red_balls_vid.mp4: 384x640 3 ball_purples, 2 ball_reds, 7.2ms\n",
            "video 1/1 (frame 363/1500) /content/drive/MyDrive/Robotics/Object_Detection/balls_purple_red/purple_red_balls_vid.mp4: 384x640 3 ball_purples, 2 ball_reds, 6.6ms\n",
            "video 1/1 (frame 364/1500) /content/drive/MyDrive/Robotics/Object_Detection/balls_purple_red/purple_red_balls_vid.mp4: 384x640 3 ball_purples, 2 ball_reds, 6.8ms\n",
            "video 1/1 (frame 365/1500) /content/drive/MyDrive/Robotics/Object_Detection/balls_purple_red/purple_red_balls_vid.mp4: 384x640 3 ball_purples, 2 ball_reds, 6.5ms\n",
            "video 1/1 (frame 366/1500) /content/drive/MyDrive/Robotics/Object_Detection/balls_purple_red/purple_red_balls_vid.mp4: 384x640 3 ball_purples, 2 ball_reds, 6.4ms\n",
            "video 1/1 (frame 367/1500) /content/drive/MyDrive/Robotics/Object_Detection/balls_purple_red/purple_red_balls_vid.mp4: 384x640 3 ball_purples, 2 ball_reds, 7.2ms\n",
            "video 1/1 (frame 368/1500) /content/drive/MyDrive/Robotics/Object_Detection/balls_purple_red/purple_red_balls_vid.mp4: 384x640 3 ball_purples, 2 ball_reds, 6.6ms\n",
            "video 1/1 (frame 369/1500) /content/drive/MyDrive/Robotics/Object_Detection/balls_purple_red/purple_red_balls_vid.mp4: 384x640 3 ball_purples, 2 ball_reds, 7.1ms\n",
            "video 1/1 (frame 370/1500) /content/drive/MyDrive/Robotics/Object_Detection/balls_purple_red/purple_red_balls_vid.mp4: 384x640 3 ball_purples, 2 ball_reds, 6.4ms\n",
            "video 1/1 (frame 371/1500) /content/drive/MyDrive/Robotics/Object_Detection/balls_purple_red/purple_red_balls_vid.mp4: 384x640 3 ball_purples, 2 ball_reds, 6.8ms\n",
            "video 1/1 (frame 372/1500) /content/drive/MyDrive/Robotics/Object_Detection/balls_purple_red/purple_red_balls_vid.mp4: 384x640 3 ball_purples, 2 ball_reds, 6.8ms\n",
            "video 1/1 (frame 373/1500) /content/drive/MyDrive/Robotics/Object_Detection/balls_purple_red/purple_red_balls_vid.mp4: 384x640 3 ball_purples, 2 ball_reds, 6.7ms\n",
            "video 1/1 (frame 374/1500) /content/drive/MyDrive/Robotics/Object_Detection/balls_purple_red/purple_red_balls_vid.mp4: 384x640 3 ball_purples, 2 ball_reds, 7.8ms\n",
            "video 1/1 (frame 375/1500) /content/drive/MyDrive/Robotics/Object_Detection/balls_purple_red/purple_red_balls_vid.mp4: 384x640 3 ball_purples, 2 ball_reds, 6.8ms\n",
            "video 1/1 (frame 376/1500) /content/drive/MyDrive/Robotics/Object_Detection/balls_purple_red/purple_red_balls_vid.mp4: 384x640 3 ball_purples, 2 ball_reds, 6.8ms\n",
            "video 1/1 (frame 377/1500) /content/drive/MyDrive/Robotics/Object_Detection/balls_purple_red/purple_red_balls_vid.mp4: 384x640 3 ball_purples, 2 ball_reds, 6.8ms\n",
            "video 1/1 (frame 378/1500) /content/drive/MyDrive/Robotics/Object_Detection/balls_purple_red/purple_red_balls_vid.mp4: 384x640 3 ball_purples, 2 ball_reds, 6.8ms\n",
            "video 1/1 (frame 379/1500) /content/drive/MyDrive/Robotics/Object_Detection/balls_purple_red/purple_red_balls_vid.mp4: 384x640 3 ball_purples, 2 ball_reds, 12.1ms\n",
            "video 1/1 (frame 380/1500) /content/drive/MyDrive/Robotics/Object_Detection/balls_purple_red/purple_red_balls_vid.mp4: 384x640 3 ball_purples, 2 ball_reds, 7.1ms\n",
            "video 1/1 (frame 381/1500) /content/drive/MyDrive/Robotics/Object_Detection/balls_purple_red/purple_red_balls_vid.mp4: 384x640 3 ball_purples, 2 ball_reds, 7.0ms\n",
            "video 1/1 (frame 382/1500) /content/drive/MyDrive/Robotics/Object_Detection/balls_purple_red/purple_red_balls_vid.mp4: 384x640 3 ball_purples, 2 ball_reds, 6.7ms\n",
            "video 1/1 (frame 383/1500) /content/drive/MyDrive/Robotics/Object_Detection/balls_purple_red/purple_red_balls_vid.mp4: 384x640 3 ball_purples, 2 ball_reds, 6.9ms\n",
            "video 1/1 (frame 384/1500) /content/drive/MyDrive/Robotics/Object_Detection/balls_purple_red/purple_red_balls_vid.mp4: 384x640 3 ball_purples, 2 ball_reds, 6.9ms\n",
            "video 1/1 (frame 385/1500) /content/drive/MyDrive/Robotics/Object_Detection/balls_purple_red/purple_red_balls_vid.mp4: 384x640 3 ball_purples, 2 ball_reds, 7.0ms\n",
            "video 1/1 (frame 386/1500) /content/drive/MyDrive/Robotics/Object_Detection/balls_purple_red/purple_red_balls_vid.mp4: 384x640 3 ball_purples, 2 ball_reds, 7.6ms\n",
            "video 1/1 (frame 387/1500) /content/drive/MyDrive/Robotics/Object_Detection/balls_purple_red/purple_red_balls_vid.mp4: 384x640 3 ball_purples, 2 ball_reds, 7.8ms\n",
            "video 1/1 (frame 388/1500) /content/drive/MyDrive/Robotics/Object_Detection/balls_purple_red/purple_red_balls_vid.mp4: 384x640 3 ball_purples, 2 ball_reds, 6.6ms\n",
            "video 1/1 (frame 389/1500) /content/drive/MyDrive/Robotics/Object_Detection/balls_purple_red/purple_red_balls_vid.mp4: 384x640 3 ball_purples, 2 ball_reds, 9.6ms\n",
            "video 1/1 (frame 390/1500) /content/drive/MyDrive/Robotics/Object_Detection/balls_purple_red/purple_red_balls_vid.mp4: 384x640 3 ball_purples, 2 ball_reds, 7.2ms\n",
            "video 1/1 (frame 391/1500) /content/drive/MyDrive/Robotics/Object_Detection/balls_purple_red/purple_red_balls_vid.mp4: 384x640 3 ball_purples, 2 ball_reds, 6.7ms\n",
            "video 1/1 (frame 392/1500) /content/drive/MyDrive/Robotics/Object_Detection/balls_purple_red/purple_red_balls_vid.mp4: 384x640 3 ball_purples, 2 ball_reds, 7.0ms\n",
            "video 1/1 (frame 393/1500) /content/drive/MyDrive/Robotics/Object_Detection/balls_purple_red/purple_red_balls_vid.mp4: 384x640 3 ball_purples, 2 ball_reds, 6.7ms\n",
            "video 1/1 (frame 394/1500) /content/drive/MyDrive/Robotics/Object_Detection/balls_purple_red/purple_red_balls_vid.mp4: 384x640 3 ball_purples, 2 ball_reds, 6.9ms\n",
            "video 1/1 (frame 395/1500) /content/drive/MyDrive/Robotics/Object_Detection/balls_purple_red/purple_red_balls_vid.mp4: 384x640 3 ball_purples, 2 ball_reds, 6.7ms\n",
            "video 1/1 (frame 396/1500) /content/drive/MyDrive/Robotics/Object_Detection/balls_purple_red/purple_red_balls_vid.mp4: 384x640 3 ball_purples, 2 ball_reds, 6.9ms\n",
            "video 1/1 (frame 397/1500) /content/drive/MyDrive/Robotics/Object_Detection/balls_purple_red/purple_red_balls_vid.mp4: 384x640 3 ball_purples, 2 ball_reds, 6.9ms\n",
            "video 1/1 (frame 398/1500) /content/drive/MyDrive/Robotics/Object_Detection/balls_purple_red/purple_red_balls_vid.mp4: 384x640 3 ball_purples, 2 ball_reds, 11.2ms\n",
            "video 1/1 (frame 399/1500) /content/drive/MyDrive/Robotics/Object_Detection/balls_purple_red/purple_red_balls_vid.mp4: 384x640 3 ball_purples, 2 ball_reds, 6.8ms\n",
            "video 1/1 (frame 400/1500) /content/drive/MyDrive/Robotics/Object_Detection/balls_purple_red/purple_red_balls_vid.mp4: 384x640 3 ball_purples, 2 ball_reds, 6.9ms\n",
            "video 1/1 (frame 401/1500) /content/drive/MyDrive/Robotics/Object_Detection/balls_purple_red/purple_red_balls_vid.mp4: 384x640 3 ball_purples, 2 ball_reds, 6.8ms\n",
            "video 1/1 (frame 402/1500) /content/drive/MyDrive/Robotics/Object_Detection/balls_purple_red/purple_red_balls_vid.mp4: 384x640 3 ball_purples, 2 ball_reds, 7.1ms\n",
            "video 1/1 (frame 403/1500) /content/drive/MyDrive/Robotics/Object_Detection/balls_purple_red/purple_red_balls_vid.mp4: 384x640 3 ball_purples, 2 ball_reds, 6.6ms\n",
            "video 1/1 (frame 404/1500) /content/drive/MyDrive/Robotics/Object_Detection/balls_purple_red/purple_red_balls_vid.mp4: 384x640 3 ball_purples, 2 ball_reds, 6.6ms\n",
            "video 1/1 (frame 405/1500) /content/drive/MyDrive/Robotics/Object_Detection/balls_purple_red/purple_red_balls_vid.mp4: 384x640 3 ball_purples, 2 ball_reds, 7.0ms\n",
            "video 1/1 (frame 406/1500) /content/drive/MyDrive/Robotics/Object_Detection/balls_purple_red/purple_red_balls_vid.mp4: 384x640 3 ball_purples, 2 ball_reds, 8.3ms\n",
            "video 1/1 (frame 407/1500) /content/drive/MyDrive/Robotics/Object_Detection/balls_purple_red/purple_red_balls_vid.mp4: 384x640 3 ball_purples, 2 ball_reds, 7.7ms\n",
            "video 1/1 (frame 408/1500) /content/drive/MyDrive/Robotics/Object_Detection/balls_purple_red/purple_red_balls_vid.mp4: 384x640 3 ball_purples, 2 ball_reds, 9.3ms\n",
            "video 1/1 (frame 409/1500) /content/drive/MyDrive/Robotics/Object_Detection/balls_purple_red/purple_red_balls_vid.mp4: 384x640 3 ball_purples, 2 ball_reds, 7.2ms\n",
            "video 1/1 (frame 410/1500) /content/drive/MyDrive/Robotics/Object_Detection/balls_purple_red/purple_red_balls_vid.mp4: 384x640 3 ball_purples, 2 ball_reds, 6.8ms\n",
            "video 1/1 (frame 411/1500) /content/drive/MyDrive/Robotics/Object_Detection/balls_purple_red/purple_red_balls_vid.mp4: 384x640 3 ball_purples, 2 ball_reds, 6.6ms\n",
            "video 1/1 (frame 412/1500) /content/drive/MyDrive/Robotics/Object_Detection/balls_purple_red/purple_red_balls_vid.mp4: 384x640 3 ball_purples, 2 ball_reds, 6.7ms\n",
            "video 1/1 (frame 413/1500) /content/drive/MyDrive/Robotics/Object_Detection/balls_purple_red/purple_red_balls_vid.mp4: 384x640 3 ball_purples, 2 ball_reds, 11.6ms\n",
            "video 1/1 (frame 414/1500) /content/drive/MyDrive/Robotics/Object_Detection/balls_purple_red/purple_red_balls_vid.mp4: 384x640 3 ball_purples, 2 ball_reds, 8.3ms\n",
            "video 1/1 (frame 415/1500) /content/drive/MyDrive/Robotics/Object_Detection/balls_purple_red/purple_red_balls_vid.mp4: 384x640 3 ball_purples, 2 ball_reds, 11.9ms\n",
            "video 1/1 (frame 416/1500) /content/drive/MyDrive/Robotics/Object_Detection/balls_purple_red/purple_red_balls_vid.mp4: 384x640 3 ball_purples, 2 ball_reds, 12.2ms\n",
            "video 1/1 (frame 417/1500) /content/drive/MyDrive/Robotics/Object_Detection/balls_purple_red/purple_red_balls_vid.mp4: 384x640 3 ball_purples, 2 ball_reds, 14.9ms\n",
            "video 1/1 (frame 418/1500) /content/drive/MyDrive/Robotics/Object_Detection/balls_purple_red/purple_red_balls_vid.mp4: 384x640 3 ball_purples, 2 ball_reds, 9.5ms\n",
            "video 1/1 (frame 419/1500) /content/drive/MyDrive/Robotics/Object_Detection/balls_purple_red/purple_red_balls_vid.mp4: 384x640 3 ball_purples, 2 ball_reds, 11.4ms\n",
            "video 1/1 (frame 420/1500) /content/drive/MyDrive/Robotics/Object_Detection/balls_purple_red/purple_red_balls_vid.mp4: 384x640 3 ball_purples, 2 ball_reds, 11.3ms\n",
            "video 1/1 (frame 421/1500) /content/drive/MyDrive/Robotics/Object_Detection/balls_purple_red/purple_red_balls_vid.mp4: 384x640 3 ball_purples, 2 ball_reds, 8.8ms\n",
            "video 1/1 (frame 422/1500) /content/drive/MyDrive/Robotics/Object_Detection/balls_purple_red/purple_red_balls_vid.mp4: 384x640 3 ball_purples, 2 ball_reds, 9.9ms\n",
            "video 1/1 (frame 423/1500) /content/drive/MyDrive/Robotics/Object_Detection/balls_purple_red/purple_red_balls_vid.mp4: 384x640 3 ball_purples, 2 ball_reds, 10.7ms\n",
            "video 1/1 (frame 424/1500) /content/drive/MyDrive/Robotics/Object_Detection/balls_purple_red/purple_red_balls_vid.mp4: 384x640 3 ball_purples, 2 ball_reds, 9.4ms\n",
            "video 1/1 (frame 425/1500) /content/drive/MyDrive/Robotics/Object_Detection/balls_purple_red/purple_red_balls_vid.mp4: 384x640 3 ball_purples, 2 ball_reds, 9.1ms\n",
            "video 1/1 (frame 426/1500) /content/drive/MyDrive/Robotics/Object_Detection/balls_purple_red/purple_red_balls_vid.mp4: 384x640 3 ball_purples, 2 ball_reds, 9.6ms\n",
            "video 1/1 (frame 427/1500) /content/drive/MyDrive/Robotics/Object_Detection/balls_purple_red/purple_red_balls_vid.mp4: 384x640 3 ball_purples, 2 ball_reds, 16.4ms\n",
            "video 1/1 (frame 428/1500) /content/drive/MyDrive/Robotics/Object_Detection/balls_purple_red/purple_red_balls_vid.mp4: 384x640 3 ball_purples, 2 ball_reds, 8.7ms\n",
            "video 1/1 (frame 429/1500) /content/drive/MyDrive/Robotics/Object_Detection/balls_purple_red/purple_red_balls_vid.mp4: 384x640 3 ball_purples, 2 ball_reds, 8.4ms\n",
            "video 1/1 (frame 430/1500) /content/drive/MyDrive/Robotics/Object_Detection/balls_purple_red/purple_red_balls_vid.mp4: 384x640 3 ball_purples, 2 ball_reds, 8.6ms\n",
            "video 1/1 (frame 431/1500) /content/drive/MyDrive/Robotics/Object_Detection/balls_purple_red/purple_red_balls_vid.mp4: 384x640 3 ball_purples, 2 ball_reds, 8.5ms\n",
            "video 1/1 (frame 432/1500) /content/drive/MyDrive/Robotics/Object_Detection/balls_purple_red/purple_red_balls_vid.mp4: 384x640 3 ball_purples, 2 ball_reds, 9.0ms\n",
            "video 1/1 (frame 433/1500) /content/drive/MyDrive/Robotics/Object_Detection/balls_purple_red/purple_red_balls_vid.mp4: 384x640 3 ball_purples, 2 ball_reds, 12.3ms\n",
            "video 1/1 (frame 434/1500) /content/drive/MyDrive/Robotics/Object_Detection/balls_purple_red/purple_red_balls_vid.mp4: 384x640 3 ball_purples, 2 ball_reds, 12.7ms\n",
            "video 1/1 (frame 435/1500) /content/drive/MyDrive/Robotics/Object_Detection/balls_purple_red/purple_red_balls_vid.mp4: 384x640 3 ball_purples, 2 ball_reds, 13.6ms\n",
            "video 1/1 (frame 436/1500) /content/drive/MyDrive/Robotics/Object_Detection/balls_purple_red/purple_red_balls_vid.mp4: 384x640 3 ball_purples, 2 ball_reds, 11.9ms\n",
            "video 1/1 (frame 437/1500) /content/drive/MyDrive/Robotics/Object_Detection/balls_purple_red/purple_red_balls_vid.mp4: 384x640 3 ball_purples, 2 ball_reds, 14.4ms\n",
            "video 1/1 (frame 438/1500) /content/drive/MyDrive/Robotics/Object_Detection/balls_purple_red/purple_red_balls_vid.mp4: 384x640 3 ball_purples, 2 ball_reds, 13.3ms\n",
            "video 1/1 (frame 439/1500) /content/drive/MyDrive/Robotics/Object_Detection/balls_purple_red/purple_red_balls_vid.mp4: 384x640 3 ball_purples, 2 ball_reds, 12.2ms\n",
            "video 1/1 (frame 440/1500) /content/drive/MyDrive/Robotics/Object_Detection/balls_purple_red/purple_red_balls_vid.mp4: 384x640 3 ball_purples, 2 ball_reds, 9.0ms\n",
            "video 1/1 (frame 441/1500) /content/drive/MyDrive/Robotics/Object_Detection/balls_purple_red/purple_red_balls_vid.mp4: 384x640 3 ball_purples, 2 ball_reds, 9.1ms\n",
            "video 1/1 (frame 442/1500) /content/drive/MyDrive/Robotics/Object_Detection/balls_purple_red/purple_red_balls_vid.mp4: 384x640 3 ball_purples, 2 ball_reds, 8.9ms\n",
            "video 1/1 (frame 443/1500) /content/drive/MyDrive/Robotics/Object_Detection/balls_purple_red/purple_red_balls_vid.mp4: 384x640 3 ball_purples, 2 ball_reds, 11.6ms\n",
            "video 1/1 (frame 444/1500) /content/drive/MyDrive/Robotics/Object_Detection/balls_purple_red/purple_red_balls_vid.mp4: 384x640 3 ball_purples, 2 ball_reds, 8.9ms\n",
            "video 1/1 (frame 445/1500) /content/drive/MyDrive/Robotics/Object_Detection/balls_purple_red/purple_red_balls_vid.mp4: 384x640 3 ball_purples, 2 ball_reds, 15.0ms\n",
            "video 1/1 (frame 446/1500) /content/drive/MyDrive/Robotics/Object_Detection/balls_purple_red/purple_red_balls_vid.mp4: 384x640 3 ball_purples, 2 ball_reds, 8.5ms\n",
            "video 1/1 (frame 447/1500) /content/drive/MyDrive/Robotics/Object_Detection/balls_purple_red/purple_red_balls_vid.mp4: 384x640 3 ball_purples, 2 ball_reds, 8.9ms\n",
            "video 1/1 (frame 448/1500) /content/drive/MyDrive/Robotics/Object_Detection/balls_purple_red/purple_red_balls_vid.mp4: 384x640 3 ball_purples, 2 ball_reds, 12.2ms\n",
            "video 1/1 (frame 449/1500) /content/drive/MyDrive/Robotics/Object_Detection/balls_purple_red/purple_red_balls_vid.mp4: 384x640 3 ball_purples, 2 ball_reds, 8.3ms\n",
            "video 1/1 (frame 450/1500) /content/drive/MyDrive/Robotics/Object_Detection/balls_purple_red/purple_red_balls_vid.mp4: 384x640 3 ball_purples, 2 ball_reds, 9.9ms\n",
            "video 1/1 (frame 451/1500) /content/drive/MyDrive/Robotics/Object_Detection/balls_purple_red/purple_red_balls_vid.mp4: 384x640 3 ball_purples, 3 ball_reds, 8.6ms\n",
            "video 1/1 (frame 452/1500) /content/drive/MyDrive/Robotics/Object_Detection/balls_purple_red/purple_red_balls_vid.mp4: 384x640 3 ball_purples, 3 ball_reds, 11.1ms\n",
            "video 1/1 (frame 453/1500) /content/drive/MyDrive/Robotics/Object_Detection/balls_purple_red/purple_red_balls_vid.mp4: 384x640 3 ball_purples, 3 ball_reds, 18.4ms\n",
            "video 1/1 (frame 454/1500) /content/drive/MyDrive/Robotics/Object_Detection/balls_purple_red/purple_red_balls_vid.mp4: 384x640 3 ball_purples, 3 ball_reds, 13.8ms\n",
            "video 1/1 (frame 455/1500) /content/drive/MyDrive/Robotics/Object_Detection/balls_purple_red/purple_red_balls_vid.mp4: 384x640 3 ball_purples, 3 ball_reds, 9.3ms\n",
            "video 1/1 (frame 456/1500) /content/drive/MyDrive/Robotics/Object_Detection/balls_purple_red/purple_red_balls_vid.mp4: 384x640 3 ball_purples, 3 ball_reds, 8.7ms\n",
            "video 1/1 (frame 457/1500) /content/drive/MyDrive/Robotics/Object_Detection/balls_purple_red/purple_red_balls_vid.mp4: 384x640 3 ball_purples, 3 ball_reds, 13.4ms\n",
            "video 1/1 (frame 458/1500) /content/drive/MyDrive/Robotics/Object_Detection/balls_purple_red/purple_red_balls_vid.mp4: 384x640 3 ball_purples, 3 ball_reds, 14.1ms\n",
            "video 1/1 (frame 459/1500) /content/drive/MyDrive/Robotics/Object_Detection/balls_purple_red/purple_red_balls_vid.mp4: 384x640 3 ball_purples, 3 ball_reds, 14.7ms\n",
            "video 1/1 (frame 460/1500) /content/drive/MyDrive/Robotics/Object_Detection/balls_purple_red/purple_red_balls_vid.mp4: 384x640 3 ball_purples, 3 ball_reds, 11.3ms\n",
            "video 1/1 (frame 461/1500) /content/drive/MyDrive/Robotics/Object_Detection/balls_purple_red/purple_red_balls_vid.mp4: 384x640 3 ball_purples, 3 ball_reds, 10.3ms\n",
            "video 1/1 (frame 462/1500) /content/drive/MyDrive/Robotics/Object_Detection/balls_purple_red/purple_red_balls_vid.mp4: 384x640 3 ball_purples, 3 ball_reds, 10.5ms\n",
            "video 1/1 (frame 463/1500) /content/drive/MyDrive/Robotics/Object_Detection/balls_purple_red/purple_red_balls_vid.mp4: 384x640 3 ball_purples, 3 ball_reds, 10.2ms\n",
            "video 1/1 (frame 464/1500) /content/drive/MyDrive/Robotics/Object_Detection/balls_purple_red/purple_red_balls_vid.mp4: 384x640 3 ball_purples, 3 ball_reds, 9.8ms\n",
            "video 1/1 (frame 465/1500) /content/drive/MyDrive/Robotics/Object_Detection/balls_purple_red/purple_red_balls_vid.mp4: 384x640 3 ball_purples, 3 ball_reds, 9.8ms\n",
            "video 1/1 (frame 466/1500) /content/drive/MyDrive/Robotics/Object_Detection/balls_purple_red/purple_red_balls_vid.mp4: 384x640 3 ball_purples, 3 ball_reds, 9.9ms\n",
            "video 1/1 (frame 467/1500) /content/drive/MyDrive/Robotics/Object_Detection/balls_purple_red/purple_red_balls_vid.mp4: 384x640 3 ball_purples, 3 ball_reds, 11.9ms\n",
            "video 1/1 (frame 468/1500) /content/drive/MyDrive/Robotics/Object_Detection/balls_purple_red/purple_red_balls_vid.mp4: 384x640 3 ball_purples, 3 ball_reds, 10.1ms\n",
            "video 1/1 (frame 469/1500) /content/drive/MyDrive/Robotics/Object_Detection/balls_purple_red/purple_red_balls_vid.mp4: 384x640 3 ball_purples, 3 ball_reds, 9.8ms\n",
            "video 1/1 (frame 470/1500) /content/drive/MyDrive/Robotics/Object_Detection/balls_purple_red/purple_red_balls_vid.mp4: 384x640 3 ball_purples, 3 ball_reds, 11.5ms\n",
            "video 1/1 (frame 471/1500) /content/drive/MyDrive/Robotics/Object_Detection/balls_purple_red/purple_red_balls_vid.mp4: 384x640 3 ball_purples, 3 ball_reds, 10.5ms\n",
            "video 1/1 (frame 472/1500) /content/drive/MyDrive/Robotics/Object_Detection/balls_purple_red/purple_red_balls_vid.mp4: 384x640 3 ball_purples, 3 ball_reds, 10.6ms\n",
            "video 1/1 (frame 473/1500) /content/drive/MyDrive/Robotics/Object_Detection/balls_purple_red/purple_red_balls_vid.mp4: 384x640 3 ball_purples, 3 ball_reds, 12.0ms\n",
            "video 1/1 (frame 474/1500) /content/drive/MyDrive/Robotics/Object_Detection/balls_purple_red/purple_red_balls_vid.mp4: 384x640 3 ball_purples, 3 ball_reds, 12.2ms\n",
            "video 1/1 (frame 475/1500) /content/drive/MyDrive/Robotics/Object_Detection/balls_purple_red/purple_red_balls_vid.mp4: 384x640 3 ball_purples, 3 ball_reds, 13.5ms\n",
            "video 1/1 (frame 476/1500) /content/drive/MyDrive/Robotics/Object_Detection/balls_purple_red/purple_red_balls_vid.mp4: 384x640 3 ball_purples, 3 ball_reds, 13.7ms\n",
            "video 1/1 (frame 477/1500) /content/drive/MyDrive/Robotics/Object_Detection/balls_purple_red/purple_red_balls_vid.mp4: 384x640 3 ball_purples, 3 ball_reds, 12.1ms\n",
            "video 1/1 (frame 478/1500) /content/drive/MyDrive/Robotics/Object_Detection/balls_purple_red/purple_red_balls_vid.mp4: 384x640 3 ball_purples, 3 ball_reds, 7.0ms\n",
            "video 1/1 (frame 479/1500) /content/drive/MyDrive/Robotics/Object_Detection/balls_purple_red/purple_red_balls_vid.mp4: 384x640 3 ball_purples, 3 ball_reds, 8.4ms\n",
            "video 1/1 (frame 480/1500) /content/drive/MyDrive/Robotics/Object_Detection/balls_purple_red/purple_red_balls_vid.mp4: 384x640 3 ball_purples, 3 ball_reds, 11.6ms\n",
            "video 1/1 (frame 481/1500) /content/drive/MyDrive/Robotics/Object_Detection/balls_purple_red/purple_red_balls_vid.mp4: 384x640 3 ball_purples, 3 ball_reds, 6.8ms\n",
            "video 1/1 (frame 482/1500) /content/drive/MyDrive/Robotics/Object_Detection/balls_purple_red/purple_red_balls_vid.mp4: 384x640 3 ball_purples, 3 ball_reds, 6.5ms\n",
            "video 1/1 (frame 483/1500) /content/drive/MyDrive/Robotics/Object_Detection/balls_purple_red/purple_red_balls_vid.mp4: 384x640 3 ball_purples, 3 ball_reds, 6.7ms\n",
            "video 1/1 (frame 484/1500) /content/drive/MyDrive/Robotics/Object_Detection/balls_purple_red/purple_red_balls_vid.mp4: 384x640 3 ball_purples, 3 ball_reds, 7.2ms\n",
            "video 1/1 (frame 485/1500) /content/drive/MyDrive/Robotics/Object_Detection/balls_purple_red/purple_red_balls_vid.mp4: 384x640 3 ball_purples, 3 ball_reds, 6.5ms\n",
            "video 1/1 (frame 486/1500) /content/drive/MyDrive/Robotics/Object_Detection/balls_purple_red/purple_red_balls_vid.mp4: 384x640 3 ball_purples, 3 ball_reds, 13.0ms\n",
            "video 1/1 (frame 487/1500) /content/drive/MyDrive/Robotics/Object_Detection/balls_purple_red/purple_red_balls_vid.mp4: 384x640 3 ball_purples, 3 ball_reds, 6.9ms\n",
            "video 1/1 (frame 488/1500) /content/drive/MyDrive/Robotics/Object_Detection/balls_purple_red/purple_red_balls_vid.mp4: 384x640 3 ball_purples, 3 ball_reds, 6.9ms\n",
            "video 1/1 (frame 489/1500) /content/drive/MyDrive/Robotics/Object_Detection/balls_purple_red/purple_red_balls_vid.mp4: 384x640 3 ball_purples, 3 ball_reds, 7.5ms\n",
            "video 1/1 (frame 490/1500) /content/drive/MyDrive/Robotics/Object_Detection/balls_purple_red/purple_red_balls_vid.mp4: 384x640 3 ball_purples, 3 ball_reds, 9.3ms\n",
            "video 1/1 (frame 491/1500) /content/drive/MyDrive/Robotics/Object_Detection/balls_purple_red/purple_red_balls_vid.mp4: 384x640 3 ball_purples, 3 ball_reds, 6.9ms\n",
            "video 1/1 (frame 492/1500) /content/drive/MyDrive/Robotics/Object_Detection/balls_purple_red/purple_red_balls_vid.mp4: 384x640 3 ball_purples, 3 ball_reds, 6.6ms\n",
            "video 1/1 (frame 493/1500) /content/drive/MyDrive/Robotics/Object_Detection/balls_purple_red/purple_red_balls_vid.mp4: 384x640 3 ball_purples, 3 ball_reds, 6.7ms\n",
            "video 1/1 (frame 494/1500) /content/drive/MyDrive/Robotics/Object_Detection/balls_purple_red/purple_red_balls_vid.mp4: 384x640 3 ball_purples, 3 ball_reds, 9.4ms\n",
            "video 1/1 (frame 495/1500) /content/drive/MyDrive/Robotics/Object_Detection/balls_purple_red/purple_red_balls_vid.mp4: 384x640 3 ball_purples, 3 ball_reds, 7.3ms\n",
            "video 1/1 (frame 496/1500) /content/drive/MyDrive/Robotics/Object_Detection/balls_purple_red/purple_red_balls_vid.mp4: 384x640 3 ball_purples, 3 ball_reds, 7.0ms\n",
            "video 1/1 (frame 497/1500) /content/drive/MyDrive/Robotics/Object_Detection/balls_purple_red/purple_red_balls_vid.mp4: 384x640 3 ball_purples, 3 ball_reds, 6.8ms\n",
            "video 1/1 (frame 498/1500) /content/drive/MyDrive/Robotics/Object_Detection/balls_purple_red/purple_red_balls_vid.mp4: 384x640 3 ball_purples, 3 ball_reds, 10.3ms\n",
            "video 1/1 (frame 499/1500) /content/drive/MyDrive/Robotics/Object_Detection/balls_purple_red/purple_red_balls_vid.mp4: 384x640 3 ball_purples, 3 ball_reds, 6.6ms\n",
            "video 1/1 (frame 500/1500) /content/drive/MyDrive/Robotics/Object_Detection/balls_purple_red/purple_red_balls_vid.mp4: 384x640 3 ball_purples, 3 ball_reds, 6.9ms\n",
            "video 1/1 (frame 501/1500) /content/drive/MyDrive/Robotics/Object_Detection/balls_purple_red/purple_red_balls_vid.mp4: 384x640 3 ball_purples, 3 ball_reds, 7.1ms\n",
            "video 1/1 (frame 502/1500) /content/drive/MyDrive/Robotics/Object_Detection/balls_purple_red/purple_red_balls_vid.mp4: 384x640 3 ball_purples, 3 ball_reds, 6.8ms\n",
            "video 1/1 (frame 503/1500) /content/drive/MyDrive/Robotics/Object_Detection/balls_purple_red/purple_red_balls_vid.mp4: 384x640 3 ball_purples, 3 ball_reds, 6.7ms\n",
            "video 1/1 (frame 504/1500) /content/drive/MyDrive/Robotics/Object_Detection/balls_purple_red/purple_red_balls_vid.mp4: 384x640 3 ball_purples, 3 ball_reds, 6.7ms\n",
            "video 1/1 (frame 505/1500) /content/drive/MyDrive/Robotics/Object_Detection/balls_purple_red/purple_red_balls_vid.mp4: 384x640 3 ball_purples, 3 ball_reds, 7.5ms\n",
            "video 1/1 (frame 506/1500) /content/drive/MyDrive/Robotics/Object_Detection/balls_purple_red/purple_red_balls_vid.mp4: 384x640 3 ball_purples, 3 ball_reds, 12.6ms\n",
            "video 1/1 (frame 507/1500) /content/drive/MyDrive/Robotics/Object_Detection/balls_purple_red/purple_red_balls_vid.mp4: 384x640 3 ball_purples, 3 ball_reds, 7.1ms\n",
            "video 1/1 (frame 508/1500) /content/drive/MyDrive/Robotics/Object_Detection/balls_purple_red/purple_red_balls_vid.mp4: 384x640 3 ball_purples, 3 ball_reds, 6.6ms\n",
            "video 1/1 (frame 509/1500) /content/drive/MyDrive/Robotics/Object_Detection/balls_purple_red/purple_red_balls_vid.mp4: 384x640 3 ball_purples, 3 ball_reds, 11.3ms\n",
            "video 1/1 (frame 510/1500) /content/drive/MyDrive/Robotics/Object_Detection/balls_purple_red/purple_red_balls_vid.mp4: 384x640 3 ball_purples, 3 ball_reds, 6.6ms\n",
            "video 1/1 (frame 511/1500) /content/drive/MyDrive/Robotics/Object_Detection/balls_purple_red/purple_red_balls_vid.mp4: 384x640 3 ball_purples, 3 ball_reds, 6.6ms\n",
            "video 1/1 (frame 512/1500) /content/drive/MyDrive/Robotics/Object_Detection/balls_purple_red/purple_red_balls_vid.mp4: 384x640 3 ball_purples, 3 ball_reds, 6.9ms\n",
            "video 1/1 (frame 513/1500) /content/drive/MyDrive/Robotics/Object_Detection/balls_purple_red/purple_red_balls_vid.mp4: 384x640 3 ball_purples, 3 ball_reds, 7.2ms\n",
            "video 1/1 (frame 514/1500) /content/drive/MyDrive/Robotics/Object_Detection/balls_purple_red/purple_red_balls_vid.mp4: 384x640 3 ball_purples, 3 ball_reds, 7.0ms\n",
            "video 1/1 (frame 515/1500) /content/drive/MyDrive/Robotics/Object_Detection/balls_purple_red/purple_red_balls_vid.mp4: 384x640 3 ball_purples, 3 ball_reds, 6.7ms\n",
            "video 1/1 (frame 516/1500) /content/drive/MyDrive/Robotics/Object_Detection/balls_purple_red/purple_red_balls_vid.mp4: 384x640 3 ball_purples, 3 ball_reds, 6.8ms\n",
            "video 1/1 (frame 517/1500) /content/drive/MyDrive/Robotics/Object_Detection/balls_purple_red/purple_red_balls_vid.mp4: 384x640 3 ball_purples, 3 ball_reds, 7.7ms\n",
            "video 1/1 (frame 518/1500) /content/drive/MyDrive/Robotics/Object_Detection/balls_purple_red/purple_red_balls_vid.mp4: 384x640 3 ball_purples, 3 ball_reds, 6.9ms\n",
            "video 1/1 (frame 519/1500) /content/drive/MyDrive/Robotics/Object_Detection/balls_purple_red/purple_red_balls_vid.mp4: 384x640 3 ball_purples, 3 ball_reds, 6.7ms\n",
            "video 1/1 (frame 520/1500) /content/drive/MyDrive/Robotics/Object_Detection/balls_purple_red/purple_red_balls_vid.mp4: 384x640 3 ball_purples, 3 ball_reds, 6.9ms\n",
            "video 1/1 (frame 521/1500) /content/drive/MyDrive/Robotics/Object_Detection/balls_purple_red/purple_red_balls_vid.mp4: 384x640 3 ball_purples, 3 ball_reds, 6.9ms\n",
            "video 1/1 (frame 522/1500) /content/drive/MyDrive/Robotics/Object_Detection/balls_purple_red/purple_red_balls_vid.mp4: 384x640 3 ball_purples, 3 ball_reds, 6.6ms\n",
            "video 1/1 (frame 523/1500) /content/drive/MyDrive/Robotics/Object_Detection/balls_purple_red/purple_red_balls_vid.mp4: 384x640 3 ball_purples, 3 ball_reds, 6.8ms\n",
            "video 1/1 (frame 524/1500) /content/drive/MyDrive/Robotics/Object_Detection/balls_purple_red/purple_red_balls_vid.mp4: 384x640 3 ball_purples, 3 ball_reds, 6.5ms\n",
            "video 1/1 (frame 525/1500) /content/drive/MyDrive/Robotics/Object_Detection/balls_purple_red/purple_red_balls_vid.mp4: 384x640 3 ball_purples, 3 ball_reds, 6.9ms\n",
            "video 1/1 (frame 526/1500) /content/drive/MyDrive/Robotics/Object_Detection/balls_purple_red/purple_red_balls_vid.mp4: 384x640 3 ball_purples, 3 ball_reds, 6.7ms\n",
            "video 1/1 (frame 527/1500) /content/drive/MyDrive/Robotics/Object_Detection/balls_purple_red/purple_red_balls_vid.mp4: 384x640 3 ball_purples, 3 ball_reds, 6.7ms\n",
            "video 1/1 (frame 528/1500) /content/drive/MyDrive/Robotics/Object_Detection/balls_purple_red/purple_red_balls_vid.mp4: 384x640 3 ball_purples, 3 ball_reds, 7.4ms\n",
            "video 1/1 (frame 529/1500) /content/drive/MyDrive/Robotics/Object_Detection/balls_purple_red/purple_red_balls_vid.mp4: 384x640 3 ball_purples, 3 ball_reds, 7.1ms\n",
            "video 1/1 (frame 530/1500) /content/drive/MyDrive/Robotics/Object_Detection/balls_purple_red/purple_red_balls_vid.mp4: 384x640 3 ball_purples, 3 ball_reds, 6.8ms\n",
            "video 1/1 (frame 531/1500) /content/drive/MyDrive/Robotics/Object_Detection/balls_purple_red/purple_red_balls_vid.mp4: 384x640 3 ball_purples, 3 ball_reds, 6.8ms\n",
            "video 1/1 (frame 532/1500) /content/drive/MyDrive/Robotics/Object_Detection/balls_purple_red/purple_red_balls_vid.mp4: 384x640 3 ball_purples, 3 ball_reds, 6.9ms\n",
            "video 1/1 (frame 533/1500) /content/drive/MyDrive/Robotics/Object_Detection/balls_purple_red/purple_red_balls_vid.mp4: 384x640 3 ball_purples, 3 ball_reds, 7.1ms\n",
            "video 1/1 (frame 534/1500) /content/drive/MyDrive/Robotics/Object_Detection/balls_purple_red/purple_red_balls_vid.mp4: 384x640 3 ball_purples, 3 ball_reds, 6.8ms\n",
            "video 1/1 (frame 535/1500) /content/drive/MyDrive/Robotics/Object_Detection/balls_purple_red/purple_red_balls_vid.mp4: 384x640 3 ball_purples, 3 ball_reds, 6.7ms\n",
            "video 1/1 (frame 536/1500) /content/drive/MyDrive/Robotics/Object_Detection/balls_purple_red/purple_red_balls_vid.mp4: 384x640 3 ball_purples, 3 ball_reds, 7.1ms\n",
            "video 1/1 (frame 537/1500) /content/drive/MyDrive/Robotics/Object_Detection/balls_purple_red/purple_red_balls_vid.mp4: 384x640 3 ball_purples, 3 ball_reds, 7.6ms\n",
            "video 1/1 (frame 538/1500) /content/drive/MyDrive/Robotics/Object_Detection/balls_purple_red/purple_red_balls_vid.mp4: 384x640 3 ball_purples, 3 ball_reds, 6.9ms\n",
            "video 1/1 (frame 539/1500) /content/drive/MyDrive/Robotics/Object_Detection/balls_purple_red/purple_red_balls_vid.mp4: 384x640 3 ball_purples, 3 ball_reds, 6.7ms\n",
            "video 1/1 (frame 540/1500) /content/drive/MyDrive/Robotics/Object_Detection/balls_purple_red/purple_red_balls_vid.mp4: 384x640 3 ball_purples, 3 ball_reds, 7.9ms\n",
            "video 1/1 (frame 541/1500) /content/drive/MyDrive/Robotics/Object_Detection/balls_purple_red/purple_red_balls_vid.mp4: 384x640 3 ball_purples, 3 ball_reds, 6.9ms\n",
            "video 1/1 (frame 542/1500) /content/drive/MyDrive/Robotics/Object_Detection/balls_purple_red/purple_red_balls_vid.mp4: 384x640 3 ball_purples, 3 ball_reds, 6.9ms\n",
            "video 1/1 (frame 543/1500) /content/drive/MyDrive/Robotics/Object_Detection/balls_purple_red/purple_red_balls_vid.mp4: 384x640 3 ball_purples, 3 ball_reds, 6.7ms\n",
            "video 1/1 (frame 544/1500) /content/drive/MyDrive/Robotics/Object_Detection/balls_purple_red/purple_red_balls_vid.mp4: 384x640 3 ball_purples, 3 ball_reds, 7.4ms\n",
            "video 1/1 (frame 545/1500) /content/drive/MyDrive/Robotics/Object_Detection/balls_purple_red/purple_red_balls_vid.mp4: 384x640 3 ball_purples, 3 ball_reds, 7.0ms\n",
            "video 1/1 (frame 546/1500) /content/drive/MyDrive/Robotics/Object_Detection/balls_purple_red/purple_red_balls_vid.mp4: 384x640 3 ball_purples, 3 ball_reds, 8.9ms\n",
            "video 1/1 (frame 547/1500) /content/drive/MyDrive/Robotics/Object_Detection/balls_purple_red/purple_red_balls_vid.mp4: 384x640 3 ball_purples, 3 ball_reds, 6.7ms\n",
            "video 1/1 (frame 548/1500) /content/drive/MyDrive/Robotics/Object_Detection/balls_purple_red/purple_red_balls_vid.mp4: 384x640 3 ball_purples, 3 ball_reds, 7.0ms\n",
            "video 1/1 (frame 549/1500) /content/drive/MyDrive/Robotics/Object_Detection/balls_purple_red/purple_red_balls_vid.mp4: 384x640 3 ball_purples, 3 ball_reds, 6.9ms\n",
            "video 1/1 (frame 550/1500) /content/drive/MyDrive/Robotics/Object_Detection/balls_purple_red/purple_red_balls_vid.mp4: 384x640 3 ball_purples, 3 ball_reds, 6.8ms\n",
            "video 1/1 (frame 551/1500) /content/drive/MyDrive/Robotics/Object_Detection/balls_purple_red/purple_red_balls_vid.mp4: 384x640 3 ball_purples, 3 ball_reds, 8.3ms\n",
            "video 1/1 (frame 552/1500) /content/drive/MyDrive/Robotics/Object_Detection/balls_purple_red/purple_red_balls_vid.mp4: 384x640 3 ball_purples, 3 ball_reds, 8.3ms\n",
            "video 1/1 (frame 553/1500) /content/drive/MyDrive/Robotics/Object_Detection/balls_purple_red/purple_red_balls_vid.mp4: 384x640 3 ball_purples, 3 ball_reds, 7.3ms\n",
            "video 1/1 (frame 554/1500) /content/drive/MyDrive/Robotics/Object_Detection/balls_purple_red/purple_red_balls_vid.mp4: 384x640 3 ball_purples, 3 ball_reds, 8.8ms\n",
            "video 1/1 (frame 555/1500) /content/drive/MyDrive/Robotics/Object_Detection/balls_purple_red/purple_red_balls_vid.mp4: 384x640 3 ball_purples, 3 ball_reds, 6.6ms\n",
            "video 1/1 (frame 556/1500) /content/drive/MyDrive/Robotics/Object_Detection/balls_purple_red/purple_red_balls_vid.mp4: 384x640 3 ball_purples, 3 ball_reds, 12.3ms\n",
            "video 1/1 (frame 557/1500) /content/drive/MyDrive/Robotics/Object_Detection/balls_purple_red/purple_red_balls_vid.mp4: 384x640 3 ball_purples, 3 ball_reds, 6.7ms\n",
            "video 1/1 (frame 558/1500) /content/drive/MyDrive/Robotics/Object_Detection/balls_purple_red/purple_red_balls_vid.mp4: 384x640 3 ball_purples, 3 ball_reds, 7.0ms\n",
            "video 1/1 (frame 559/1500) /content/drive/MyDrive/Robotics/Object_Detection/balls_purple_red/purple_red_balls_vid.mp4: 384x640 3 ball_purples, 3 ball_reds, 6.9ms\n",
            "video 1/1 (frame 560/1500) /content/drive/MyDrive/Robotics/Object_Detection/balls_purple_red/purple_red_balls_vid.mp4: 384x640 3 ball_purples, 3 ball_reds, 7.3ms\n",
            "video 1/1 (frame 561/1500) /content/drive/MyDrive/Robotics/Object_Detection/balls_purple_red/purple_red_balls_vid.mp4: 384x640 3 ball_purples, 3 ball_reds, 6.9ms\n",
            "video 1/1 (frame 562/1500) /content/drive/MyDrive/Robotics/Object_Detection/balls_purple_red/purple_red_balls_vid.mp4: 384x640 3 ball_purples, 3 ball_reds, 11.2ms\n",
            "video 1/1 (frame 563/1500) /content/drive/MyDrive/Robotics/Object_Detection/balls_purple_red/purple_red_balls_vid.mp4: 384x640 3 ball_purples, 3 ball_reds, 7.0ms\n",
            "video 1/1 (frame 564/1500) /content/drive/MyDrive/Robotics/Object_Detection/balls_purple_red/purple_red_balls_vid.mp4: 384x640 3 ball_purples, 3 ball_reds, 10.2ms\n",
            "video 1/1 (frame 565/1500) /content/drive/MyDrive/Robotics/Object_Detection/balls_purple_red/purple_red_balls_vid.mp4: 384x640 3 ball_purples, 3 ball_reds, 6.8ms\n",
            "video 1/1 (frame 566/1500) /content/drive/MyDrive/Robotics/Object_Detection/balls_purple_red/purple_red_balls_vid.mp4: 384x640 3 ball_purples, 3 ball_reds, 7.0ms\n",
            "video 1/1 (frame 567/1500) /content/drive/MyDrive/Robotics/Object_Detection/balls_purple_red/purple_red_balls_vid.mp4: 384x640 3 ball_purples, 3 ball_reds, 7.0ms\n",
            "video 1/1 (frame 568/1500) /content/drive/MyDrive/Robotics/Object_Detection/balls_purple_red/purple_red_balls_vid.mp4: 384x640 3 ball_purples, 3 ball_reds, 6.6ms\n",
            "video 1/1 (frame 569/1500) /content/drive/MyDrive/Robotics/Object_Detection/balls_purple_red/purple_red_balls_vid.mp4: 384x640 3 ball_purples, 3 ball_reds, 11.4ms\n",
            "video 1/1 (frame 570/1500) /content/drive/MyDrive/Robotics/Object_Detection/balls_purple_red/purple_red_balls_vid.mp4: 384x640 3 ball_purples, 3 ball_reds, 7.9ms\n",
            "video 1/1 (frame 571/1500) /content/drive/MyDrive/Robotics/Object_Detection/balls_purple_red/purple_red_balls_vid.mp4: 384x640 3 ball_purples, 3 ball_reds, 6.9ms\n",
            "video 1/1 (frame 572/1500) /content/drive/MyDrive/Robotics/Object_Detection/balls_purple_red/purple_red_balls_vid.mp4: 384x640 3 ball_purples, 3 ball_reds, 9.8ms\n",
            "video 1/1 (frame 573/1500) /content/drive/MyDrive/Robotics/Object_Detection/balls_purple_red/purple_red_balls_vid.mp4: 384x640 3 ball_purples, 3 ball_reds, 6.7ms\n",
            "video 1/1 (frame 574/1500) /content/drive/MyDrive/Robotics/Object_Detection/balls_purple_red/purple_red_balls_vid.mp4: 384x640 3 ball_purples, 3 ball_reds, 6.9ms\n",
            "video 1/1 (frame 575/1500) /content/drive/MyDrive/Robotics/Object_Detection/balls_purple_red/purple_red_balls_vid.mp4: 384x640 3 ball_purples, 3 ball_reds, 6.7ms\n",
            "video 1/1 (frame 576/1500) /content/drive/MyDrive/Robotics/Object_Detection/balls_purple_red/purple_red_balls_vid.mp4: 384x640 3 ball_purples, 3 ball_reds, 7.0ms\n",
            "video 1/1 (frame 577/1500) /content/drive/MyDrive/Robotics/Object_Detection/balls_purple_red/purple_red_balls_vid.mp4: 384x640 3 ball_purples, 3 ball_reds, 6.6ms\n",
            "video 1/1 (frame 578/1500) /content/drive/MyDrive/Robotics/Object_Detection/balls_purple_red/purple_red_balls_vid.mp4: 384x640 3 ball_purples, 3 ball_reds, 6.7ms\n",
            "video 1/1 (frame 579/1500) /content/drive/MyDrive/Robotics/Object_Detection/balls_purple_red/purple_red_balls_vid.mp4: 384x640 3 ball_purples, 3 ball_reds, 12.4ms\n",
            "video 1/1 (frame 580/1500) /content/drive/MyDrive/Robotics/Object_Detection/balls_purple_red/purple_red_balls_vid.mp4: 384x640 3 ball_purples, 3 ball_reds, 9.4ms\n",
            "video 1/1 (frame 581/1500) /content/drive/MyDrive/Robotics/Object_Detection/balls_purple_red/purple_red_balls_vid.mp4: 384x640 3 ball_purples, 3 ball_reds, 6.4ms\n",
            "video 1/1 (frame 582/1500) /content/drive/MyDrive/Robotics/Object_Detection/balls_purple_red/purple_red_balls_vid.mp4: 384x640 3 ball_purples, 3 ball_reds, 7.0ms\n",
            "video 1/1 (frame 583/1500) /content/drive/MyDrive/Robotics/Object_Detection/balls_purple_red/purple_red_balls_vid.mp4: 384x640 3 ball_purples, 3 ball_reds, 7.9ms\n",
            "video 1/1 (frame 584/1500) /content/drive/MyDrive/Robotics/Object_Detection/balls_purple_red/purple_red_balls_vid.mp4: 384x640 3 ball_purples, 3 ball_reds, 6.6ms\n",
            "video 1/1 (frame 585/1500) /content/drive/MyDrive/Robotics/Object_Detection/balls_purple_red/purple_red_balls_vid.mp4: 384x640 3 ball_purples, 3 ball_reds, 7.7ms\n",
            "video 1/1 (frame 586/1500) /content/drive/MyDrive/Robotics/Object_Detection/balls_purple_red/purple_red_balls_vid.mp4: 384x640 3 ball_purples, 3 ball_reds, 6.6ms\n",
            "video 1/1 (frame 587/1500) /content/drive/MyDrive/Robotics/Object_Detection/balls_purple_red/purple_red_balls_vid.mp4: 384x640 3 ball_purples, 3 ball_reds, 10.6ms\n",
            "video 1/1 (frame 588/1500) /content/drive/MyDrive/Robotics/Object_Detection/balls_purple_red/purple_red_balls_vid.mp4: 384x640 3 ball_purples, 3 ball_reds, 6.6ms\n",
            "video 1/1 (frame 589/1500) /content/drive/MyDrive/Robotics/Object_Detection/balls_purple_red/purple_red_balls_vid.mp4: 384x640 3 ball_purples, 3 ball_reds, 7.0ms\n",
            "video 1/1 (frame 590/1500) /content/drive/MyDrive/Robotics/Object_Detection/balls_purple_red/purple_red_balls_vid.mp4: 384x640 3 ball_purples, 3 ball_reds, 6.6ms\n",
            "video 1/1 (frame 591/1500) /content/drive/MyDrive/Robotics/Object_Detection/balls_purple_red/purple_red_balls_vid.mp4: 384x640 3 ball_purples, 3 ball_reds, 6.9ms\n",
            "video 1/1 (frame 592/1500) /content/drive/MyDrive/Robotics/Object_Detection/balls_purple_red/purple_red_balls_vid.mp4: 384x640 3 ball_purples, 3 ball_reds, 7.3ms\n",
            "video 1/1 (frame 593/1500) /content/drive/MyDrive/Robotics/Object_Detection/balls_purple_red/purple_red_balls_vid.mp4: 384x640 3 ball_purples, 3 ball_reds, 6.5ms\n",
            "video 1/1 (frame 594/1500) /content/drive/MyDrive/Robotics/Object_Detection/balls_purple_red/purple_red_balls_vid.mp4: 384x640 3 ball_purples, 3 ball_reds, 8.4ms\n",
            "video 1/1 (frame 595/1500) /content/drive/MyDrive/Robotics/Object_Detection/balls_purple_red/purple_red_balls_vid.mp4: 384x640 3 ball_purples, 3 ball_reds, 6.8ms\n",
            "video 1/1 (frame 596/1500) /content/drive/MyDrive/Robotics/Object_Detection/balls_purple_red/purple_red_balls_vid.mp4: 384x640 3 ball_purples, 3 ball_reds, 6.7ms\n",
            "video 1/1 (frame 597/1500) /content/drive/MyDrive/Robotics/Object_Detection/balls_purple_red/purple_red_balls_vid.mp4: 384x640 3 ball_purples, 3 ball_reds, 6.6ms\n",
            "video 1/1 (frame 598/1500) /content/drive/MyDrive/Robotics/Object_Detection/balls_purple_red/purple_red_balls_vid.mp4: 384x640 3 ball_purples, 3 ball_reds, 9.6ms\n",
            "video 1/1 (frame 599/1500) /content/drive/MyDrive/Robotics/Object_Detection/balls_purple_red/purple_red_balls_vid.mp4: 384x640 3 ball_purples, 3 ball_reds, 7.9ms\n",
            "video 1/1 (frame 600/1500) /content/drive/MyDrive/Robotics/Object_Detection/balls_purple_red/purple_red_balls_vid.mp4: 384x640 3 ball_purples, 3 ball_reds, 7.6ms\n",
            "video 1/1 (frame 601/1500) /content/drive/MyDrive/Robotics/Object_Detection/balls_purple_red/purple_red_balls_vid.mp4: 384x640 5 ball_purples, 5 ball_reds, 7.1ms\n",
            "video 1/1 (frame 602/1500) /content/drive/MyDrive/Robotics/Object_Detection/balls_purple_red/purple_red_balls_vid.mp4: 384x640 5 ball_purples, 5 ball_reds, 11.2ms\n",
            "video 1/1 (frame 603/1500) /content/drive/MyDrive/Robotics/Object_Detection/balls_purple_red/purple_red_balls_vid.mp4: 384x640 5 ball_purples, 5 ball_reds, 6.7ms\n",
            "video 1/1 (frame 604/1500) /content/drive/MyDrive/Robotics/Object_Detection/balls_purple_red/purple_red_balls_vid.mp4: 384x640 5 ball_purples, 5 ball_reds, 9.6ms\n",
            "video 1/1 (frame 605/1500) /content/drive/MyDrive/Robotics/Object_Detection/balls_purple_red/purple_red_balls_vid.mp4: 384x640 5 ball_purples, 5 ball_reds, 6.5ms\n",
            "video 1/1 (frame 606/1500) /content/drive/MyDrive/Robotics/Object_Detection/balls_purple_red/purple_red_balls_vid.mp4: 384x640 5 ball_purples, 5 ball_reds, 6.8ms\n",
            "video 1/1 (frame 607/1500) /content/drive/MyDrive/Robotics/Object_Detection/balls_purple_red/purple_red_balls_vid.mp4: 384x640 5 ball_purples, 5 ball_reds, 10.8ms\n",
            "video 1/1 (frame 608/1500) /content/drive/MyDrive/Robotics/Object_Detection/balls_purple_red/purple_red_balls_vid.mp4: 384x640 5 ball_purples, 5 ball_reds, 6.8ms\n",
            "video 1/1 (frame 609/1500) /content/drive/MyDrive/Robotics/Object_Detection/balls_purple_red/purple_red_balls_vid.mp4: 384x640 5 ball_purples, 5 ball_reds, 7.5ms\n",
            "video 1/1 (frame 610/1500) /content/drive/MyDrive/Robotics/Object_Detection/balls_purple_red/purple_red_balls_vid.mp4: 384x640 5 ball_purples, 5 ball_reds, 6.7ms\n",
            "video 1/1 (frame 611/1500) /content/drive/MyDrive/Robotics/Object_Detection/balls_purple_red/purple_red_balls_vid.mp4: 384x640 5 ball_purples, 5 ball_reds, 6.7ms\n",
            "video 1/1 (frame 612/1500) /content/drive/MyDrive/Robotics/Object_Detection/balls_purple_red/purple_red_balls_vid.mp4: 384x640 5 ball_purples, 5 ball_reds, 6.9ms\n",
            "video 1/1 (frame 613/1500) /content/drive/MyDrive/Robotics/Object_Detection/balls_purple_red/purple_red_balls_vid.mp4: 384x640 5 ball_purples, 5 ball_reds, 7.5ms\n",
            "video 1/1 (frame 614/1500) /content/drive/MyDrive/Robotics/Object_Detection/balls_purple_red/purple_red_balls_vid.mp4: 384x640 5 ball_purples, 5 ball_reds, 8.2ms\n",
            "video 1/1 (frame 615/1500) /content/drive/MyDrive/Robotics/Object_Detection/balls_purple_red/purple_red_balls_vid.mp4: 384x640 5 ball_purples, 5 ball_reds, 7.1ms\n",
            "video 1/1 (frame 616/1500) /content/drive/MyDrive/Robotics/Object_Detection/balls_purple_red/purple_red_balls_vid.mp4: 384x640 5 ball_purples, 5 ball_reds, 7.0ms\n",
            "video 1/1 (frame 617/1500) /content/drive/MyDrive/Robotics/Object_Detection/balls_purple_red/purple_red_balls_vid.mp4: 384x640 5 ball_purples, 5 ball_reds, 6.6ms\n",
            "video 1/1 (frame 618/1500) /content/drive/MyDrive/Robotics/Object_Detection/balls_purple_red/purple_red_balls_vid.mp4: 384x640 5 ball_purples, 5 ball_reds, 8.1ms\n",
            "video 1/1 (frame 619/1500) /content/drive/MyDrive/Robotics/Object_Detection/balls_purple_red/purple_red_balls_vid.mp4: 384x640 5 ball_purples, 5 ball_reds, 7.1ms\n",
            "video 1/1 (frame 620/1500) /content/drive/MyDrive/Robotics/Object_Detection/balls_purple_red/purple_red_balls_vid.mp4: 384x640 5 ball_purples, 5 ball_reds, 7.1ms\n",
            "video 1/1 (frame 621/1500) /content/drive/MyDrive/Robotics/Object_Detection/balls_purple_red/purple_red_balls_vid.mp4: 384x640 5 ball_purples, 5 ball_reds, 7.1ms\n",
            "video 1/1 (frame 622/1500) /content/drive/MyDrive/Robotics/Object_Detection/balls_purple_red/purple_red_balls_vid.mp4: 384x640 5 ball_purples, 5 ball_reds, 7.0ms\n",
            "video 1/1 (frame 623/1500) /content/drive/MyDrive/Robotics/Object_Detection/balls_purple_red/purple_red_balls_vid.mp4: 384x640 5 ball_purples, 5 ball_reds, 7.4ms\n",
            "video 1/1 (frame 624/1500) /content/drive/MyDrive/Robotics/Object_Detection/balls_purple_red/purple_red_balls_vid.mp4: 384x640 5 ball_purples, 5 ball_reds, 7.6ms\n",
            "video 1/1 (frame 625/1500) /content/drive/MyDrive/Robotics/Object_Detection/balls_purple_red/purple_red_balls_vid.mp4: 384x640 5 ball_purples, 5 ball_reds, 7.1ms\n",
            "video 1/1 (frame 626/1500) /content/drive/MyDrive/Robotics/Object_Detection/balls_purple_red/purple_red_balls_vid.mp4: 384x640 5 ball_purples, 5 ball_reds, 6.8ms\n",
            "video 1/1 (frame 627/1500) /content/drive/MyDrive/Robotics/Object_Detection/balls_purple_red/purple_red_balls_vid.mp4: 384x640 5 ball_purples, 5 ball_reds, 7.0ms\n",
            "video 1/1 (frame 628/1500) /content/drive/MyDrive/Robotics/Object_Detection/balls_purple_red/purple_red_balls_vid.mp4: 384x640 5 ball_purples, 5 ball_reds, 10.6ms\n",
            "video 1/1 (frame 629/1500) /content/drive/MyDrive/Robotics/Object_Detection/balls_purple_red/purple_red_balls_vid.mp4: 384x640 5 ball_purples, 5 ball_reds, 7.0ms\n",
            "video 1/1 (frame 630/1500) /content/drive/MyDrive/Robotics/Object_Detection/balls_purple_red/purple_red_balls_vid.mp4: 384x640 5 ball_purples, 5 ball_reds, 6.8ms\n",
            "video 1/1 (frame 631/1500) /content/drive/MyDrive/Robotics/Object_Detection/balls_purple_red/purple_red_balls_vid.mp4: 384x640 5 ball_purples, 5 ball_reds, 6.5ms\n",
            "video 1/1 (frame 632/1500) /content/drive/MyDrive/Robotics/Object_Detection/balls_purple_red/purple_red_balls_vid.mp4: 384x640 5 ball_purples, 5 ball_reds, 7.0ms\n",
            "video 1/1 (frame 633/1500) /content/drive/MyDrive/Robotics/Object_Detection/balls_purple_red/purple_red_balls_vid.mp4: 384x640 5 ball_purples, 5 ball_reds, 11.4ms\n",
            "video 1/1 (frame 634/1500) /content/drive/MyDrive/Robotics/Object_Detection/balls_purple_red/purple_red_balls_vid.mp4: 384x640 5 ball_purples, 5 ball_reds, 7.1ms\n",
            "video 1/1 (frame 635/1500) /content/drive/MyDrive/Robotics/Object_Detection/balls_purple_red/purple_red_balls_vid.mp4: 384x640 5 ball_purples, 5 ball_reds, 7.7ms\n",
            "video 1/1 (frame 636/1500) /content/drive/MyDrive/Robotics/Object_Detection/balls_purple_red/purple_red_balls_vid.mp4: 384x640 5 ball_purples, 5 ball_reds, 6.9ms\n",
            "video 1/1 (frame 637/1500) /content/drive/MyDrive/Robotics/Object_Detection/balls_purple_red/purple_red_balls_vid.mp4: 384x640 5 ball_purples, 5 ball_reds, 6.7ms\n",
            "video 1/1 (frame 638/1500) /content/drive/MyDrive/Robotics/Object_Detection/balls_purple_red/purple_red_balls_vid.mp4: 384x640 5 ball_purples, 5 ball_reds, 6.7ms\n",
            "video 1/1 (frame 639/1500) /content/drive/MyDrive/Robotics/Object_Detection/balls_purple_red/purple_red_balls_vid.mp4: 384x640 5 ball_purples, 5 ball_reds, 6.6ms\n",
            "video 1/1 (frame 640/1500) /content/drive/MyDrive/Robotics/Object_Detection/balls_purple_red/purple_red_balls_vid.mp4: 384x640 5 ball_purples, 5 ball_reds, 6.6ms\n",
            "video 1/1 (frame 641/1500) /content/drive/MyDrive/Robotics/Object_Detection/balls_purple_red/purple_red_balls_vid.mp4: 384x640 5 ball_purples, 5 ball_reds, 7.0ms\n",
            "video 1/1 (frame 642/1500) /content/drive/MyDrive/Robotics/Object_Detection/balls_purple_red/purple_red_balls_vid.mp4: 384x640 5 ball_purples, 5 ball_reds, 6.9ms\n",
            "video 1/1 (frame 643/1500) /content/drive/MyDrive/Robotics/Object_Detection/balls_purple_red/purple_red_balls_vid.mp4: 384x640 5 ball_purples, 5 ball_reds, 7.2ms\n",
            "video 1/1 (frame 644/1500) /content/drive/MyDrive/Robotics/Object_Detection/balls_purple_red/purple_red_balls_vid.mp4: 384x640 5 ball_purples, 5 ball_reds, 7.1ms\n",
            "video 1/1 (frame 645/1500) /content/drive/MyDrive/Robotics/Object_Detection/balls_purple_red/purple_red_balls_vid.mp4: 384x640 5 ball_purples, 5 ball_reds, 7.0ms\n",
            "video 1/1 (frame 646/1500) /content/drive/MyDrive/Robotics/Object_Detection/balls_purple_red/purple_red_balls_vid.mp4: 384x640 5 ball_purples, 5 ball_reds, 10.1ms\n",
            "video 1/1 (frame 647/1500) /content/drive/MyDrive/Robotics/Object_Detection/balls_purple_red/purple_red_balls_vid.mp4: 384x640 5 ball_purples, 5 ball_reds, 6.9ms\n",
            "video 1/1 (frame 648/1500) /content/drive/MyDrive/Robotics/Object_Detection/balls_purple_red/purple_red_balls_vid.mp4: 384x640 5 ball_purples, 5 ball_reds, 6.5ms\n",
            "video 1/1 (frame 649/1500) /content/drive/MyDrive/Robotics/Object_Detection/balls_purple_red/purple_red_balls_vid.mp4: 384x640 5 ball_purples, 5 ball_reds, 6.6ms\n",
            "video 1/1 (frame 650/1500) /content/drive/MyDrive/Robotics/Object_Detection/balls_purple_red/purple_red_balls_vid.mp4: 384x640 5 ball_purples, 5 ball_reds, 7.0ms\n",
            "video 1/1 (frame 651/1500) /content/drive/MyDrive/Robotics/Object_Detection/balls_purple_red/purple_red_balls_vid.mp4: 384x640 5 ball_purples, 5 ball_reds, 6.9ms\n",
            "video 1/1 (frame 652/1500) /content/drive/MyDrive/Robotics/Object_Detection/balls_purple_red/purple_red_balls_vid.mp4: 384x640 5 ball_purples, 5 ball_reds, 7.2ms\n",
            "video 1/1 (frame 653/1500) /content/drive/MyDrive/Robotics/Object_Detection/balls_purple_red/purple_red_balls_vid.mp4: 384x640 5 ball_purples, 5 ball_reds, 6.8ms\n",
            "video 1/1 (frame 654/1500) /content/drive/MyDrive/Robotics/Object_Detection/balls_purple_red/purple_red_balls_vid.mp4: 384x640 5 ball_purples, 5 ball_reds, 9.3ms\n",
            "video 1/1 (frame 655/1500) /content/drive/MyDrive/Robotics/Object_Detection/balls_purple_red/purple_red_balls_vid.mp4: 384x640 5 ball_purples, 5 ball_reds, 6.7ms\n",
            "video 1/1 (frame 656/1500) /content/drive/MyDrive/Robotics/Object_Detection/balls_purple_red/purple_red_balls_vid.mp4: 384x640 5 ball_purples, 5 ball_reds, 7.3ms\n",
            "video 1/1 (frame 657/1500) /content/drive/MyDrive/Robotics/Object_Detection/balls_purple_red/purple_red_balls_vid.mp4: 384x640 5 ball_purples, 5 ball_reds, 6.9ms\n",
            "video 1/1 (frame 658/1500) /content/drive/MyDrive/Robotics/Object_Detection/balls_purple_red/purple_red_balls_vid.mp4: 384x640 5 ball_purples, 5 ball_reds, 6.5ms\n",
            "video 1/1 (frame 659/1500) /content/drive/MyDrive/Robotics/Object_Detection/balls_purple_red/purple_red_balls_vid.mp4: 384x640 5 ball_purples, 5 ball_reds, 6.6ms\n",
            "video 1/1 (frame 660/1500) /content/drive/MyDrive/Robotics/Object_Detection/balls_purple_red/purple_red_balls_vid.mp4: 384x640 5 ball_purples, 5 ball_reds, 6.8ms\n",
            "video 1/1 (frame 661/1500) /content/drive/MyDrive/Robotics/Object_Detection/balls_purple_red/purple_red_balls_vid.mp4: 384x640 5 ball_purples, 5 ball_reds, 6.8ms\n",
            "video 1/1 (frame 662/1500) /content/drive/MyDrive/Robotics/Object_Detection/balls_purple_red/purple_red_balls_vid.mp4: 384x640 5 ball_purples, 5 ball_reds, 7.0ms\n",
            "video 1/1 (frame 663/1500) /content/drive/MyDrive/Robotics/Object_Detection/balls_purple_red/purple_red_balls_vid.mp4: 384x640 5 ball_purples, 5 ball_reds, 6.6ms\n",
            "video 1/1 (frame 664/1500) /content/drive/MyDrive/Robotics/Object_Detection/balls_purple_red/purple_red_balls_vid.mp4: 384x640 5 ball_purples, 5 ball_reds, 7.0ms\n",
            "video 1/1 (frame 665/1500) /content/drive/MyDrive/Robotics/Object_Detection/balls_purple_red/purple_red_balls_vid.mp4: 384x640 5 ball_purples, 5 ball_reds, 7.9ms\n",
            "video 1/1 (frame 666/1500) /content/drive/MyDrive/Robotics/Object_Detection/balls_purple_red/purple_red_balls_vid.mp4: 384x640 5 ball_purples, 5 ball_reds, 6.9ms\n",
            "video 1/1 (frame 667/1500) /content/drive/MyDrive/Robotics/Object_Detection/balls_purple_red/purple_red_balls_vid.mp4: 384x640 5 ball_purples, 5 ball_reds, 7.2ms\n",
            "video 1/1 (frame 668/1500) /content/drive/MyDrive/Robotics/Object_Detection/balls_purple_red/purple_red_balls_vid.mp4: 384x640 5 ball_purples, 5 ball_reds, 7.5ms\n",
            "video 1/1 (frame 669/1500) /content/drive/MyDrive/Robotics/Object_Detection/balls_purple_red/purple_red_balls_vid.mp4: 384x640 5 ball_purples, 5 ball_reds, 8.6ms\n",
            "video 1/1 (frame 670/1500) /content/drive/MyDrive/Robotics/Object_Detection/balls_purple_red/purple_red_balls_vid.mp4: 384x640 5 ball_purples, 5 ball_reds, 6.9ms\n",
            "video 1/1 (frame 671/1500) /content/drive/MyDrive/Robotics/Object_Detection/balls_purple_red/purple_red_balls_vid.mp4: 384x640 5 ball_purples, 5 ball_reds, 7.2ms\n",
            "video 1/1 (frame 672/1500) /content/drive/MyDrive/Robotics/Object_Detection/balls_purple_red/purple_red_balls_vid.mp4: 384x640 5 ball_purples, 5 ball_reds, 8.4ms\n",
            "video 1/1 (frame 673/1500) /content/drive/MyDrive/Robotics/Object_Detection/balls_purple_red/purple_red_balls_vid.mp4: 384x640 5 ball_purples, 5 ball_reds, 7.0ms\n",
            "video 1/1 (frame 674/1500) /content/drive/MyDrive/Robotics/Object_Detection/balls_purple_red/purple_red_balls_vid.mp4: 384x640 5 ball_purples, 5 ball_reds, 6.8ms\n",
            "video 1/1 (frame 675/1500) /content/drive/MyDrive/Robotics/Object_Detection/balls_purple_red/purple_red_balls_vid.mp4: 384x640 5 ball_purples, 5 ball_reds, 6.8ms\n",
            "video 1/1 (frame 676/1500) /content/drive/MyDrive/Robotics/Object_Detection/balls_purple_red/purple_red_balls_vid.mp4: 384x640 5 ball_purples, 5 ball_reds, 7.2ms\n",
            "video 1/1 (frame 677/1500) /content/drive/MyDrive/Robotics/Object_Detection/balls_purple_red/purple_red_balls_vid.mp4: 384x640 5 ball_purples, 5 ball_reds, 7.3ms\n",
            "video 1/1 (frame 678/1500) /content/drive/MyDrive/Robotics/Object_Detection/balls_purple_red/purple_red_balls_vid.mp4: 384x640 5 ball_purples, 5 ball_reds, 10.1ms\n",
            "video 1/1 (frame 679/1500) /content/drive/MyDrive/Robotics/Object_Detection/balls_purple_red/purple_red_balls_vid.mp4: 384x640 5 ball_purples, 5 ball_reds, 6.4ms\n",
            "video 1/1 (frame 680/1500) /content/drive/MyDrive/Robotics/Object_Detection/balls_purple_red/purple_red_balls_vid.mp4: 384x640 5 ball_purples, 5 ball_reds, 6.7ms\n",
            "video 1/1 (frame 681/1500) /content/drive/MyDrive/Robotics/Object_Detection/balls_purple_red/purple_red_balls_vid.mp4: 384x640 5 ball_purples, 5 ball_reds, 6.7ms\n",
            "video 1/1 (frame 682/1500) /content/drive/MyDrive/Robotics/Object_Detection/balls_purple_red/purple_red_balls_vid.mp4: 384x640 5 ball_purples, 5 ball_reds, 7.3ms\n",
            "video 1/1 (frame 683/1500) /content/drive/MyDrive/Robotics/Object_Detection/balls_purple_red/purple_red_balls_vid.mp4: 384x640 5 ball_purples, 5 ball_reds, 6.5ms\n",
            "video 1/1 (frame 684/1500) /content/drive/MyDrive/Robotics/Object_Detection/balls_purple_red/purple_red_balls_vid.mp4: 384x640 5 ball_purples, 5 ball_reds, 7.2ms\n",
            "video 1/1 (frame 685/1500) /content/drive/MyDrive/Robotics/Object_Detection/balls_purple_red/purple_red_balls_vid.mp4: 384x640 5 ball_purples, 5 ball_reds, 6.7ms\n",
            "video 1/1 (frame 686/1500) /content/drive/MyDrive/Robotics/Object_Detection/balls_purple_red/purple_red_balls_vid.mp4: 384x640 5 ball_purples, 5 ball_reds, 6.7ms\n",
            "video 1/1 (frame 687/1500) /content/drive/MyDrive/Robotics/Object_Detection/balls_purple_red/purple_red_balls_vid.mp4: 384x640 5 ball_purples, 5 ball_reds, 6.8ms\n",
            "video 1/1 (frame 688/1500) /content/drive/MyDrive/Robotics/Object_Detection/balls_purple_red/purple_red_balls_vid.mp4: 384x640 5 ball_purples, 5 ball_reds, 6.7ms\n",
            "video 1/1 (frame 689/1500) /content/drive/MyDrive/Robotics/Object_Detection/balls_purple_red/purple_red_balls_vid.mp4: 384x640 5 ball_purples, 5 ball_reds, 7.2ms\n",
            "video 1/1 (frame 690/1500) /content/drive/MyDrive/Robotics/Object_Detection/balls_purple_red/purple_red_balls_vid.mp4: 384x640 5 ball_purples, 5 ball_reds, 6.8ms\n",
            "video 1/1 (frame 691/1500) /content/drive/MyDrive/Robotics/Object_Detection/balls_purple_red/purple_red_balls_vid.mp4: 384x640 5 ball_purples, 5 ball_reds, 9.2ms\n",
            "video 1/1 (frame 692/1500) /content/drive/MyDrive/Robotics/Object_Detection/balls_purple_red/purple_red_balls_vid.mp4: 384x640 5 ball_purples, 5 ball_reds, 8.5ms\n",
            "video 1/1 (frame 693/1500) /content/drive/MyDrive/Robotics/Object_Detection/balls_purple_red/purple_red_balls_vid.mp4: 384x640 5 ball_purples, 5 ball_reds, 8.5ms\n",
            "video 1/1 (frame 694/1500) /content/drive/MyDrive/Robotics/Object_Detection/balls_purple_red/purple_red_balls_vid.mp4: 384x640 5 ball_purples, 5 ball_reds, 6.4ms\n",
            "video 1/1 (frame 695/1500) /content/drive/MyDrive/Robotics/Object_Detection/balls_purple_red/purple_red_balls_vid.mp4: 384x640 5 ball_purples, 5 ball_reds, 8.4ms\n",
            "video 1/1 (frame 696/1500) /content/drive/MyDrive/Robotics/Object_Detection/balls_purple_red/purple_red_balls_vid.mp4: 384x640 5 ball_purples, 5 ball_reds, 6.7ms\n",
            "video 1/1 (frame 697/1500) /content/drive/MyDrive/Robotics/Object_Detection/balls_purple_red/purple_red_balls_vid.mp4: 384x640 5 ball_purples, 5 ball_reds, 6.9ms\n",
            "video 1/1 (frame 698/1500) /content/drive/MyDrive/Robotics/Object_Detection/balls_purple_red/purple_red_balls_vid.mp4: 384x640 5 ball_purples, 5 ball_reds, 13.8ms\n",
            "video 1/1 (frame 699/1500) /content/drive/MyDrive/Robotics/Object_Detection/balls_purple_red/purple_red_balls_vid.mp4: 384x640 5 ball_purples, 5 ball_reds, 11.8ms\n",
            "video 1/1 (frame 700/1500) /content/drive/MyDrive/Robotics/Object_Detection/balls_purple_red/purple_red_balls_vid.mp4: 384x640 5 ball_purples, 5 ball_reds, 8.8ms\n",
            "video 1/1 (frame 701/1500) /content/drive/MyDrive/Robotics/Object_Detection/balls_purple_red/purple_red_balls_vid.mp4: 384x640 5 ball_purples, 5 ball_reds, 8.3ms\n",
            "video 1/1 (frame 702/1500) /content/drive/MyDrive/Robotics/Object_Detection/balls_purple_red/purple_red_balls_vid.mp4: 384x640 5 ball_purples, 5 ball_reds, 12.1ms\n",
            "video 1/1 (frame 703/1500) /content/drive/MyDrive/Robotics/Object_Detection/balls_purple_red/purple_red_balls_vid.mp4: 384x640 5 ball_purples, 5 ball_reds, 8.9ms\n",
            "video 1/1 (frame 704/1500) /content/drive/MyDrive/Robotics/Object_Detection/balls_purple_red/purple_red_balls_vid.mp4: 384x640 5 ball_purples, 5 ball_reds, 8.8ms\n",
            "video 1/1 (frame 705/1500) /content/drive/MyDrive/Robotics/Object_Detection/balls_purple_red/purple_red_balls_vid.mp4: 384x640 5 ball_purples, 5 ball_reds, 9.3ms\n",
            "video 1/1 (frame 706/1500) /content/drive/MyDrive/Robotics/Object_Detection/balls_purple_red/purple_red_balls_vid.mp4: 384x640 5 ball_purples, 5 ball_reds, 8.8ms\n",
            "video 1/1 (frame 707/1500) /content/drive/MyDrive/Robotics/Object_Detection/balls_purple_red/purple_red_balls_vid.mp4: 384x640 5 ball_purples, 5 ball_reds, 8.9ms\n",
            "video 1/1 (frame 708/1500) /content/drive/MyDrive/Robotics/Object_Detection/balls_purple_red/purple_red_balls_vid.mp4: 384x640 5 ball_purples, 5 ball_reds, 8.9ms\n",
            "video 1/1 (frame 709/1500) /content/drive/MyDrive/Robotics/Object_Detection/balls_purple_red/purple_red_balls_vid.mp4: 384x640 5 ball_purples, 5 ball_reds, 8.7ms\n",
            "video 1/1 (frame 710/1500) /content/drive/MyDrive/Robotics/Object_Detection/balls_purple_red/purple_red_balls_vid.mp4: 384x640 5 ball_purples, 5 ball_reds, 8.2ms\n",
            "video 1/1 (frame 711/1500) /content/drive/MyDrive/Robotics/Object_Detection/balls_purple_red/purple_red_balls_vid.mp4: 384x640 5 ball_purples, 5 ball_reds, 8.2ms\n",
            "video 1/1 (frame 712/1500) /content/drive/MyDrive/Robotics/Object_Detection/balls_purple_red/purple_red_balls_vid.mp4: 384x640 5 ball_purples, 5 ball_reds, 8.4ms\n",
            "video 1/1 (frame 713/1500) /content/drive/MyDrive/Robotics/Object_Detection/balls_purple_red/purple_red_balls_vid.mp4: 384x640 5 ball_purples, 5 ball_reds, 9.0ms\n",
            "video 1/1 (frame 714/1500) /content/drive/MyDrive/Robotics/Object_Detection/balls_purple_red/purple_red_balls_vid.mp4: 384x640 5 ball_purples, 5 ball_reds, 11.8ms\n",
            "video 1/1 (frame 715/1500) /content/drive/MyDrive/Robotics/Object_Detection/balls_purple_red/purple_red_balls_vid.mp4: 384x640 5 ball_purples, 5 ball_reds, 8.2ms\n",
            "video 1/1 (frame 716/1500) /content/drive/MyDrive/Robotics/Object_Detection/balls_purple_red/purple_red_balls_vid.mp4: 384x640 5 ball_purples, 5 ball_reds, 10.6ms\n",
            "video 1/1 (frame 717/1500) /content/drive/MyDrive/Robotics/Object_Detection/balls_purple_red/purple_red_balls_vid.mp4: 384x640 5 ball_purples, 5 ball_reds, 9.0ms\n",
            "video 1/1 (frame 718/1500) /content/drive/MyDrive/Robotics/Object_Detection/balls_purple_red/purple_red_balls_vid.mp4: 384x640 5 ball_purples, 5 ball_reds, 9.6ms\n",
            "video 1/1 (frame 719/1500) /content/drive/MyDrive/Robotics/Object_Detection/balls_purple_red/purple_red_balls_vid.mp4: 384x640 5 ball_purples, 5 ball_reds, 9.5ms\n",
            "video 1/1 (frame 720/1500) /content/drive/MyDrive/Robotics/Object_Detection/balls_purple_red/purple_red_balls_vid.mp4: 384x640 5 ball_purples, 5 ball_reds, 8.7ms\n",
            "video 1/1 (frame 721/1500) /content/drive/MyDrive/Robotics/Object_Detection/balls_purple_red/purple_red_balls_vid.mp4: 384x640 5 ball_purples, 5 ball_reds, 11.8ms\n",
            "video 1/1 (frame 722/1500) /content/drive/MyDrive/Robotics/Object_Detection/balls_purple_red/purple_red_balls_vid.mp4: 384x640 5 ball_purples, 5 ball_reds, 8.8ms\n",
            "video 1/1 (frame 723/1500) /content/drive/MyDrive/Robotics/Object_Detection/balls_purple_red/purple_red_balls_vid.mp4: 384x640 5 ball_purples, 5 ball_reds, 12.8ms\n",
            "video 1/1 (frame 724/1500) /content/drive/MyDrive/Robotics/Object_Detection/balls_purple_red/purple_red_balls_vid.mp4: 384x640 5 ball_purples, 5 ball_reds, 8.3ms\n",
            "video 1/1 (frame 725/1500) /content/drive/MyDrive/Robotics/Object_Detection/balls_purple_red/purple_red_balls_vid.mp4: 384x640 5 ball_purples, 5 ball_reds, 8.9ms\n",
            "video 1/1 (frame 726/1500) /content/drive/MyDrive/Robotics/Object_Detection/balls_purple_red/purple_red_balls_vid.mp4: 384x640 5 ball_purples, 5 ball_reds, 8.7ms\n",
            "video 1/1 (frame 727/1500) /content/drive/MyDrive/Robotics/Object_Detection/balls_purple_red/purple_red_balls_vid.mp4: 384x640 5 ball_purples, 5 ball_reds, 8.7ms\n",
            "video 1/1 (frame 728/1500) /content/drive/MyDrive/Robotics/Object_Detection/balls_purple_red/purple_red_balls_vid.mp4: 384x640 5 ball_purples, 5 ball_reds, 8.3ms\n",
            "video 1/1 (frame 729/1500) /content/drive/MyDrive/Robotics/Object_Detection/balls_purple_red/purple_red_balls_vid.mp4: 384x640 5 ball_purples, 5 ball_reds, 8.4ms\n",
            "video 1/1 (frame 730/1500) /content/drive/MyDrive/Robotics/Object_Detection/balls_purple_red/purple_red_balls_vid.mp4: 384x640 5 ball_purples, 5 ball_reds, 8.1ms\n",
            "video 1/1 (frame 731/1500) /content/drive/MyDrive/Robotics/Object_Detection/balls_purple_red/purple_red_balls_vid.mp4: 384x640 5 ball_purples, 5 ball_reds, 8.4ms\n",
            "video 1/1 (frame 732/1500) /content/drive/MyDrive/Robotics/Object_Detection/balls_purple_red/purple_red_balls_vid.mp4: 384x640 5 ball_purples, 5 ball_reds, 11.7ms\n",
            "video 1/1 (frame 733/1500) /content/drive/MyDrive/Robotics/Object_Detection/balls_purple_red/purple_red_balls_vid.mp4: 384x640 5 ball_purples, 5 ball_reds, 12.6ms\n",
            "video 1/1 (frame 734/1500) /content/drive/MyDrive/Robotics/Object_Detection/balls_purple_red/purple_red_balls_vid.mp4: 384x640 5 ball_purples, 5 ball_reds, 8.9ms\n",
            "video 1/1 (frame 735/1500) /content/drive/MyDrive/Robotics/Object_Detection/balls_purple_red/purple_red_balls_vid.mp4: 384x640 5 ball_purples, 5 ball_reds, 8.6ms\n",
            "video 1/1 (frame 736/1500) /content/drive/MyDrive/Robotics/Object_Detection/balls_purple_red/purple_red_balls_vid.mp4: 384x640 5 ball_purples, 5 ball_reds, 14.4ms\n",
            "video 1/1 (frame 737/1500) /content/drive/MyDrive/Robotics/Object_Detection/balls_purple_red/purple_red_balls_vid.mp4: 384x640 5 ball_purples, 5 ball_reds, 13.3ms\n",
            "video 1/1 (frame 738/1500) /content/drive/MyDrive/Robotics/Object_Detection/balls_purple_red/purple_red_balls_vid.mp4: 384x640 5 ball_purples, 5 ball_reds, 13.8ms\n",
            "video 1/1 (frame 739/1500) /content/drive/MyDrive/Robotics/Object_Detection/balls_purple_red/purple_red_balls_vid.mp4: 384x640 5 ball_purples, 5 ball_reds, 11.3ms\n",
            "video 1/1 (frame 740/1500) /content/drive/MyDrive/Robotics/Object_Detection/balls_purple_red/purple_red_balls_vid.mp4: 384x640 5 ball_purples, 5 ball_reds, 10.1ms\n",
            "video 1/1 (frame 741/1500) /content/drive/MyDrive/Robotics/Object_Detection/balls_purple_red/purple_red_balls_vid.mp4: 384x640 5 ball_purples, 5 ball_reds, 10.7ms\n",
            "video 1/1 (frame 742/1500) /content/drive/MyDrive/Robotics/Object_Detection/balls_purple_red/purple_red_balls_vid.mp4: 384x640 5 ball_purples, 5 ball_reds, 12.8ms\n",
            "video 1/1 (frame 743/1500) /content/drive/MyDrive/Robotics/Object_Detection/balls_purple_red/purple_red_balls_vid.mp4: 384x640 5 ball_purples, 5 ball_reds, 9.7ms\n",
            "video 1/1 (frame 744/1500) /content/drive/MyDrive/Robotics/Object_Detection/balls_purple_red/purple_red_balls_vid.mp4: 384x640 5 ball_purples, 5 ball_reds, 10.0ms\n",
            "video 1/1 (frame 745/1500) /content/drive/MyDrive/Robotics/Object_Detection/balls_purple_red/purple_red_balls_vid.mp4: 384x640 5 ball_purples, 5 ball_reds, 10.4ms\n",
            "video 1/1 (frame 746/1500) /content/drive/MyDrive/Robotics/Object_Detection/balls_purple_red/purple_red_balls_vid.mp4: 384x640 5 ball_purples, 5 ball_reds, 10.2ms\n",
            "video 1/1 (frame 747/1500) /content/drive/MyDrive/Robotics/Object_Detection/balls_purple_red/purple_red_balls_vid.mp4: 384x640 5 ball_purples, 5 ball_reds, 9.7ms\n",
            "video 1/1 (frame 748/1500) /content/drive/MyDrive/Robotics/Object_Detection/balls_purple_red/purple_red_balls_vid.mp4: 384x640 5 ball_purples, 5 ball_reds, 17.1ms\n",
            "video 1/1 (frame 749/1500) /content/drive/MyDrive/Robotics/Object_Detection/balls_purple_red/purple_red_balls_vid.mp4: 384x640 5 ball_purples, 5 ball_reds, 12.2ms\n",
            "video 1/1 (frame 750/1500) /content/drive/MyDrive/Robotics/Object_Detection/balls_purple_red/purple_red_balls_vid.mp4: 384x640 5 ball_purples, 5 ball_reds, 19.3ms\n",
            "video 1/1 (frame 751/1500) /content/drive/MyDrive/Robotics/Object_Detection/balls_purple_red/purple_red_balls_vid.mp4: 384x640 4 ball_purples, 4 ball_reds, 11.3ms\n",
            "video 1/1 (frame 752/1500) /content/drive/MyDrive/Robotics/Object_Detection/balls_purple_red/purple_red_balls_vid.mp4: 384x640 4 ball_purples, 4 ball_reds, 13.5ms\n",
            "video 1/1 (frame 753/1500) /content/drive/MyDrive/Robotics/Object_Detection/balls_purple_red/purple_red_balls_vid.mp4: 384x640 4 ball_purples, 4 ball_reds, 12.3ms\n",
            "video 1/1 (frame 754/1500) /content/drive/MyDrive/Robotics/Object_Detection/balls_purple_red/purple_red_balls_vid.mp4: 384x640 4 ball_purples, 4 ball_reds, 6.6ms\n",
            "video 1/1 (frame 755/1500) /content/drive/MyDrive/Robotics/Object_Detection/balls_purple_red/purple_red_balls_vid.mp4: 384x640 4 ball_purples, 4 ball_reds, 7.0ms\n",
            "video 1/1 (frame 756/1500) /content/drive/MyDrive/Robotics/Object_Detection/balls_purple_red/purple_red_balls_vid.mp4: 384x640 4 ball_purples, 4 ball_reds, 6.7ms\n",
            "video 1/1 (frame 757/1500) /content/drive/MyDrive/Robotics/Object_Detection/balls_purple_red/purple_red_balls_vid.mp4: 384x640 4 ball_purples, 4 ball_reds, 6.8ms\n",
            "video 1/1 (frame 758/1500) /content/drive/MyDrive/Robotics/Object_Detection/balls_purple_red/purple_red_balls_vid.mp4: 384x640 4 ball_purples, 4 ball_reds, 6.8ms\n",
            "video 1/1 (frame 759/1500) /content/drive/MyDrive/Robotics/Object_Detection/balls_purple_red/purple_red_balls_vid.mp4: 384x640 4 ball_purples, 4 ball_reds, 7.6ms\n",
            "video 1/1 (frame 760/1500) /content/drive/MyDrive/Robotics/Object_Detection/balls_purple_red/purple_red_balls_vid.mp4: 384x640 4 ball_purples, 4 ball_reds, 10.0ms\n",
            "video 1/1 (frame 761/1500) /content/drive/MyDrive/Robotics/Object_Detection/balls_purple_red/purple_red_balls_vid.mp4: 384x640 4 ball_purples, 4 ball_reds, 6.8ms\n",
            "video 1/1 (frame 762/1500) /content/drive/MyDrive/Robotics/Object_Detection/balls_purple_red/purple_red_balls_vid.mp4: 384x640 4 ball_purples, 4 ball_reds, 6.8ms\n",
            "video 1/1 (frame 763/1500) /content/drive/MyDrive/Robotics/Object_Detection/balls_purple_red/purple_red_balls_vid.mp4: 384x640 4 ball_purples, 4 ball_reds, 6.7ms\n",
            "video 1/1 (frame 764/1500) /content/drive/MyDrive/Robotics/Object_Detection/balls_purple_red/purple_red_balls_vid.mp4: 384x640 4 ball_purples, 4 ball_reds, 6.7ms\n",
            "video 1/1 (frame 765/1500) /content/drive/MyDrive/Robotics/Object_Detection/balls_purple_red/purple_red_balls_vid.mp4: 384x640 4 ball_purples, 4 ball_reds, 6.5ms\n",
            "video 1/1 (frame 766/1500) /content/drive/MyDrive/Robotics/Object_Detection/balls_purple_red/purple_red_balls_vid.mp4: 384x640 4 ball_purples, 4 ball_reds, 6.8ms\n",
            "video 1/1 (frame 767/1500) /content/drive/MyDrive/Robotics/Object_Detection/balls_purple_red/purple_red_balls_vid.mp4: 384x640 4 ball_purples, 4 ball_reds, 6.8ms\n",
            "video 1/1 (frame 768/1500) /content/drive/MyDrive/Robotics/Object_Detection/balls_purple_red/purple_red_balls_vid.mp4: 384x640 4 ball_purples, 4 ball_reds, 6.9ms\n",
            "video 1/1 (frame 769/1500) /content/drive/MyDrive/Robotics/Object_Detection/balls_purple_red/purple_red_balls_vid.mp4: 384x640 4 ball_purples, 4 ball_reds, 6.8ms\n",
            "video 1/1 (frame 770/1500) /content/drive/MyDrive/Robotics/Object_Detection/balls_purple_red/purple_red_balls_vid.mp4: 384x640 4 ball_purples, 4 ball_reds, 6.7ms\n",
            "video 1/1 (frame 771/1500) /content/drive/MyDrive/Robotics/Object_Detection/balls_purple_red/purple_red_balls_vid.mp4: 384x640 4 ball_purples, 4 ball_reds, 10.9ms\n",
            "video 1/1 (frame 772/1500) /content/drive/MyDrive/Robotics/Object_Detection/balls_purple_red/purple_red_balls_vid.mp4: 384x640 4 ball_purples, 4 ball_reds, 6.8ms\n",
            "video 1/1 (frame 773/1500) /content/drive/MyDrive/Robotics/Object_Detection/balls_purple_red/purple_red_balls_vid.mp4: 384x640 4 ball_purples, 4 ball_reds, 6.9ms\n",
            "video 1/1 (frame 774/1500) /content/drive/MyDrive/Robotics/Object_Detection/balls_purple_red/purple_red_balls_vid.mp4: 384x640 4 ball_purples, 4 ball_reds, 11.0ms\n",
            "video 1/1 (frame 775/1500) /content/drive/MyDrive/Robotics/Object_Detection/balls_purple_red/purple_red_balls_vid.mp4: 384x640 4 ball_purples, 4 ball_reds, 6.9ms\n",
            "video 1/1 (frame 776/1500) /content/drive/MyDrive/Robotics/Object_Detection/balls_purple_red/purple_red_balls_vid.mp4: 384x640 4 ball_purples, 4 ball_reds, 6.5ms\n",
            "video 1/1 (frame 777/1500) /content/drive/MyDrive/Robotics/Object_Detection/balls_purple_red/purple_red_balls_vid.mp4: 384x640 4 ball_purples, 4 ball_reds, 7.2ms\n",
            "video 1/1 (frame 778/1500) /content/drive/MyDrive/Robotics/Object_Detection/balls_purple_red/purple_red_balls_vid.mp4: 384x640 4 ball_purples, 4 ball_reds, 6.6ms\n",
            "video 1/1 (frame 779/1500) /content/drive/MyDrive/Robotics/Object_Detection/balls_purple_red/purple_red_balls_vid.mp4: 384x640 4 ball_purples, 4 ball_reds, 6.7ms\n",
            "video 1/1 (frame 780/1500) /content/drive/MyDrive/Robotics/Object_Detection/balls_purple_red/purple_red_balls_vid.mp4: 384x640 4 ball_purples, 4 ball_reds, 7.8ms\n",
            "video 1/1 (frame 781/1500) /content/drive/MyDrive/Robotics/Object_Detection/balls_purple_red/purple_red_balls_vid.mp4: 384x640 4 ball_purples, 4 ball_reds, 6.8ms\n",
            "video 1/1 (frame 782/1500) /content/drive/MyDrive/Robotics/Object_Detection/balls_purple_red/purple_red_balls_vid.mp4: 384x640 4 ball_purples, 4 ball_reds, 6.6ms\n",
            "video 1/1 (frame 783/1500) /content/drive/MyDrive/Robotics/Object_Detection/balls_purple_red/purple_red_balls_vid.mp4: 384x640 4 ball_purples, 4 ball_reds, 6.5ms\n",
            "video 1/1 (frame 784/1500) /content/drive/MyDrive/Robotics/Object_Detection/balls_purple_red/purple_red_balls_vid.mp4: 384x640 4 ball_purples, 4 ball_reds, 6.8ms\n",
            "video 1/1 (frame 785/1500) /content/drive/MyDrive/Robotics/Object_Detection/balls_purple_red/purple_red_balls_vid.mp4: 384x640 4 ball_purples, 4 ball_reds, 6.9ms\n",
            "video 1/1 (frame 786/1500) /content/drive/MyDrive/Robotics/Object_Detection/balls_purple_red/purple_red_balls_vid.mp4: 384x640 4 ball_purples, 4 ball_reds, 7.3ms\n",
            "video 1/1 (frame 787/1500) /content/drive/MyDrive/Robotics/Object_Detection/balls_purple_red/purple_red_balls_vid.mp4: 384x640 4 ball_purples, 4 ball_reds, 6.7ms\n",
            "video 1/1 (frame 788/1500) /content/drive/MyDrive/Robotics/Object_Detection/balls_purple_red/purple_red_balls_vid.mp4: 384x640 4 ball_purples, 4 ball_reds, 6.5ms\n",
            "video 1/1 (frame 789/1500) /content/drive/MyDrive/Robotics/Object_Detection/balls_purple_red/purple_red_balls_vid.mp4: 384x640 4 ball_purples, 4 ball_reds, 6.9ms\n",
            "video 1/1 (frame 790/1500) /content/drive/MyDrive/Robotics/Object_Detection/balls_purple_red/purple_red_balls_vid.mp4: 384x640 4 ball_purples, 4 ball_reds, 6.6ms\n",
            "video 1/1 (frame 791/1500) /content/drive/MyDrive/Robotics/Object_Detection/balls_purple_red/purple_red_balls_vid.mp4: 384x640 4 ball_purples, 4 ball_reds, 7.3ms\n",
            "video 1/1 (frame 792/1500) /content/drive/MyDrive/Robotics/Object_Detection/balls_purple_red/purple_red_balls_vid.mp4: 384x640 4 ball_purples, 4 ball_reds, 6.3ms\n",
            "video 1/1 (frame 793/1500) /content/drive/MyDrive/Robotics/Object_Detection/balls_purple_red/purple_red_balls_vid.mp4: 384x640 4 ball_purples, 4 ball_reds, 7.2ms\n",
            "video 1/1 (frame 794/1500) /content/drive/MyDrive/Robotics/Object_Detection/balls_purple_red/purple_red_balls_vid.mp4: 384x640 4 ball_purples, 4 ball_reds, 6.8ms\n",
            "video 1/1 (frame 795/1500) /content/drive/MyDrive/Robotics/Object_Detection/balls_purple_red/purple_red_balls_vid.mp4: 384x640 4 ball_purples, 4 ball_reds, 7.9ms\n",
            "video 1/1 (frame 796/1500) /content/drive/MyDrive/Robotics/Object_Detection/balls_purple_red/purple_red_balls_vid.mp4: 384x640 4 ball_purples, 4 ball_reds, 9.6ms\n",
            "video 1/1 (frame 797/1500) /content/drive/MyDrive/Robotics/Object_Detection/balls_purple_red/purple_red_balls_vid.mp4: 384x640 4 ball_purples, 4 ball_reds, 6.5ms\n",
            "video 1/1 (frame 798/1500) /content/drive/MyDrive/Robotics/Object_Detection/balls_purple_red/purple_red_balls_vid.mp4: 384x640 4 ball_purples, 4 ball_reds, 6.6ms\n",
            "video 1/1 (frame 799/1500) /content/drive/MyDrive/Robotics/Object_Detection/balls_purple_red/purple_red_balls_vid.mp4: 384x640 4 ball_purples, 4 ball_reds, 6.5ms\n",
            "video 1/1 (frame 800/1500) /content/drive/MyDrive/Robotics/Object_Detection/balls_purple_red/purple_red_balls_vid.mp4: 384x640 4 ball_purples, 4 ball_reds, 9.9ms\n",
            "video 1/1 (frame 801/1500) /content/drive/MyDrive/Robotics/Object_Detection/balls_purple_red/purple_red_balls_vid.mp4: 384x640 4 ball_purples, 4 ball_reds, 6.7ms\n",
            "video 1/1 (frame 802/1500) /content/drive/MyDrive/Robotics/Object_Detection/balls_purple_red/purple_red_balls_vid.mp4: 384x640 4 ball_purples, 4 ball_reds, 6.7ms\n",
            "video 1/1 (frame 803/1500) /content/drive/MyDrive/Robotics/Object_Detection/balls_purple_red/purple_red_balls_vid.mp4: 384x640 4 ball_purples, 4 ball_reds, 6.8ms\n",
            "video 1/1 (frame 804/1500) /content/drive/MyDrive/Robotics/Object_Detection/balls_purple_red/purple_red_balls_vid.mp4: 384x640 4 ball_purples, 4 ball_reds, 6.8ms\n",
            "video 1/1 (frame 805/1500) /content/drive/MyDrive/Robotics/Object_Detection/balls_purple_red/purple_red_balls_vid.mp4: 384x640 4 ball_purples, 4 ball_reds, 6.9ms\n",
            "video 1/1 (frame 806/1500) /content/drive/MyDrive/Robotics/Object_Detection/balls_purple_red/purple_red_balls_vid.mp4: 384x640 4 ball_purples, 4 ball_reds, 6.8ms\n",
            "video 1/1 (frame 807/1500) /content/drive/MyDrive/Robotics/Object_Detection/balls_purple_red/purple_red_balls_vid.mp4: 384x640 4 ball_purples, 4 ball_reds, 9.2ms\n",
            "video 1/1 (frame 808/1500) /content/drive/MyDrive/Robotics/Object_Detection/balls_purple_red/purple_red_balls_vid.mp4: 384x640 4 ball_purples, 4 ball_reds, 6.6ms\n",
            "video 1/1 (frame 809/1500) /content/drive/MyDrive/Robotics/Object_Detection/balls_purple_red/purple_red_balls_vid.mp4: 384x640 4 ball_purples, 4 ball_reds, 7.4ms\n",
            "video 1/1 (frame 810/1500) /content/drive/MyDrive/Robotics/Object_Detection/balls_purple_red/purple_red_balls_vid.mp4: 384x640 4 ball_purples, 4 ball_reds, 6.9ms\n",
            "video 1/1 (frame 811/1500) /content/drive/MyDrive/Robotics/Object_Detection/balls_purple_red/purple_red_balls_vid.mp4: 384x640 4 ball_purples, 4 ball_reds, 6.8ms\n",
            "video 1/1 (frame 812/1500) /content/drive/MyDrive/Robotics/Object_Detection/balls_purple_red/purple_red_balls_vid.mp4: 384x640 4 ball_purples, 4 ball_reds, 7.8ms\n",
            "video 1/1 (frame 813/1500) /content/drive/MyDrive/Robotics/Object_Detection/balls_purple_red/purple_red_balls_vid.mp4: 384x640 4 ball_purples, 4 ball_reds, 6.8ms\n",
            "video 1/1 (frame 814/1500) /content/drive/MyDrive/Robotics/Object_Detection/balls_purple_red/purple_red_balls_vid.mp4: 384x640 4 ball_purples, 4 ball_reds, 6.8ms\n",
            "video 1/1 (frame 815/1500) /content/drive/MyDrive/Robotics/Object_Detection/balls_purple_red/purple_red_balls_vid.mp4: 384x640 4 ball_purples, 4 ball_reds, 6.7ms\n",
            "video 1/1 (frame 816/1500) /content/drive/MyDrive/Robotics/Object_Detection/balls_purple_red/purple_red_balls_vid.mp4: 384x640 4 ball_purples, 4 ball_reds, 8.3ms\n",
            "video 1/1 (frame 817/1500) /content/drive/MyDrive/Robotics/Object_Detection/balls_purple_red/purple_red_balls_vid.mp4: 384x640 4 ball_purples, 4 ball_reds, 6.8ms\n",
            "video 1/1 (frame 818/1500) /content/drive/MyDrive/Robotics/Object_Detection/balls_purple_red/purple_red_balls_vid.mp4: 384x640 4 ball_purples, 4 ball_reds, 9.2ms\n",
            "video 1/1 (frame 819/1500) /content/drive/MyDrive/Robotics/Object_Detection/balls_purple_red/purple_red_balls_vid.mp4: 384x640 4 ball_purples, 4 ball_reds, 6.9ms\n",
            "video 1/1 (frame 820/1500) /content/drive/MyDrive/Robotics/Object_Detection/balls_purple_red/purple_red_balls_vid.mp4: 384x640 4 ball_purples, 4 ball_reds, 6.7ms\n",
            "video 1/1 (frame 821/1500) /content/drive/MyDrive/Robotics/Object_Detection/balls_purple_red/purple_red_balls_vid.mp4: 384x640 4 ball_purples, 4 ball_reds, 8.9ms\n",
            "video 1/1 (frame 822/1500) /content/drive/MyDrive/Robotics/Object_Detection/balls_purple_red/purple_red_balls_vid.mp4: 384x640 4 ball_purples, 4 ball_reds, 6.8ms\n",
            "video 1/1 (frame 823/1500) /content/drive/MyDrive/Robotics/Object_Detection/balls_purple_red/purple_red_balls_vid.mp4: 384x640 4 ball_purples, 4 ball_reds, 10.4ms\n",
            "video 1/1 (frame 824/1500) /content/drive/MyDrive/Robotics/Object_Detection/balls_purple_red/purple_red_balls_vid.mp4: 384x640 4 ball_purples, 4 ball_reds, 6.8ms\n",
            "video 1/1 (frame 825/1500) /content/drive/MyDrive/Robotics/Object_Detection/balls_purple_red/purple_red_balls_vid.mp4: 384x640 4 ball_purples, 4 ball_reds, 6.9ms\n",
            "video 1/1 (frame 826/1500) /content/drive/MyDrive/Robotics/Object_Detection/balls_purple_red/purple_red_balls_vid.mp4: 384x640 4 ball_purples, 4 ball_reds, 7.0ms\n",
            "video 1/1 (frame 827/1500) /content/drive/MyDrive/Robotics/Object_Detection/balls_purple_red/purple_red_balls_vid.mp4: 384x640 4 ball_purples, 4 ball_reds, 10.7ms\n",
            "video 1/1 (frame 828/1500) /content/drive/MyDrive/Robotics/Object_Detection/balls_purple_red/purple_red_balls_vid.mp4: 384x640 4 ball_purples, 4 ball_reds, 6.7ms\n",
            "video 1/1 (frame 829/1500) /content/drive/MyDrive/Robotics/Object_Detection/balls_purple_red/purple_red_balls_vid.mp4: 384x640 4 ball_purples, 4 ball_reds, 6.7ms\n",
            "video 1/1 (frame 830/1500) /content/drive/MyDrive/Robotics/Object_Detection/balls_purple_red/purple_red_balls_vid.mp4: 384x640 4 ball_purples, 4 ball_reds, 6.7ms\n",
            "video 1/1 (frame 831/1500) /content/drive/MyDrive/Robotics/Object_Detection/balls_purple_red/purple_red_balls_vid.mp4: 384x640 4 ball_purples, 4 ball_reds, 6.6ms\n",
            "video 1/1 (frame 832/1500) /content/drive/MyDrive/Robotics/Object_Detection/balls_purple_red/purple_red_balls_vid.mp4: 384x640 4 ball_purples, 4 ball_reds, 8.8ms\n",
            "video 1/1 (frame 833/1500) /content/drive/MyDrive/Robotics/Object_Detection/balls_purple_red/purple_red_balls_vid.mp4: 384x640 4 ball_purples, 4 ball_reds, 6.7ms\n",
            "video 1/1 (frame 834/1500) /content/drive/MyDrive/Robotics/Object_Detection/balls_purple_red/purple_red_balls_vid.mp4: 384x640 4 ball_purples, 4 ball_reds, 8.9ms\n",
            "video 1/1 (frame 835/1500) /content/drive/MyDrive/Robotics/Object_Detection/balls_purple_red/purple_red_balls_vid.mp4: 384x640 4 ball_purples, 4 ball_reds, 6.8ms\n",
            "video 1/1 (frame 836/1500) /content/drive/MyDrive/Robotics/Object_Detection/balls_purple_red/purple_red_balls_vid.mp4: 384x640 4 ball_purples, 4 ball_reds, 7.9ms\n",
            "video 1/1 (frame 837/1500) /content/drive/MyDrive/Robotics/Object_Detection/balls_purple_red/purple_red_balls_vid.mp4: 384x640 4 ball_purples, 4 ball_reds, 6.7ms\n",
            "video 1/1 (frame 838/1500) /content/drive/MyDrive/Robotics/Object_Detection/balls_purple_red/purple_red_balls_vid.mp4: 384x640 4 ball_purples, 4 ball_reds, 7.1ms\n",
            "video 1/1 (frame 839/1500) /content/drive/MyDrive/Robotics/Object_Detection/balls_purple_red/purple_red_balls_vid.mp4: 384x640 4 ball_purples, 4 ball_reds, 6.5ms\n",
            "video 1/1 (frame 840/1500) /content/drive/MyDrive/Robotics/Object_Detection/balls_purple_red/purple_red_balls_vid.mp4: 384x640 4 ball_purples, 4 ball_reds, 7.7ms\n",
            "video 1/1 (frame 841/1500) /content/drive/MyDrive/Robotics/Object_Detection/balls_purple_red/purple_red_balls_vid.mp4: 384x640 4 ball_purples, 4 ball_reds, 7.5ms\n",
            "video 1/1 (frame 842/1500) /content/drive/MyDrive/Robotics/Object_Detection/balls_purple_red/purple_red_balls_vid.mp4: 384x640 4 ball_purples, 4 ball_reds, 6.7ms\n",
            "video 1/1 (frame 843/1500) /content/drive/MyDrive/Robotics/Object_Detection/balls_purple_red/purple_red_balls_vid.mp4: 384x640 4 ball_purples, 4 ball_reds, 6.7ms\n",
            "video 1/1 (frame 844/1500) /content/drive/MyDrive/Robotics/Object_Detection/balls_purple_red/purple_red_balls_vid.mp4: 384x640 4 ball_purples, 4 ball_reds, 11.8ms\n",
            "video 1/1 (frame 845/1500) /content/drive/MyDrive/Robotics/Object_Detection/balls_purple_red/purple_red_balls_vid.mp4: 384x640 4 ball_purples, 4 ball_reds, 7.7ms\n",
            "video 1/1 (frame 846/1500) /content/drive/MyDrive/Robotics/Object_Detection/balls_purple_red/purple_red_balls_vid.mp4: 384x640 4 ball_purples, 4 ball_reds, 7.1ms\n",
            "video 1/1 (frame 847/1500) /content/drive/MyDrive/Robotics/Object_Detection/balls_purple_red/purple_red_balls_vid.mp4: 384x640 4 ball_purples, 4 ball_reds, 6.7ms\n",
            "video 1/1 (frame 848/1500) /content/drive/MyDrive/Robotics/Object_Detection/balls_purple_red/purple_red_balls_vid.mp4: 384x640 4 ball_purples, 4 ball_reds, 6.9ms\n",
            "video 1/1 (frame 849/1500) /content/drive/MyDrive/Robotics/Object_Detection/balls_purple_red/purple_red_balls_vid.mp4: 384x640 4 ball_purples, 4 ball_reds, 6.7ms\n",
            "video 1/1 (frame 850/1500) /content/drive/MyDrive/Robotics/Object_Detection/balls_purple_red/purple_red_balls_vid.mp4: 384x640 4 ball_purples, 4 ball_reds, 7.0ms\n",
            "video 1/1 (frame 851/1500) /content/drive/MyDrive/Robotics/Object_Detection/balls_purple_red/purple_red_balls_vid.mp4: 384x640 4 ball_purples, 4 ball_reds, 6.7ms\n",
            "video 1/1 (frame 852/1500) /content/drive/MyDrive/Robotics/Object_Detection/balls_purple_red/purple_red_balls_vid.mp4: 384x640 4 ball_purples, 4 ball_reds, 6.5ms\n",
            "video 1/1 (frame 853/1500) /content/drive/MyDrive/Robotics/Object_Detection/balls_purple_red/purple_red_balls_vid.mp4: 384x640 4 ball_purples, 4 ball_reds, 6.8ms\n",
            "video 1/1 (frame 854/1500) /content/drive/MyDrive/Robotics/Object_Detection/balls_purple_red/purple_red_balls_vid.mp4: 384x640 4 ball_purples, 4 ball_reds, 6.6ms\n",
            "video 1/1 (frame 855/1500) /content/drive/MyDrive/Robotics/Object_Detection/balls_purple_red/purple_red_balls_vid.mp4: 384x640 4 ball_purples, 4 ball_reds, 7.3ms\n",
            "video 1/1 (frame 856/1500) /content/drive/MyDrive/Robotics/Object_Detection/balls_purple_red/purple_red_balls_vid.mp4: 384x640 4 ball_purples, 4 ball_reds, 6.7ms\n",
            "video 1/1 (frame 857/1500) /content/drive/MyDrive/Robotics/Object_Detection/balls_purple_red/purple_red_balls_vid.mp4: 384x640 4 ball_purples, 4 ball_reds, 9.8ms\n",
            "video 1/1 (frame 858/1500) /content/drive/MyDrive/Robotics/Object_Detection/balls_purple_red/purple_red_balls_vid.mp4: 384x640 4 ball_purples, 4 ball_reds, 6.4ms\n",
            "video 1/1 (frame 859/1500) /content/drive/MyDrive/Robotics/Object_Detection/balls_purple_red/purple_red_balls_vid.mp4: 384x640 4 ball_purples, 4 ball_reds, 7.2ms\n",
            "video 1/1 (frame 860/1500) /content/drive/MyDrive/Robotics/Object_Detection/balls_purple_red/purple_red_balls_vid.mp4: 384x640 4 ball_purples, 4 ball_reds, 6.7ms\n",
            "video 1/1 (frame 861/1500) /content/drive/MyDrive/Robotics/Object_Detection/balls_purple_red/purple_red_balls_vid.mp4: 384x640 4 ball_purples, 4 ball_reds, 10.4ms\n",
            "video 1/1 (frame 862/1500) /content/drive/MyDrive/Robotics/Object_Detection/balls_purple_red/purple_red_balls_vid.mp4: 384x640 4 ball_purples, 4 ball_reds, 6.6ms\n",
            "video 1/1 (frame 863/1500) /content/drive/MyDrive/Robotics/Object_Detection/balls_purple_red/purple_red_balls_vid.mp4: 384x640 4 ball_purples, 4 ball_reds, 6.7ms\n",
            "video 1/1 (frame 864/1500) /content/drive/MyDrive/Robotics/Object_Detection/balls_purple_red/purple_red_balls_vid.mp4: 384x640 4 ball_purples, 4 ball_reds, 6.5ms\n",
            "video 1/1 (frame 865/1500) /content/drive/MyDrive/Robotics/Object_Detection/balls_purple_red/purple_red_balls_vid.mp4: 384x640 4 ball_purples, 4 ball_reds, 6.5ms\n",
            "video 1/1 (frame 866/1500) /content/drive/MyDrive/Robotics/Object_Detection/balls_purple_red/purple_red_balls_vid.mp4: 384x640 4 ball_purples, 4 ball_reds, 7.0ms\n",
            "video 1/1 (frame 867/1500) /content/drive/MyDrive/Robotics/Object_Detection/balls_purple_red/purple_red_balls_vid.mp4: 384x640 4 ball_purples, 4 ball_reds, 11.2ms\n",
            "video 1/1 (frame 868/1500) /content/drive/MyDrive/Robotics/Object_Detection/balls_purple_red/purple_red_balls_vid.mp4: 384x640 4 ball_purples, 4 ball_reds, 6.9ms\n",
            "video 1/1 (frame 869/1500) /content/drive/MyDrive/Robotics/Object_Detection/balls_purple_red/purple_red_balls_vid.mp4: 384x640 4 ball_purples, 4 ball_reds, 7.0ms\n",
            "video 1/1 (frame 870/1500) /content/drive/MyDrive/Robotics/Object_Detection/balls_purple_red/purple_red_balls_vid.mp4: 384x640 4 ball_purples, 4 ball_reds, 10.8ms\n",
            "video 1/1 (frame 871/1500) /content/drive/MyDrive/Robotics/Object_Detection/balls_purple_red/purple_red_balls_vid.mp4: 384x640 4 ball_purples, 4 ball_reds, 6.8ms\n",
            "video 1/1 (frame 872/1500) /content/drive/MyDrive/Robotics/Object_Detection/balls_purple_red/purple_red_balls_vid.mp4: 384x640 4 ball_purples, 4 ball_reds, 12.2ms\n",
            "video 1/1 (frame 873/1500) /content/drive/MyDrive/Robotics/Object_Detection/balls_purple_red/purple_red_balls_vid.mp4: 384x640 4 ball_purples, 4 ball_reds, 6.8ms\n",
            "video 1/1 (frame 874/1500) /content/drive/MyDrive/Robotics/Object_Detection/balls_purple_red/purple_red_balls_vid.mp4: 384x640 4 ball_purples, 4 ball_reds, 7.4ms\n",
            "video 1/1 (frame 875/1500) /content/drive/MyDrive/Robotics/Object_Detection/balls_purple_red/purple_red_balls_vid.mp4: 384x640 4 ball_purples, 4 ball_reds, 6.9ms\n",
            "video 1/1 (frame 876/1500) /content/drive/MyDrive/Robotics/Object_Detection/balls_purple_red/purple_red_balls_vid.mp4: 384x640 4 ball_purples, 4 ball_reds, 7.6ms\n",
            "video 1/1 (frame 877/1500) /content/drive/MyDrive/Robotics/Object_Detection/balls_purple_red/purple_red_balls_vid.mp4: 384x640 4 ball_purples, 4 ball_reds, 15.2ms\n",
            "video 1/1 (frame 878/1500) /content/drive/MyDrive/Robotics/Object_Detection/balls_purple_red/purple_red_balls_vid.mp4: 384x640 4 ball_purples, 4 ball_reds, 7.1ms\n",
            "video 1/1 (frame 879/1500) /content/drive/MyDrive/Robotics/Object_Detection/balls_purple_red/purple_red_balls_vid.mp4: 384x640 4 ball_purples, 4 ball_reds, 6.7ms\n",
            "video 1/1 (frame 880/1500) /content/drive/MyDrive/Robotics/Object_Detection/balls_purple_red/purple_red_balls_vid.mp4: 384x640 4 ball_purples, 4 ball_reds, 7.0ms\n",
            "video 1/1 (frame 881/1500) /content/drive/MyDrive/Robotics/Object_Detection/balls_purple_red/purple_red_balls_vid.mp4: 384x640 4 ball_purples, 4 ball_reds, 6.5ms\n",
            "video 1/1 (frame 882/1500) /content/drive/MyDrive/Robotics/Object_Detection/balls_purple_red/purple_red_balls_vid.mp4: 384x640 4 ball_purples, 4 ball_reds, 6.5ms\n",
            "video 1/1 (frame 883/1500) /content/drive/MyDrive/Robotics/Object_Detection/balls_purple_red/purple_red_balls_vid.mp4: 384x640 4 ball_purples, 4 ball_reds, 7.5ms\n",
            "video 1/1 (frame 884/1500) /content/drive/MyDrive/Robotics/Object_Detection/balls_purple_red/purple_red_balls_vid.mp4: 384x640 4 ball_purples, 4 ball_reds, 6.5ms\n",
            "video 1/1 (frame 885/1500) /content/drive/MyDrive/Robotics/Object_Detection/balls_purple_red/purple_red_balls_vid.mp4: 384x640 4 ball_purples, 4 ball_reds, 7.1ms\n",
            "video 1/1 (frame 886/1500) /content/drive/MyDrive/Robotics/Object_Detection/balls_purple_red/purple_red_balls_vid.mp4: 384x640 4 ball_purples, 4 ball_reds, 6.8ms\n",
            "video 1/1 (frame 887/1500) /content/drive/MyDrive/Robotics/Object_Detection/balls_purple_red/purple_red_balls_vid.mp4: 384x640 4 ball_purples, 4 ball_reds, 6.9ms\n",
            "video 1/1 (frame 888/1500) /content/drive/MyDrive/Robotics/Object_Detection/balls_purple_red/purple_red_balls_vid.mp4: 384x640 4 ball_purples, 4 ball_reds, 6.6ms\n",
            "video 1/1 (frame 889/1500) /content/drive/MyDrive/Robotics/Object_Detection/balls_purple_red/purple_red_balls_vid.mp4: 384x640 4 ball_purples, 4 ball_reds, 10.4ms\n",
            "video 1/1 (frame 890/1500) /content/drive/MyDrive/Robotics/Object_Detection/balls_purple_red/purple_red_balls_vid.mp4: 384x640 4 ball_purples, 4 ball_reds, 7.7ms\n",
            "video 1/1 (frame 891/1500) /content/drive/MyDrive/Robotics/Object_Detection/balls_purple_red/purple_red_balls_vid.mp4: 384x640 4 ball_purples, 4 ball_reds, 7.5ms\n",
            "video 1/1 (frame 892/1500) /content/drive/MyDrive/Robotics/Object_Detection/balls_purple_red/purple_red_balls_vid.mp4: 384x640 4 ball_purples, 4 ball_reds, 8.8ms\n",
            "video 1/1 (frame 893/1500) /content/drive/MyDrive/Robotics/Object_Detection/balls_purple_red/purple_red_balls_vid.mp4: 384x640 4 ball_purples, 4 ball_reds, 6.9ms\n",
            "video 1/1 (frame 894/1500) /content/drive/MyDrive/Robotics/Object_Detection/balls_purple_red/purple_red_balls_vid.mp4: 384x640 4 ball_purples, 4 ball_reds, 8.7ms\n",
            "video 1/1 (frame 895/1500) /content/drive/MyDrive/Robotics/Object_Detection/balls_purple_red/purple_red_balls_vid.mp4: 384x640 4 ball_purples, 4 ball_reds, 10.9ms\n",
            "video 1/1 (frame 896/1500) /content/drive/MyDrive/Robotics/Object_Detection/balls_purple_red/purple_red_balls_vid.mp4: 384x640 4 ball_purples, 4 ball_reds, 8.8ms\n",
            "video 1/1 (frame 897/1500) /content/drive/MyDrive/Robotics/Object_Detection/balls_purple_red/purple_red_balls_vid.mp4: 384x640 4 ball_purples, 4 ball_reds, 7.2ms\n",
            "video 1/1 (frame 898/1500) /content/drive/MyDrive/Robotics/Object_Detection/balls_purple_red/purple_red_balls_vid.mp4: 384x640 4 ball_purples, 4 ball_reds, 9.0ms\n",
            "video 1/1 (frame 899/1500) /content/drive/MyDrive/Robotics/Object_Detection/balls_purple_red/purple_red_balls_vid.mp4: 384x640 4 ball_purples, 4 ball_reds, 6.5ms\n",
            "video 1/1 (frame 900/1500) /content/drive/MyDrive/Robotics/Object_Detection/balls_purple_red/purple_red_balls_vid.mp4: 384x640 4 ball_purples, 4 ball_reds, 8.8ms\n",
            "video 1/1 (frame 901/1500) /content/drive/MyDrive/Robotics/Object_Detection/balls_purple_red/purple_red_balls_vid.mp4: 384x640 5 ball_purples, 6 ball_reds, 7.4ms\n",
            "video 1/1 (frame 902/1500) /content/drive/MyDrive/Robotics/Object_Detection/balls_purple_red/purple_red_balls_vid.mp4: 384x640 5 ball_purples, 6 ball_reds, 6.5ms\n",
            "video 1/1 (frame 903/1500) /content/drive/MyDrive/Robotics/Object_Detection/balls_purple_red/purple_red_balls_vid.mp4: 384x640 5 ball_purples, 6 ball_reds, 6.8ms\n",
            "video 1/1 (frame 904/1500) /content/drive/MyDrive/Robotics/Object_Detection/balls_purple_red/purple_red_balls_vid.mp4: 384x640 5 ball_purples, 6 ball_reds, 8.6ms\n",
            "video 1/1 (frame 905/1500) /content/drive/MyDrive/Robotics/Object_Detection/balls_purple_red/purple_red_balls_vid.mp4: 384x640 5 ball_purples, 6 ball_reds, 6.7ms\n",
            "video 1/1 (frame 906/1500) /content/drive/MyDrive/Robotics/Object_Detection/balls_purple_red/purple_red_balls_vid.mp4: 384x640 5 ball_purples, 6 ball_reds, 6.7ms\n",
            "video 1/1 (frame 907/1500) /content/drive/MyDrive/Robotics/Object_Detection/balls_purple_red/purple_red_balls_vid.mp4: 384x640 5 ball_purples, 6 ball_reds, 6.8ms\n",
            "video 1/1 (frame 908/1500) /content/drive/MyDrive/Robotics/Object_Detection/balls_purple_red/purple_red_balls_vid.mp4: 384x640 5 ball_purples, 6 ball_reds, 6.9ms\n",
            "video 1/1 (frame 909/1500) /content/drive/MyDrive/Robotics/Object_Detection/balls_purple_red/purple_red_balls_vid.mp4: 384x640 5 ball_purples, 6 ball_reds, 7.1ms\n",
            "video 1/1 (frame 910/1500) /content/drive/MyDrive/Robotics/Object_Detection/balls_purple_red/purple_red_balls_vid.mp4: 384x640 5 ball_purples, 6 ball_reds, 7.6ms\n",
            "video 1/1 (frame 911/1500) /content/drive/MyDrive/Robotics/Object_Detection/balls_purple_red/purple_red_balls_vid.mp4: 384x640 5 ball_purples, 6 ball_reds, 7.2ms\n",
            "video 1/1 (frame 912/1500) /content/drive/MyDrive/Robotics/Object_Detection/balls_purple_red/purple_red_balls_vid.mp4: 384x640 5 ball_purples, 6 ball_reds, 6.7ms\n",
            "video 1/1 (frame 913/1500) /content/drive/MyDrive/Robotics/Object_Detection/balls_purple_red/purple_red_balls_vid.mp4: 384x640 5 ball_purples, 6 ball_reds, 11.0ms\n",
            "video 1/1 (frame 914/1500) /content/drive/MyDrive/Robotics/Object_Detection/balls_purple_red/purple_red_balls_vid.mp4: 384x640 5 ball_purples, 6 ball_reds, 7.5ms\n",
            "video 1/1 (frame 915/1500) /content/drive/MyDrive/Robotics/Object_Detection/balls_purple_red/purple_red_balls_vid.mp4: 384x640 5 ball_purples, 6 ball_reds, 7.0ms\n",
            "video 1/1 (frame 916/1500) /content/drive/MyDrive/Robotics/Object_Detection/balls_purple_red/purple_red_balls_vid.mp4: 384x640 5 ball_purples, 6 ball_reds, 7.1ms\n",
            "video 1/1 (frame 917/1500) /content/drive/MyDrive/Robotics/Object_Detection/balls_purple_red/purple_red_balls_vid.mp4: 384x640 5 ball_purples, 6 ball_reds, 6.6ms\n",
            "video 1/1 (frame 918/1500) /content/drive/MyDrive/Robotics/Object_Detection/balls_purple_red/purple_red_balls_vid.mp4: 384x640 5 ball_purples, 6 ball_reds, 7.1ms\n",
            "video 1/1 (frame 919/1500) /content/drive/MyDrive/Robotics/Object_Detection/balls_purple_red/purple_red_balls_vid.mp4: 384x640 5 ball_purples, 6 ball_reds, 6.7ms\n",
            "video 1/1 (frame 920/1500) /content/drive/MyDrive/Robotics/Object_Detection/balls_purple_red/purple_red_balls_vid.mp4: 384x640 5 ball_purples, 6 ball_reds, 6.8ms\n",
            "video 1/1 (frame 921/1500) /content/drive/MyDrive/Robotics/Object_Detection/balls_purple_red/purple_red_balls_vid.mp4: 384x640 5 ball_purples, 6 ball_reds, 6.8ms\n",
            "video 1/1 (frame 922/1500) /content/drive/MyDrive/Robotics/Object_Detection/balls_purple_red/purple_red_balls_vid.mp4: 384x640 5 ball_purples, 6 ball_reds, 6.9ms\n",
            "video 1/1 (frame 923/1500) /content/drive/MyDrive/Robotics/Object_Detection/balls_purple_red/purple_red_balls_vid.mp4: 384x640 5 ball_purples, 6 ball_reds, 6.7ms\n",
            "video 1/1 (frame 924/1500) /content/drive/MyDrive/Robotics/Object_Detection/balls_purple_red/purple_red_balls_vid.mp4: 384x640 5 ball_purples, 6 ball_reds, 6.7ms\n",
            "video 1/1 (frame 925/1500) /content/drive/MyDrive/Robotics/Object_Detection/balls_purple_red/purple_red_balls_vid.mp4: 384x640 5 ball_purples, 6 ball_reds, 10.1ms\n",
            "video 1/1 (frame 926/1500) /content/drive/MyDrive/Robotics/Object_Detection/balls_purple_red/purple_red_balls_vid.mp4: 384x640 5 ball_purples, 6 ball_reds, 6.5ms\n",
            "video 1/1 (frame 927/1500) /content/drive/MyDrive/Robotics/Object_Detection/balls_purple_red/purple_red_balls_vid.mp4: 384x640 5 ball_purples, 6 ball_reds, 6.8ms\n",
            "video 1/1 (frame 928/1500) /content/drive/MyDrive/Robotics/Object_Detection/balls_purple_red/purple_red_balls_vid.mp4: 384x640 5 ball_purples, 6 ball_reds, 6.5ms\n",
            "video 1/1 (frame 929/1500) /content/drive/MyDrive/Robotics/Object_Detection/balls_purple_red/purple_red_balls_vid.mp4: 384x640 5 ball_purples, 6 ball_reds, 6.5ms\n",
            "video 1/1 (frame 930/1500) /content/drive/MyDrive/Robotics/Object_Detection/balls_purple_red/purple_red_balls_vid.mp4: 384x640 5 ball_purples, 6 ball_reds, 6.6ms\n",
            "video 1/1 (frame 931/1500) /content/drive/MyDrive/Robotics/Object_Detection/balls_purple_red/purple_red_balls_vid.mp4: 384x640 5 ball_purples, 6 ball_reds, 6.9ms\n",
            "video 1/1 (frame 932/1500) /content/drive/MyDrive/Robotics/Object_Detection/balls_purple_red/purple_red_balls_vid.mp4: 384x640 5 ball_purples, 6 ball_reds, 9.4ms\n",
            "video 1/1 (frame 933/1500) /content/drive/MyDrive/Robotics/Object_Detection/balls_purple_red/purple_red_balls_vid.mp4: 384x640 5 ball_purples, 6 ball_reds, 7.0ms\n",
            "video 1/1 (frame 934/1500) /content/drive/MyDrive/Robotics/Object_Detection/balls_purple_red/purple_red_balls_vid.mp4: 384x640 5 ball_purples, 6 ball_reds, 8.0ms\n",
            "video 1/1 (frame 935/1500) /content/drive/MyDrive/Robotics/Object_Detection/balls_purple_red/purple_red_balls_vid.mp4: 384x640 5 ball_purples, 6 ball_reds, 6.9ms\n",
            "video 1/1 (frame 936/1500) /content/drive/MyDrive/Robotics/Object_Detection/balls_purple_red/purple_red_balls_vid.mp4: 384x640 5 ball_purples, 6 ball_reds, 7.1ms\n",
            "video 1/1 (frame 937/1500) /content/drive/MyDrive/Robotics/Object_Detection/balls_purple_red/purple_red_balls_vid.mp4: 384x640 5 ball_purples, 6 ball_reds, 6.6ms\n",
            "video 1/1 (frame 938/1500) /content/drive/MyDrive/Robotics/Object_Detection/balls_purple_red/purple_red_balls_vid.mp4: 384x640 5 ball_purples, 6 ball_reds, 10.6ms\n",
            "video 1/1 (frame 939/1500) /content/drive/MyDrive/Robotics/Object_Detection/balls_purple_red/purple_red_balls_vid.mp4: 384x640 5 ball_purples, 6 ball_reds, 6.7ms\n",
            "video 1/1 (frame 940/1500) /content/drive/MyDrive/Robotics/Object_Detection/balls_purple_red/purple_red_balls_vid.mp4: 384x640 5 ball_purples, 6 ball_reds, 7.0ms\n",
            "video 1/1 (frame 941/1500) /content/drive/MyDrive/Robotics/Object_Detection/balls_purple_red/purple_red_balls_vid.mp4: 384x640 5 ball_purples, 6 ball_reds, 6.4ms\n",
            "video 1/1 (frame 942/1500) /content/drive/MyDrive/Robotics/Object_Detection/balls_purple_red/purple_red_balls_vid.mp4: 384x640 5 ball_purples, 6 ball_reds, 6.8ms\n",
            "video 1/1 (frame 943/1500) /content/drive/MyDrive/Robotics/Object_Detection/balls_purple_red/purple_red_balls_vid.mp4: 384x640 5 ball_purples, 6 ball_reds, 6.7ms\n",
            "video 1/1 (frame 944/1500) /content/drive/MyDrive/Robotics/Object_Detection/balls_purple_red/purple_red_balls_vid.mp4: 384x640 5 ball_purples, 6 ball_reds, 6.4ms\n",
            "video 1/1 (frame 945/1500) /content/drive/MyDrive/Robotics/Object_Detection/balls_purple_red/purple_red_balls_vid.mp4: 384x640 5 ball_purples, 6 ball_reds, 6.5ms\n",
            "video 1/1 (frame 946/1500) /content/drive/MyDrive/Robotics/Object_Detection/balls_purple_red/purple_red_balls_vid.mp4: 384x640 5 ball_purples, 6 ball_reds, 10.0ms\n",
            "video 1/1 (frame 947/1500) /content/drive/MyDrive/Robotics/Object_Detection/balls_purple_red/purple_red_balls_vid.mp4: 384x640 5 ball_purples, 6 ball_reds, 6.6ms\n",
            "video 1/1 (frame 948/1500) /content/drive/MyDrive/Robotics/Object_Detection/balls_purple_red/purple_red_balls_vid.mp4: 384x640 5 ball_purples, 6 ball_reds, 8.0ms\n",
            "video 1/1 (frame 949/1500) /content/drive/MyDrive/Robotics/Object_Detection/balls_purple_red/purple_red_balls_vid.mp4: 384x640 5 ball_purples, 6 ball_reds, 6.6ms\n",
            "video 1/1 (frame 950/1500) /content/drive/MyDrive/Robotics/Object_Detection/balls_purple_red/purple_red_balls_vid.mp4: 384x640 5 ball_purples, 6 ball_reds, 7.3ms\n",
            "video 1/1 (frame 951/1500) /content/drive/MyDrive/Robotics/Object_Detection/balls_purple_red/purple_red_balls_vid.mp4: 384x640 5 ball_purples, 6 ball_reds, 11.0ms\n",
            "video 1/1 (frame 952/1500) /content/drive/MyDrive/Robotics/Object_Detection/balls_purple_red/purple_red_balls_vid.mp4: 384x640 5 ball_purples, 6 ball_reds, 7.0ms\n",
            "video 1/1 (frame 953/1500) /content/drive/MyDrive/Robotics/Object_Detection/balls_purple_red/purple_red_balls_vid.mp4: 384x640 5 ball_purples, 6 ball_reds, 6.6ms\n",
            "video 1/1 (frame 954/1500) /content/drive/MyDrive/Robotics/Object_Detection/balls_purple_red/purple_red_balls_vid.mp4: 384x640 5 ball_purples, 6 ball_reds, 6.6ms\n",
            "video 1/1 (frame 955/1500) /content/drive/MyDrive/Robotics/Object_Detection/balls_purple_red/purple_red_balls_vid.mp4: 384x640 5 ball_purples, 6 ball_reds, 6.8ms\n",
            "video 1/1 (frame 956/1500) /content/drive/MyDrive/Robotics/Object_Detection/balls_purple_red/purple_red_balls_vid.mp4: 384x640 5 ball_purples, 6 ball_reds, 6.8ms\n",
            "video 1/1 (frame 957/1500) /content/drive/MyDrive/Robotics/Object_Detection/balls_purple_red/purple_red_balls_vid.mp4: 384x640 5 ball_purples, 6 ball_reds, 6.6ms\n",
            "video 1/1 (frame 958/1500) /content/drive/MyDrive/Robotics/Object_Detection/balls_purple_red/purple_red_balls_vid.mp4: 384x640 5 ball_purples, 6 ball_reds, 6.7ms\n",
            "video 1/1 (frame 959/1500) /content/drive/MyDrive/Robotics/Object_Detection/balls_purple_red/purple_red_balls_vid.mp4: 384x640 5 ball_purples, 6 ball_reds, 6.7ms\n",
            "video 1/1 (frame 960/1500) /content/drive/MyDrive/Robotics/Object_Detection/balls_purple_red/purple_red_balls_vid.mp4: 384x640 5 ball_purples, 6 ball_reds, 9.6ms\n",
            "video 1/1 (frame 961/1500) /content/drive/MyDrive/Robotics/Object_Detection/balls_purple_red/purple_red_balls_vid.mp4: 384x640 5 ball_purples, 6 ball_reds, 6.7ms\n",
            "video 1/1 (frame 962/1500) /content/drive/MyDrive/Robotics/Object_Detection/balls_purple_red/purple_red_balls_vid.mp4: 384x640 5 ball_purples, 6 ball_reds, 6.6ms\n",
            "video 1/1 (frame 963/1500) /content/drive/MyDrive/Robotics/Object_Detection/balls_purple_red/purple_red_balls_vid.mp4: 384x640 5 ball_purples, 6 ball_reds, 7.1ms\n",
            "video 1/1 (frame 964/1500) /content/drive/MyDrive/Robotics/Object_Detection/balls_purple_red/purple_red_balls_vid.mp4: 384x640 5 ball_purples, 6 ball_reds, 10.1ms\n",
            "video 1/1 (frame 965/1500) /content/drive/MyDrive/Robotics/Object_Detection/balls_purple_red/purple_red_balls_vid.mp4: 384x640 5 ball_purples, 6 ball_reds, 6.9ms\n",
            "video 1/1 (frame 966/1500) /content/drive/MyDrive/Robotics/Object_Detection/balls_purple_red/purple_red_balls_vid.mp4: 384x640 5 ball_purples, 6 ball_reds, 7.2ms\n",
            "video 1/1 (frame 967/1500) /content/drive/MyDrive/Robotics/Object_Detection/balls_purple_red/purple_red_balls_vid.mp4: 384x640 5 ball_purples, 6 ball_reds, 7.2ms\n",
            "video 1/1 (frame 968/1500) /content/drive/MyDrive/Robotics/Object_Detection/balls_purple_red/purple_red_balls_vid.mp4: 384x640 5 ball_purples, 6 ball_reds, 7.4ms\n",
            "video 1/1 (frame 969/1500) /content/drive/MyDrive/Robotics/Object_Detection/balls_purple_red/purple_red_balls_vid.mp4: 384x640 5 ball_purples, 6 ball_reds, 6.5ms\n",
            "video 1/1 (frame 970/1500) /content/drive/MyDrive/Robotics/Object_Detection/balls_purple_red/purple_red_balls_vid.mp4: 384x640 5 ball_purples, 6 ball_reds, 6.9ms\n",
            "video 1/1 (frame 971/1500) /content/drive/MyDrive/Robotics/Object_Detection/balls_purple_red/purple_red_balls_vid.mp4: 384x640 5 ball_purples, 6 ball_reds, 6.7ms\n",
            "video 1/1 (frame 972/1500) /content/drive/MyDrive/Robotics/Object_Detection/balls_purple_red/purple_red_balls_vid.mp4: 384x640 5 ball_purples, 6 ball_reds, 6.7ms\n",
            "video 1/1 (frame 973/1500) /content/drive/MyDrive/Robotics/Object_Detection/balls_purple_red/purple_red_balls_vid.mp4: 384x640 5 ball_purples, 6 ball_reds, 9.8ms\n",
            "video 1/1 (frame 974/1500) /content/drive/MyDrive/Robotics/Object_Detection/balls_purple_red/purple_red_balls_vid.mp4: 384x640 5 ball_purples, 6 ball_reds, 20.2ms\n",
            "video 1/1 (frame 975/1500) /content/drive/MyDrive/Robotics/Object_Detection/balls_purple_red/purple_red_balls_vid.mp4: 384x640 5 ball_purples, 6 ball_reds, 17.8ms\n",
            "video 1/1 (frame 976/1500) /content/drive/MyDrive/Robotics/Object_Detection/balls_purple_red/purple_red_balls_vid.mp4: 384x640 5 ball_purples, 6 ball_reds, 13.1ms\n",
            "video 1/1 (frame 977/1500) /content/drive/MyDrive/Robotics/Object_Detection/balls_purple_red/purple_red_balls_vid.mp4: 384x640 5 ball_purples, 6 ball_reds, 8.8ms\n",
            "video 1/1 (frame 978/1500) /content/drive/MyDrive/Robotics/Object_Detection/balls_purple_red/purple_red_balls_vid.mp4: 384x640 5 ball_purples, 6 ball_reds, 9.9ms\n",
            "video 1/1 (frame 979/1500) /content/drive/MyDrive/Robotics/Object_Detection/balls_purple_red/purple_red_balls_vid.mp4: 384x640 5 ball_purples, 6 ball_reds, 8.6ms\n",
            "video 1/1 (frame 980/1500) /content/drive/MyDrive/Robotics/Object_Detection/balls_purple_red/purple_red_balls_vid.mp4: 384x640 5 ball_purples, 6 ball_reds, 9.1ms\n",
            "video 1/1 (frame 981/1500) /content/drive/MyDrive/Robotics/Object_Detection/balls_purple_red/purple_red_balls_vid.mp4: 384x640 5 ball_purples, 6 ball_reds, 9.1ms\n",
            "video 1/1 (frame 982/1500) /content/drive/MyDrive/Robotics/Object_Detection/balls_purple_red/purple_red_balls_vid.mp4: 384x640 5 ball_purples, 6 ball_reds, 15.6ms\n",
            "video 1/1 (frame 983/1500) /content/drive/MyDrive/Robotics/Object_Detection/balls_purple_red/purple_red_balls_vid.mp4: 384x640 5 ball_purples, 6 ball_reds, 8.3ms\n",
            "video 1/1 (frame 984/1500) /content/drive/MyDrive/Robotics/Object_Detection/balls_purple_red/purple_red_balls_vid.mp4: 384x640 5 ball_purples, 6 ball_reds, 8.3ms\n",
            "video 1/1 (frame 985/1500) /content/drive/MyDrive/Robotics/Object_Detection/balls_purple_red/purple_red_balls_vid.mp4: 384x640 5 ball_purples, 6 ball_reds, 8.9ms\n",
            "video 1/1 (frame 986/1500) /content/drive/MyDrive/Robotics/Object_Detection/balls_purple_red/purple_red_balls_vid.mp4: 384x640 5 ball_purples, 6 ball_reds, 13.5ms\n",
            "video 1/1 (frame 987/1500) /content/drive/MyDrive/Robotics/Object_Detection/balls_purple_red/purple_red_balls_vid.mp4: 384x640 5 ball_purples, 6 ball_reds, 13.1ms\n",
            "video 1/1 (frame 988/1500) /content/drive/MyDrive/Robotics/Object_Detection/balls_purple_red/purple_red_balls_vid.mp4: 384x640 5 ball_purples, 6 ball_reds, 8.3ms\n",
            "video 1/1 (frame 989/1500) /content/drive/MyDrive/Robotics/Object_Detection/balls_purple_red/purple_red_balls_vid.mp4: 384x640 5 ball_purples, 6 ball_reds, 14.1ms\n",
            "video 1/1 (frame 990/1500) /content/drive/MyDrive/Robotics/Object_Detection/balls_purple_red/purple_red_balls_vid.mp4: 384x640 5 ball_purples, 6 ball_reds, 8.7ms\n",
            "video 1/1 (frame 991/1500) /content/drive/MyDrive/Robotics/Object_Detection/balls_purple_red/purple_red_balls_vid.mp4: 384x640 5 ball_purples, 6 ball_reds, 9.1ms\n",
            "video 1/1 (frame 992/1500) /content/drive/MyDrive/Robotics/Object_Detection/balls_purple_red/purple_red_balls_vid.mp4: 384x640 5 ball_purples, 6 ball_reds, 8.8ms\n",
            "video 1/1 (frame 993/1500) /content/drive/MyDrive/Robotics/Object_Detection/balls_purple_red/purple_red_balls_vid.mp4: 384x640 5 ball_purples, 6 ball_reds, 8.7ms\n",
            "video 1/1 (frame 994/1500) /content/drive/MyDrive/Robotics/Object_Detection/balls_purple_red/purple_red_balls_vid.mp4: 384x640 5 ball_purples, 6 ball_reds, 8.6ms\n",
            "video 1/1 (frame 995/1500) /content/drive/MyDrive/Robotics/Object_Detection/balls_purple_red/purple_red_balls_vid.mp4: 384x640 5 ball_purples, 6 ball_reds, 8.4ms\n",
            "video 1/1 (frame 996/1500) /content/drive/MyDrive/Robotics/Object_Detection/balls_purple_red/purple_red_balls_vid.mp4: 384x640 5 ball_purples, 6 ball_reds, 13.2ms\n",
            "video 1/1 (frame 997/1500) /content/drive/MyDrive/Robotics/Object_Detection/balls_purple_red/purple_red_balls_vid.mp4: 384x640 5 ball_purples, 6 ball_reds, 12.8ms\n",
            "video 1/1 (frame 998/1500) /content/drive/MyDrive/Robotics/Object_Detection/balls_purple_red/purple_red_balls_vid.mp4: 384x640 5 ball_purples, 6 ball_reds, 9.1ms\n",
            "video 1/1 (frame 999/1500) /content/drive/MyDrive/Robotics/Object_Detection/balls_purple_red/purple_red_balls_vid.mp4: 384x640 5 ball_purples, 6 ball_reds, 8.2ms\n",
            "video 1/1 (frame 1000/1500) /content/drive/MyDrive/Robotics/Object_Detection/balls_purple_red/purple_red_balls_vid.mp4: 384x640 5 ball_purples, 6 ball_reds, 11.1ms\n",
            "video 1/1 (frame 1001/1500) /content/drive/MyDrive/Robotics/Object_Detection/balls_purple_red/purple_red_balls_vid.mp4: 384x640 5 ball_purples, 6 ball_reds, 12.1ms\n",
            "video 1/1 (frame 1002/1500) /content/drive/MyDrive/Robotics/Object_Detection/balls_purple_red/purple_red_balls_vid.mp4: 384x640 5 ball_purples, 6 ball_reds, 9.6ms\n",
            "video 1/1 (frame 1003/1500) /content/drive/MyDrive/Robotics/Object_Detection/balls_purple_red/purple_red_balls_vid.mp4: 384x640 5 ball_purples, 6 ball_reds, 9.0ms\n",
            "video 1/1 (frame 1004/1500) /content/drive/MyDrive/Robotics/Object_Detection/balls_purple_red/purple_red_balls_vid.mp4: 384x640 5 ball_purples, 6 ball_reds, 11.7ms\n",
            "video 1/1 (frame 1005/1500) /content/drive/MyDrive/Robotics/Object_Detection/balls_purple_red/purple_red_balls_vid.mp4: 384x640 5 ball_purples, 6 ball_reds, 15.1ms\n",
            "video 1/1 (frame 1006/1500) /content/drive/MyDrive/Robotics/Object_Detection/balls_purple_red/purple_red_balls_vid.mp4: 384x640 5 ball_purples, 6 ball_reds, 14.5ms\n",
            "video 1/1 (frame 1007/1500) /content/drive/MyDrive/Robotics/Object_Detection/balls_purple_red/purple_red_balls_vid.mp4: 384x640 5 ball_purples, 6 ball_reds, 9.8ms\n",
            "video 1/1 (frame 1008/1500) /content/drive/MyDrive/Robotics/Object_Detection/balls_purple_red/purple_red_balls_vid.mp4: 384x640 5 ball_purples, 6 ball_reds, 15.4ms\n",
            "video 1/1 (frame 1009/1500) /content/drive/MyDrive/Robotics/Object_Detection/balls_purple_red/purple_red_balls_vid.mp4: 384x640 5 ball_purples, 6 ball_reds, 11.6ms\n",
            "video 1/1 (frame 1010/1500) /content/drive/MyDrive/Robotics/Object_Detection/balls_purple_red/purple_red_balls_vid.mp4: 384x640 5 ball_purples, 6 ball_reds, 9.2ms\n",
            "video 1/1 (frame 1011/1500) /content/drive/MyDrive/Robotics/Object_Detection/balls_purple_red/purple_red_balls_vid.mp4: 384x640 5 ball_purples, 6 ball_reds, 14.3ms\n",
            "video 1/1 (frame 1012/1500) /content/drive/MyDrive/Robotics/Object_Detection/balls_purple_red/purple_red_balls_vid.mp4: 384x640 5 ball_purples, 6 ball_reds, 10.5ms\n",
            "video 1/1 (frame 1013/1500) /content/drive/MyDrive/Robotics/Object_Detection/balls_purple_red/purple_red_balls_vid.mp4: 384x640 5 ball_purples, 6 ball_reds, 10.4ms\n",
            "video 1/1 (frame 1014/1500) /content/drive/MyDrive/Robotics/Object_Detection/balls_purple_red/purple_red_balls_vid.mp4: 384x640 5 ball_purples, 6 ball_reds, 9.8ms\n",
            "video 1/1 (frame 1015/1500) /content/drive/MyDrive/Robotics/Object_Detection/balls_purple_red/purple_red_balls_vid.mp4: 384x640 5 ball_purples, 6 ball_reds, 9.6ms\n",
            "video 1/1 (frame 1016/1500) /content/drive/MyDrive/Robotics/Object_Detection/balls_purple_red/purple_red_balls_vid.mp4: 384x640 5 ball_purples, 6 ball_reds, 9.6ms\n",
            "video 1/1 (frame 1017/1500) /content/drive/MyDrive/Robotics/Object_Detection/balls_purple_red/purple_red_balls_vid.mp4: 384x640 5 ball_purples, 6 ball_reds, 10.4ms\n",
            "video 1/1 (frame 1018/1500) /content/drive/MyDrive/Robotics/Object_Detection/balls_purple_red/purple_red_balls_vid.mp4: 384x640 5 ball_purples, 6 ball_reds, 10.3ms\n",
            "video 1/1 (frame 1019/1500) /content/drive/MyDrive/Robotics/Object_Detection/balls_purple_red/purple_red_balls_vid.mp4: 384x640 5 ball_purples, 6 ball_reds, 10.3ms\n",
            "video 1/1 (frame 1020/1500) /content/drive/MyDrive/Robotics/Object_Detection/balls_purple_red/purple_red_balls_vid.mp4: 384x640 5 ball_purples, 6 ball_reds, 9.8ms\n",
            "video 1/1 (frame 1021/1500) /content/drive/MyDrive/Robotics/Object_Detection/balls_purple_red/purple_red_balls_vid.mp4: 384x640 5 ball_purples, 6 ball_reds, 9.9ms\n",
            "video 1/1 (frame 1022/1500) /content/drive/MyDrive/Robotics/Object_Detection/balls_purple_red/purple_red_balls_vid.mp4: 384x640 5 ball_purples, 6 ball_reds, 11.4ms\n",
            "video 1/1 (frame 1023/1500) /content/drive/MyDrive/Robotics/Object_Detection/balls_purple_red/purple_red_balls_vid.mp4: 384x640 5 ball_purples, 6 ball_reds, 10.2ms\n",
            "video 1/1 (frame 1024/1500) /content/drive/MyDrive/Robotics/Object_Detection/balls_purple_red/purple_red_balls_vid.mp4: 384x640 5 ball_purples, 6 ball_reds, 15.4ms\n",
            "video 1/1 (frame 1025/1500) /content/drive/MyDrive/Robotics/Object_Detection/balls_purple_red/purple_red_balls_vid.mp4: 384x640 5 ball_purples, 6 ball_reds, 12.6ms\n",
            "video 1/1 (frame 1026/1500) /content/drive/MyDrive/Robotics/Object_Detection/balls_purple_red/purple_red_balls_vid.mp4: 384x640 5 ball_purples, 6 ball_reds, 12.1ms\n",
            "video 1/1 (frame 1027/1500) /content/drive/MyDrive/Robotics/Object_Detection/balls_purple_red/purple_red_balls_vid.mp4: 384x640 5 ball_purples, 6 ball_reds, 12.5ms\n",
            "video 1/1 (frame 1028/1500) /content/drive/MyDrive/Robotics/Object_Detection/balls_purple_red/purple_red_balls_vid.mp4: 384x640 5 ball_purples, 6 ball_reds, 8.6ms\n",
            "video 1/1 (frame 1029/1500) /content/drive/MyDrive/Robotics/Object_Detection/balls_purple_red/purple_red_balls_vid.mp4: 384x640 5 ball_purples, 6 ball_reds, 7.9ms\n",
            "video 1/1 (frame 1030/1500) /content/drive/MyDrive/Robotics/Object_Detection/balls_purple_red/purple_red_balls_vid.mp4: 384x640 5 ball_purples, 6 ball_reds, 6.5ms\n",
            "video 1/1 (frame 1031/1500) /content/drive/MyDrive/Robotics/Object_Detection/balls_purple_red/purple_red_balls_vid.mp4: 384x640 5 ball_purples, 6 ball_reds, 6.7ms\n",
            "video 1/1 (frame 1032/1500) /content/drive/MyDrive/Robotics/Object_Detection/balls_purple_red/purple_red_balls_vid.mp4: 384x640 5 ball_purples, 6 ball_reds, 7.2ms\n",
            "video 1/1 (frame 1033/1500) /content/drive/MyDrive/Robotics/Object_Detection/balls_purple_red/purple_red_balls_vid.mp4: 384x640 5 ball_purples, 6 ball_reds, 6.7ms\n",
            "video 1/1 (frame 1034/1500) /content/drive/MyDrive/Robotics/Object_Detection/balls_purple_red/purple_red_balls_vid.mp4: 384x640 5 ball_purples, 6 ball_reds, 6.9ms\n",
            "video 1/1 (frame 1035/1500) /content/drive/MyDrive/Robotics/Object_Detection/balls_purple_red/purple_red_balls_vid.mp4: 384x640 5 ball_purples, 6 ball_reds, 7.7ms\n",
            "video 1/1 (frame 1036/1500) /content/drive/MyDrive/Robotics/Object_Detection/balls_purple_red/purple_red_balls_vid.mp4: 384x640 5 ball_purples, 6 ball_reds, 15.4ms\n",
            "video 1/1 (frame 1037/1500) /content/drive/MyDrive/Robotics/Object_Detection/balls_purple_red/purple_red_balls_vid.mp4: 384x640 5 ball_purples, 6 ball_reds, 6.6ms\n",
            "video 1/1 (frame 1038/1500) /content/drive/MyDrive/Robotics/Object_Detection/balls_purple_red/purple_red_balls_vid.mp4: 384x640 5 ball_purples, 6 ball_reds, 7.1ms\n",
            "video 1/1 (frame 1039/1500) /content/drive/MyDrive/Robotics/Object_Detection/balls_purple_red/purple_red_balls_vid.mp4: 384x640 5 ball_purples, 6 ball_reds, 7.5ms\n",
            "video 1/1 (frame 1040/1500) /content/drive/MyDrive/Robotics/Object_Detection/balls_purple_red/purple_red_balls_vid.mp4: 384x640 5 ball_purples, 6 ball_reds, 6.9ms\n",
            "video 1/1 (frame 1041/1500) /content/drive/MyDrive/Robotics/Object_Detection/balls_purple_red/purple_red_balls_vid.mp4: 384x640 5 ball_purples, 6 ball_reds, 6.8ms\n",
            "video 1/1 (frame 1042/1500) /content/drive/MyDrive/Robotics/Object_Detection/balls_purple_red/purple_red_balls_vid.mp4: 384x640 5 ball_purples, 6 ball_reds, 7.0ms\n",
            "video 1/1 (frame 1043/1500) /content/drive/MyDrive/Robotics/Object_Detection/balls_purple_red/purple_red_balls_vid.mp4: 384x640 5 ball_purples, 6 ball_reds, 10.9ms\n",
            "video 1/1 (frame 1044/1500) /content/drive/MyDrive/Robotics/Object_Detection/balls_purple_red/purple_red_balls_vid.mp4: 384x640 5 ball_purples, 6 ball_reds, 6.5ms\n",
            "video 1/1 (frame 1045/1500) /content/drive/MyDrive/Robotics/Object_Detection/balls_purple_red/purple_red_balls_vid.mp4: 384x640 5 ball_purples, 6 ball_reds, 6.8ms\n",
            "video 1/1 (frame 1046/1500) /content/drive/MyDrive/Robotics/Object_Detection/balls_purple_red/purple_red_balls_vid.mp4: 384x640 5 ball_purples, 6 ball_reds, 6.6ms\n",
            "video 1/1 (frame 1047/1500) /content/drive/MyDrive/Robotics/Object_Detection/balls_purple_red/purple_red_balls_vid.mp4: 384x640 5 ball_purples, 6 ball_reds, 6.7ms\n",
            "video 1/1 (frame 1048/1500) /content/drive/MyDrive/Robotics/Object_Detection/balls_purple_red/purple_red_balls_vid.mp4: 384x640 5 ball_purples, 6 ball_reds, 9.0ms\n",
            "video 1/1 (frame 1049/1500) /content/drive/MyDrive/Robotics/Object_Detection/balls_purple_red/purple_red_balls_vid.mp4: 384x640 5 ball_purples, 6 ball_reds, 9.9ms\n",
            "video 1/1 (frame 1050/1500) /content/drive/MyDrive/Robotics/Object_Detection/balls_purple_red/purple_red_balls_vid.mp4: 384x640 5 ball_purples, 6 ball_reds, 6.3ms\n",
            "video 1/1 (frame 1051/1500) /content/drive/MyDrive/Robotics/Object_Detection/balls_purple_red/purple_red_balls_vid.mp4: 384x640 6 ball_purples, 4 ball_reds, 7.2ms\n",
            "video 1/1 (frame 1052/1500) /content/drive/MyDrive/Robotics/Object_Detection/balls_purple_red/purple_red_balls_vid.mp4: 384x640 6 ball_purples, 4 ball_reds, 6.8ms\n",
            "video 1/1 (frame 1053/1500) /content/drive/MyDrive/Robotics/Object_Detection/balls_purple_red/purple_red_balls_vid.mp4: 384x640 6 ball_purples, 4 ball_reds, 6.6ms\n",
            "video 1/1 (frame 1054/1500) /content/drive/MyDrive/Robotics/Object_Detection/balls_purple_red/purple_red_balls_vid.mp4: 384x640 6 ball_purples, 4 ball_reds, 8.0ms\n",
            "video 1/1 (frame 1055/1500) /content/drive/MyDrive/Robotics/Object_Detection/balls_purple_red/purple_red_balls_vid.mp4: 384x640 6 ball_purples, 4 ball_reds, 7.0ms\n",
            "video 1/1 (frame 1056/1500) /content/drive/MyDrive/Robotics/Object_Detection/balls_purple_red/purple_red_balls_vid.mp4: 384x640 6 ball_purples, 4 ball_reds, 6.8ms\n",
            "video 1/1 (frame 1057/1500) /content/drive/MyDrive/Robotics/Object_Detection/balls_purple_red/purple_red_balls_vid.mp4: 384x640 6 ball_purples, 4 ball_reds, 6.7ms\n",
            "video 1/1 (frame 1058/1500) /content/drive/MyDrive/Robotics/Object_Detection/balls_purple_red/purple_red_balls_vid.mp4: 384x640 6 ball_purples, 4 ball_reds, 7.1ms\n",
            "video 1/1 (frame 1059/1500) /content/drive/MyDrive/Robotics/Object_Detection/balls_purple_red/purple_red_balls_vid.mp4: 384x640 6 ball_purples, 4 ball_reds, 6.7ms\n",
            "video 1/1 (frame 1060/1500) /content/drive/MyDrive/Robotics/Object_Detection/balls_purple_red/purple_red_balls_vid.mp4: 384x640 6 ball_purples, 4 ball_reds, 6.6ms\n",
            "video 1/1 (frame 1061/1500) /content/drive/MyDrive/Robotics/Object_Detection/balls_purple_red/purple_red_balls_vid.mp4: 384x640 6 ball_purples, 4 ball_reds, 6.6ms\n",
            "video 1/1 (frame 1062/1500) /content/drive/MyDrive/Robotics/Object_Detection/balls_purple_red/purple_red_balls_vid.mp4: 384x640 6 ball_purples, 4 ball_reds, 9.9ms\n",
            "video 1/1 (frame 1063/1500) /content/drive/MyDrive/Robotics/Object_Detection/balls_purple_red/purple_red_balls_vid.mp4: 384x640 6 ball_purples, 4 ball_reds, 6.6ms\n",
            "video 1/1 (frame 1064/1500) /content/drive/MyDrive/Robotics/Object_Detection/balls_purple_red/purple_red_balls_vid.mp4: 384x640 6 ball_purples, 4 ball_reds, 10.4ms\n",
            "video 1/1 (frame 1065/1500) /content/drive/MyDrive/Robotics/Object_Detection/balls_purple_red/purple_red_balls_vid.mp4: 384x640 6 ball_purples, 4 ball_reds, 6.8ms\n",
            "video 1/1 (frame 1066/1500) /content/drive/MyDrive/Robotics/Object_Detection/balls_purple_red/purple_red_balls_vid.mp4: 384x640 6 ball_purples, 4 ball_reds, 6.8ms\n",
            "video 1/1 (frame 1067/1500) /content/drive/MyDrive/Robotics/Object_Detection/balls_purple_red/purple_red_balls_vid.mp4: 384x640 6 ball_purples, 4 ball_reds, 8.1ms\n",
            "video 1/1 (frame 1068/1500) /content/drive/MyDrive/Robotics/Object_Detection/balls_purple_red/purple_red_balls_vid.mp4: 384x640 6 ball_purples, 4 ball_reds, 6.7ms\n",
            "video 1/1 (frame 1069/1500) /content/drive/MyDrive/Robotics/Object_Detection/balls_purple_red/purple_red_balls_vid.mp4: 384x640 6 ball_purples, 4 ball_reds, 6.7ms\n",
            "video 1/1 (frame 1070/1500) /content/drive/MyDrive/Robotics/Object_Detection/balls_purple_red/purple_red_balls_vid.mp4: 384x640 6 ball_purples, 4 ball_reds, 6.9ms\n",
            "video 1/1 (frame 1071/1500) /content/drive/MyDrive/Robotics/Object_Detection/balls_purple_red/purple_red_balls_vid.mp4: 384x640 6 ball_purples, 4 ball_reds, 6.8ms\n",
            "video 1/1 (frame 1072/1500) /content/drive/MyDrive/Robotics/Object_Detection/balls_purple_red/purple_red_balls_vid.mp4: 384x640 6 ball_purples, 4 ball_reds, 6.7ms\n",
            "video 1/1 (frame 1073/1500) /content/drive/MyDrive/Robotics/Object_Detection/balls_purple_red/purple_red_balls_vid.mp4: 384x640 6 ball_purples, 4 ball_reds, 7.2ms\n",
            "video 1/1 (frame 1074/1500) /content/drive/MyDrive/Robotics/Object_Detection/balls_purple_red/purple_red_balls_vid.mp4: 384x640 6 ball_purples, 4 ball_reds, 6.8ms\n",
            "video 1/1 (frame 1075/1500) /content/drive/MyDrive/Robotics/Object_Detection/balls_purple_red/purple_red_balls_vid.mp4: 384x640 6 ball_purples, 4 ball_reds, 7.0ms\n",
            "video 1/1 (frame 1076/1500) /content/drive/MyDrive/Robotics/Object_Detection/balls_purple_red/purple_red_balls_vid.mp4: 384x640 6 ball_purples, 4 ball_reds, 6.6ms\n",
            "video 1/1 (frame 1077/1500) /content/drive/MyDrive/Robotics/Object_Detection/balls_purple_red/purple_red_balls_vid.mp4: 384x640 6 ball_purples, 4 ball_reds, 6.9ms\n",
            "video 1/1 (frame 1078/1500) /content/drive/MyDrive/Robotics/Object_Detection/balls_purple_red/purple_red_balls_vid.mp4: 384x640 6 ball_purples, 4 ball_reds, 6.7ms\n",
            "video 1/1 (frame 1079/1500) /content/drive/MyDrive/Robotics/Object_Detection/balls_purple_red/purple_red_balls_vid.mp4: 384x640 6 ball_purples, 4 ball_reds, 7.1ms\n",
            "video 1/1 (frame 1080/1500) /content/drive/MyDrive/Robotics/Object_Detection/balls_purple_red/purple_red_balls_vid.mp4: 384x640 6 ball_purples, 4 ball_reds, 7.0ms\n",
            "video 1/1 (frame 1081/1500) /content/drive/MyDrive/Robotics/Object_Detection/balls_purple_red/purple_red_balls_vid.mp4: 384x640 6 ball_purples, 4 ball_reds, 6.6ms\n",
            "video 1/1 (frame 1082/1500) /content/drive/MyDrive/Robotics/Object_Detection/balls_purple_red/purple_red_balls_vid.mp4: 384x640 6 ball_purples, 4 ball_reds, 8.1ms\n",
            "video 1/1 (frame 1083/1500) /content/drive/MyDrive/Robotics/Object_Detection/balls_purple_red/purple_red_balls_vid.mp4: 384x640 6 ball_purples, 4 ball_reds, 6.9ms\n",
            "video 1/1 (frame 1084/1500) /content/drive/MyDrive/Robotics/Object_Detection/balls_purple_red/purple_red_balls_vid.mp4: 384x640 6 ball_purples, 4 ball_reds, 7.0ms\n",
            "video 1/1 (frame 1085/1500) /content/drive/MyDrive/Robotics/Object_Detection/balls_purple_red/purple_red_balls_vid.mp4: 384x640 6 ball_purples, 4 ball_reds, 6.6ms\n",
            "video 1/1 (frame 1086/1500) /content/drive/MyDrive/Robotics/Object_Detection/balls_purple_red/purple_red_balls_vid.mp4: 384x640 6 ball_purples, 4 ball_reds, 6.9ms\n",
            "video 1/1 (frame 1087/1500) /content/drive/MyDrive/Robotics/Object_Detection/balls_purple_red/purple_red_balls_vid.mp4: 384x640 6 ball_purples, 4 ball_reds, 7.4ms\n",
            "video 1/1 (frame 1088/1500) /content/drive/MyDrive/Robotics/Object_Detection/balls_purple_red/purple_red_balls_vid.mp4: 384x640 6 ball_purples, 4 ball_reds, 6.7ms\n",
            "video 1/1 (frame 1089/1500) /content/drive/MyDrive/Robotics/Object_Detection/balls_purple_red/purple_red_balls_vid.mp4: 384x640 6 ball_purples, 4 ball_reds, 7.5ms\n",
            "video 1/1 (frame 1090/1500) /content/drive/MyDrive/Robotics/Object_Detection/balls_purple_red/purple_red_balls_vid.mp4: 384x640 6 ball_purples, 4 ball_reds, 6.5ms\n",
            "video 1/1 (frame 1091/1500) /content/drive/MyDrive/Robotics/Object_Detection/balls_purple_red/purple_red_balls_vid.mp4: 384x640 6 ball_purples, 4 ball_reds, 6.7ms\n",
            "video 1/1 (frame 1092/1500) /content/drive/MyDrive/Robotics/Object_Detection/balls_purple_red/purple_red_balls_vid.mp4: 384x640 6 ball_purples, 4 ball_reds, 7.1ms\n",
            "video 1/1 (frame 1093/1500) /content/drive/MyDrive/Robotics/Object_Detection/balls_purple_red/purple_red_balls_vid.mp4: 384x640 6 ball_purples, 4 ball_reds, 6.9ms\n",
            "video 1/1 (frame 1094/1500) /content/drive/MyDrive/Robotics/Object_Detection/balls_purple_red/purple_red_balls_vid.mp4: 384x640 6 ball_purples, 4 ball_reds, 6.4ms\n",
            "video 1/1 (frame 1095/1500) /content/drive/MyDrive/Robotics/Object_Detection/balls_purple_red/purple_red_balls_vid.mp4: 384x640 6 ball_purples, 4 ball_reds, 6.7ms\n",
            "video 1/1 (frame 1096/1500) /content/drive/MyDrive/Robotics/Object_Detection/balls_purple_red/purple_red_balls_vid.mp4: 384x640 6 ball_purples, 4 ball_reds, 6.8ms\n",
            "video 1/1 (frame 1097/1500) /content/drive/MyDrive/Robotics/Object_Detection/balls_purple_red/purple_red_balls_vid.mp4: 384x640 6 ball_purples, 4 ball_reds, 6.5ms\n",
            "video 1/1 (frame 1098/1500) /content/drive/MyDrive/Robotics/Object_Detection/balls_purple_red/purple_red_balls_vid.mp4: 384x640 6 ball_purples, 4 ball_reds, 11.9ms\n",
            "video 1/1 (frame 1099/1500) /content/drive/MyDrive/Robotics/Object_Detection/balls_purple_red/purple_red_balls_vid.mp4: 384x640 6 ball_purples, 4 ball_reds, 7.6ms\n",
            "video 1/1 (frame 1100/1500) /content/drive/MyDrive/Robotics/Object_Detection/balls_purple_red/purple_red_balls_vid.mp4: 384x640 6 ball_purples, 4 ball_reds, 7.3ms\n",
            "video 1/1 (frame 1101/1500) /content/drive/MyDrive/Robotics/Object_Detection/balls_purple_red/purple_red_balls_vid.mp4: 384x640 6 ball_purples, 4 ball_reds, 6.9ms\n",
            "video 1/1 (frame 1102/1500) /content/drive/MyDrive/Robotics/Object_Detection/balls_purple_red/purple_red_balls_vid.mp4: 384x640 6 ball_purples, 4 ball_reds, 7.7ms\n",
            "video 1/1 (frame 1103/1500) /content/drive/MyDrive/Robotics/Object_Detection/balls_purple_red/purple_red_balls_vid.mp4: 384x640 6 ball_purples, 4 ball_reds, 6.9ms\n",
            "video 1/1 (frame 1104/1500) /content/drive/MyDrive/Robotics/Object_Detection/balls_purple_red/purple_red_balls_vid.mp4: 384x640 6 ball_purples, 4 ball_reds, 6.8ms\n",
            "video 1/1 (frame 1105/1500) /content/drive/MyDrive/Robotics/Object_Detection/balls_purple_red/purple_red_balls_vid.mp4: 384x640 6 ball_purples, 4 ball_reds, 6.6ms\n",
            "video 1/1 (frame 1106/1500) /content/drive/MyDrive/Robotics/Object_Detection/balls_purple_red/purple_red_balls_vid.mp4: 384x640 6 ball_purples, 4 ball_reds, 6.8ms\n",
            "video 1/1 (frame 1107/1500) /content/drive/MyDrive/Robotics/Object_Detection/balls_purple_red/purple_red_balls_vid.mp4: 384x640 6 ball_purples, 4 ball_reds, 6.7ms\n",
            "video 1/1 (frame 1108/1500) /content/drive/MyDrive/Robotics/Object_Detection/balls_purple_red/purple_red_balls_vid.mp4: 384x640 6 ball_purples, 4 ball_reds, 6.5ms\n",
            "video 1/1 (frame 1109/1500) /content/drive/MyDrive/Robotics/Object_Detection/balls_purple_red/purple_red_balls_vid.mp4: 384x640 6 ball_purples, 4 ball_reds, 7.4ms\n",
            "video 1/1 (frame 1110/1500) /content/drive/MyDrive/Robotics/Object_Detection/balls_purple_red/purple_red_balls_vid.mp4: 384x640 6 ball_purples, 4 ball_reds, 7.0ms\n",
            "video 1/1 (frame 1111/1500) /content/drive/MyDrive/Robotics/Object_Detection/balls_purple_red/purple_red_balls_vid.mp4: 384x640 6 ball_purples, 4 ball_reds, 6.8ms\n",
            "video 1/1 (frame 1112/1500) /content/drive/MyDrive/Robotics/Object_Detection/balls_purple_red/purple_red_balls_vid.mp4: 384x640 6 ball_purples, 4 ball_reds, 6.7ms\n",
            "video 1/1 (frame 1113/1500) /content/drive/MyDrive/Robotics/Object_Detection/balls_purple_red/purple_red_balls_vid.mp4: 384x640 6 ball_purples, 4 ball_reds, 6.5ms\n",
            "video 1/1 (frame 1114/1500) /content/drive/MyDrive/Robotics/Object_Detection/balls_purple_red/purple_red_balls_vid.mp4: 384x640 6 ball_purples, 4 ball_reds, 6.6ms\n",
            "video 1/1 (frame 1115/1500) /content/drive/MyDrive/Robotics/Object_Detection/balls_purple_red/purple_red_balls_vid.mp4: 384x640 6 ball_purples, 4 ball_reds, 6.8ms\n",
            "video 1/1 (frame 1116/1500) /content/drive/MyDrive/Robotics/Object_Detection/balls_purple_red/purple_red_balls_vid.mp4: 384x640 6 ball_purples, 4 ball_reds, 6.4ms\n",
            "video 1/1 (frame 1117/1500) /content/drive/MyDrive/Robotics/Object_Detection/balls_purple_red/purple_red_balls_vid.mp4: 384x640 6 ball_purples, 4 ball_reds, 6.6ms\n",
            "video 1/1 (frame 1118/1500) /content/drive/MyDrive/Robotics/Object_Detection/balls_purple_red/purple_red_balls_vid.mp4: 384x640 6 ball_purples, 4 ball_reds, 10.6ms\n",
            "video 1/1 (frame 1119/1500) /content/drive/MyDrive/Robotics/Object_Detection/balls_purple_red/purple_red_balls_vid.mp4: 384x640 6 ball_purples, 4 ball_reds, 6.7ms\n",
            "video 1/1 (frame 1120/1500) /content/drive/MyDrive/Robotics/Object_Detection/balls_purple_red/purple_red_balls_vid.mp4: 384x640 6 ball_purples, 4 ball_reds, 6.6ms\n",
            "video 1/1 (frame 1121/1500) /content/drive/MyDrive/Robotics/Object_Detection/balls_purple_red/purple_red_balls_vid.mp4: 384x640 6 ball_purples, 4 ball_reds, 6.5ms\n",
            "video 1/1 (frame 1122/1500) /content/drive/MyDrive/Robotics/Object_Detection/balls_purple_red/purple_red_balls_vid.mp4: 384x640 6 ball_purples, 4 ball_reds, 6.8ms\n",
            "video 1/1 (frame 1123/1500) /content/drive/MyDrive/Robotics/Object_Detection/balls_purple_red/purple_red_balls_vid.mp4: 384x640 6 ball_purples, 4 ball_reds, 6.7ms\n",
            "video 1/1 (frame 1124/1500) /content/drive/MyDrive/Robotics/Object_Detection/balls_purple_red/purple_red_balls_vid.mp4: 384x640 6 ball_purples, 4 ball_reds, 7.1ms\n",
            "video 1/1 (frame 1125/1500) /content/drive/MyDrive/Robotics/Object_Detection/balls_purple_red/purple_red_balls_vid.mp4: 384x640 6 ball_purples, 4 ball_reds, 6.7ms\n",
            "video 1/1 (frame 1126/1500) /content/drive/MyDrive/Robotics/Object_Detection/balls_purple_red/purple_red_balls_vid.mp4: 384x640 6 ball_purples, 4 ball_reds, 6.8ms\n",
            "video 1/1 (frame 1127/1500) /content/drive/MyDrive/Robotics/Object_Detection/balls_purple_red/purple_red_balls_vid.mp4: 384x640 6 ball_purples, 4 ball_reds, 7.2ms\n",
            "video 1/1 (frame 1128/1500) /content/drive/MyDrive/Robotics/Object_Detection/balls_purple_red/purple_red_balls_vid.mp4: 384x640 6 ball_purples, 4 ball_reds, 6.6ms\n",
            "video 1/1 (frame 1129/1500) /content/drive/MyDrive/Robotics/Object_Detection/balls_purple_red/purple_red_balls_vid.mp4: 384x640 6 ball_purples, 4 ball_reds, 6.8ms\n",
            "video 1/1 (frame 1130/1500) /content/drive/MyDrive/Robotics/Object_Detection/balls_purple_red/purple_red_balls_vid.mp4: 384x640 6 ball_purples, 4 ball_reds, 6.7ms\n",
            "video 1/1 (frame 1131/1500) /content/drive/MyDrive/Robotics/Object_Detection/balls_purple_red/purple_red_balls_vid.mp4: 384x640 6 ball_purples, 4 ball_reds, 9.8ms\n",
            "video 1/1 (frame 1132/1500) /content/drive/MyDrive/Robotics/Object_Detection/balls_purple_red/purple_red_balls_vid.mp4: 384x640 6 ball_purples, 4 ball_reds, 6.8ms\n",
            "video 1/1 (frame 1133/1500) /content/drive/MyDrive/Robotics/Object_Detection/balls_purple_red/purple_red_balls_vid.mp4: 384x640 6 ball_purples, 4 ball_reds, 6.7ms\n",
            "video 1/1 (frame 1134/1500) /content/drive/MyDrive/Robotics/Object_Detection/balls_purple_red/purple_red_balls_vid.mp4: 384x640 6 ball_purples, 4 ball_reds, 6.5ms\n",
            "video 1/1 (frame 1135/1500) /content/drive/MyDrive/Robotics/Object_Detection/balls_purple_red/purple_red_balls_vid.mp4: 384x640 6 ball_purples, 4 ball_reds, 6.6ms\n",
            "video 1/1 (frame 1136/1500) /content/drive/MyDrive/Robotics/Object_Detection/balls_purple_red/purple_red_balls_vid.mp4: 384x640 6 ball_purples, 4 ball_reds, 6.6ms\n",
            "video 1/1 (frame 1137/1500) /content/drive/MyDrive/Robotics/Object_Detection/balls_purple_red/purple_red_balls_vid.mp4: 384x640 6 ball_purples, 4 ball_reds, 6.8ms\n",
            "video 1/1 (frame 1138/1500) /content/drive/MyDrive/Robotics/Object_Detection/balls_purple_red/purple_red_balls_vid.mp4: 384x640 6 ball_purples, 4 ball_reds, 6.9ms\n",
            "video 1/1 (frame 1139/1500) /content/drive/MyDrive/Robotics/Object_Detection/balls_purple_red/purple_red_balls_vid.mp4: 384x640 6 ball_purples, 4 ball_reds, 7.3ms\n",
            "video 1/1 (frame 1140/1500) /content/drive/MyDrive/Robotics/Object_Detection/balls_purple_red/purple_red_balls_vid.mp4: 384x640 6 ball_purples, 4 ball_reds, 6.7ms\n",
            "video 1/1 (frame 1141/1500) /content/drive/MyDrive/Robotics/Object_Detection/balls_purple_red/purple_red_balls_vid.mp4: 384x640 6 ball_purples, 4 ball_reds, 6.4ms\n",
            "video 1/1 (frame 1142/1500) /content/drive/MyDrive/Robotics/Object_Detection/balls_purple_red/purple_red_balls_vid.mp4: 384x640 6 ball_purples, 4 ball_reds, 6.8ms\n",
            "video 1/1 (frame 1143/1500) /content/drive/MyDrive/Robotics/Object_Detection/balls_purple_red/purple_red_balls_vid.mp4: 384x640 6 ball_purples, 4 ball_reds, 7.8ms\n",
            "video 1/1 (frame 1144/1500) /content/drive/MyDrive/Robotics/Object_Detection/balls_purple_red/purple_red_balls_vid.mp4: 384x640 6 ball_purples, 4 ball_reds, 6.6ms\n",
            "video 1/1 (frame 1145/1500) /content/drive/MyDrive/Robotics/Object_Detection/balls_purple_red/purple_red_balls_vid.mp4: 384x640 6 ball_purples, 4 ball_reds, 9.1ms\n",
            "video 1/1 (frame 1146/1500) /content/drive/MyDrive/Robotics/Object_Detection/balls_purple_red/purple_red_balls_vid.mp4: 384x640 6 ball_purples, 4 ball_reds, 9.8ms\n",
            "video 1/1 (frame 1147/1500) /content/drive/MyDrive/Robotics/Object_Detection/balls_purple_red/purple_red_balls_vid.mp4: 384x640 6 ball_purples, 4 ball_reds, 13.4ms\n",
            "video 1/1 (frame 1148/1500) /content/drive/MyDrive/Robotics/Object_Detection/balls_purple_red/purple_red_balls_vid.mp4: 384x640 6 ball_purples, 4 ball_reds, 6.7ms\n",
            "video 1/1 (frame 1149/1500) /content/drive/MyDrive/Robotics/Object_Detection/balls_purple_red/purple_red_balls_vid.mp4: 384x640 6 ball_purples, 4 ball_reds, 7.5ms\n",
            "video 1/1 (frame 1150/1500) /content/drive/MyDrive/Robotics/Object_Detection/balls_purple_red/purple_red_balls_vid.mp4: 384x640 6 ball_purples, 4 ball_reds, 6.9ms\n",
            "video 1/1 (frame 1151/1500) /content/drive/MyDrive/Robotics/Object_Detection/balls_purple_red/purple_red_balls_vid.mp4: 384x640 6 ball_purples, 4 ball_reds, 6.7ms\n",
            "video 1/1 (frame 1152/1500) /content/drive/MyDrive/Robotics/Object_Detection/balls_purple_red/purple_red_balls_vid.mp4: 384x640 6 ball_purples, 4 ball_reds, 6.5ms\n",
            "video 1/1 (frame 1153/1500) /content/drive/MyDrive/Robotics/Object_Detection/balls_purple_red/purple_red_balls_vid.mp4: 384x640 6 ball_purples, 4 ball_reds, 10.8ms\n",
            "video 1/1 (frame 1154/1500) /content/drive/MyDrive/Robotics/Object_Detection/balls_purple_red/purple_red_balls_vid.mp4: 384x640 6 ball_purples, 4 ball_reds, 6.8ms\n",
            "video 1/1 (frame 1155/1500) /content/drive/MyDrive/Robotics/Object_Detection/balls_purple_red/purple_red_balls_vid.mp4: 384x640 6 ball_purples, 4 ball_reds, 6.8ms\n",
            "video 1/1 (frame 1156/1500) /content/drive/MyDrive/Robotics/Object_Detection/balls_purple_red/purple_red_balls_vid.mp4: 384x640 6 ball_purples, 4 ball_reds, 6.7ms\n",
            "video 1/1 (frame 1157/1500) /content/drive/MyDrive/Robotics/Object_Detection/balls_purple_red/purple_red_balls_vid.mp4: 384x640 6 ball_purples, 4 ball_reds, 6.9ms\n",
            "video 1/1 (frame 1158/1500) /content/drive/MyDrive/Robotics/Object_Detection/balls_purple_red/purple_red_balls_vid.mp4: 384x640 6 ball_purples, 4 ball_reds, 10.2ms\n",
            "video 1/1 (frame 1159/1500) /content/drive/MyDrive/Robotics/Object_Detection/balls_purple_red/purple_red_balls_vid.mp4: 384x640 6 ball_purples, 4 ball_reds, 6.7ms\n",
            "video 1/1 (frame 1160/1500) /content/drive/MyDrive/Robotics/Object_Detection/balls_purple_red/purple_red_balls_vid.mp4: 384x640 6 ball_purples, 4 ball_reds, 6.7ms\n",
            "video 1/1 (frame 1161/1500) /content/drive/MyDrive/Robotics/Object_Detection/balls_purple_red/purple_red_balls_vid.mp4: 384x640 6 ball_purples, 4 ball_reds, 7.1ms\n",
            "video 1/1 (frame 1162/1500) /content/drive/MyDrive/Robotics/Object_Detection/balls_purple_red/purple_red_balls_vid.mp4: 384x640 6 ball_purples, 4 ball_reds, 6.8ms\n",
            "video 1/1 (frame 1163/1500) /content/drive/MyDrive/Robotics/Object_Detection/balls_purple_red/purple_red_balls_vid.mp4: 384x640 6 ball_purples, 4 ball_reds, 6.9ms\n",
            "video 1/1 (frame 1164/1500) /content/drive/MyDrive/Robotics/Object_Detection/balls_purple_red/purple_red_balls_vid.mp4: 384x640 6 ball_purples, 4 ball_reds, 6.8ms\n",
            "video 1/1 (frame 1165/1500) /content/drive/MyDrive/Robotics/Object_Detection/balls_purple_red/purple_red_balls_vid.mp4: 384x640 6 ball_purples, 4 ball_reds, 6.7ms\n",
            "video 1/1 (frame 1166/1500) /content/drive/MyDrive/Robotics/Object_Detection/balls_purple_red/purple_red_balls_vid.mp4: 384x640 6 ball_purples, 4 ball_reds, 6.7ms\n",
            "video 1/1 (frame 1167/1500) /content/drive/MyDrive/Robotics/Object_Detection/balls_purple_red/purple_red_balls_vid.mp4: 384x640 6 ball_purples, 4 ball_reds, 7.1ms\n",
            "video 1/1 (frame 1168/1500) /content/drive/MyDrive/Robotics/Object_Detection/balls_purple_red/purple_red_balls_vid.mp4: 384x640 6 ball_purples, 4 ball_reds, 6.9ms\n",
            "video 1/1 (frame 1169/1500) /content/drive/MyDrive/Robotics/Object_Detection/balls_purple_red/purple_red_balls_vid.mp4: 384x640 6 ball_purples, 4 ball_reds, 6.6ms\n",
            "video 1/1 (frame 1170/1500) /content/drive/MyDrive/Robotics/Object_Detection/balls_purple_red/purple_red_balls_vid.mp4: 384x640 6 ball_purples, 4 ball_reds, 6.6ms\n",
            "video 1/1 (frame 1171/1500) /content/drive/MyDrive/Robotics/Object_Detection/balls_purple_red/purple_red_balls_vid.mp4: 384x640 6 ball_purples, 4 ball_reds, 6.5ms\n",
            "video 1/1 (frame 1172/1500) /content/drive/MyDrive/Robotics/Object_Detection/balls_purple_red/purple_red_balls_vid.mp4: 384x640 6 ball_purples, 4 ball_reds, 10.5ms\n",
            "video 1/1 (frame 1173/1500) /content/drive/MyDrive/Robotics/Object_Detection/balls_purple_red/purple_red_balls_vid.mp4: 384x640 6 ball_purples, 4 ball_reds, 9.9ms\n",
            "video 1/1 (frame 1174/1500) /content/drive/MyDrive/Robotics/Object_Detection/balls_purple_red/purple_red_balls_vid.mp4: 384x640 6 ball_purples, 4 ball_reds, 6.8ms\n",
            "video 1/1 (frame 1175/1500) /content/drive/MyDrive/Robotics/Object_Detection/balls_purple_red/purple_red_balls_vid.mp4: 384x640 6 ball_purples, 4 ball_reds, 7.1ms\n",
            "video 1/1 (frame 1176/1500) /content/drive/MyDrive/Robotics/Object_Detection/balls_purple_red/purple_red_balls_vid.mp4: 384x640 6 ball_purples, 4 ball_reds, 6.8ms\n",
            "video 1/1 (frame 1177/1500) /content/drive/MyDrive/Robotics/Object_Detection/balls_purple_red/purple_red_balls_vid.mp4: 384x640 6 ball_purples, 4 ball_reds, 8.2ms\n",
            "video 1/1 (frame 1178/1500) /content/drive/MyDrive/Robotics/Object_Detection/balls_purple_red/purple_red_balls_vid.mp4: 384x640 6 ball_purples, 4 ball_reds, 6.7ms\n",
            "video 1/1 (frame 1179/1500) /content/drive/MyDrive/Robotics/Object_Detection/balls_purple_red/purple_red_balls_vid.mp4: 384x640 6 ball_purples, 4 ball_reds, 6.8ms\n",
            "video 1/1 (frame 1180/1500) /content/drive/MyDrive/Robotics/Object_Detection/balls_purple_red/purple_red_balls_vid.mp4: 384x640 6 ball_purples, 4 ball_reds, 6.7ms\n",
            "video 1/1 (frame 1181/1500) /content/drive/MyDrive/Robotics/Object_Detection/balls_purple_red/purple_red_balls_vid.mp4: 384x640 6 ball_purples, 4 ball_reds, 6.8ms\n",
            "video 1/1 (frame 1182/1500) /content/drive/MyDrive/Robotics/Object_Detection/balls_purple_red/purple_red_balls_vid.mp4: 384x640 6 ball_purples, 4 ball_reds, 8.7ms\n",
            "video 1/1 (frame 1183/1500) /content/drive/MyDrive/Robotics/Object_Detection/balls_purple_red/purple_red_balls_vid.mp4: 384x640 6 ball_purples, 4 ball_reds, 6.7ms\n",
            "video 1/1 (frame 1184/1500) /content/drive/MyDrive/Robotics/Object_Detection/balls_purple_red/purple_red_balls_vid.mp4: 384x640 6 ball_purples, 4 ball_reds, 7.0ms\n",
            "video 1/1 (frame 1185/1500) /content/drive/MyDrive/Robotics/Object_Detection/balls_purple_red/purple_red_balls_vid.mp4: 384x640 6 ball_purples, 4 ball_reds, 7.0ms\n",
            "video 1/1 (frame 1186/1500) /content/drive/MyDrive/Robotics/Object_Detection/balls_purple_red/purple_red_balls_vid.mp4: 384x640 6 ball_purples, 4 ball_reds, 7.0ms\n",
            "video 1/1 (frame 1187/1500) /content/drive/MyDrive/Robotics/Object_Detection/balls_purple_red/purple_red_balls_vid.mp4: 384x640 6 ball_purples, 4 ball_reds, 6.6ms\n",
            "video 1/1 (frame 1188/1500) /content/drive/MyDrive/Robotics/Object_Detection/balls_purple_red/purple_red_balls_vid.mp4: 384x640 6 ball_purples, 4 ball_reds, 6.5ms\n",
            "video 1/1 (frame 1189/1500) /content/drive/MyDrive/Robotics/Object_Detection/balls_purple_red/purple_red_balls_vid.mp4: 384x640 6 ball_purples, 4 ball_reds, 11.9ms\n",
            "video 1/1 (frame 1190/1500) /content/drive/MyDrive/Robotics/Object_Detection/balls_purple_red/purple_red_balls_vid.mp4: 384x640 6 ball_purples, 4 ball_reds, 6.7ms\n",
            "video 1/1 (frame 1191/1500) /content/drive/MyDrive/Robotics/Object_Detection/balls_purple_red/purple_red_balls_vid.mp4: 384x640 6 ball_purples, 4 ball_reds, 7.4ms\n",
            "video 1/1 (frame 1192/1500) /content/drive/MyDrive/Robotics/Object_Detection/balls_purple_red/purple_red_balls_vid.mp4: 384x640 6 ball_purples, 4 ball_reds, 6.9ms\n",
            "video 1/1 (frame 1193/1500) /content/drive/MyDrive/Robotics/Object_Detection/balls_purple_red/purple_red_balls_vid.mp4: 384x640 6 ball_purples, 4 ball_reds, 7.6ms\n",
            "video 1/1 (frame 1194/1500) /content/drive/MyDrive/Robotics/Object_Detection/balls_purple_red/purple_red_balls_vid.mp4: 384x640 6 ball_purples, 4 ball_reds, 7.3ms\n",
            "video 1/1 (frame 1195/1500) /content/drive/MyDrive/Robotics/Object_Detection/balls_purple_red/purple_red_balls_vid.mp4: 384x640 6 ball_purples, 4 ball_reds, 6.9ms\n",
            "video 1/1 (frame 1196/1500) /content/drive/MyDrive/Robotics/Object_Detection/balls_purple_red/purple_red_balls_vid.mp4: 384x640 6 ball_purples, 4 ball_reds, 6.9ms\n",
            "video 1/1 (frame 1197/1500) /content/drive/MyDrive/Robotics/Object_Detection/balls_purple_red/purple_red_balls_vid.mp4: 384x640 6 ball_purples, 4 ball_reds, 7.0ms\n",
            "video 1/1 (frame 1198/1500) /content/drive/MyDrive/Robotics/Object_Detection/balls_purple_red/purple_red_balls_vid.mp4: 384x640 6 ball_purples, 4 ball_reds, 8.9ms\n",
            "video 1/1 (frame 1199/1500) /content/drive/MyDrive/Robotics/Object_Detection/balls_purple_red/purple_red_balls_vid.mp4: 384x640 6 ball_purples, 4 ball_reds, 7.8ms\n",
            "video 1/1 (frame 1200/1500) /content/drive/MyDrive/Robotics/Object_Detection/balls_purple_red/purple_red_balls_vid.mp4: 384x640 6 ball_purples, 4 ball_reds, 6.6ms\n",
            "video 1/1 (frame 1201/1500) /content/drive/MyDrive/Robotics/Object_Detection/balls_purple_red/purple_red_balls_vid.mp4: 384x640 9 ball_purples, 6 ball_reds, 6.6ms\n",
            "video 1/1 (frame 1202/1500) /content/drive/MyDrive/Robotics/Object_Detection/balls_purple_red/purple_red_balls_vid.mp4: 384x640 9 ball_purples, 6 ball_reds, 11.2ms\n",
            "video 1/1 (frame 1203/1500) /content/drive/MyDrive/Robotics/Object_Detection/balls_purple_red/purple_red_balls_vid.mp4: 384x640 9 ball_purples, 6 ball_reds, 6.6ms\n",
            "video 1/1 (frame 1204/1500) /content/drive/MyDrive/Robotics/Object_Detection/balls_purple_red/purple_red_balls_vid.mp4: 384x640 9 ball_purples, 6 ball_reds, 6.7ms\n",
            "video 1/1 (frame 1205/1500) /content/drive/MyDrive/Robotics/Object_Detection/balls_purple_red/purple_red_balls_vid.mp4: 384x640 9 ball_purples, 6 ball_reds, 6.6ms\n",
            "video 1/1 (frame 1206/1500) /content/drive/MyDrive/Robotics/Object_Detection/balls_purple_red/purple_red_balls_vid.mp4: 384x640 9 ball_purples, 6 ball_reds, 7.0ms\n",
            "video 1/1 (frame 1207/1500) /content/drive/MyDrive/Robotics/Object_Detection/balls_purple_red/purple_red_balls_vid.mp4: 384x640 9 ball_purples, 6 ball_reds, 6.7ms\n",
            "video 1/1 (frame 1208/1500) /content/drive/MyDrive/Robotics/Object_Detection/balls_purple_red/purple_red_balls_vid.mp4: 384x640 9 ball_purples, 6 ball_reds, 8.0ms\n",
            "video 1/1 (frame 1209/1500) /content/drive/MyDrive/Robotics/Object_Detection/balls_purple_red/purple_red_balls_vid.mp4: 384x640 9 ball_purples, 6 ball_reds, 6.8ms\n",
            "video 1/1 (frame 1210/1500) /content/drive/MyDrive/Robotics/Object_Detection/balls_purple_red/purple_red_balls_vid.mp4: 384x640 9 ball_purples, 6 ball_reds, 7.2ms\n",
            "video 1/1 (frame 1211/1500) /content/drive/MyDrive/Robotics/Object_Detection/balls_purple_red/purple_red_balls_vid.mp4: 384x640 9 ball_purples, 6 ball_reds, 7.4ms\n",
            "video 1/1 (frame 1212/1500) /content/drive/MyDrive/Robotics/Object_Detection/balls_purple_red/purple_red_balls_vid.mp4: 384x640 9 ball_purples, 6 ball_reds, 6.6ms\n",
            "video 1/1 (frame 1213/1500) /content/drive/MyDrive/Robotics/Object_Detection/balls_purple_red/purple_red_balls_vid.mp4: 384x640 9 ball_purples, 6 ball_reds, 10.4ms\n",
            "video 1/1 (frame 1214/1500) /content/drive/MyDrive/Robotics/Object_Detection/balls_purple_red/purple_red_balls_vid.mp4: 384x640 9 ball_purples, 6 ball_reds, 6.6ms\n",
            "video 1/1 (frame 1215/1500) /content/drive/MyDrive/Robotics/Object_Detection/balls_purple_red/purple_red_balls_vid.mp4: 384x640 9 ball_purples, 6 ball_reds, 7.1ms\n",
            "video 1/1 (frame 1216/1500) /content/drive/MyDrive/Robotics/Object_Detection/balls_purple_red/purple_red_balls_vid.mp4: 384x640 9 ball_purples, 6 ball_reds, 6.8ms\n",
            "video 1/1 (frame 1217/1500) /content/drive/MyDrive/Robotics/Object_Detection/balls_purple_red/purple_red_balls_vid.mp4: 384x640 9 ball_purples, 6 ball_reds, 8.7ms\n",
            "video 1/1 (frame 1218/1500) /content/drive/MyDrive/Robotics/Object_Detection/balls_purple_red/purple_red_balls_vid.mp4: 384x640 9 ball_purples, 6 ball_reds, 6.6ms\n",
            "video 1/1 (frame 1219/1500) /content/drive/MyDrive/Robotics/Object_Detection/balls_purple_red/purple_red_balls_vid.mp4: 384x640 9 ball_purples, 6 ball_reds, 6.5ms\n",
            "video 1/1 (frame 1220/1500) /content/drive/MyDrive/Robotics/Object_Detection/balls_purple_red/purple_red_balls_vid.mp4: 384x640 9 ball_purples, 6 ball_reds, 7.4ms\n",
            "video 1/1 (frame 1221/1500) /content/drive/MyDrive/Robotics/Object_Detection/balls_purple_red/purple_red_balls_vid.mp4: 384x640 9 ball_purples, 6 ball_reds, 6.7ms\n",
            "video 1/1 (frame 1222/1500) /content/drive/MyDrive/Robotics/Object_Detection/balls_purple_red/purple_red_balls_vid.mp4: 384x640 9 ball_purples, 6 ball_reds, 9.0ms\n",
            "video 1/1 (frame 1223/1500) /content/drive/MyDrive/Robotics/Object_Detection/balls_purple_red/purple_red_balls_vid.mp4: 384x640 9 ball_purples, 6 ball_reds, 6.6ms\n",
            "video 1/1 (frame 1224/1500) /content/drive/MyDrive/Robotics/Object_Detection/balls_purple_red/purple_red_balls_vid.mp4: 384x640 9 ball_purples, 6 ball_reds, 6.4ms\n",
            "video 1/1 (frame 1225/1500) /content/drive/MyDrive/Robotics/Object_Detection/balls_purple_red/purple_red_balls_vid.mp4: 384x640 9 ball_purples, 6 ball_reds, 6.4ms\n",
            "video 1/1 (frame 1226/1500) /content/drive/MyDrive/Robotics/Object_Detection/balls_purple_red/purple_red_balls_vid.mp4: 384x640 9 ball_purples, 6 ball_reds, 6.5ms\n",
            "video 1/1 (frame 1227/1500) /content/drive/MyDrive/Robotics/Object_Detection/balls_purple_red/purple_red_balls_vid.mp4: 384x640 9 ball_purples, 6 ball_reds, 6.5ms\n",
            "video 1/1 (frame 1228/1500) /content/drive/MyDrive/Robotics/Object_Detection/balls_purple_red/purple_red_balls_vid.mp4: 384x640 9 ball_purples, 6 ball_reds, 8.8ms\n",
            "video 1/1 (frame 1229/1500) /content/drive/MyDrive/Robotics/Object_Detection/balls_purple_red/purple_red_balls_vid.mp4: 384x640 9 ball_purples, 6 ball_reds, 6.6ms\n",
            "video 1/1 (frame 1230/1500) /content/drive/MyDrive/Robotics/Object_Detection/balls_purple_red/purple_red_balls_vid.mp4: 384x640 9 ball_purples, 6 ball_reds, 6.6ms\n",
            "video 1/1 (frame 1231/1500) /content/drive/MyDrive/Robotics/Object_Detection/balls_purple_red/purple_red_balls_vid.mp4: 384x640 9 ball_purples, 6 ball_reds, 6.9ms\n",
            "video 1/1 (frame 1232/1500) /content/drive/MyDrive/Robotics/Object_Detection/balls_purple_red/purple_red_balls_vid.mp4: 384x640 9 ball_purples, 6 ball_reds, 6.7ms\n",
            "video 1/1 (frame 1233/1500) /content/drive/MyDrive/Robotics/Object_Detection/balls_purple_red/purple_red_balls_vid.mp4: 384x640 9 ball_purples, 6 ball_reds, 9.3ms\n",
            "video 1/1 (frame 1234/1500) /content/drive/MyDrive/Robotics/Object_Detection/balls_purple_red/purple_red_balls_vid.mp4: 384x640 9 ball_purples, 6 ball_reds, 12.9ms\n",
            "video 1/1 (frame 1235/1500) /content/drive/MyDrive/Robotics/Object_Detection/balls_purple_red/purple_red_balls_vid.mp4: 384x640 9 ball_purples, 6 ball_reds, 6.6ms\n",
            "video 1/1 (frame 1236/1500) /content/drive/MyDrive/Robotics/Object_Detection/balls_purple_red/purple_red_balls_vid.mp4: 384x640 9 ball_purples, 6 ball_reds, 6.8ms\n",
            "video 1/1 (frame 1237/1500) /content/drive/MyDrive/Robotics/Object_Detection/balls_purple_red/purple_red_balls_vid.mp4: 384x640 9 ball_purples, 6 ball_reds, 9.6ms\n",
            "video 1/1 (frame 1238/1500) /content/drive/MyDrive/Robotics/Object_Detection/balls_purple_red/purple_red_balls_vid.mp4: 384x640 9 ball_purples, 6 ball_reds, 6.7ms\n",
            "video 1/1 (frame 1239/1500) /content/drive/MyDrive/Robotics/Object_Detection/balls_purple_red/purple_red_balls_vid.mp4: 384x640 9 ball_purples, 6 ball_reds, 6.4ms\n",
            "video 1/1 (frame 1240/1500) /content/drive/MyDrive/Robotics/Object_Detection/balls_purple_red/purple_red_balls_vid.mp4: 384x640 9 ball_purples, 6 ball_reds, 6.7ms\n",
            "video 1/1 (frame 1241/1500) /content/drive/MyDrive/Robotics/Object_Detection/balls_purple_red/purple_red_balls_vid.mp4: 384x640 9 ball_purples, 6 ball_reds, 6.6ms\n",
            "video 1/1 (frame 1242/1500) /content/drive/MyDrive/Robotics/Object_Detection/balls_purple_red/purple_red_balls_vid.mp4: 384x640 9 ball_purples, 6 ball_reds, 7.0ms\n",
            "video 1/1 (frame 1243/1500) /content/drive/MyDrive/Robotics/Object_Detection/balls_purple_red/purple_red_balls_vid.mp4: 384x640 9 ball_purples, 6 ball_reds, 10.1ms\n",
            "video 1/1 (frame 1244/1500) /content/drive/MyDrive/Robotics/Object_Detection/balls_purple_red/purple_red_balls_vid.mp4: 384x640 9 ball_purples, 6 ball_reds, 11.1ms\n",
            "video 1/1 (frame 1245/1500) /content/drive/MyDrive/Robotics/Object_Detection/balls_purple_red/purple_red_balls_vid.mp4: 384x640 9 ball_purples, 6 ball_reds, 11.6ms\n",
            "video 1/1 (frame 1246/1500) /content/drive/MyDrive/Robotics/Object_Detection/balls_purple_red/purple_red_balls_vid.mp4: 384x640 9 ball_purples, 6 ball_reds, 9.9ms\n",
            "video 1/1 (frame 1247/1500) /content/drive/MyDrive/Robotics/Object_Detection/balls_purple_red/purple_red_balls_vid.mp4: 384x640 9 ball_purples, 6 ball_reds, 12.9ms\n",
            "video 1/1 (frame 1248/1500) /content/drive/MyDrive/Robotics/Object_Detection/balls_purple_red/purple_red_balls_vid.mp4: 384x640 9 ball_purples, 6 ball_reds, 8.9ms\n",
            "video 1/1 (frame 1249/1500) /content/drive/MyDrive/Robotics/Object_Detection/balls_purple_red/purple_red_balls_vid.mp4: 384x640 9 ball_purples, 6 ball_reds, 9.0ms\n",
            "video 1/1 (frame 1250/1500) /content/drive/MyDrive/Robotics/Object_Detection/balls_purple_red/purple_red_balls_vid.mp4: 384x640 9 ball_purples, 6 ball_reds, 9.9ms\n",
            "video 1/1 (frame 1251/1500) /content/drive/MyDrive/Robotics/Object_Detection/balls_purple_red/purple_red_balls_vid.mp4: 384x640 9 ball_purples, 6 ball_reds, 14.8ms\n",
            "video 1/1 (frame 1252/1500) /content/drive/MyDrive/Robotics/Object_Detection/balls_purple_red/purple_red_balls_vid.mp4: 384x640 9 ball_purples, 6 ball_reds, 9.4ms\n",
            "video 1/1 (frame 1253/1500) /content/drive/MyDrive/Robotics/Object_Detection/balls_purple_red/purple_red_balls_vid.mp4: 384x640 9 ball_purples, 6 ball_reds, 8.7ms\n",
            "video 1/1 (frame 1254/1500) /content/drive/MyDrive/Robotics/Object_Detection/balls_purple_red/purple_red_balls_vid.mp4: 384x640 9 ball_purples, 6 ball_reds, 8.4ms\n",
            "video 1/1 (frame 1255/1500) /content/drive/MyDrive/Robotics/Object_Detection/balls_purple_red/purple_red_balls_vid.mp4: 384x640 9 ball_purples, 6 ball_reds, 10.8ms\n",
            "video 1/1 (frame 1256/1500) /content/drive/MyDrive/Robotics/Object_Detection/balls_purple_red/purple_red_balls_vid.mp4: 384x640 9 ball_purples, 6 ball_reds, 8.6ms\n",
            "video 1/1 (frame 1257/1500) /content/drive/MyDrive/Robotics/Object_Detection/balls_purple_red/purple_red_balls_vid.mp4: 384x640 9 ball_purples, 6 ball_reds, 14.8ms\n",
            "video 1/1 (frame 1258/1500) /content/drive/MyDrive/Robotics/Object_Detection/balls_purple_red/purple_red_balls_vid.mp4: 384x640 9 ball_purples, 6 ball_reds, 12.0ms\n",
            "video 1/1 (frame 1259/1500) /content/drive/MyDrive/Robotics/Object_Detection/balls_purple_red/purple_red_balls_vid.mp4: 384x640 9 ball_purples, 6 ball_reds, 11.9ms\n",
            "video 1/1 (frame 1260/1500) /content/drive/MyDrive/Robotics/Object_Detection/balls_purple_red/purple_red_balls_vid.mp4: 384x640 9 ball_purples, 6 ball_reds, 8.7ms\n",
            "video 1/1 (frame 1261/1500) /content/drive/MyDrive/Robotics/Object_Detection/balls_purple_red/purple_red_balls_vid.mp4: 384x640 9 ball_purples, 6 ball_reds, 10.1ms\n",
            "video 1/1 (frame 1262/1500) /content/drive/MyDrive/Robotics/Object_Detection/balls_purple_red/purple_red_balls_vid.mp4: 384x640 9 ball_purples, 6 ball_reds, 9.9ms\n",
            "video 1/1 (frame 1263/1500) /content/drive/MyDrive/Robotics/Object_Detection/balls_purple_red/purple_red_balls_vid.mp4: 384x640 9 ball_purples, 6 ball_reds, 8.9ms\n",
            "video 1/1 (frame 1264/1500) /content/drive/MyDrive/Robotics/Object_Detection/balls_purple_red/purple_red_balls_vid.mp4: 384x640 9 ball_purples, 6 ball_reds, 8.8ms\n",
            "video 1/1 (frame 1265/1500) /content/drive/MyDrive/Robotics/Object_Detection/balls_purple_red/purple_red_balls_vid.mp4: 384x640 9 ball_purples, 6 ball_reds, 9.3ms\n",
            "video 1/1 (frame 1266/1500) /content/drive/MyDrive/Robotics/Object_Detection/balls_purple_red/purple_red_balls_vid.mp4: 384x640 9 ball_purples, 6 ball_reds, 8.4ms\n",
            "video 1/1 (frame 1267/1500) /content/drive/MyDrive/Robotics/Object_Detection/balls_purple_red/purple_red_balls_vid.mp4: 384x640 9 ball_purples, 6 ball_reds, 9.3ms\n",
            "video 1/1 (frame 1268/1500) /content/drive/MyDrive/Robotics/Object_Detection/balls_purple_red/purple_red_balls_vid.mp4: 384x640 9 ball_purples, 6 ball_reds, 8.4ms\n",
            "video 1/1 (frame 1269/1500) /content/drive/MyDrive/Robotics/Object_Detection/balls_purple_red/purple_red_balls_vid.mp4: 384x640 9 ball_purples, 6 ball_reds, 8.4ms\n",
            "video 1/1 (frame 1270/1500) /content/drive/MyDrive/Robotics/Object_Detection/balls_purple_red/purple_red_balls_vid.mp4: 384x640 9 ball_purples, 6 ball_reds, 12.3ms\n",
            "video 1/1 (frame 1271/1500) /content/drive/MyDrive/Robotics/Object_Detection/balls_purple_red/purple_red_balls_vid.mp4: 384x640 9 ball_purples, 6 ball_reds, 8.7ms\n",
            "video 1/1 (frame 1272/1500) /content/drive/MyDrive/Robotics/Object_Detection/balls_purple_red/purple_red_balls_vid.mp4: 384x640 9 ball_purples, 6 ball_reds, 8.8ms\n",
            "video 1/1 (frame 1273/1500) /content/drive/MyDrive/Robotics/Object_Detection/balls_purple_red/purple_red_balls_vid.mp4: 384x640 9 ball_purples, 6 ball_reds, 8.9ms\n",
            "video 1/1 (frame 1274/1500) /content/drive/MyDrive/Robotics/Object_Detection/balls_purple_red/purple_red_balls_vid.mp4: 384x640 9 ball_purples, 6 ball_reds, 8.6ms\n",
            "video 1/1 (frame 1275/1500) /content/drive/MyDrive/Robotics/Object_Detection/balls_purple_red/purple_red_balls_vid.mp4: 384x640 9 ball_purples, 6 ball_reds, 11.4ms\n",
            "video 1/1 (frame 1276/1500) /content/drive/MyDrive/Robotics/Object_Detection/balls_purple_red/purple_red_balls_vid.mp4: 384x640 9 ball_purples, 6 ball_reds, 20.7ms\n",
            "video 1/1 (frame 1277/1500) /content/drive/MyDrive/Robotics/Object_Detection/balls_purple_red/purple_red_balls_vid.mp4: 384x640 9 ball_purples, 6 ball_reds, 8.8ms\n",
            "video 1/1 (frame 1278/1500) /content/drive/MyDrive/Robotics/Object_Detection/balls_purple_red/purple_red_balls_vid.mp4: 384x640 9 ball_purples, 6 ball_reds, 8.8ms\n",
            "video 1/1 (frame 1279/1500) /content/drive/MyDrive/Robotics/Object_Detection/balls_purple_red/purple_red_balls_vid.mp4: 384x640 9 ball_purples, 6 ball_reds, 12.1ms\n",
            "video 1/1 (frame 1280/1500) /content/drive/MyDrive/Robotics/Object_Detection/balls_purple_red/purple_red_balls_vid.mp4: 384x640 9 ball_purples, 6 ball_reds, 11.6ms\n",
            "video 1/1 (frame 1281/1500) /content/drive/MyDrive/Robotics/Object_Detection/balls_purple_red/purple_red_balls_vid.mp4: 384x640 9 ball_purples, 6 ball_reds, 13.1ms\n",
            "video 1/1 (frame 1282/1500) /content/drive/MyDrive/Robotics/Object_Detection/balls_purple_red/purple_red_balls_vid.mp4: 384x640 9 ball_purples, 6 ball_reds, 12.1ms\n",
            "video 1/1 (frame 1283/1500) /content/drive/MyDrive/Robotics/Object_Detection/balls_purple_red/purple_red_balls_vid.mp4: 384x640 9 ball_purples, 6 ball_reds, 11.4ms\n",
            "video 1/1 (frame 1284/1500) /content/drive/MyDrive/Robotics/Object_Detection/balls_purple_red/purple_red_balls_vid.mp4: 384x640 9 ball_purples, 6 ball_reds, 12.3ms\n",
            "video 1/1 (frame 1285/1500) /content/drive/MyDrive/Robotics/Object_Detection/balls_purple_red/purple_red_balls_vid.mp4: 384x640 9 ball_purples, 6 ball_reds, 9.6ms\n",
            "video 1/1 (frame 1286/1500) /content/drive/MyDrive/Robotics/Object_Detection/balls_purple_red/purple_red_balls_vid.mp4: 384x640 9 ball_purples, 6 ball_reds, 9.6ms\n",
            "video 1/1 (frame 1287/1500) /content/drive/MyDrive/Robotics/Object_Detection/balls_purple_red/purple_red_balls_vid.mp4: 384x640 9 ball_purples, 6 ball_reds, 9.6ms\n",
            "video 1/1 (frame 1288/1500) /content/drive/MyDrive/Robotics/Object_Detection/balls_purple_red/purple_red_balls_vid.mp4: 384x640 9 ball_purples, 6 ball_reds, 9.6ms\n",
            "video 1/1 (frame 1289/1500) /content/drive/MyDrive/Robotics/Object_Detection/balls_purple_red/purple_red_balls_vid.mp4: 384x640 9 ball_purples, 6 ball_reds, 10.6ms\n",
            "video 1/1 (frame 1290/1500) /content/drive/MyDrive/Robotics/Object_Detection/balls_purple_red/purple_red_balls_vid.mp4: 384x640 9 ball_purples, 6 ball_reds, 11.7ms\n",
            "video 1/1 (frame 1291/1500) /content/drive/MyDrive/Robotics/Object_Detection/balls_purple_red/purple_red_balls_vid.mp4: 384x640 9 ball_purples, 6 ball_reds, 9.5ms\n",
            "video 1/1 (frame 1292/1500) /content/drive/MyDrive/Robotics/Object_Detection/balls_purple_red/purple_red_balls_vid.mp4: 384x640 9 ball_purples, 6 ball_reds, 10.4ms\n",
            "video 1/1 (frame 1293/1500) /content/drive/MyDrive/Robotics/Object_Detection/balls_purple_red/purple_red_balls_vid.mp4: 384x640 9 ball_purples, 6 ball_reds, 10.1ms\n",
            "video 1/1 (frame 1294/1500) /content/drive/MyDrive/Robotics/Object_Detection/balls_purple_red/purple_red_balls_vid.mp4: 384x640 9 ball_purples, 6 ball_reds, 11.2ms\n",
            "video 1/1 (frame 1295/1500) /content/drive/MyDrive/Robotics/Object_Detection/balls_purple_red/purple_red_balls_vid.mp4: 384x640 9 ball_purples, 6 ball_reds, 11.8ms\n",
            "video 1/1 (frame 1296/1500) /content/drive/MyDrive/Robotics/Object_Detection/balls_purple_red/purple_red_balls_vid.mp4: 384x640 9 ball_purples, 6 ball_reds, 12.6ms\n",
            "video 1/1 (frame 1297/1500) /content/drive/MyDrive/Robotics/Object_Detection/balls_purple_red/purple_red_balls_vid.mp4: 384x640 9 ball_purples, 6 ball_reds, 15.6ms\n",
            "video 1/1 (frame 1298/1500) /content/drive/MyDrive/Robotics/Object_Detection/balls_purple_red/purple_red_balls_vid.mp4: 384x640 9 ball_purples, 6 ball_reds, 6.9ms\n",
            "video 1/1 (frame 1299/1500) /content/drive/MyDrive/Robotics/Object_Detection/balls_purple_red/purple_red_balls_vid.mp4: 384x640 9 ball_purples, 6 ball_reds, 6.6ms\n",
            "video 1/1 (frame 1300/1500) /content/drive/MyDrive/Robotics/Object_Detection/balls_purple_red/purple_red_balls_vid.mp4: 384x640 9 ball_purples, 6 ball_reds, 6.9ms\n",
            "video 1/1 (frame 1301/1500) /content/drive/MyDrive/Robotics/Object_Detection/balls_purple_red/purple_red_balls_vid.mp4: 384x640 9 ball_purples, 6 ball_reds, 7.9ms\n",
            "video 1/1 (frame 1302/1500) /content/drive/MyDrive/Robotics/Object_Detection/balls_purple_red/purple_red_balls_vid.mp4: 384x640 9 ball_purples, 6 ball_reds, 6.5ms\n",
            "video 1/1 (frame 1303/1500) /content/drive/MyDrive/Robotics/Object_Detection/balls_purple_red/purple_red_balls_vid.mp4: 384x640 9 ball_purples, 6 ball_reds, 7.0ms\n",
            "video 1/1 (frame 1304/1500) /content/drive/MyDrive/Robotics/Object_Detection/balls_purple_red/purple_red_balls_vid.mp4: 384x640 9 ball_purples, 6 ball_reds, 6.7ms\n",
            "video 1/1 (frame 1305/1500) /content/drive/MyDrive/Robotics/Object_Detection/balls_purple_red/purple_red_balls_vid.mp4: 384x640 9 ball_purples, 6 ball_reds, 6.6ms\n",
            "video 1/1 (frame 1306/1500) /content/drive/MyDrive/Robotics/Object_Detection/balls_purple_red/purple_red_balls_vid.mp4: 384x640 9 ball_purples, 6 ball_reds, 6.7ms\n",
            "video 1/1 (frame 1307/1500) /content/drive/MyDrive/Robotics/Object_Detection/balls_purple_red/purple_red_balls_vid.mp4: 384x640 9 ball_purples, 6 ball_reds, 6.6ms\n",
            "video 1/1 (frame 1308/1500) /content/drive/MyDrive/Robotics/Object_Detection/balls_purple_red/purple_red_balls_vid.mp4: 384x640 9 ball_purples, 6 ball_reds, 6.9ms\n",
            "video 1/1 (frame 1309/1500) /content/drive/MyDrive/Robotics/Object_Detection/balls_purple_red/purple_red_balls_vid.mp4: 384x640 9 ball_purples, 6 ball_reds, 6.7ms\n",
            "video 1/1 (frame 1310/1500) /content/drive/MyDrive/Robotics/Object_Detection/balls_purple_red/purple_red_balls_vid.mp4: 384x640 9 ball_purples, 6 ball_reds, 9.4ms\n",
            "video 1/1 (frame 1311/1500) /content/drive/MyDrive/Robotics/Object_Detection/balls_purple_red/purple_red_balls_vid.mp4: 384x640 9 ball_purples, 6 ball_reds, 11.9ms\n",
            "video 1/1 (frame 1312/1500) /content/drive/MyDrive/Robotics/Object_Detection/balls_purple_red/purple_red_balls_vid.mp4: 384x640 9 ball_purples, 6 ball_reds, 7.3ms\n",
            "video 1/1 (frame 1313/1500) /content/drive/MyDrive/Robotics/Object_Detection/balls_purple_red/purple_red_balls_vid.mp4: 384x640 9 ball_purples, 6 ball_reds, 6.6ms\n",
            "video 1/1 (frame 1314/1500) /content/drive/MyDrive/Robotics/Object_Detection/balls_purple_red/purple_red_balls_vid.mp4: 384x640 9 ball_purples, 6 ball_reds, 6.5ms\n",
            "video 1/1 (frame 1315/1500) /content/drive/MyDrive/Robotics/Object_Detection/balls_purple_red/purple_red_balls_vid.mp4: 384x640 9 ball_purples, 6 ball_reds, 7.5ms\n",
            "video 1/1 (frame 1316/1500) /content/drive/MyDrive/Robotics/Object_Detection/balls_purple_red/purple_red_balls_vid.mp4: 384x640 9 ball_purples, 6 ball_reds, 8.2ms\n",
            "video 1/1 (frame 1317/1500) /content/drive/MyDrive/Robotics/Object_Detection/balls_purple_red/purple_red_balls_vid.mp4: 384x640 9 ball_purples, 6 ball_reds, 6.6ms\n",
            "video 1/1 (frame 1318/1500) /content/drive/MyDrive/Robotics/Object_Detection/balls_purple_red/purple_red_balls_vid.mp4: 384x640 9 ball_purples, 6 ball_reds, 6.5ms\n",
            "video 1/1 (frame 1319/1500) /content/drive/MyDrive/Robotics/Object_Detection/balls_purple_red/purple_red_balls_vid.mp4: 384x640 9 ball_purples, 6 ball_reds, 6.7ms\n",
            "video 1/1 (frame 1320/1500) /content/drive/MyDrive/Robotics/Object_Detection/balls_purple_red/purple_red_balls_vid.mp4: 384x640 9 ball_purples, 6 ball_reds, 6.7ms\n",
            "video 1/1 (frame 1321/1500) /content/drive/MyDrive/Robotics/Object_Detection/balls_purple_red/purple_red_balls_vid.mp4: 384x640 9 ball_purples, 6 ball_reds, 7.6ms\n",
            "video 1/1 (frame 1322/1500) /content/drive/MyDrive/Robotics/Object_Detection/balls_purple_red/purple_red_balls_vid.mp4: 384x640 9 ball_purples, 6 ball_reds, 6.8ms\n",
            "video 1/1 (frame 1323/1500) /content/drive/MyDrive/Robotics/Object_Detection/balls_purple_red/purple_red_balls_vid.mp4: 384x640 9 ball_purples, 6 ball_reds, 6.9ms\n",
            "video 1/1 (frame 1324/1500) /content/drive/MyDrive/Robotics/Object_Detection/balls_purple_red/purple_red_balls_vid.mp4: 384x640 9 ball_purples, 6 ball_reds, 7.1ms\n",
            "video 1/1 (frame 1325/1500) /content/drive/MyDrive/Robotics/Object_Detection/balls_purple_red/purple_red_balls_vid.mp4: 384x640 9 ball_purples, 6 ball_reds, 6.5ms\n",
            "video 1/1 (frame 1326/1500) /content/drive/MyDrive/Robotics/Object_Detection/balls_purple_red/purple_red_balls_vid.mp4: 384x640 9 ball_purples, 6 ball_reds, 6.6ms\n",
            "video 1/1 (frame 1327/1500) /content/drive/MyDrive/Robotics/Object_Detection/balls_purple_red/purple_red_balls_vid.mp4: 384x640 9 ball_purples, 6 ball_reds, 7.4ms\n",
            "video 1/1 (frame 1328/1500) /content/drive/MyDrive/Robotics/Object_Detection/balls_purple_red/purple_red_balls_vid.mp4: 384x640 9 ball_purples, 6 ball_reds, 6.6ms\n",
            "video 1/1 (frame 1329/1500) /content/drive/MyDrive/Robotics/Object_Detection/balls_purple_red/purple_red_balls_vid.mp4: 384x640 9 ball_purples, 6 ball_reds, 6.6ms\n",
            "video 1/1 (frame 1330/1500) /content/drive/MyDrive/Robotics/Object_Detection/balls_purple_red/purple_red_balls_vid.mp4: 384x640 9 ball_purples, 6 ball_reds, 10.3ms\n",
            "video 1/1 (frame 1331/1500) /content/drive/MyDrive/Robotics/Object_Detection/balls_purple_red/purple_red_balls_vid.mp4: 384x640 9 ball_purples, 6 ball_reds, 7.1ms\n",
            "video 1/1 (frame 1332/1500) /content/drive/MyDrive/Robotics/Object_Detection/balls_purple_red/purple_red_balls_vid.mp4: 384x640 9 ball_purples, 6 ball_reds, 15.2ms\n",
            "video 1/1 (frame 1333/1500) /content/drive/MyDrive/Robotics/Object_Detection/balls_purple_red/purple_red_balls_vid.mp4: 384x640 9 ball_purples, 6 ball_reds, 6.5ms\n",
            "video 1/1 (frame 1334/1500) /content/drive/MyDrive/Robotics/Object_Detection/balls_purple_red/purple_red_balls_vid.mp4: 384x640 9 ball_purples, 6 ball_reds, 7.2ms\n",
            "video 1/1 (frame 1335/1500) /content/drive/MyDrive/Robotics/Object_Detection/balls_purple_red/purple_red_balls_vid.mp4: 384x640 9 ball_purples, 6 ball_reds, 6.7ms\n",
            "video 1/1 (frame 1336/1500) /content/drive/MyDrive/Robotics/Object_Detection/balls_purple_red/purple_red_balls_vid.mp4: 384x640 9 ball_purples, 6 ball_reds, 6.5ms\n",
            "video 1/1 (frame 1337/1500) /content/drive/MyDrive/Robotics/Object_Detection/balls_purple_red/purple_red_balls_vid.mp4: 384x640 9 ball_purples, 6 ball_reds, 6.9ms\n",
            "video 1/1 (frame 1338/1500) /content/drive/MyDrive/Robotics/Object_Detection/balls_purple_red/purple_red_balls_vid.mp4: 384x640 9 ball_purples, 6 ball_reds, 6.6ms\n",
            "video 1/1 (frame 1339/1500) /content/drive/MyDrive/Robotics/Object_Detection/balls_purple_red/purple_red_balls_vid.mp4: 384x640 9 ball_purples, 6 ball_reds, 7.0ms\n",
            "video 1/1 (frame 1340/1500) /content/drive/MyDrive/Robotics/Object_Detection/balls_purple_red/purple_red_balls_vid.mp4: 384x640 9 ball_purples, 6 ball_reds, 6.3ms\n",
            "video 1/1 (frame 1341/1500) /content/drive/MyDrive/Robotics/Object_Detection/balls_purple_red/purple_red_balls_vid.mp4: 384x640 9 ball_purples, 6 ball_reds, 6.4ms\n",
            "video 1/1 (frame 1342/1500) /content/drive/MyDrive/Robotics/Object_Detection/balls_purple_red/purple_red_balls_vid.mp4: 384x640 9 ball_purples, 6 ball_reds, 9.1ms\n",
            "video 1/1 (frame 1343/1500) /content/drive/MyDrive/Robotics/Object_Detection/balls_purple_red/purple_red_balls_vid.mp4: 384x640 9 ball_purples, 6 ball_reds, 6.6ms\n",
            "video 1/1 (frame 1344/1500) /content/drive/MyDrive/Robotics/Object_Detection/balls_purple_red/purple_red_balls_vid.mp4: 384x640 9 ball_purples, 6 ball_reds, 6.9ms\n",
            "video 1/1 (frame 1345/1500) /content/drive/MyDrive/Robotics/Object_Detection/balls_purple_red/purple_red_balls_vid.mp4: 384x640 9 ball_purples, 6 ball_reds, 6.7ms\n",
            "video 1/1 (frame 1346/1500) /content/drive/MyDrive/Robotics/Object_Detection/balls_purple_red/purple_red_balls_vid.mp4: 384x640 9 ball_purples, 6 ball_reds, 6.9ms\n",
            "video 1/1 (frame 1347/1500) /content/drive/MyDrive/Robotics/Object_Detection/balls_purple_red/purple_red_balls_vid.mp4: 384x640 9 ball_purples, 6 ball_reds, 6.5ms\n",
            "video 1/1 (frame 1348/1500) /content/drive/MyDrive/Robotics/Object_Detection/balls_purple_red/purple_red_balls_vid.mp4: 384x640 9 ball_purples, 6 ball_reds, 8.8ms\n",
            "video 1/1 (frame 1349/1500) /content/drive/MyDrive/Robotics/Object_Detection/balls_purple_red/purple_red_balls_vid.mp4: 384x640 9 ball_purples, 6 ball_reds, 6.5ms\n",
            "video 1/1 (frame 1350/1500) /content/drive/MyDrive/Robotics/Object_Detection/balls_purple_red/purple_red_balls_vid.mp4: 384x640 9 ball_purples, 6 ball_reds, 6.8ms\n",
            "video 1/1 (frame 1351/1500) /content/drive/MyDrive/Robotics/Object_Detection/balls_purple_red/purple_red_balls_vid.mp4: 384x640 7 ball_purples, 5 ball_reds, 6.8ms\n",
            "video 1/1 (frame 1352/1500) /content/drive/MyDrive/Robotics/Object_Detection/balls_purple_red/purple_red_balls_vid.mp4: 384x640 7 ball_purples, 5 ball_reds, 8.7ms\n",
            "video 1/1 (frame 1353/1500) /content/drive/MyDrive/Robotics/Object_Detection/balls_purple_red/purple_red_balls_vid.mp4: 384x640 7 ball_purples, 5 ball_reds, 12.3ms\n",
            "video 1/1 (frame 1354/1500) /content/drive/MyDrive/Robotics/Object_Detection/balls_purple_red/purple_red_balls_vid.mp4: 384x640 7 ball_purples, 5 ball_reds, 6.5ms\n",
            "video 1/1 (frame 1355/1500) /content/drive/MyDrive/Robotics/Object_Detection/balls_purple_red/purple_red_balls_vid.mp4: 384x640 7 ball_purples, 5 ball_reds, 6.5ms\n",
            "video 1/1 (frame 1356/1500) /content/drive/MyDrive/Robotics/Object_Detection/balls_purple_red/purple_red_balls_vid.mp4: 384x640 7 ball_purples, 5 ball_reds, 7.0ms\n",
            "video 1/1 (frame 1357/1500) /content/drive/MyDrive/Robotics/Object_Detection/balls_purple_red/purple_red_balls_vid.mp4: 384x640 7 ball_purples, 5 ball_reds, 6.6ms\n",
            "video 1/1 (frame 1358/1500) /content/drive/MyDrive/Robotics/Object_Detection/balls_purple_red/purple_red_balls_vid.mp4: 384x640 7 ball_purples, 5 ball_reds, 6.5ms\n",
            "video 1/1 (frame 1359/1500) /content/drive/MyDrive/Robotics/Object_Detection/balls_purple_red/purple_red_balls_vid.mp4: 384x640 7 ball_purples, 5 ball_reds, 7.3ms\n",
            "video 1/1 (frame 1360/1500) /content/drive/MyDrive/Robotics/Object_Detection/balls_purple_red/purple_red_balls_vid.mp4: 384x640 7 ball_purples, 5 ball_reds, 6.6ms\n",
            "video 1/1 (frame 1361/1500) /content/drive/MyDrive/Robotics/Object_Detection/balls_purple_red/purple_red_balls_vid.mp4: 384x640 7 ball_purples, 5 ball_reds, 6.8ms\n",
            "video 1/1 (frame 1362/1500) /content/drive/MyDrive/Robotics/Object_Detection/balls_purple_red/purple_red_balls_vid.mp4: 384x640 7 ball_purples, 5 ball_reds, 6.4ms\n",
            "video 1/1 (frame 1363/1500) /content/drive/MyDrive/Robotics/Object_Detection/balls_purple_red/purple_red_balls_vid.mp4: 384x640 7 ball_purples, 5 ball_reds, 8.3ms\n",
            "video 1/1 (frame 1364/1500) /content/drive/MyDrive/Robotics/Object_Detection/balls_purple_red/purple_red_balls_vid.mp4: 384x640 7 ball_purples, 5 ball_reds, 6.5ms\n",
            "video 1/1 (frame 1365/1500) /content/drive/MyDrive/Robotics/Object_Detection/balls_purple_red/purple_red_balls_vid.mp4: 384x640 7 ball_purples, 5 ball_reds, 6.9ms\n",
            "video 1/1 (frame 1366/1500) /content/drive/MyDrive/Robotics/Object_Detection/balls_purple_red/purple_red_balls_vid.mp4: 384x640 7 ball_purples, 5 ball_reds, 6.9ms\n",
            "video 1/1 (frame 1367/1500) /content/drive/MyDrive/Robotics/Object_Detection/balls_purple_red/purple_red_balls_vid.mp4: 384x640 7 ball_purples, 5 ball_reds, 7.1ms\n",
            "video 1/1 (frame 1368/1500) /content/drive/MyDrive/Robotics/Object_Detection/balls_purple_red/purple_red_balls_vid.mp4: 384x640 7 ball_purples, 5 ball_reds, 10.3ms\n",
            "video 1/1 (frame 1369/1500) /content/drive/MyDrive/Robotics/Object_Detection/balls_purple_red/purple_red_balls_vid.mp4: 384x640 7 ball_purples, 5 ball_reds, 6.5ms\n",
            "video 1/1 (frame 1370/1500) /content/drive/MyDrive/Robotics/Object_Detection/balls_purple_red/purple_red_balls_vid.mp4: 384x640 7 ball_purples, 5 ball_reds, 7.1ms\n",
            "video 1/1 (frame 1371/1500) /content/drive/MyDrive/Robotics/Object_Detection/balls_purple_red/purple_red_balls_vid.mp4: 384x640 7 ball_purples, 5 ball_reds, 6.6ms\n",
            "video 1/1 (frame 1372/1500) /content/drive/MyDrive/Robotics/Object_Detection/balls_purple_red/purple_red_balls_vid.mp4: 384x640 7 ball_purples, 5 ball_reds, 7.3ms\n",
            "video 1/1 (frame 1373/1500) /content/drive/MyDrive/Robotics/Object_Detection/balls_purple_red/purple_red_balls_vid.mp4: 384x640 7 ball_purples, 5 ball_reds, 6.7ms\n",
            "video 1/1 (frame 1374/1500) /content/drive/MyDrive/Robotics/Object_Detection/balls_purple_red/purple_red_balls_vid.mp4: 384x640 7 ball_purples, 5 ball_reds, 6.7ms\n",
            "video 1/1 (frame 1375/1500) /content/drive/MyDrive/Robotics/Object_Detection/balls_purple_red/purple_red_balls_vid.mp4: 384x640 7 ball_purples, 5 ball_reds, 6.9ms\n",
            "video 1/1 (frame 1376/1500) /content/drive/MyDrive/Robotics/Object_Detection/balls_purple_red/purple_red_balls_vid.mp4: 384x640 7 ball_purples, 5 ball_reds, 9.3ms\n",
            "video 1/1 (frame 1377/1500) /content/drive/MyDrive/Robotics/Object_Detection/balls_purple_red/purple_red_balls_vid.mp4: 384x640 7 ball_purples, 5 ball_reds, 6.6ms\n",
            "video 1/1 (frame 1378/1500) /content/drive/MyDrive/Robotics/Object_Detection/balls_purple_red/purple_red_balls_vid.mp4: 384x640 7 ball_purples, 5 ball_reds, 7.5ms\n",
            "video 1/1 (frame 1379/1500) /content/drive/MyDrive/Robotics/Object_Detection/balls_purple_red/purple_red_balls_vid.mp4: 384x640 7 ball_purples, 5 ball_reds, 8.3ms\n",
            "video 1/1 (frame 1380/1500) /content/drive/MyDrive/Robotics/Object_Detection/balls_purple_red/purple_red_balls_vid.mp4: 384x640 7 ball_purples, 5 ball_reds, 6.6ms\n",
            "video 1/1 (frame 1381/1500) /content/drive/MyDrive/Robotics/Object_Detection/balls_purple_red/purple_red_balls_vid.mp4: 384x640 7 ball_purples, 5 ball_reds, 9.7ms\n",
            "video 1/1 (frame 1382/1500) /content/drive/MyDrive/Robotics/Object_Detection/balls_purple_red/purple_red_balls_vid.mp4: 384x640 7 ball_purples, 5 ball_reds, 7.2ms\n",
            "video 1/1 (frame 1383/1500) /content/drive/MyDrive/Robotics/Object_Detection/balls_purple_red/purple_red_balls_vid.mp4: 384x640 7 ball_purples, 5 ball_reds, 7.0ms\n",
            "video 1/1 (frame 1384/1500) /content/drive/MyDrive/Robotics/Object_Detection/balls_purple_red/purple_red_balls_vid.mp4: 384x640 7 ball_purples, 5 ball_reds, 6.9ms\n",
            "video 1/1 (frame 1385/1500) /content/drive/MyDrive/Robotics/Object_Detection/balls_purple_red/purple_red_balls_vid.mp4: 384x640 7 ball_purples, 5 ball_reds, 7.7ms\n",
            "video 1/1 (frame 1386/1500) /content/drive/MyDrive/Robotics/Object_Detection/balls_purple_red/purple_red_balls_vid.mp4: 384x640 7 ball_purples, 5 ball_reds, 6.8ms\n",
            "video 1/1 (frame 1387/1500) /content/drive/MyDrive/Robotics/Object_Detection/balls_purple_red/purple_red_balls_vid.mp4: 384x640 7 ball_purples, 5 ball_reds, 6.5ms\n",
            "video 1/1 (frame 1388/1500) /content/drive/MyDrive/Robotics/Object_Detection/balls_purple_red/purple_red_balls_vid.mp4: 384x640 7 ball_purples, 5 ball_reds, 6.5ms\n",
            "video 1/1 (frame 1389/1500) /content/drive/MyDrive/Robotics/Object_Detection/balls_purple_red/purple_red_balls_vid.mp4: 384x640 7 ball_purples, 5 ball_reds, 6.2ms\n",
            "video 1/1 (frame 1390/1500) /content/drive/MyDrive/Robotics/Object_Detection/balls_purple_red/purple_red_balls_vid.mp4: 384x640 7 ball_purples, 5 ball_reds, 7.7ms\n",
            "video 1/1 (frame 1391/1500) /content/drive/MyDrive/Robotics/Object_Detection/balls_purple_red/purple_red_balls_vid.mp4: 384x640 7 ball_purples, 5 ball_reds, 6.8ms\n",
            "video 1/1 (frame 1392/1500) /content/drive/MyDrive/Robotics/Object_Detection/balls_purple_red/purple_red_balls_vid.mp4: 384x640 7 ball_purples, 5 ball_reds, 9.1ms\n",
            "video 1/1 (frame 1393/1500) /content/drive/MyDrive/Robotics/Object_Detection/balls_purple_red/purple_red_balls_vid.mp4: 384x640 7 ball_purples, 5 ball_reds, 6.4ms\n",
            "video 1/1 (frame 1394/1500) /content/drive/MyDrive/Robotics/Object_Detection/balls_purple_red/purple_red_balls_vid.mp4: 384x640 7 ball_purples, 5 ball_reds, 6.5ms\n",
            "video 1/1 (frame 1395/1500) /content/drive/MyDrive/Robotics/Object_Detection/balls_purple_red/purple_red_balls_vid.mp4: 384x640 7 ball_purples, 5 ball_reds, 6.9ms\n",
            "video 1/1 (frame 1396/1500) /content/drive/MyDrive/Robotics/Object_Detection/balls_purple_red/purple_red_balls_vid.mp4: 384x640 7 ball_purples, 5 ball_reds, 7.2ms\n",
            "video 1/1 (frame 1397/1500) /content/drive/MyDrive/Robotics/Object_Detection/balls_purple_red/purple_red_balls_vid.mp4: 384x640 7 ball_purples, 5 ball_reds, 8.1ms\n",
            "video 1/1 (frame 1398/1500) /content/drive/MyDrive/Robotics/Object_Detection/balls_purple_red/purple_red_balls_vid.mp4: 384x640 7 ball_purples, 5 ball_reds, 10.3ms\n",
            "video 1/1 (frame 1399/1500) /content/drive/MyDrive/Robotics/Object_Detection/balls_purple_red/purple_red_balls_vid.mp4: 384x640 7 ball_purples, 5 ball_reds, 6.7ms\n",
            "video 1/1 (frame 1400/1500) /content/drive/MyDrive/Robotics/Object_Detection/balls_purple_red/purple_red_balls_vid.mp4: 384x640 7 ball_purples, 5 ball_reds, 6.8ms\n",
            "video 1/1 (frame 1401/1500) /content/drive/MyDrive/Robotics/Object_Detection/balls_purple_red/purple_red_balls_vid.mp4: 384x640 7 ball_purples, 5 ball_reds, 6.9ms\n",
            "video 1/1 (frame 1402/1500) /content/drive/MyDrive/Robotics/Object_Detection/balls_purple_red/purple_red_balls_vid.mp4: 384x640 7 ball_purples, 5 ball_reds, 6.7ms\n",
            "video 1/1 (frame 1403/1500) /content/drive/MyDrive/Robotics/Object_Detection/balls_purple_red/purple_red_balls_vid.mp4: 384x640 7 ball_purples, 5 ball_reds, 6.7ms\n",
            "video 1/1 (frame 1404/1500) /content/drive/MyDrive/Robotics/Object_Detection/balls_purple_red/purple_red_balls_vid.mp4: 384x640 7 ball_purples, 5 ball_reds, 6.7ms\n",
            "video 1/1 (frame 1405/1500) /content/drive/MyDrive/Robotics/Object_Detection/balls_purple_red/purple_red_balls_vid.mp4: 384x640 7 ball_purples, 5 ball_reds, 6.5ms\n",
            "video 1/1 (frame 1406/1500) /content/drive/MyDrive/Robotics/Object_Detection/balls_purple_red/purple_red_balls_vid.mp4: 384x640 7 ball_purples, 5 ball_reds, 6.5ms\n",
            "video 1/1 (frame 1407/1500) /content/drive/MyDrive/Robotics/Object_Detection/balls_purple_red/purple_red_balls_vid.mp4: 384x640 7 ball_purples, 5 ball_reds, 7.7ms\n",
            "video 1/1 (frame 1408/1500) /content/drive/MyDrive/Robotics/Object_Detection/balls_purple_red/purple_red_balls_vid.mp4: 384x640 7 ball_purples, 5 ball_reds, 6.9ms\n",
            "video 1/1 (frame 1409/1500) /content/drive/MyDrive/Robotics/Object_Detection/balls_purple_red/purple_red_balls_vid.mp4: 384x640 7 ball_purples, 5 ball_reds, 6.7ms\n",
            "video 1/1 (frame 1410/1500) /content/drive/MyDrive/Robotics/Object_Detection/balls_purple_red/purple_red_balls_vid.mp4: 384x640 7 ball_purples, 5 ball_reds, 6.9ms\n",
            "video 1/1 (frame 1411/1500) /content/drive/MyDrive/Robotics/Object_Detection/balls_purple_red/purple_red_balls_vid.mp4: 384x640 7 ball_purples, 5 ball_reds, 6.8ms\n",
            "video 1/1 (frame 1412/1500) /content/drive/MyDrive/Robotics/Object_Detection/balls_purple_red/purple_red_balls_vid.mp4: 384x640 7 ball_purples, 5 ball_reds, 6.8ms\n",
            "video 1/1 (frame 1413/1500) /content/drive/MyDrive/Robotics/Object_Detection/balls_purple_red/purple_red_balls_vid.mp4: 384x640 7 ball_purples, 5 ball_reds, 6.4ms\n",
            "video 1/1 (frame 1414/1500) /content/drive/MyDrive/Robotics/Object_Detection/balls_purple_red/purple_red_balls_vid.mp4: 384x640 7 ball_purples, 5 ball_reds, 6.5ms\n",
            "video 1/1 (frame 1415/1500) /content/drive/MyDrive/Robotics/Object_Detection/balls_purple_red/purple_red_balls_vid.mp4: 384x640 7 ball_purples, 5 ball_reds, 6.8ms\n",
            "video 1/1 (frame 1416/1500) /content/drive/MyDrive/Robotics/Object_Detection/balls_purple_red/purple_red_balls_vid.mp4: 384x640 7 ball_purples, 5 ball_reds, 7.3ms\n",
            "video 1/1 (frame 1417/1500) /content/drive/MyDrive/Robotics/Object_Detection/balls_purple_red/purple_red_balls_vid.mp4: 384x640 7 ball_purples, 5 ball_reds, 6.6ms\n",
            "video 1/1 (frame 1418/1500) /content/drive/MyDrive/Robotics/Object_Detection/balls_purple_red/purple_red_balls_vid.mp4: 384x640 7 ball_purples, 5 ball_reds, 6.8ms\n",
            "video 1/1 (frame 1419/1500) /content/drive/MyDrive/Robotics/Object_Detection/balls_purple_red/purple_red_balls_vid.mp4: 384x640 7 ball_purples, 5 ball_reds, 10.2ms\n",
            "video 1/1 (frame 1420/1500) /content/drive/MyDrive/Robotics/Object_Detection/balls_purple_red/purple_red_balls_vid.mp4: 384x640 7 ball_purples, 5 ball_reds, 6.8ms\n",
            "video 1/1 (frame 1421/1500) /content/drive/MyDrive/Robotics/Object_Detection/balls_purple_red/purple_red_balls_vid.mp4: 384x640 7 ball_purples, 5 ball_reds, 6.5ms\n",
            "video 1/1 (frame 1422/1500) /content/drive/MyDrive/Robotics/Object_Detection/balls_purple_red/purple_red_balls_vid.mp4: 384x640 7 ball_purples, 5 ball_reds, 6.6ms\n",
            "video 1/1 (frame 1423/1500) /content/drive/MyDrive/Robotics/Object_Detection/balls_purple_red/purple_red_balls_vid.mp4: 384x640 7 ball_purples, 5 ball_reds, 6.8ms\n",
            "video 1/1 (frame 1424/1500) /content/drive/MyDrive/Robotics/Object_Detection/balls_purple_red/purple_red_balls_vid.mp4: 384x640 7 ball_purples, 5 ball_reds, 7.3ms\n",
            "video 1/1 (frame 1425/1500) /content/drive/MyDrive/Robotics/Object_Detection/balls_purple_red/purple_red_balls_vid.mp4: 384x640 7 ball_purples, 5 ball_reds, 10.7ms\n",
            "video 1/1 (frame 1426/1500) /content/drive/MyDrive/Robotics/Object_Detection/balls_purple_red/purple_red_balls_vid.mp4: 384x640 7 ball_purples, 5 ball_reds, 6.4ms\n",
            "video 1/1 (frame 1427/1500) /content/drive/MyDrive/Robotics/Object_Detection/balls_purple_red/purple_red_balls_vid.mp4: 384x640 7 ball_purples, 5 ball_reds, 6.4ms\n",
            "video 1/1 (frame 1428/1500) /content/drive/MyDrive/Robotics/Object_Detection/balls_purple_red/purple_red_balls_vid.mp4: 384x640 7 ball_purples, 5 ball_reds, 6.7ms\n",
            "video 1/1 (frame 1429/1500) /content/drive/MyDrive/Robotics/Object_Detection/balls_purple_red/purple_red_balls_vid.mp4: 384x640 7 ball_purples, 5 ball_reds, 6.9ms\n",
            "video 1/1 (frame 1430/1500) /content/drive/MyDrive/Robotics/Object_Detection/balls_purple_red/purple_red_balls_vid.mp4: 384x640 7 ball_purples, 5 ball_reds, 6.5ms\n",
            "video 1/1 (frame 1431/1500) /content/drive/MyDrive/Robotics/Object_Detection/balls_purple_red/purple_red_balls_vid.mp4: 384x640 7 ball_purples, 5 ball_reds, 6.7ms\n",
            "video 1/1 (frame 1432/1500) /content/drive/MyDrive/Robotics/Object_Detection/balls_purple_red/purple_red_balls_vid.mp4: 384x640 7 ball_purples, 5 ball_reds, 7.8ms\n",
            "video 1/1 (frame 1433/1500) /content/drive/MyDrive/Robotics/Object_Detection/balls_purple_red/purple_red_balls_vid.mp4: 384x640 7 ball_purples, 5 ball_reds, 6.5ms\n",
            "video 1/1 (frame 1434/1500) /content/drive/MyDrive/Robotics/Object_Detection/balls_purple_red/purple_red_balls_vid.mp4: 384x640 7 ball_purples, 5 ball_reds, 7.0ms\n",
            "video 1/1 (frame 1435/1500) /content/drive/MyDrive/Robotics/Object_Detection/balls_purple_red/purple_red_balls_vid.mp4: 384x640 7 ball_purples, 5 ball_reds, 9.0ms\n",
            "video 1/1 (frame 1436/1500) /content/drive/MyDrive/Robotics/Object_Detection/balls_purple_red/purple_red_balls_vid.mp4: 384x640 7 ball_purples, 5 ball_reds, 7.1ms\n",
            "video 1/1 (frame 1437/1500) /content/drive/MyDrive/Robotics/Object_Detection/balls_purple_red/purple_red_balls_vid.mp4: 384x640 7 ball_purples, 5 ball_reds, 6.7ms\n",
            "video 1/1 (frame 1438/1500) /content/drive/MyDrive/Robotics/Object_Detection/balls_purple_red/purple_red_balls_vid.mp4: 384x640 7 ball_purples, 5 ball_reds, 7.2ms\n",
            "video 1/1 (frame 1439/1500) /content/drive/MyDrive/Robotics/Object_Detection/balls_purple_red/purple_red_balls_vid.mp4: 384x640 7 ball_purples, 5 ball_reds, 6.7ms\n",
            "video 1/1 (frame 1440/1500) /content/drive/MyDrive/Robotics/Object_Detection/balls_purple_red/purple_red_balls_vid.mp4: 384x640 7 ball_purples, 5 ball_reds, 7.0ms\n",
            "video 1/1 (frame 1441/1500) /content/drive/MyDrive/Robotics/Object_Detection/balls_purple_red/purple_red_balls_vid.mp4: 384x640 7 ball_purples, 5 ball_reds, 8.0ms\n",
            "video 1/1 (frame 1442/1500) /content/drive/MyDrive/Robotics/Object_Detection/balls_purple_red/purple_red_balls_vid.mp4: 384x640 7 ball_purples, 5 ball_reds, 6.6ms\n",
            "video 1/1 (frame 1443/1500) /content/drive/MyDrive/Robotics/Object_Detection/balls_purple_red/purple_red_balls_vid.mp4: 384x640 7 ball_purples, 5 ball_reds, 15.2ms\n",
            "video 1/1 (frame 1444/1500) /content/drive/MyDrive/Robotics/Object_Detection/balls_purple_red/purple_red_balls_vid.mp4: 384x640 7 ball_purples, 5 ball_reds, 6.5ms\n",
            "video 1/1 (frame 1445/1500) /content/drive/MyDrive/Robotics/Object_Detection/balls_purple_red/purple_red_balls_vid.mp4: 384x640 7 ball_purples, 5 ball_reds, 6.7ms\n",
            "video 1/1 (frame 1446/1500) /content/drive/MyDrive/Robotics/Object_Detection/balls_purple_red/purple_red_balls_vid.mp4: 384x640 7 ball_purples, 5 ball_reds, 6.5ms\n",
            "video 1/1 (frame 1447/1500) /content/drive/MyDrive/Robotics/Object_Detection/balls_purple_red/purple_red_balls_vid.mp4: 384x640 7 ball_purples, 5 ball_reds, 6.6ms\n",
            "video 1/1 (frame 1448/1500) /content/drive/MyDrive/Robotics/Object_Detection/balls_purple_red/purple_red_balls_vid.mp4: 384x640 7 ball_purples, 5 ball_reds, 6.7ms\n",
            "video 1/1 (frame 1449/1500) /content/drive/MyDrive/Robotics/Object_Detection/balls_purple_red/purple_red_balls_vid.mp4: 384x640 7 ball_purples, 5 ball_reds, 6.6ms\n",
            "video 1/1 (frame 1450/1500) /content/drive/MyDrive/Robotics/Object_Detection/balls_purple_red/purple_red_balls_vid.mp4: 384x640 7 ball_purples, 5 ball_reds, 6.6ms\n",
            "video 1/1 (frame 1451/1500) /content/drive/MyDrive/Robotics/Object_Detection/balls_purple_red/purple_red_balls_vid.mp4: 384x640 7 ball_purples, 5 ball_reds, 7.8ms\n",
            "video 1/1 (frame 1452/1500) /content/drive/MyDrive/Robotics/Object_Detection/balls_purple_red/purple_red_balls_vid.mp4: 384x640 7 ball_purples, 5 ball_reds, 6.9ms\n",
            "video 1/1 (frame 1453/1500) /content/drive/MyDrive/Robotics/Object_Detection/balls_purple_red/purple_red_balls_vid.mp4: 384x640 7 ball_purples, 5 ball_reds, 7.0ms\n",
            "video 1/1 (frame 1454/1500) /content/drive/MyDrive/Robotics/Object_Detection/balls_purple_red/purple_red_balls_vid.mp4: 384x640 7 ball_purples, 5 ball_reds, 7.2ms\n",
            "video 1/1 (frame 1455/1500) /content/drive/MyDrive/Robotics/Object_Detection/balls_purple_red/purple_red_balls_vid.mp4: 384x640 7 ball_purples, 5 ball_reds, 6.5ms\n",
            "video 1/1 (frame 1456/1500) /content/drive/MyDrive/Robotics/Object_Detection/balls_purple_red/purple_red_balls_vid.mp4: 384x640 7 ball_purples, 5 ball_reds, 6.5ms\n",
            "video 1/1 (frame 1457/1500) /content/drive/MyDrive/Robotics/Object_Detection/balls_purple_red/purple_red_balls_vid.mp4: 384x640 7 ball_purples, 5 ball_reds, 6.5ms\n",
            "video 1/1 (frame 1458/1500) /content/drive/MyDrive/Robotics/Object_Detection/balls_purple_red/purple_red_balls_vid.mp4: 384x640 7 ball_purples, 5 ball_reds, 6.8ms\n",
            "video 1/1 (frame 1459/1500) /content/drive/MyDrive/Robotics/Object_Detection/balls_purple_red/purple_red_balls_vid.mp4: 384x640 7 ball_purples, 5 ball_reds, 7.4ms\n",
            "video 1/1 (frame 1460/1500) /content/drive/MyDrive/Robotics/Object_Detection/balls_purple_red/purple_red_balls_vid.mp4: 384x640 7 ball_purples, 5 ball_reds, 6.5ms\n",
            "video 1/1 (frame 1461/1500) /content/drive/MyDrive/Robotics/Object_Detection/balls_purple_red/purple_red_balls_vid.mp4: 384x640 7 ball_purples, 5 ball_reds, 9.7ms\n",
            "video 1/1 (frame 1462/1500) /content/drive/MyDrive/Robotics/Object_Detection/balls_purple_red/purple_red_balls_vid.mp4: 384x640 7 ball_purples, 5 ball_reds, 6.8ms\n",
            "video 1/1 (frame 1463/1500) /content/drive/MyDrive/Robotics/Object_Detection/balls_purple_red/purple_red_balls_vid.mp4: 384x640 7 ball_purples, 5 ball_reds, 8.1ms\n",
            "video 1/1 (frame 1464/1500) /content/drive/MyDrive/Robotics/Object_Detection/balls_purple_red/purple_red_balls_vid.mp4: 384x640 7 ball_purples, 5 ball_reds, 21.2ms\n",
            "video 1/1 (frame 1465/1500) /content/drive/MyDrive/Robotics/Object_Detection/balls_purple_red/purple_red_balls_vid.mp4: 384x640 7 ball_purples, 5 ball_reds, 7.3ms\n",
            "video 1/1 (frame 1466/1500) /content/drive/MyDrive/Robotics/Object_Detection/balls_purple_red/purple_red_balls_vid.mp4: 384x640 7 ball_purples, 5 ball_reds, 6.6ms\n",
            "video 1/1 (frame 1467/1500) /content/drive/MyDrive/Robotics/Object_Detection/balls_purple_red/purple_red_balls_vid.mp4: 384x640 7 ball_purples, 5 ball_reds, 6.9ms\n",
            "video 1/1 (frame 1468/1500) /content/drive/MyDrive/Robotics/Object_Detection/balls_purple_red/purple_red_balls_vid.mp4: 384x640 7 ball_purples, 5 ball_reds, 6.4ms\n",
            "video 1/1 (frame 1469/1500) /content/drive/MyDrive/Robotics/Object_Detection/balls_purple_red/purple_red_balls_vid.mp4: 384x640 7 ball_purples, 5 ball_reds, 11.9ms\n",
            "video 1/1 (frame 1470/1500) /content/drive/MyDrive/Robotics/Object_Detection/balls_purple_red/purple_red_balls_vid.mp4: 384x640 7 ball_purples, 5 ball_reds, 13.0ms\n",
            "video 1/1 (frame 1471/1500) /content/drive/MyDrive/Robotics/Object_Detection/balls_purple_red/purple_red_balls_vid.mp4: 384x640 7 ball_purples, 5 ball_reds, 11.8ms\n",
            "video 1/1 (frame 1472/1500) /content/drive/MyDrive/Robotics/Object_Detection/balls_purple_red/purple_red_balls_vid.mp4: 384x640 7 ball_purples, 5 ball_reds, 10.5ms\n",
            "video 1/1 (frame 1473/1500) /content/drive/MyDrive/Robotics/Object_Detection/balls_purple_red/purple_red_balls_vid.mp4: 384x640 7 ball_purples, 5 ball_reds, 10.9ms\n",
            "video 1/1 (frame 1474/1500) /content/drive/MyDrive/Robotics/Object_Detection/balls_purple_red/purple_red_balls_vid.mp4: 384x640 7 ball_purples, 5 ball_reds, 25.6ms\n",
            "video 1/1 (frame 1475/1500) /content/drive/MyDrive/Robotics/Object_Detection/balls_purple_red/purple_red_balls_vid.mp4: 384x640 7 ball_purples, 5 ball_reds, 11.2ms\n",
            "video 1/1 (frame 1476/1500) /content/drive/MyDrive/Robotics/Object_Detection/balls_purple_red/purple_red_balls_vid.mp4: 384x640 7 ball_purples, 5 ball_reds, 21.0ms\n",
            "video 1/1 (frame 1477/1500) /content/drive/MyDrive/Robotics/Object_Detection/balls_purple_red/purple_red_balls_vid.mp4: 384x640 7 ball_purples, 5 ball_reds, 27.0ms\n",
            "video 1/1 (frame 1478/1500) /content/drive/MyDrive/Robotics/Object_Detection/balls_purple_red/purple_red_balls_vid.mp4: 384x640 7 ball_purples, 5 ball_reds, 11.2ms\n",
            "video 1/1 (frame 1479/1500) /content/drive/MyDrive/Robotics/Object_Detection/balls_purple_red/purple_red_balls_vid.mp4: 384x640 7 ball_purples, 5 ball_reds, 12.9ms\n",
            "video 1/1 (frame 1480/1500) /content/drive/MyDrive/Robotics/Object_Detection/balls_purple_red/purple_red_balls_vid.mp4: 384x640 7 ball_purples, 5 ball_reds, 20.1ms\n",
            "video 1/1 (frame 1481/1500) /content/drive/MyDrive/Robotics/Object_Detection/balls_purple_red/purple_red_balls_vid.mp4: 384x640 7 ball_purples, 5 ball_reds, 20.2ms\n",
            "video 1/1 (frame 1482/1500) /content/drive/MyDrive/Robotics/Object_Detection/balls_purple_red/purple_red_balls_vid.mp4: 384x640 7 ball_purples, 5 ball_reds, 11.7ms\n",
            "video 1/1 (frame 1483/1500) /content/drive/MyDrive/Robotics/Object_Detection/balls_purple_red/purple_red_balls_vid.mp4: 384x640 7 ball_purples, 5 ball_reds, 10.5ms\n",
            "video 1/1 (frame 1484/1500) /content/drive/MyDrive/Robotics/Object_Detection/balls_purple_red/purple_red_balls_vid.mp4: 384x640 7 ball_purples, 5 ball_reds, 10.8ms\n",
            "video 1/1 (frame 1485/1500) /content/drive/MyDrive/Robotics/Object_Detection/balls_purple_red/purple_red_balls_vid.mp4: 384x640 7 ball_purples, 5 ball_reds, 11.5ms\n",
            "video 1/1 (frame 1486/1500) /content/drive/MyDrive/Robotics/Object_Detection/balls_purple_red/purple_red_balls_vid.mp4: 384x640 7 ball_purples, 5 ball_reds, 11.5ms\n",
            "video 1/1 (frame 1487/1500) /content/drive/MyDrive/Robotics/Object_Detection/balls_purple_red/purple_red_balls_vid.mp4: 384x640 7 ball_purples, 5 ball_reds, 22.1ms\n",
            "video 1/1 (frame 1488/1500) /content/drive/MyDrive/Robotics/Object_Detection/balls_purple_red/purple_red_balls_vid.mp4: 384x640 7 ball_purples, 5 ball_reds, 31.8ms\n",
            "video 1/1 (frame 1489/1500) /content/drive/MyDrive/Robotics/Object_Detection/balls_purple_red/purple_red_balls_vid.mp4: 384x640 7 ball_purples, 5 ball_reds, 30.6ms\n",
            "video 1/1 (frame 1490/1500) /content/drive/MyDrive/Robotics/Object_Detection/balls_purple_red/purple_red_balls_vid.mp4: 384x640 7 ball_purples, 5 ball_reds, 11.6ms\n",
            "video 1/1 (frame 1491/1500) /content/drive/MyDrive/Robotics/Object_Detection/balls_purple_red/purple_red_balls_vid.mp4: 384x640 7 ball_purples, 5 ball_reds, 39.0ms\n",
            "video 1/1 (frame 1492/1500) /content/drive/MyDrive/Robotics/Object_Detection/balls_purple_red/purple_red_balls_vid.mp4: 384x640 7 ball_purples, 5 ball_reds, 12.6ms\n",
            "video 1/1 (frame 1493/1500) /content/drive/MyDrive/Robotics/Object_Detection/balls_purple_red/purple_red_balls_vid.mp4: 384x640 7 ball_purples, 5 ball_reds, 9.5ms\n",
            "video 1/1 (frame 1494/1500) /content/drive/MyDrive/Robotics/Object_Detection/balls_purple_red/purple_red_balls_vid.mp4: 384x640 7 ball_purples, 5 ball_reds, 8.7ms\n",
            "video 1/1 (frame 1495/1500) /content/drive/MyDrive/Robotics/Object_Detection/balls_purple_red/purple_red_balls_vid.mp4: 384x640 7 ball_purples, 5 ball_reds, 42.0ms\n",
            "video 1/1 (frame 1496/1500) /content/drive/MyDrive/Robotics/Object_Detection/balls_purple_red/purple_red_balls_vid.mp4: 384x640 7 ball_purples, 5 ball_reds, 23.3ms\n",
            "video 1/1 (frame 1497/1500) /content/drive/MyDrive/Robotics/Object_Detection/balls_purple_red/purple_red_balls_vid.mp4: 384x640 7 ball_purples, 5 ball_reds, 46.6ms\n",
            "video 1/1 (frame 1498/1500) /content/drive/MyDrive/Robotics/Object_Detection/balls_purple_red/purple_red_balls_vid.mp4: 384x640 7 ball_purples, 5 ball_reds, 26.0ms\n",
            "video 1/1 (frame 1499/1500) /content/drive/MyDrive/Robotics/Object_Detection/balls_purple_red/purple_red_balls_vid.mp4: 384x640 7 ball_purples, 5 ball_reds, 31.0ms\n",
            "video 1/1 (frame 1500/1500) /content/drive/MyDrive/Robotics/Object_Detection/balls_purple_red/purple_red_balls_vid.mp4: 384x640 7 ball_purples, 5 ball_reds, 10.3ms\n",
            "Speed: 3.2ms preprocess, 8.3ms inference, 1.9ms postprocess per image at shape (1, 3, 384, 640)\n",
            "Results saved to \u001b[1mruns/detect/predict\u001b[0m\n",
            "💡 Learn more at https://docs.ultralytics.com/modes/predict\n"
          ]
        }
      ]
    },
    {
      "cell_type": "code",
      "source": [
        "!ffmpeg -i runs/detect/predict/purple_red_balls_vid.avi -vcodec libx264 runs/detect/predict/purple_red_balls_vid.mp4"
      ],
      "metadata": {
        "colab": {
          "base_uri": "https://localhost:8080/"
        },
        "id": "f-OlNUrfxfYt",
        "outputId": "be43aeb5-08da-4376-a034-89294f1dc293"
      },
      "execution_count": null,
      "outputs": [
        {
          "output_type": "stream",
          "name": "stdout",
          "text": [
            "ffmpeg version 4.4.2-0ubuntu0.22.04.1 Copyright (c) 2000-2021 the FFmpeg developers\n",
            "  built with gcc 11 (Ubuntu 11.2.0-19ubuntu1)\n",
            "  configuration: --prefix=/usr --extra-version=0ubuntu0.22.04.1 --toolchain=hardened --libdir=/usr/lib/x86_64-linux-gnu --incdir=/usr/include/x86_64-linux-gnu --arch=amd64 --enable-gpl --disable-stripping --enable-gnutls --enable-ladspa --enable-libaom --enable-libass --enable-libbluray --enable-libbs2b --enable-libcaca --enable-libcdio --enable-libcodec2 --enable-libdav1d --enable-libflite --enable-libfontconfig --enable-libfreetype --enable-libfribidi --enable-libgme --enable-libgsm --enable-libjack --enable-libmp3lame --enable-libmysofa --enable-libopenjpeg --enable-libopenmpt --enable-libopus --enable-libpulse --enable-librabbitmq --enable-librubberband --enable-libshine --enable-libsnappy --enable-libsoxr --enable-libspeex --enable-libsrt --enable-libssh --enable-libtheora --enable-libtwolame --enable-libvidstab --enable-libvorbis --enable-libvpx --enable-libwebp --enable-libx265 --enable-libxml2 --enable-libxvid --enable-libzimg --enable-libzmq --enable-libzvbi --enable-lv2 --enable-omx --enable-openal --enable-opencl --enable-opengl --enable-sdl2 --enable-pocketsphinx --enable-librsvg --enable-libmfx --enable-libdc1394 --enable-libdrm --enable-libiec61883 --enable-chromaprint --enable-frei0r --enable-libx264 --enable-shared\n",
            "  libavutil      56. 70.100 / 56. 70.100\n",
            "  libavcodec     58.134.100 / 58.134.100\n",
            "  libavformat    58. 76.100 / 58. 76.100\n",
            "  libavdevice    58. 13.100 / 58. 13.100\n",
            "  libavfilter     7.110.100 /  7.110.100\n",
            "  libswscale      5.  9.100 /  5.  9.100\n",
            "  libswresample   3.  9.100 /  3.  9.100\n",
            "  libpostproc    55.  9.100 / 55.  9.100\n",
            "Input #0, avi, from 'runs/detect/predict/purple_red_balls_vid.avi':\n",
            "  Metadata:\n",
            "    software        : Lavf59.27.100\n",
            "  Duration: 00:00:50.00, start: 0.000000, bitrate: 41152 kb/s\n",
            "  Stream #0:0: Video: mjpeg (Baseline) (MJPG / 0x47504A4D), yuvj420p(pc, bt470bg/unknown/unknown), 1920x1080, 41169 kb/s, 30 fps, 30 tbr, 30 tbn, 30 tbc\n",
            "Stream mapping:\n",
            "  Stream #0:0 -> #0:0 (mjpeg (native) -> h264 (libx264))\n",
            "Press [q] to stop, [?] for help\n",
            "\u001b[1;36m[libx264 @ 0x5788d18f38c0] \u001b[0musing cpu capabilities: MMX2 SSE2Fast SSSE3 SSE4.2 AVX FMA3 BMI2 AVX2 AVX512\n",
            "\u001b[1;36m[libx264 @ 0x5788d18f38c0] \u001b[0mprofile High, level 4.0, 4:2:0, 8-bit\n",
            "\u001b[1;36m[libx264 @ 0x5788d18f38c0] \u001b[0m264 - core 163 r3060 5db6aa6 - H.264/MPEG-4 AVC codec - Copyleft 2003-2021 - http://www.videolan.org/x264.html - options: cabac=1 ref=3 deblock=1:0:0 analyse=0x3:0x113 me=hex subme=7 psy=1 psy_rd=1.00:0.00 mixed_ref=1 me_range=16 chroma_me=1 trellis=1 8x8dct=1 cqm=0 deadzone=21,11 fast_pskip=1 chroma_qp_offset=-2 threads=3 lookahead_threads=1 sliced_threads=0 nr=0 decimate=1 interlaced=0 bluray_compat=0 constrained_intra=0 bframes=3 b_pyramid=2 b_adapt=1 b_bias=0 direct=1 weightb=1 open_gop=0 weightp=2 keyint=250 keyint_min=25 scenecut=40 intra_refresh=0 rc_lookahead=40 rc=crf mbtree=1 crf=23.0 qcomp=0.60 qpmin=0 qpmax=69 qpstep=4 ip_ratio=1.40 aq=1:1.00\n",
            "Output #0, mp4, to 'runs/detect/predict/purple_red_balls_vid.mp4':\n",
            "  Metadata:\n",
            "    software        : Lavf59.27.100\n",
            "    encoder         : Lavf58.76.100\n",
            "  Stream #0:0: Video: h264 (avc1 / 0x31637661), yuvj420p(pc, bt470bg/unknown/unknown, progressive), 1920x1080, q=2-31, 30 fps, 15360 tbn\n",
            "    Metadata:\n",
            "      encoder         : Lavc58.134.100 libx264\n",
            "    Side data:\n",
            "      cpb: bitrate max/min/avg: 0/0/0 buffer size: 0 vbv_delay: N/A\n",
            "frame= 1500 fps= 23 q=-1.0 Lsize=    2390kB time=00:00:49.90 bitrate= 392.4kbits/s speed=0.781x    \n",
            "video:2372kB audio:0kB subtitle:0kB other streams:0kB global headers:0kB muxing overhead: 0.776104%\n",
            "\u001b[1;36m[libx264 @ 0x5788d18f38c0] \u001b[0mframe I:10    Avg QP:14.05  size:143608\n",
            "\u001b[1;36m[libx264 @ 0x5788d18f38c0] \u001b[0mframe P:380   Avg QP:18.04  size:  2030\n",
            "\u001b[1;36m[libx264 @ 0x5788d18f38c0] \u001b[0mframe B:1110  Avg QP:17.06  size:   199\n",
            "\u001b[1;36m[libx264 @ 0x5788d18f38c0] \u001b[0mconsecutive B-frames:  1.3%  0.1%  0.2% 98.4%\n",
            "\u001b[1;36m[libx264 @ 0x5788d18f38c0] \u001b[0mmb I  I16..4: 24.1% 64.7% 11.1%\n",
            "\u001b[1;36m[libx264 @ 0x5788d18f38c0] \u001b[0mmb P  I16..4:  0.1%  0.2%  0.0%  P16..4:  3.1%  0.3%  0.5%  0.0%  0.0%    skip:95.8%\n",
            "\u001b[1;36m[libx264 @ 0x5788d18f38c0] \u001b[0mmb B  I16..4:  0.0%  0.0%  0.0%  B16..8:  1.7%  0.0%  0.0%  direct: 0.0%  skip:98.2%  L0:59.2% L1:40.7% BI: 0.1%\n",
            "\u001b[1;36m[libx264 @ 0x5788d18f38c0] \u001b[0m8x8 transform intra:64.0% inter:85.7%\n",
            "\u001b[1;36m[libx264 @ 0x5788d18f38c0] \u001b[0mcoded y,uvDC,uvAC intra: 61.1% 61.9% 38.2% inter: 0.3% 0.6% 0.1%\n",
            "\u001b[1;36m[libx264 @ 0x5788d18f38c0] \u001b[0mi16 v,h,dc,p: 82% 12%  4%  3%\n",
            "\u001b[1;36m[libx264 @ 0x5788d18f38c0] \u001b[0mi8 v,h,dc,ddl,ddr,vr,hd,vl,hu: 27% 30% 26%  3%  2%  2%  3%  3%  4%\n",
            "\u001b[1;36m[libx264 @ 0x5788d18f38c0] \u001b[0mi4 v,h,dc,ddl,ddr,vr,hd,vl,hu: 38% 31%  7%  4%  4%  4%  4%  4%  4%\n",
            "\u001b[1;36m[libx264 @ 0x5788d18f38c0] \u001b[0mi8c dc,h,v,p: 42% 28% 22%  8%\n",
            "\u001b[1;36m[libx264 @ 0x5788d18f38c0] \u001b[0mWeighted P-Frames: Y:0.0% UV:0.0%\n",
            "\u001b[1;36m[libx264 @ 0x5788d18f38c0] \u001b[0mref P L0: 78.3%  2.3% 11.4%  8.0%\n",
            "\u001b[1;36m[libx264 @ 0x5788d18f38c0] \u001b[0mref B L0: 59.9% 35.1%  5.0%\n",
            "\u001b[1;36m[libx264 @ 0x5788d18f38c0] \u001b[0mref B L1: 94.3%  5.7%\n",
            "\u001b[1;36m[libx264 @ 0x5788d18f38c0] \u001b[0mkb/s:388.46\n"
          ]
        }
      ]
    },
    {
      "cell_type": "code",
      "source": [],
      "metadata": {
        "id": "pU1caRd0gql4"
      },
      "execution_count": null,
      "outputs": []
    }
  ]
}